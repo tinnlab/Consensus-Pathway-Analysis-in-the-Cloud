{
 "cells": [
  {
   "cell_type": "markdown",
   "id": "f5d384f0-503d-4709-abdd-c5ecab30a2ae",
   "metadata": {},
   "source": [
    "# Todo : adding PADOG, Wilcoxon test, KS test method to the notebook\n"
   ]
  },
  {
   "cell_type": "markdown",
   "id": "d3716dad",
   "metadata": {},
   "source": [
    "# Enrichment Analysis\n",
    "\n",
    "Enrichment analysis (EA) is a technique used to derive biological insight from lists of significantly altered genes. The list of genes can be obtained from Differential Expression (DE) analysis or users' interest. The EA methods rely on the knowledge databases (e.g. KEGG and GO) to identify biological pathways or terms that are enriched in a gene list more than would be expected by chance. The outcome of the EA would be the in-depth and contextualized findings to help understand the mechanisms of disease, genes and proteins associated with the etiology of a specific disease or drug target.\n",
    "\n",
    "Over more than a decade, there are over 50 methods have been developed for EA. In this module, we will focus on pathway analysis using three popular methods including Over Representation Analysis (ORA), Fast Gene Set Enrichment Analysis (FGSEA), and Gene Set Analysis (GSA).\n",
    "\n",
    "## Learning Objectives:\n",
    "1. Data preparation\n",
    "2. Perform enrichment analysis using ORA, FGSEA and GSA\n",
    "3. Visualize and interpret the outputs"
   ]
  },
  {
   "cell_type": "code",
   "execution_count": 2,
   "id": "37ff2142-8b48-4250-bb3b-b47175b79f9c",
   "metadata": {},
   "outputs": [
    {
     "data": {
      "text/html": [
       "<iframe src=\"./Quizzes/Quiz_Submodule4-1.html\" width=100% height=250></iframe>"
      ]
     },
     "metadata": {},
     "output_type": "display_data"
    }
   ],
   "source": [
    "IRdisplay::display_html('<iframe src=\"./Quizzes/Quiz_Submodule4-1.html\" width=100% height=250></iframe>')"
   ]
  },
  {
   "cell_type": "markdown",
   "id": "4731471e",
   "metadata": {},
   "source": [
    "## Gene Mapping\n",
    "In this module, we will use the DE genes with statistic generated in the [**submodule 02** ](./Module02-DE_Analysis.ipynb) using `limma` R package. We can use the following command to load the DE analysis result."
   ]
  },
  {
   "cell_type": "code",
   "execution_count": 3,
   "id": "5c0da12c",
   "metadata": {},
   "outputs": [
    {
     "data": {
      "text/html": [
       "<table class=\"dataframe\">\n",
       "<caption>A data.frame: 6 × 7</caption>\n",
       "<thead>\n",
       "\t<tr><th></th><th scope=col>PROBEID</th><th scope=col>logFC</th><th scope=col>AveExpr</th><th scope=col>t</th><th scope=col>P.Value</th><th scope=col>adj.P.Val</th><th scope=col>B</th></tr>\n",
       "\t<tr><th></th><th scope=col>&lt;chr&gt;</th><th scope=col>&lt;dbl&gt;</th><th scope=col>&lt;dbl&gt;</th><th scope=col>&lt;dbl&gt;</th><th scope=col>&lt;dbl&gt;</th><th scope=col>&lt;dbl&gt;</th><th scope=col>&lt;dbl&gt;</th></tr>\n",
       "</thead>\n",
       "<tbody>\n",
       "\t<tr><th scope=row>222178_s_at</th><td>222178_s_at</td><td>-0.4473780</td><td>0.3653633</td><td>-73.01106</td><td>4.019112e-55</td><td>2.197450e-50</td><td>81.05538</td></tr>\n",
       "\t<tr><th scope=row>224687_at</th><td>224687_at  </td><td>-4.1431631</td><td>2.2572347</td><td>-48.92036</td><td>5.489424e-46</td><td>1.500671e-41</td><td>74.18354</td></tr>\n",
       "\t<tr><th scope=row>207488_at</th><td>207488_at  </td><td>-0.4017530</td><td>0.6243144</td><td>-39.29933</td><td>4.735684e-41</td><td>8.630785e-37</td><td>68.83493</td></tr>\n",
       "\t<tr><th scope=row>239226_at</th><td>239226_at  </td><td> 0.4483302</td><td>1.3245501</td><td> 28.36499</td><td>7.626558e-34</td><td>1.042455e-29</td><td>58.84908</td></tr>\n",
       "\t<tr><th scope=row>234109_x_at</th><td>234109_x_at</td><td>-0.2289726</td><td>0.7508256</td><td>-27.67010</td><td>2.635337e-33</td><td>2.881741e-29</td><td>58.00438</td></tr>\n",
       "\t<tr><th scope=row>212833_at</th><td>212833_at  </td><td>-2.5976592</td><td>1.7308944</td><td>-24.01172</td><td>2.914912e-30</td><td>2.656213e-26</td><td>52.99567</td></tr>\n",
       "</tbody>\n",
       "</table>\n"
      ],
      "text/latex": [
       "A data.frame: 6 × 7\n",
       "\\begin{tabular}{r|lllllll}\n",
       "  & PROBEID & logFC & AveExpr & t & P.Value & adj.P.Val & B\\\\\n",
       "  & <chr> & <dbl> & <dbl> & <dbl> & <dbl> & <dbl> & <dbl>\\\\\n",
       "\\hline\n",
       "\t222178\\_s\\_at & 222178\\_s\\_at & -0.4473780 & 0.3653633 & -73.01106 & 4.019112e-55 & 2.197450e-50 & 81.05538\\\\\n",
       "\t224687\\_at & 224687\\_at   & -4.1431631 & 2.2572347 & -48.92036 & 5.489424e-46 & 1.500671e-41 & 74.18354\\\\\n",
       "\t207488\\_at & 207488\\_at   & -0.4017530 & 0.6243144 & -39.29933 & 4.735684e-41 & 8.630785e-37 & 68.83493\\\\\n",
       "\t239226\\_at & 239226\\_at   &  0.4483302 & 1.3245501 &  28.36499 & 7.626558e-34 & 1.042455e-29 & 58.84908\\\\\n",
       "\t234109\\_x\\_at & 234109\\_x\\_at & -0.2289726 & 0.7508256 & -27.67010 & 2.635337e-33 & 2.881741e-29 & 58.00438\\\\\n",
       "\t212833\\_at & 212833\\_at   & -2.5976592 & 1.7308944 & -24.01172 & 2.914912e-30 & 2.656213e-26 & 52.99567\\\\\n",
       "\\end{tabular}\n"
      ],
      "text/markdown": [
       "\n",
       "A data.frame: 6 × 7\n",
       "\n",
       "| <!--/--> | PROBEID &lt;chr&gt; | logFC &lt;dbl&gt; | AveExpr &lt;dbl&gt; | t &lt;dbl&gt; | P.Value &lt;dbl&gt; | adj.P.Val &lt;dbl&gt; | B &lt;dbl&gt; |\n",
       "|---|---|---|---|---|---|---|---|\n",
       "| 222178_s_at | 222178_s_at | -0.4473780 | 0.3653633 | -73.01106 | 4.019112e-55 | 2.197450e-50 | 81.05538 |\n",
       "| 224687_at | 224687_at   | -4.1431631 | 2.2572347 | -48.92036 | 5.489424e-46 | 1.500671e-41 | 74.18354 |\n",
       "| 207488_at | 207488_at   | -0.4017530 | 0.6243144 | -39.29933 | 4.735684e-41 | 8.630785e-37 | 68.83493 |\n",
       "| 239226_at | 239226_at   |  0.4483302 | 1.3245501 |  28.36499 | 7.626558e-34 | 1.042455e-29 | 58.84908 |\n",
       "| 234109_x_at | 234109_x_at | -0.2289726 | 0.7508256 | -27.67010 | 2.635337e-33 | 2.881741e-29 | 58.00438 |\n",
       "| 212833_at | 212833_at   | -2.5976592 | 1.7308944 | -24.01172 | 2.914912e-30 | 2.656213e-26 | 52.99567 |\n",
       "\n"
      ],
      "text/plain": [
       "            PROBEID     logFC      AveExpr   t         P.Value     \n",
       "222178_s_at 222178_s_at -0.4473780 0.3653633 -73.01106 4.019112e-55\n",
       "224687_at   224687_at   -4.1431631 2.2572347 -48.92036 5.489424e-46\n",
       "207488_at   207488_at   -0.4017530 0.6243144 -39.29933 4.735684e-41\n",
       "239226_at   239226_at    0.4483302 1.3245501  28.36499 7.626558e-34\n",
       "234109_x_at 234109_x_at -0.2289726 0.7508256 -27.67010 2.635337e-33\n",
       "212833_at   212833_at   -2.5976592 1.7308944 -24.01172 2.914912e-30\n",
       "            adj.P.Val    B       \n",
       "222178_s_at 2.197450e-50 81.05538\n",
       "224687_at   1.500671e-41 74.18354\n",
       "207488_at   8.630785e-37 68.83493\n",
       "239226_at   1.042455e-29 58.84908\n",
       "234109_x_at 2.881741e-29 58.00438\n",
       "212833_at   2.656213e-26 52.99567"
      ]
     },
     "metadata": {},
     "output_type": "display_data"
    }
   ],
   "source": [
    "# Load previously saved data\n",
    "DE.df <- readRDS(\"./data/DE_genes.rds\")\n",
    "rownames(DE.df) <- DE.df$PROBEID\n",
    "head(DE.df)"
   ]
  },
  {
   "cell_type": "markdown",
   "id": "722ce8e2",
   "metadata": {},
   "source": [
    "We can see that the genes are saved with probe IDs, we need to convert them into gene symbols so that they can be analyzed using the enrichment analysis method later in this module. We will use the same approach presented in the [**submodule 01** ](./Module01-GEO_Data_Processing.ipynb) with `hgu133plus2.db` and `AnnotationDbi` databases."
   ]
  },
  {
   "cell_type": "code",
   "execution_count": 4,
   "id": "0cb1e8f5-4142-49e5-89cc-1df2da15e1e7",
   "metadata": {
    "tags": []
   },
   "outputs": [
    {
     "data": {
      "text/html": [
       "<iframe src=\"./Quizzes/Quiz_Submodule4.html\" width=100% height=250></iframe>"
      ]
     },
     "metadata": {},
     "output_type": "display_data"
    }
   ],
   "source": [
    "IRdisplay::display_html('<iframe src=\"./Quizzes/Quiz_Submodule4.html\" width=100% height=250></iframe>')"
   ]
  },
  {
   "cell_type": "code",
   "execution_count": 5,
   "id": "84f28dcf",
   "metadata": {},
   "outputs": [],
   "source": [
    "# Load the databases\n",
    "suppressMessages({\n",
    "    library(hgu133plus2.db)\n",
    "    library(AnnotationDbi)\n",
    "})"
   ]
  },
  {
   "cell_type": "markdown",
   "id": "f51c9e14",
   "metadata": {},
   "source": [
    "Then, we can retrieve vector of probe IDs to perform gene symbol mapping using the following command:"
   ]
  },
  {
   "cell_type": "code",
   "execution_count": 6,
   "id": "f04cf4fe",
   "metadata": {},
   "outputs": [
    {
     "data": {
      "text/html": [
       "<table class=\"dataframe\">\n",
       "<caption>A data.frame: 6 × 3</caption>\n",
       "<thead>\n",
       "\t<tr><th></th><th scope=col>PROBEID</th><th scope=col>GENENAME</th><th scope=col>SYMBOL</th></tr>\n",
       "\t<tr><th></th><th scope=col>&lt;chr&gt;</th><th scope=col>&lt;chr&gt;</th><th scope=col>&lt;chr&gt;</th></tr>\n",
       "</thead>\n",
       "<tbody>\n",
       "\t<tr><th scope=row>1</th><td>222178_s_at</td><td>NA                                        </td><td>NA      </td></tr>\n",
       "\t<tr><th scope=row>2</th><td>224687_at  </td><td>ankyrin repeat and IBR domain containing 1</td><td>ANKIB1  </td></tr>\n",
       "\t<tr><th scope=row>3</th><td>207488_at  </td><td>NA                                        </td><td>NA      </td></tr>\n",
       "\t<tr><th scope=row>4</th><td>239226_at  </td><td>NA                                        </td><td>NA      </td></tr>\n",
       "\t<tr><th scope=row>5</th><td>234109_x_at</td><td>one cut homeobox 3                        </td><td>ONECUT3 </td></tr>\n",
       "\t<tr><th scope=row>6</th><td>212833_at  </td><td>solute carrier family 25 member 46        </td><td>SLC25A46</td></tr>\n",
       "</tbody>\n",
       "</table>\n"
      ],
      "text/latex": [
       "A data.frame: 6 × 3\n",
       "\\begin{tabular}{r|lll}\n",
       "  & PROBEID & GENENAME & SYMBOL\\\\\n",
       "  & <chr> & <chr> & <chr>\\\\\n",
       "\\hline\n",
       "\t1 & 222178\\_s\\_at & NA                                         & NA      \\\\\n",
       "\t2 & 224687\\_at   & ankyrin repeat and IBR domain containing 1 & ANKIB1  \\\\\n",
       "\t3 & 207488\\_at   & NA                                         & NA      \\\\\n",
       "\t4 & 239226\\_at   & NA                                         & NA      \\\\\n",
       "\t5 & 234109\\_x\\_at & one cut homeobox 3                         & ONECUT3 \\\\\n",
       "\t6 & 212833\\_at   & solute carrier family 25 member 46         & SLC25A46\\\\\n",
       "\\end{tabular}\n"
      ],
      "text/markdown": [
       "\n",
       "A data.frame: 6 × 3\n",
       "\n",
       "| <!--/--> | PROBEID &lt;chr&gt; | GENENAME &lt;chr&gt; | SYMBOL &lt;chr&gt; |\n",
       "|---|---|---|---|\n",
       "| 1 | 222178_s_at | NA                                         | NA       |\n",
       "| 2 | 224687_at   | ankyrin repeat and IBR domain containing 1 | ANKIB1   |\n",
       "| 3 | 207488_at   | NA                                         | NA       |\n",
       "| 4 | 239226_at   | NA                                         | NA       |\n",
       "| 5 | 234109_x_at | one cut homeobox 3                         | ONECUT3  |\n",
       "| 6 | 212833_at   | solute carrier family 25 member 46         | SLC25A46 |\n",
       "\n"
      ],
      "text/plain": [
       "  PROBEID     GENENAME                                   SYMBOL  \n",
       "1 222178_s_at NA                                         NA      \n",
       "2 224687_at   ankyrin repeat and IBR domain containing 1 ANKIB1  \n",
       "3 207488_at   NA                                         NA      \n",
       "4 239226_at   NA                                         NA      \n",
       "5 234109_x_at one cut homeobox 3                         ONECUT3 \n",
       "6 212833_at   solute carrier family 25 member 46         SLC25A46"
      ]
     },
     "metadata": {},
     "output_type": "display_data"
    }
   ],
   "source": [
    "probeIDs <- DE.df$PROBEID\n",
    "# Map probe IDs to their symbols\n",
    "suppressMessages({\n",
    "    annotLookup <- AnnotationDbi::select(hgu133plus2.db, keys = probeIDs, columns = c('PROBEID', 'GENENAME', 'SYMBOL'))\n",
    "})\n",
    "# View the first few genes in the mapping table\n",
    "head(annotLookup)"
   ]
  },
  {
   "cell_type": "markdown",
   "id": "8ed42b60",
   "metadata": {},
   "source": [
    "Now, we can merge DE data frame with annotation table by the `PROBEID` and remove NA gene symbols using the following command:"
   ]
  },
  {
   "cell_type": "code",
   "execution_count": 7,
   "id": "5c5ac1b5",
   "metadata": {},
   "outputs": [],
   "source": [
    "DE.df <- merge(annotLookup, DE.df, by = \"PROBEID\")"
   ]
  },
  {
   "cell_type": "code",
   "execution_count": 8,
   "id": "3bef4b3d",
   "metadata": {},
   "outputs": [
    {
     "data": {
      "text/html": [
       "<table class=\"dataframe\">\n",
       "<caption>A data.frame: 6 × 9</caption>\n",
       "<thead>\n",
       "\t<tr><th></th><th scope=col>PROBEID</th><th scope=col>GENENAME</th><th scope=col>SYMBOL</th><th scope=col>logFC</th><th scope=col>AveExpr</th><th scope=col>t</th><th scope=col>P.Value</th><th scope=col>adj.P.Val</th><th scope=col>B</th></tr>\n",
       "\t<tr><th></th><th scope=col>&lt;chr&gt;</th><th scope=col>&lt;chr&gt;</th><th scope=col>&lt;chr&gt;</th><th scope=col>&lt;dbl&gt;</th><th scope=col>&lt;dbl&gt;</th><th scope=col>&lt;dbl&gt;</th><th scope=col>&lt;dbl&gt;</th><th scope=col>&lt;dbl&gt;</th><th scope=col>&lt;dbl&gt;</th></tr>\n",
       "</thead>\n",
       "<tbody>\n",
       "\t<tr><th scope=row>1</th><td>1007_s_at</td><td>discoidin domain receptor tyrosine kinase 1 </td><td>DDR1  </td><td>-0.23858465</td><td>1.0967772</td><td>-2.08257585</td><td>0.04210211</td><td>0.2531265</td><td>-4.284228</td></tr>\n",
       "\t<tr><th scope=row>2</th><td>1053_at  </td><td>replication factor C subunit 2              </td><td>RFC2  </td><td> 0.05830367</td><td>0.9657758</td><td> 1.42311356</td><td>0.16052793</td><td>0.4674726</td><td>-5.359907</td></tr>\n",
       "\t<tr><th scope=row>3</th><td>117_at   </td><td>heat shock protein family A (Hsp70) member 6</td><td>HSPA6 </td><td>-0.01138494</td><td>1.1501582</td><td>-0.08100885</td><td>0.93573821</td><td>0.9861536</td><td>-6.337785</td></tr>\n",
       "\t<tr><th scope=row>4</th><td>121_at   </td><td>paired box 8                                </td><td>PAX8  </td><td> 0.02301084</td><td>1.0581847</td><td> 0.87166663</td><td>0.38729816</td><td>0.7236528</td><td>-5.968512</td></tr>\n",
       "\t<tr><th scope=row>5</th><td>1255_g_at</td><td>guanylate cyclase activator 1A              </td><td>GUCA1A</td><td> 0.36999950</td><td>1.4080351</td><td> 1.78615022</td><td>0.07976123</td><td>0.3351480</td><td>-4.812134</td></tr>\n",
       "\t<tr><th scope=row>6</th><td>1294_at  </td><td>ubiquitin like modifier activating enzyme 7 </td><td>UBA7  </td><td>-0.11221434</td><td>1.0859983</td><td>-1.61593670</td><td>0.11200995</td><td>0.3925252</td><td>-5.082923</td></tr>\n",
       "</tbody>\n",
       "</table>\n"
      ],
      "text/latex": [
       "A data.frame: 6 × 9\n",
       "\\begin{tabular}{r|lllllllll}\n",
       "  & PROBEID & GENENAME & SYMBOL & logFC & AveExpr & t & P.Value & adj.P.Val & B\\\\\n",
       "  & <chr> & <chr> & <chr> & <dbl> & <dbl> & <dbl> & <dbl> & <dbl> & <dbl>\\\\\n",
       "\\hline\n",
       "\t1 & 1007\\_s\\_at & discoidin domain receptor tyrosine kinase 1  & DDR1   & -0.23858465 & 1.0967772 & -2.08257585 & 0.04210211 & 0.2531265 & -4.284228\\\\\n",
       "\t2 & 1053\\_at   & replication factor C subunit 2               & RFC2   &  0.05830367 & 0.9657758 &  1.42311356 & 0.16052793 & 0.4674726 & -5.359907\\\\\n",
       "\t3 & 117\\_at    & heat shock protein family A (Hsp70) member 6 & HSPA6  & -0.01138494 & 1.1501582 & -0.08100885 & 0.93573821 & 0.9861536 & -6.337785\\\\\n",
       "\t4 & 121\\_at    & paired box 8                                 & PAX8   &  0.02301084 & 1.0581847 &  0.87166663 & 0.38729816 & 0.7236528 & -5.968512\\\\\n",
       "\t5 & 1255\\_g\\_at & guanylate cyclase activator 1A               & GUCA1A &  0.36999950 & 1.4080351 &  1.78615022 & 0.07976123 & 0.3351480 & -4.812134\\\\\n",
       "\t6 & 1294\\_at   & ubiquitin like modifier activating enzyme 7  & UBA7   & -0.11221434 & 1.0859983 & -1.61593670 & 0.11200995 & 0.3925252 & -5.082923\\\\\n",
       "\\end{tabular}\n"
      ],
      "text/markdown": [
       "\n",
       "A data.frame: 6 × 9\n",
       "\n",
       "| <!--/--> | PROBEID &lt;chr&gt; | GENENAME &lt;chr&gt; | SYMBOL &lt;chr&gt; | logFC &lt;dbl&gt; | AveExpr &lt;dbl&gt; | t &lt;dbl&gt; | P.Value &lt;dbl&gt; | adj.P.Val &lt;dbl&gt; | B &lt;dbl&gt; |\n",
       "|---|---|---|---|---|---|---|---|---|---|\n",
       "| 1 | 1007_s_at | discoidin domain receptor tyrosine kinase 1  | DDR1   | -0.23858465 | 1.0967772 | -2.08257585 | 0.04210211 | 0.2531265 | -4.284228 |\n",
       "| 2 | 1053_at   | replication factor C subunit 2               | RFC2   |  0.05830367 | 0.9657758 |  1.42311356 | 0.16052793 | 0.4674726 | -5.359907 |\n",
       "| 3 | 117_at    | heat shock protein family A (Hsp70) member 6 | HSPA6  | -0.01138494 | 1.1501582 | -0.08100885 | 0.93573821 | 0.9861536 | -6.337785 |\n",
       "| 4 | 121_at    | paired box 8                                 | PAX8   |  0.02301084 | 1.0581847 |  0.87166663 | 0.38729816 | 0.7236528 | -5.968512 |\n",
       "| 5 | 1255_g_at | guanylate cyclase activator 1A               | GUCA1A |  0.36999950 | 1.4080351 |  1.78615022 | 0.07976123 | 0.3351480 | -4.812134 |\n",
       "| 6 | 1294_at   | ubiquitin like modifier activating enzyme 7  | UBA7   | -0.11221434 | 1.0859983 | -1.61593670 | 0.11200995 | 0.3925252 | -5.082923 |\n",
       "\n"
      ],
      "text/plain": [
       "  PROBEID   GENENAME                                     SYMBOL logFC      \n",
       "1 1007_s_at discoidin domain receptor tyrosine kinase 1  DDR1   -0.23858465\n",
       "2 1053_at   replication factor C subunit 2               RFC2    0.05830367\n",
       "3 117_at    heat shock protein family A (Hsp70) member 6 HSPA6  -0.01138494\n",
       "4 121_at    paired box 8                                 PAX8    0.02301084\n",
       "5 1255_g_at guanylate cyclase activator 1A               GUCA1A  0.36999950\n",
       "6 1294_at   ubiquitin like modifier activating enzyme 7  UBA7   -0.11221434\n",
       "  AveExpr   t           P.Value    adj.P.Val B        \n",
       "1 1.0967772 -2.08257585 0.04210211 0.2531265 -4.284228\n",
       "2 0.9657758  1.42311356 0.16052793 0.4674726 -5.359907\n",
       "3 1.1501582 -0.08100885 0.93573821 0.9861536 -6.337785\n",
       "4 1.0581847  0.87166663 0.38729816 0.7236528 -5.968512\n",
       "5 1.4080351  1.78615022 0.07976123 0.3351480 -4.812134\n",
       "6 1.0859983 -1.61593670 0.11200995 0.3925252 -5.082923"
      ]
     },
     "metadata": {},
     "output_type": "display_data"
    }
   ],
   "source": [
    "# Remove NA gene symbol\n",
    "DE.df <-  DE.df[!is.na(DE.df$SYMBOL), ]\n",
    "# Remove duplicated genes\n",
    "DE.df <-  DE.df[!duplicated(DE.df$SYMBOL, fromLast = FALSE), ]\n",
    "head(DE.df)"
   ]
  },
  {
   "cell_type": "markdown",
   "id": "adf678d9",
   "metadata": {},
   "source": [
    "As a result, we obtained the new DE table with two more columns containing gene names and gene symbols. The use of this DE table can be varied based on the selected enrichment analysis tools."
   ]
  },
  {
   "cell_type": "markdown",
   "id": "8538d33d",
   "metadata": {},
   "source": [
    "## Enrichment Analysis Using Over-Representation Analysis\n",
    "Over-representation analysis (ORA) is a statistical method that determines whether genes from a pre-defined gene set of a specific GO term or KEGG pathway are presented more than would be expected (over-represented) in a subset of your data. In our learning module, this subset refers to the list of DE genes generated from the `limma` method. For each gene set, an enrichment *p-value* is calculated using the Binomial distribution, Hypergeometric distribution, the Fisher exact test, or the Chi-square test.  The hypergeometric distribution is a popular approach used to calculate enrichment p-value. The formula can be presented as follows:"
   ]
  },
  {
   "cell_type": "markdown",
   "id": "eca231f2",
   "metadata": {},
   "source": [
    "$$\n",
    "     P(X\\geq x) = 1 - P(X \\leq x-1) = 1 - \\sum\\limits_{i=0}^{x-1}\\frac{\\hphantom{}{M \\choose i }{N - M \\choose n-i}}{N \\choose n}\n",
    "$$"
   ]
  },
  {
   "cell_type": "markdown",
   "id": "1c18d887",
   "metadata": {},
   "source": [
    "where *N* is the number of background genes (all genes presented in the expression matrix), *n* is the number of “interesting” genes (DE genes), *M* is the number of genes that are annotated to a particular gene set *S* (list of genes in a specific KEGG pathway or GO term), and *x* is the number of “interesting” genes that are annotated to *S* (genes presented in DE genes list and a specific KEGG pathway or GO term)."
   ]
  },
  {
   "cell_type": "markdown",
   "id": "ccade46c",
   "metadata": {},
   "source": [
    "For example, suppose we have an expression matrix with 20,000 genes, of which 500 are differently expressed. Also, suppose that 100 of the 20,000 genes are annotated to a particular gene set S. Of these 100 genes, 20 are members of the DE genes list. The probability that 20 or more (up to 100) genes annotated to S are in the DE genes list by chance is given by"
   ]
  },
  {
   "cell_type": "markdown",
   "id": "ed50cd53",
   "metadata": {},
   "source": [
    "$$\n",
    "P(X\\geq 20) = 1 - P(X \\leq 19) = 1-\\sum \\limits_{i=0}^{19}\\frac{\\hphantom{}{100 \\choose i}{20000 - 100 \\choose 500-i}}{20000 \\choose 500} = 5.26 \\times 10^{-13}\n",
    "$$"
   ]
  },
  {
   "cell_type": "markdown",
   "id": "b2e2d72e",
   "metadata": {},
   "source": [
    "The *p-value* indicates that it is very rare to observe 20 of the 100 genes from this set are in the DE genes list by chance."
   ]
  },
  {
   "cell_type": "code",
   "execution_count": 9,
   "id": "2b0be768-1749-4752-b31f-bf5818b33be5",
   "metadata": {},
   "outputs": [
    {
     "data": {
      "text/html": [
       "<iframe src=\"./Quizzes/Quiz_Submodule4-2.html\" width=100% height=250></iframe>"
      ]
     },
     "metadata": {},
     "output_type": "display_data"
    }
   ],
   "source": [
    "IRdisplay::display_html('<iframe src=\"./Quizzes/Quiz_Submodule4-2.html\" width=100% height=250></iframe>')"
   ]
  },
  {
   "cell_type": "markdown",
   "id": "e332d07b",
   "metadata": {},
   "source": [
    "### Data preparation\n",
    "To conduct enrichment analysis using ORA, there are several input data that we need to prepare. First, we need to select a set of genes that\n",
    "are significantly altered (*p-value < 0.05*) in the DE genes generated from the `limma` method."
   ]
  },
  {
   "cell_type": "code",
   "execution_count": 10,
   "id": "b1b28353",
   "metadata": {},
   "outputs": [],
   "source": [
    "\n",
    "# Selecting a list of significant DE genes\n",
    "DEGenes <- DE.df[DE.df$adj.P.Val <= 0.05, ]\n",
    "# Select genes with symbol\n",
    "DEGenes <- DEGenes$SYMBOL"
   ]
  },
  {
   "cell_type": "markdown",
   "id": "f0d9f75f",
   "metadata": {},
   "source": [
    "Next, we need to define a list of background genes. In this analysis, they are all the genes generated from the DE analysis."
   ]
  },
  {
   "cell_type": "code",
   "execution_count": 11,
   "id": "303d3696",
   "metadata": {},
   "outputs": [],
   "source": [
    "#Defining background genes\n",
    "backgroundSet <- DE.df$SYMBOL"
   ]
  },
  {
   "cell_type": "markdown",
   "id": "5f19e685",
   "metadata": {},
   "source": [
    "Then, we need to obtain a list of geneset from knowledge databases such as GO and KEGG. In this learning module, the geneset will be retrieved from\n",
    "the *.gmt* files that were processed from the [**submodule 03**](./Module03-Gene_Set_and_Pathway.ipynb). To load the geneset, we will use the `gmt2geneset` function below:"
   ]
  },
  {
   "cell_type": "markdown",
   "id": "0042697a",
   "metadata": {},
   "source": [
    "Here, we also write a function to perform over-representation analysis based on the hyper-geometric testing formula presented above. The `ORA` method will perform\n",
    "hyper-geometric testing for each geneset obtained from GO or KEGG using the function `phyper` available for the `stats` R base package. The output of the `ORA` function is a table that contains a column of terms or pathway names and a column of *p-value*."
   ]
  },
  {
   "cell_type": "code",
   "execution_count": 12,
   "id": "38686455",
   "metadata": {},
   "outputs": [],
   "source": [
    "# A customized function to parse a gmt file to a list of genesets\n",
    "gmt2geneset <- function(path) {\n",
    "    # Read the GMT file and create a list of gene sets\n",
    "    gmt_content <- read.table(path, header = FALSE, fill = TRUE, sep = \"\\t\")\n",
    "    \n",
    "    genesets <- apply(gmt_content, MARGIN = 1, function(r) {\n",
    "        # Extract unique genes from the current row (excluding the first two elements)\n",
    "        genes = unique(r[-(1:2)]) \n",
    "        # Create a list for each gene set with ID, description, and non-NA genes\n",
    "        list(\n",
    "            id = r[1],\n",
    "            description = r[2],\n",
    "            genes = genes[!is.na(genes)]\n",
    "        )\n",
    "    })\n",
    "    # Extract the gene sets from the list and convert gene vectors to character\n",
    "    gs <- lapply(genesets, function(g) {\n",
    "        as.character(g$genes)\n",
    "    })\n",
    "    # Set names for the gene sets based on their descriptions\n",
    "    names(gs) <- lapply(genesets, function(g) g$description)\n",
    "    # Return the resulting list of gene sets\n",
    "    return (gs)\n",
    "}\n",
    "\n"
   ]
  },
  {
   "cell_type": "code",
   "execution_count": 13,
   "id": "d809f4b3",
   "metadata": {},
   "outputs": [],
   "source": [
    "# Over-Representation Analysis (ORA) Function\n",
    "ORA <- function(geneset, DEGenes, backgroundSet, DE.df) {\n",
    "    # Initialize an empty vector to store the results of the analysis\n",
    "    res <- sapply(geneset, function(gs) {\n",
    "        # Count the number of differentially expressed genes in the current gene set (gs)\n",
    "        wBallDraw <- length(intersect(gs, DEGenes)) - 1\n",
    "        # Check for a potential issue with the intersection count being negative\n",
    "        if (wBallDraw < 0) return(1)\n",
    "        # Total number of differentially expressed genes\n",
    "        wBall <- length(DEGenes)\n",
    "        # Remaining genes in the background set\n",
    "        bBall <- nrow(DE.df) - length(DEGenes)\n",
    "        # Number of genes in the current gene set that are in the background set\n",
    "        ballDraw <- length(intersect(gs, backgroundSet))\n",
    "        # Calculate the hypergeometric probability using the phyper function\n",
    "        hypergeo_prob <- phyper(wBallDraw, wBall, bBall, ballDraw)\n",
    "        # Calculate the complementary probability (1 - hypergeometric probability)\n",
    "        return(1 - hypergeo_prob)\n",
    "    })\n",
    "    # Return the vector of results (p-values)\n",
    "    return(res)\n",
    "}\n"
   ]
  },
  {
   "cell_type": "markdown",
   "id": "050d0119-5c7d-4b09-96d3-a4cb76e8ee2e",
   "metadata": {},
   "source": [
    "To use the `ORA` function, we need to pass the following arguments:\n",
    "\n",
    "- `geneset`: A list of gene sets to be analyzed.\n",
    "- `DEGenes`: A vector of differentially expressed genes.\n",
    "- `backgroundSet`: A vector containing a set of genes representing the background.\n",
    "- `DE.df`: A dataframe containing information about differentially expressed genes.\n",
    "\n",
    "The `ORA` function returns a vector of the results (p-values)."
   ]
  },
  {
   "cell_type": "markdown",
   "id": "dedfa2a3",
   "metadata": {},
   "source": [
    "### Enrichment analysis using ORA and GO terms\n",
    "In this section, we will perform ORA using genesets obtained from the GO database and the function `ORA` defined above. The detailed code is presented below:"
   ]
  },
  {
   "cell_type": "code",
   "execution_count": 14,
   "id": "975e07c7",
   "metadata": {},
   "outputs": [
    {
     "data": {
      "text/html": [
       "<table class=\"dataframe\">\n",
       "<caption>A data.frame: 6 × 2</caption>\n",
       "<thead>\n",
       "\t<tr><th></th><th scope=col>GOterms</th><th scope=col>pvalue</th></tr>\n",
       "\t<tr><th></th><th scope=col>&lt;chr&gt;</th><th scope=col>&lt;dbl&gt;</th></tr>\n",
       "</thead>\n",
       "<tbody>\n",
       "\t<tr><th scope=row>601</th><td>mitochondrial electron transport, cytochrome c to oxygen</td><td>0.0001704211</td></tr>\n",
       "\t<tr><th scope=row>1854</th><td>energy derivation by oxidation of organic compounds     </td><td>0.0004553500</td></tr>\n",
       "\t<tr><th scope=row>2204</th><td>respiratory electron transport chain                    </td><td>0.0004962063</td></tr>\n",
       "\t<tr><th scope=row>2203</th><td>electron transport chain                                </td><td>0.0009369785</td></tr>\n",
       "\t<tr><th scope=row>598</th><td>oxidative phosphorylation                               </td><td>0.0013190484</td></tr>\n",
       "\t<tr><th scope=row>1282</th><td>aerobic respiration                                     </td><td>0.0016870236</td></tr>\n",
       "</tbody>\n",
       "</table>\n"
      ],
      "text/latex": [
       "A data.frame: 6 × 2\n",
       "\\begin{tabular}{r|ll}\n",
       "  & GOterms & pvalue\\\\\n",
       "  & <chr> & <dbl>\\\\\n",
       "\\hline\n",
       "\t601 & mitochondrial electron transport, cytochrome c to oxygen & 0.0001704211\\\\\n",
       "\t1854 & energy derivation by oxidation of organic compounds      & 0.0004553500\\\\\n",
       "\t2204 & respiratory electron transport chain                     & 0.0004962063\\\\\n",
       "\t2203 & electron transport chain                                 & 0.0009369785\\\\\n",
       "\t598 & oxidative phosphorylation                                & 0.0013190484\\\\\n",
       "\t1282 & aerobic respiration                                      & 0.0016870236\\\\\n",
       "\\end{tabular}\n"
      ],
      "text/markdown": [
       "\n",
       "A data.frame: 6 × 2\n",
       "\n",
       "| <!--/--> | GOterms &lt;chr&gt; | pvalue &lt;dbl&gt; |\n",
       "|---|---|---|\n",
       "| 601 | mitochondrial electron transport, cytochrome c to oxygen | 0.0001704211 |\n",
       "| 1854 | energy derivation by oxidation of organic compounds      | 0.0004553500 |\n",
       "| 2204 | respiratory electron transport chain                     | 0.0004962063 |\n",
       "| 2203 | electron transport chain                                 | 0.0009369785 |\n",
       "| 598 | oxidative phosphorylation                                | 0.0013190484 |\n",
       "| 1282 | aerobic respiration                                      | 0.0016870236 |\n",
       "\n"
      ],
      "text/plain": [
       "     GOterms                                                  pvalue      \n",
       "601  mitochondrial electron transport, cytochrome c to oxygen 0.0001704211\n",
       "1854 energy derivation by oxidation of organic compounds      0.0004553500\n",
       "2204 respiratory electron transport chain                     0.0004962063\n",
       "2203 electron transport chain                                 0.0009369785\n",
       "598  oxidative phosphorylation                                0.0013190484\n",
       "1282 aerobic respiration                                      0.0016870236"
      ]
     },
     "metadata": {},
     "output_type": "display_data"
    }
   ],
   "source": [
    "# Loading geneset from GO database\n",
    "suppressWarnings({suppressMessages({geneset <- gmt2geneset(\"./data/GO_terms.gmt\")})})\n",
    "# Perform ORA\n",
    "res.ORA <- ORA(geneset = geneset, DEGenes = DEGenes, backgroundSet = backgroundSet, DE.df = DE.df)\n",
    "# Save the result to a table where the first column is GO term name and the second column is the p-value\n",
    "res.df <- data.frame(\n",
    "    GOterms = names(res.ORA),\n",
    "    pvalue = res.ORA\n",
    ")\n",
    "# Order the table based on the p-value\n",
    "res.df <- res.df[order(res.df$pvalue), ]\n",
    "# View the most significant GO terms\n",
    "head(res.df)"
   ]
  },
  {
   "cell_type": "markdown",
   "id": "ae0d8278",
   "metadata": {},
   "source": [
    "From the result table, we might conclude that the pathways shown are key components of the disease in study."
   ]
  },
  {
   "cell_type": "markdown",
   "id": "cfa3dbd7",
   "metadata": {},
   "source": [
    "### Enrichment analysis using ORA and KEGG pathways"
   ]
  },
  {
   "cell_type": "markdown",
   "id": "69dc9176-9f21-4198-8873-c391fd58b1d2",
   "metadata": {},
   "source": [
    "We will perform the same steps as we did above for the GO terms."
   ]
  },
  {
   "cell_type": "code",
   "execution_count": 15,
   "id": "7c31dbde",
   "metadata": {},
   "outputs": [],
   "source": [
    "# Loading the KEGG pathways\n",
    "suppressWarnings({suppressMessages({geneset <- gmt2geneset(\"./data/KEGG_pathways.gmt\")})})"
   ]
  },
  {
   "cell_type": "code",
   "execution_count": 16,
   "id": "ee2d6ff9",
   "metadata": {},
   "outputs": [
    {
     "data": {
      "text/html": [
       "<table class=\"dataframe\">\n",
       "<caption>A data.frame: 6 × 2</caption>\n",
       "<thead>\n",
       "\t<tr><th></th><th scope=col>pathways</th><th scope=col>pvalue</th></tr>\n",
       "\t<tr><th></th><th scope=col>&lt;chr&gt;</th><th scope=col>&lt;dbl&gt;</th></tr>\n",
       "</thead>\n",
       "<tbody>\n",
       "\t<tr><th scope=row>622</th><td>UQCRH</td><td>0.0008616251</td></tr>\n",
       "\t<tr><th scope=row>680</th><td>COX2 </td><td>0.0008753422</td></tr>\n",
       "\t<tr><th scope=row>670</th><td>CYC1 </td><td>0.0057312227</td></tr>\n",
       "\t<tr><th scope=row>17</th><td>COX5A</td><td>0.0060597917</td></tr>\n",
       "\t<tr><th scope=row>472</th><td>SDHC </td><td>0.0060597917</td></tr>\n",
       "\t<tr><th scope=row>612</th><td>SDHC </td><td>0.0060597917</td></tr>\n",
       "</tbody>\n",
       "</table>\n"
      ],
      "text/latex": [
       "A data.frame: 6 × 2\n",
       "\\begin{tabular}{r|ll}\n",
       "  & pathways & pvalue\\\\\n",
       "  & <chr> & <dbl>\\\\\n",
       "\\hline\n",
       "\t622 & UQCRH & 0.0008616251\\\\\n",
       "\t680 & COX2  & 0.0008753422\\\\\n",
       "\t670 & CYC1  & 0.0057312227\\\\\n",
       "\t17 & COX5A & 0.0060597917\\\\\n",
       "\t472 & SDHC  & 0.0060597917\\\\\n",
       "\t612 & SDHC  & 0.0060597917\\\\\n",
       "\\end{tabular}\n"
      ],
      "text/markdown": [
       "\n",
       "A data.frame: 6 × 2\n",
       "\n",
       "| <!--/--> | pathways &lt;chr&gt; | pvalue &lt;dbl&gt; |\n",
       "|---|---|---|\n",
       "| 622 | UQCRH | 0.0008616251 |\n",
       "| 680 | COX2  | 0.0008753422 |\n",
       "| 670 | CYC1  | 0.0057312227 |\n",
       "| 17 | COX5A | 0.0060597917 |\n",
       "| 472 | SDHC  | 0.0060597917 |\n",
       "| 612 | SDHC  | 0.0060597917 |\n",
       "\n"
      ],
      "text/plain": [
       "    pathways pvalue      \n",
       "622 UQCRH    0.0008616251\n",
       "680 COX2     0.0008753422\n",
       "670 CYC1     0.0057312227\n",
       "17  COX5A    0.0060597917\n",
       "472 SDHC     0.0060597917\n",
       "612 SDHC     0.0060597917"
      ]
     },
     "metadata": {},
     "output_type": "display_data"
    }
   ],
   "source": [
    "# Perform Hyper-geometric testing\n",
    "res.ORA <- ORA(geneset = geneset, DEGenes = DEGenes, \n",
    "               backgroundSet = backgroundSet, DE.df = DE.df)\n",
    "# Save the results to a data frame\n",
    "res.df <- data.frame(\n",
    "    pathways = names(res.ORA),\n",
    "    pvalue = res.ORA\n",
    ")\n",
    "\n",
    "res.df <- res.df[order(res.df$pvalue), ]\n",
    "head(res.df)\n"
   ]
  },
  {
   "cell_type": "markdown",
   "id": "63818b96-1b67-49be-81d3-c45dae212ecc",
   "metadata": {},
   "source": [
    "### Enrichment analysis using ORA and REACTOME pathways\n",
    "\n",
    "We will perform basically the same steps as we did above for the GO terms and KEEG pathways, the only thing that is different is we will map the PROBEID to ENTREZID instead of SYMBOL since REACTOME use the ENTREZID for gene id."
   ]
  },
  {
   "cell_type": "code",
   "execution_count": 17,
   "id": "d3a72d64-a93e-4680-9c9c-a969923f79a2",
   "metadata": {},
   "outputs": [
    {
     "data": {
      "text/html": [
       "<table class=\"dataframe\">\n",
       "<caption>A data.frame: 6 × 2</caption>\n",
       "<thead>\n",
       "\t<tr><th></th><th scope=col>PROBEID</th><th scope=col>ENTREZID</th></tr>\n",
       "\t<tr><th></th><th scope=col>&lt;chr&gt;</th><th scope=col>&lt;chr&gt;</th></tr>\n",
       "</thead>\n",
       "<tbody>\n",
       "\t<tr><th scope=row>1</th><td>1007_s_at</td><td>780 </td></tr>\n",
       "\t<tr><th scope=row>2</th><td>1053_at  </td><td>5982</td></tr>\n",
       "\t<tr><th scope=row>3</th><td>117_at   </td><td>3310</td></tr>\n",
       "\t<tr><th scope=row>4</th><td>121_at   </td><td>7849</td></tr>\n",
       "\t<tr><th scope=row>5</th><td>1255_g_at</td><td>2978</td></tr>\n",
       "\t<tr><th scope=row>6</th><td>1294_at  </td><td>7318</td></tr>\n",
       "</tbody>\n",
       "</table>\n"
      ],
      "text/latex": [
       "A data.frame: 6 × 2\n",
       "\\begin{tabular}{r|ll}\n",
       "  & PROBEID & ENTREZID\\\\\n",
       "  & <chr> & <chr>\\\\\n",
       "\\hline\n",
       "\t1 & 1007\\_s\\_at & 780 \\\\\n",
       "\t2 & 1053\\_at   & 5982\\\\\n",
       "\t3 & 117\\_at    & 3310\\\\\n",
       "\t4 & 121\\_at    & 7849\\\\\n",
       "\t5 & 1255\\_g\\_at & 2978\\\\\n",
       "\t6 & 1294\\_at   & 7318\\\\\n",
       "\\end{tabular}\n"
      ],
      "text/markdown": [
       "\n",
       "A data.frame: 6 × 2\n",
       "\n",
       "| <!--/--> | PROBEID &lt;chr&gt; | ENTREZID &lt;chr&gt; |\n",
       "|---|---|---|\n",
       "| 1 | 1007_s_at | 780  |\n",
       "| 2 | 1053_at   | 5982 |\n",
       "| 3 | 117_at    | 3310 |\n",
       "| 4 | 121_at    | 7849 |\n",
       "| 5 | 1255_g_at | 2978 |\n",
       "| 6 | 1294_at   | 7318 |\n",
       "\n"
      ],
      "text/plain": [
       "  PROBEID   ENTREZID\n",
       "1 1007_s_at 780     \n",
       "2 1053_at   5982    \n",
       "3 117_at    3310    \n",
       "4 121_at    7849    \n",
       "5 1255_g_at 2978    \n",
       "6 1294_at   7318    "
      ]
     },
     "metadata": {},
     "output_type": "display_data"
    },
    {
     "data": {
      "text/html": [
       "<table class=\"dataframe\">\n",
       "<caption>A data.frame: 6 × 10</caption>\n",
       "<thead>\n",
       "\t<tr><th></th><th scope=col>PROBEID</th><th scope=col>ENTREZID</th><th scope=col>GENENAME</th><th scope=col>SYMBOL</th><th scope=col>logFC</th><th scope=col>AveExpr</th><th scope=col>t</th><th scope=col>P.Value</th><th scope=col>adj.P.Val</th><th scope=col>B</th></tr>\n",
       "\t<tr><th></th><th scope=col>&lt;chr&gt;</th><th scope=col>&lt;chr&gt;</th><th scope=col>&lt;chr&gt;</th><th scope=col>&lt;chr&gt;</th><th scope=col>&lt;dbl&gt;</th><th scope=col>&lt;dbl&gt;</th><th scope=col>&lt;dbl&gt;</th><th scope=col>&lt;dbl&gt;</th><th scope=col>&lt;dbl&gt;</th><th scope=col>&lt;dbl&gt;</th></tr>\n",
       "</thead>\n",
       "<tbody>\n",
       "\t<tr><th scope=row>1</th><td>1007_s_at</td><td>780 </td><td>discoidin domain receptor tyrosine kinase 1 </td><td>DDR1  </td><td>-0.23858465</td><td>1.0967772</td><td>-2.08257585</td><td>0.04210211</td><td>0.2531265</td><td>-4.284228</td></tr>\n",
       "\t<tr><th scope=row>2</th><td>1053_at  </td><td>5982</td><td>replication factor C subunit 2              </td><td>RFC2  </td><td> 0.05830367</td><td>0.9657758</td><td> 1.42311356</td><td>0.16052793</td><td>0.4674726</td><td>-5.359907</td></tr>\n",
       "\t<tr><th scope=row>3</th><td>117_at   </td><td>3310</td><td>heat shock protein family A (Hsp70) member 6</td><td>HSPA6 </td><td>-0.01138494</td><td>1.1501582</td><td>-0.08100885</td><td>0.93573821</td><td>0.9861536</td><td>-6.337785</td></tr>\n",
       "\t<tr><th scope=row>4</th><td>121_at   </td><td>7849</td><td>paired box 8                                </td><td>PAX8  </td><td> 0.02301084</td><td>1.0581847</td><td> 0.87166663</td><td>0.38729816</td><td>0.7236528</td><td>-5.968512</td></tr>\n",
       "\t<tr><th scope=row>5</th><td>1255_g_at</td><td>2978</td><td>guanylate cyclase activator 1A              </td><td>GUCA1A</td><td> 0.36999950</td><td>1.4080351</td><td> 1.78615022</td><td>0.07976123</td><td>0.3351480</td><td>-4.812134</td></tr>\n",
       "\t<tr><th scope=row>6</th><td>1294_at  </td><td>7318</td><td>ubiquitin like modifier activating enzyme 7 </td><td>UBA7  </td><td>-0.11221434</td><td>1.0859983</td><td>-1.61593670</td><td>0.11200995</td><td>0.3925252</td><td>-5.082923</td></tr>\n",
       "</tbody>\n",
       "</table>\n"
      ],
      "text/latex": [
       "A data.frame: 6 × 10\n",
       "\\begin{tabular}{r|llllllllll}\n",
       "  & PROBEID & ENTREZID & GENENAME & SYMBOL & logFC & AveExpr & t & P.Value & adj.P.Val & B\\\\\n",
       "  & <chr> & <chr> & <chr> & <chr> & <dbl> & <dbl> & <dbl> & <dbl> & <dbl> & <dbl>\\\\\n",
       "\\hline\n",
       "\t1 & 1007\\_s\\_at & 780  & discoidin domain receptor tyrosine kinase 1  & DDR1   & -0.23858465 & 1.0967772 & -2.08257585 & 0.04210211 & 0.2531265 & -4.284228\\\\\n",
       "\t2 & 1053\\_at   & 5982 & replication factor C subunit 2               & RFC2   &  0.05830367 & 0.9657758 &  1.42311356 & 0.16052793 & 0.4674726 & -5.359907\\\\\n",
       "\t3 & 117\\_at    & 3310 & heat shock protein family A (Hsp70) member 6 & HSPA6  & -0.01138494 & 1.1501582 & -0.08100885 & 0.93573821 & 0.9861536 & -6.337785\\\\\n",
       "\t4 & 121\\_at    & 7849 & paired box 8                                 & PAX8   &  0.02301084 & 1.0581847 &  0.87166663 & 0.38729816 & 0.7236528 & -5.968512\\\\\n",
       "\t5 & 1255\\_g\\_at & 2978 & guanylate cyclase activator 1A               & GUCA1A &  0.36999950 & 1.4080351 &  1.78615022 & 0.07976123 & 0.3351480 & -4.812134\\\\\n",
       "\t6 & 1294\\_at   & 7318 & ubiquitin like modifier activating enzyme 7  & UBA7   & -0.11221434 & 1.0859983 & -1.61593670 & 0.11200995 & 0.3925252 & -5.082923\\\\\n",
       "\\end{tabular}\n"
      ],
      "text/markdown": [
       "\n",
       "A data.frame: 6 × 10\n",
       "\n",
       "| <!--/--> | PROBEID &lt;chr&gt; | ENTREZID &lt;chr&gt; | GENENAME &lt;chr&gt; | SYMBOL &lt;chr&gt; | logFC &lt;dbl&gt; | AveExpr &lt;dbl&gt; | t &lt;dbl&gt; | P.Value &lt;dbl&gt; | adj.P.Val &lt;dbl&gt; | B &lt;dbl&gt; |\n",
       "|---|---|---|---|---|---|---|---|---|---|---|\n",
       "| 1 | 1007_s_at | 780  | discoidin domain receptor tyrosine kinase 1  | DDR1   | -0.23858465 | 1.0967772 | -2.08257585 | 0.04210211 | 0.2531265 | -4.284228 |\n",
       "| 2 | 1053_at   | 5982 | replication factor C subunit 2               | RFC2   |  0.05830367 | 0.9657758 |  1.42311356 | 0.16052793 | 0.4674726 | -5.359907 |\n",
       "| 3 | 117_at    | 3310 | heat shock protein family A (Hsp70) member 6 | HSPA6  | -0.01138494 | 1.1501582 | -0.08100885 | 0.93573821 | 0.9861536 | -6.337785 |\n",
       "| 4 | 121_at    | 7849 | paired box 8                                 | PAX8   |  0.02301084 | 1.0581847 |  0.87166663 | 0.38729816 | 0.7236528 | -5.968512 |\n",
       "| 5 | 1255_g_at | 2978 | guanylate cyclase activator 1A               | GUCA1A |  0.36999950 | 1.4080351 |  1.78615022 | 0.07976123 | 0.3351480 | -4.812134 |\n",
       "| 6 | 1294_at   | 7318 | ubiquitin like modifier activating enzyme 7  | UBA7   | -0.11221434 | 1.0859983 | -1.61593670 | 0.11200995 | 0.3925252 | -5.082923 |\n",
       "\n"
      ],
      "text/plain": [
       "  PROBEID   ENTREZID GENENAME                                     SYMBOL\n",
       "1 1007_s_at 780      discoidin domain receptor tyrosine kinase 1  DDR1  \n",
       "2 1053_at   5982     replication factor C subunit 2               RFC2  \n",
       "3 117_at    3310     heat shock protein family A (Hsp70) member 6 HSPA6 \n",
       "4 121_at    7849     paired box 8                                 PAX8  \n",
       "5 1255_g_at 2978     guanylate cyclase activator 1A               GUCA1A\n",
       "6 1294_at   7318     ubiquitin like modifier activating enzyme 7  UBA7  \n",
       "  logFC       AveExpr   t           P.Value    adj.P.Val B        \n",
       "1 -0.23858465 1.0967772 -2.08257585 0.04210211 0.2531265 -4.284228\n",
       "2  0.05830367 0.9657758  1.42311356 0.16052793 0.4674726 -5.359907\n",
       "3 -0.01138494 1.1501582 -0.08100885 0.93573821 0.9861536 -6.337785\n",
       "4  0.02301084 1.0581847  0.87166663 0.38729816 0.7236528 -5.968512\n",
       "5  0.36999950 1.4080351  1.78615022 0.07976123 0.3351480 -4.812134\n",
       "6 -0.11221434 1.0859983 -1.61593670 0.11200995 0.3925252 -5.082923"
      ]
     },
     "metadata": {},
     "output_type": "display_data"
    }
   ],
   "source": [
    "probeIDs <- DE.df$PROBEID\n",
    "\n",
    "suppressMessages({\n",
    "    annotLookup <- AnnotationDbi::select(hgu133plus2.db, keys = probeIDs, columns = c('PROBEID', 'ENTREZID'))\n",
    "})\n",
    "head(annotLookup)\n",
    "\n",
    "DE.df <- merge(annotLookup, DE.df, by = \"PROBEID\")\n",
    "\n",
    "# Remove NA gene symbol\n",
    "DE.df <-  DE.df[!is.na(DE.df$ENTREZID), ]\n",
    "# Remove duplicated genes\n",
    "DE.df <-  DE.df[!duplicated(DE.df$ENTREZID, fromLast = FALSE), ]\n",
    "head(DE.df)\n"
   ]
  },
  {
   "cell_type": "code",
   "execution_count": 18,
   "id": "6805c48b-7775-4ad1-a5f3-ca19d9f74b5e",
   "metadata": {},
   "outputs": [],
   "source": [
    "# Selecting a list of significant DE genes\n",
    "DEGenes <- DE.df[DE.df$adj.P.Val <= 0.05, ]\n",
    "# Select genes with symbol\n",
    "DEGenes <- DEGenes$ENTREZID\n",
    "#Defining background genes\n",
    "backgroundSet <- DE.df$ENTREZID"
   ]
  },
  {
   "cell_type": "code",
   "execution_count": 19,
   "id": "7a7baa26-8eb4-4762-bcd0-3ebaf18d8cc0",
   "metadata": {},
   "outputs": [
    {
     "data": {
      "text/html": [
       "<table class=\"dataframe\">\n",
       "<caption>A data.frame: 6 × 2</caption>\n",
       "<thead>\n",
       "\t<tr><th></th><th scope=col>pathways</th><th scope=col>pvalue</th></tr>\n",
       "\t<tr><th></th><th scope=col>&lt;chr&gt;</th><th scope=col>&lt;dbl&gt;</th></tr>\n",
       "</thead>\n",
       "<tbody>\n",
       "\t<tr><th scope=row>1278</th><td>5264                                       </td><td>0.0007996188</td></tr>\n",
       "\t<tr><th scope=row>2879</th><td>Homo sapiens: Type I hemidesmosome assembly</td><td>0.0054458977</td></tr>\n",
       "\t<tr><th scope=row>1651</th><td>Homo sapiens: P2Y receptors                </td><td>0.0066064555</td></tr>\n",
       "\t<tr><th scope=row>2202</th><td>Homo sapiens: Ribavirin ADME               </td><td>0.0066064555</td></tr>\n",
       "\t<tr><th scope=row>1863</th><td>Homo sapiens: Protein folding              </td><td>0.0091140070</td></tr>\n",
       "\t<tr><th scope=row>1971</th><td>84271                                      </td><td>0.0091140070</td></tr>\n",
       "</tbody>\n",
       "</table>\n"
      ],
      "text/latex": [
       "A data.frame: 6 × 2\n",
       "\\begin{tabular}{r|ll}\n",
       "  & pathways & pvalue\\\\\n",
       "  & <chr> & <dbl>\\\\\n",
       "\\hline\n",
       "\t1278 & 5264                                        & 0.0007996188\\\\\n",
       "\t2879 & Homo sapiens: Type I hemidesmosome assembly & 0.0054458977\\\\\n",
       "\t1651 & Homo sapiens: P2Y receptors                 & 0.0066064555\\\\\n",
       "\t2202 & Homo sapiens: Ribavirin ADME                & 0.0066064555\\\\\n",
       "\t1863 & Homo sapiens: Protein folding               & 0.0091140070\\\\\n",
       "\t1971 & 84271                                       & 0.0091140070\\\\\n",
       "\\end{tabular}\n"
      ],
      "text/markdown": [
       "\n",
       "A data.frame: 6 × 2\n",
       "\n",
       "| <!--/--> | pathways &lt;chr&gt; | pvalue &lt;dbl&gt; |\n",
       "|---|---|---|\n",
       "| 1278 | 5264                                        | 0.0007996188 |\n",
       "| 2879 | Homo sapiens: Type I hemidesmosome assembly | 0.0054458977 |\n",
       "| 1651 | Homo sapiens: P2Y receptors                 | 0.0066064555 |\n",
       "| 2202 | Homo sapiens: Ribavirin ADME                | 0.0066064555 |\n",
       "| 1863 | Homo sapiens: Protein folding               | 0.0091140070 |\n",
       "| 1971 | 84271                                       | 0.0091140070 |\n",
       "\n"
      ],
      "text/plain": [
       "     pathways                                    pvalue      \n",
       "1278 5264                                        0.0007996188\n",
       "2879 Homo sapiens: Type I hemidesmosome assembly 0.0054458977\n",
       "1651 Homo sapiens: P2Y receptors                 0.0066064555\n",
       "2202 Homo sapiens: Ribavirin ADME                0.0066064555\n",
       "1863 Homo sapiens: Protein folding               0.0091140070\n",
       "1971 84271                                       0.0091140070"
      ]
     },
     "metadata": {},
     "output_type": "display_data"
    }
   ],
   "source": [
    "# Loading geneset from GO database\n",
    "suppressWarnings({suppressMessages({geneset <- gmt2geneset(\"./data/REACTOME_pathways.gmt\")})})\n",
    "# Perform ORA\n",
    "res.ORA <- ORA(geneset = geneset, DEGenes = DEGenes, backgroundSet = backgroundSet, DE.df = DE.df)\n",
    "# Save the result to a table where the first column is GO term name and the second column is the p-value\n",
    "res.df <- data.frame(\n",
    "    pathways = names(res.ORA),\n",
    "    pvalue = res.ORA\n",
    ")\n",
    "# Order the table based on the p-value\n",
    "res.df <- res.df[order(res.df$pvalue), ]\n",
    "# View the most significant GO terms\n",
    "head(res.df)"
   ]
  },
  {
   "cell_type": "markdown",
   "id": "72a138b4-a0aa-461b-b529-67e76c7767d6",
   "metadata": {},
   "source": [
    "# Enrichment analysis using KS and Wilcoxon test\n",
    "\n",
    "The Kolmogorov-Smirnov (KS) test is a non-parametric test that compares the cumulative distribution functions of two datasets. In the context of enrichment analysis, it can be employed to assess whether the distribution of DE genes is significantly different from what would be expected by chance for a given gene set. The test produces a KS statistic and a corresponding p-value, indicating the degree of over-representation.\n",
    "\n",
    "The Wilcoxon test, also known as the Mann-Whitney U test, is another non-parametric test used in enrichment analysis. It assesses whether there is a significant difference in the ranks of genes between the DE gene set and the rest of the genes."
   ]
  },
  {
   "cell_type": "markdown",
   "id": "b2a98cfa-2b91-46a5-92ea-38ee1deb2eac",
   "metadata": {},
   "source": [
    "### Data preparation\n",
    "To conduct enrichment analysis using KS or Wilcoxon test, we will use the limma DE result as input. First, we can use the DE.df variable above and select a set of genes that\n",
    "are significantly altered (*p-value < 0.05*)."
   ]
  },
  {
   "cell_type": "code",
   "execution_count": 20,
   "id": "1135da3e-3277-408f-a4b2-7ec34d09a659",
   "metadata": {},
   "outputs": [
    {
     "data": {
      "text/html": [
       "<table class=\"dataframe\">\n",
       "<caption>A data.frame: 6 × 10</caption>\n",
       "<thead>\n",
       "\t<tr><th></th><th scope=col>PROBEID</th><th scope=col>ENTREZID</th><th scope=col>GENENAME</th><th scope=col>SYMBOL</th><th scope=col>logFC</th><th scope=col>AveExpr</th><th scope=col>t</th><th scope=col>P.Value</th><th scope=col>adj.P.Val</th><th scope=col>B</th></tr>\n",
       "\t<tr><th></th><th scope=col>&lt;chr&gt;</th><th scope=col>&lt;chr&gt;</th><th scope=col>&lt;chr&gt;</th><th scope=col>&lt;chr&gt;</th><th scope=col>&lt;dbl&gt;</th><th scope=col>&lt;dbl&gt;</th><th scope=col>&lt;dbl&gt;</th><th scope=col>&lt;dbl&gt;</th><th scope=col>&lt;dbl&gt;</th><th scope=col>&lt;dbl&gt;</th></tr>\n",
       "</thead>\n",
       "<tbody>\n",
       "\t<tr><th scope=row>146</th><td>1552467_at</td><td>259234</td><td>Down syndrome critical region 10                    </td><td>DSCR10</td><td> 0.07632117</td><td>1.1024122</td><td> 3.721644</td><td>4.778227e-04</td><td>4.325324e-02</td><td>-0.28303673</td></tr>\n",
       "\t<tr><th scope=row>149</th><td>1552473_at</td><td>2593  </td><td>guanidinoacetate N-methyltransferase                </td><td>GAMT  </td><td> 0.12655694</td><td>1.0378989</td><td> 3.829094</td><td>3.402464e-04</td><td>3.481091e-02</td><td> 0.03057276</td></tr>\n",
       "\t<tr><th scope=row>175</th><td>1552514_at</td><td>164684</td><td>WBP2 N-terminal like                                </td><td>WBP2NL</td><td>-0.43701990</td><td>1.2072571</td><td>-3.705169</td><td>5.031544e-04</td><td>4.458666e-02</td><td>-0.33067421</td></tr>\n",
       "\t<tr><th scope=row>181</th><td>1552524_at</td><td>116969</td><td>ADP-ribosyltransferase 5                            </td><td>ART5  </td><td>-0.15248106</td><td>1.2214668</td><td>-5.601889</td><td>7.601467e-07</td><td>3.172597e-04</td><td> 5.74686253</td></tr>\n",
       "\t<tr><th scope=row>220</th><td>1552596_at</td><td>246176</td><td>growth arrest specific 2 like 2                     </td><td>GAS2L2</td><td> 0.09704702</td><td>0.9937790</td><td> 8.231539</td><td>4.578441e-11</td><td>4.490998e-08</td><td>14.90292753</td></tr>\n",
       "\t<tr><th scope=row>381</th><td>1552768_at</td><td>84254 </td><td>calcium/calmodulin dependent protein kinase kinase 1</td><td>CAMKK1</td><td> 0.07873062</td><td>0.8284583</td><td> 3.985720</td><td>2.057635e-04</td><td>2.541044e-02</td><td> 0.49642261</td></tr>\n",
       "</tbody>\n",
       "</table>\n"
      ],
      "text/latex": [
       "A data.frame: 6 × 10\n",
       "\\begin{tabular}{r|llllllllll}\n",
       "  & PROBEID & ENTREZID & GENENAME & SYMBOL & logFC & AveExpr & t & P.Value & adj.P.Val & B\\\\\n",
       "  & <chr> & <chr> & <chr> & <chr> & <dbl> & <dbl> & <dbl> & <dbl> & <dbl> & <dbl>\\\\\n",
       "\\hline\n",
       "\t146 & 1552467\\_at & 259234 & Down syndrome critical region 10                     & DSCR10 &  0.07632117 & 1.1024122 &  3.721644 & 4.778227e-04 & 4.325324e-02 & -0.28303673\\\\\n",
       "\t149 & 1552473\\_at & 2593   & guanidinoacetate N-methyltransferase                 & GAMT   &  0.12655694 & 1.0378989 &  3.829094 & 3.402464e-04 & 3.481091e-02 &  0.03057276\\\\\n",
       "\t175 & 1552514\\_at & 164684 & WBP2 N-terminal like                                 & WBP2NL & -0.43701990 & 1.2072571 & -3.705169 & 5.031544e-04 & 4.458666e-02 & -0.33067421\\\\\n",
       "\t181 & 1552524\\_at & 116969 & ADP-ribosyltransferase 5                             & ART5   & -0.15248106 & 1.2214668 & -5.601889 & 7.601467e-07 & 3.172597e-04 &  5.74686253\\\\\n",
       "\t220 & 1552596\\_at & 246176 & growth arrest specific 2 like 2                      & GAS2L2 &  0.09704702 & 0.9937790 &  8.231539 & 4.578441e-11 & 4.490998e-08 & 14.90292753\\\\\n",
       "\t381 & 1552768\\_at & 84254  & calcium/calmodulin dependent protein kinase kinase 1 & CAMKK1 &  0.07873062 & 0.8284583 &  3.985720 & 2.057635e-04 & 2.541044e-02 &  0.49642261\\\\\n",
       "\\end{tabular}\n"
      ],
      "text/markdown": [
       "\n",
       "A data.frame: 6 × 10\n",
       "\n",
       "| <!--/--> | PROBEID &lt;chr&gt; | ENTREZID &lt;chr&gt; | GENENAME &lt;chr&gt; | SYMBOL &lt;chr&gt; | logFC &lt;dbl&gt; | AveExpr &lt;dbl&gt; | t &lt;dbl&gt; | P.Value &lt;dbl&gt; | adj.P.Val &lt;dbl&gt; | B &lt;dbl&gt; |\n",
       "|---|---|---|---|---|---|---|---|---|---|---|\n",
       "| 146 | 1552467_at | 259234 | Down syndrome critical region 10                     | DSCR10 |  0.07632117 | 1.1024122 |  3.721644 | 4.778227e-04 | 4.325324e-02 | -0.28303673 |\n",
       "| 149 | 1552473_at | 2593   | guanidinoacetate N-methyltransferase                 | GAMT   |  0.12655694 | 1.0378989 |  3.829094 | 3.402464e-04 | 3.481091e-02 |  0.03057276 |\n",
       "| 175 | 1552514_at | 164684 | WBP2 N-terminal like                                 | WBP2NL | -0.43701990 | 1.2072571 | -3.705169 | 5.031544e-04 | 4.458666e-02 | -0.33067421 |\n",
       "| 181 | 1552524_at | 116969 | ADP-ribosyltransferase 5                             | ART5   | -0.15248106 | 1.2214668 | -5.601889 | 7.601467e-07 | 3.172597e-04 |  5.74686253 |\n",
       "| 220 | 1552596_at | 246176 | growth arrest specific 2 like 2                      | GAS2L2 |  0.09704702 | 0.9937790 |  8.231539 | 4.578441e-11 | 4.490998e-08 | 14.90292753 |\n",
       "| 381 | 1552768_at | 84254  | calcium/calmodulin dependent protein kinase kinase 1 | CAMKK1 |  0.07873062 | 0.8284583 |  3.985720 | 2.057635e-04 | 2.541044e-02 |  0.49642261 |\n",
       "\n"
      ],
      "text/plain": [
       "    PROBEID    ENTREZID GENENAME                                            \n",
       "146 1552467_at 259234   Down syndrome critical region 10                    \n",
       "149 1552473_at 2593     guanidinoacetate N-methyltransferase                \n",
       "175 1552514_at 164684   WBP2 N-terminal like                                \n",
       "181 1552524_at 116969   ADP-ribosyltransferase 5                            \n",
       "220 1552596_at 246176   growth arrest specific 2 like 2                     \n",
       "381 1552768_at 84254    calcium/calmodulin dependent protein kinase kinase 1\n",
       "    SYMBOL logFC       AveExpr   t         P.Value      adj.P.Val   \n",
       "146 DSCR10  0.07632117 1.1024122  3.721644 4.778227e-04 4.325324e-02\n",
       "149 GAMT    0.12655694 1.0378989  3.829094 3.402464e-04 3.481091e-02\n",
       "175 WBP2NL -0.43701990 1.2072571 -3.705169 5.031544e-04 4.458666e-02\n",
       "181 ART5   -0.15248106 1.2214668 -5.601889 7.601467e-07 3.172597e-04\n",
       "220 GAS2L2  0.09704702 0.9937790  8.231539 4.578441e-11 4.490998e-08\n",
       "381 CAMKK1  0.07873062 0.8284583  3.985720 2.057635e-04 2.541044e-02\n",
       "    B          \n",
       "146 -0.28303673\n",
       "149  0.03057276\n",
       "175 -0.33067421\n",
       "181  5.74686253\n",
       "220 14.90292753\n",
       "381  0.49642261"
      ]
     },
     "metadata": {},
     "output_type": "display_data"
    }
   ],
   "source": [
    "# Select genes that are significantly altered\n",
    "kw_de <- DE.df[DE.df$adj.P.Val <= 0.05, ]\n",
    "head(kw_de)"
   ]
  },
  {
   "cell_type": "markdown",
   "id": "7fe00efa-e665-476b-8872-5482f4dafde1",
   "metadata": {},
   "source": [
    "Next, we will remove rows containing NA, dupicated genes symbol."
   ]
  },
  {
   "cell_type": "code",
   "execution_count": 21,
   "id": "47e8c745-2bc5-4991-979f-89e2d0d643e3",
   "metadata": {},
   "outputs": [
    {
     "data": {
      "text/html": [
       "<table class=\"dataframe\">\n",
       "<caption>A data.frame: 6 × 7</caption>\n",
       "<thead>\n",
       "\t<tr><th></th><th scope=col>SYMBOL</th><th scope=col>logFC</th><th scope=col>AveExpr</th><th scope=col>t</th><th scope=col>P.Value</th><th scope=col>adj.P.Val</th><th scope=col>B</th></tr>\n",
       "\t<tr><th></th><th scope=col>&lt;chr&gt;</th><th scope=col>&lt;dbl&gt;</th><th scope=col>&lt;dbl&gt;</th><th scope=col>&lt;dbl&gt;</th><th scope=col>&lt;dbl&gt;</th><th scope=col>&lt;dbl&gt;</th><th scope=col>&lt;dbl&gt;</th></tr>\n",
       "</thead>\n",
       "<tbody>\n",
       "\t<tr><th scope=row>DSCR10</th><td>DSCR10</td><td> 0.07632117</td><td>1.1024122</td><td> 3.721644</td><td>4.778227e-04</td><td>4.325324e-02</td><td>-0.28303673</td></tr>\n",
       "\t<tr><th scope=row>GAMT</th><td>GAMT  </td><td> 0.12655694</td><td>1.0378989</td><td> 3.829094</td><td>3.402464e-04</td><td>3.481091e-02</td><td> 0.03057276</td></tr>\n",
       "\t<tr><th scope=row>WBP2NL</th><td>WBP2NL</td><td>-0.43701990</td><td>1.2072571</td><td>-3.705169</td><td>5.031544e-04</td><td>4.458666e-02</td><td>-0.33067421</td></tr>\n",
       "\t<tr><th scope=row>ART5</th><td>ART5  </td><td>-0.15248106</td><td>1.2214668</td><td>-5.601889</td><td>7.601467e-07</td><td>3.172597e-04</td><td> 5.74686253</td></tr>\n",
       "\t<tr><th scope=row>GAS2L2</th><td>GAS2L2</td><td> 0.09704702</td><td>0.9937790</td><td> 8.231539</td><td>4.578441e-11</td><td>4.490998e-08</td><td>14.90292753</td></tr>\n",
       "\t<tr><th scope=row>CAMKK1</th><td>CAMKK1</td><td> 0.07873062</td><td>0.8284583</td><td> 3.985720</td><td>2.057635e-04</td><td>2.541044e-02</td><td> 0.49642261</td></tr>\n",
       "</tbody>\n",
       "</table>\n"
      ],
      "text/latex": [
       "A data.frame: 6 × 7\n",
       "\\begin{tabular}{r|lllllll}\n",
       "  & SYMBOL & logFC & AveExpr & t & P.Value & adj.P.Val & B\\\\\n",
       "  & <chr> & <dbl> & <dbl> & <dbl> & <dbl> & <dbl> & <dbl>\\\\\n",
       "\\hline\n",
       "\tDSCR10 & DSCR10 &  0.07632117 & 1.1024122 &  3.721644 & 4.778227e-04 & 4.325324e-02 & -0.28303673\\\\\n",
       "\tGAMT & GAMT   &  0.12655694 & 1.0378989 &  3.829094 & 3.402464e-04 & 3.481091e-02 &  0.03057276\\\\\n",
       "\tWBP2NL & WBP2NL & -0.43701990 & 1.2072571 & -3.705169 & 5.031544e-04 & 4.458666e-02 & -0.33067421\\\\\n",
       "\tART5 & ART5   & -0.15248106 & 1.2214668 & -5.601889 & 7.601467e-07 & 3.172597e-04 &  5.74686253\\\\\n",
       "\tGAS2L2 & GAS2L2 &  0.09704702 & 0.9937790 &  8.231539 & 4.578441e-11 & 4.490998e-08 & 14.90292753\\\\\n",
       "\tCAMKK1 & CAMKK1 &  0.07873062 & 0.8284583 &  3.985720 & 2.057635e-04 & 2.541044e-02 &  0.49642261\\\\\n",
       "\\end{tabular}\n"
      ],
      "text/markdown": [
       "\n",
       "A data.frame: 6 × 7\n",
       "\n",
       "| <!--/--> | SYMBOL &lt;chr&gt; | logFC &lt;dbl&gt; | AveExpr &lt;dbl&gt; | t &lt;dbl&gt; | P.Value &lt;dbl&gt; | adj.P.Val &lt;dbl&gt; | B &lt;dbl&gt; |\n",
       "|---|---|---|---|---|---|---|---|\n",
       "| DSCR10 | DSCR10 |  0.07632117 | 1.1024122 |  3.721644 | 4.778227e-04 | 4.325324e-02 | -0.28303673 |\n",
       "| GAMT | GAMT   |  0.12655694 | 1.0378989 |  3.829094 | 3.402464e-04 | 3.481091e-02 |  0.03057276 |\n",
       "| WBP2NL | WBP2NL | -0.43701990 | 1.2072571 | -3.705169 | 5.031544e-04 | 4.458666e-02 | -0.33067421 |\n",
       "| ART5 | ART5   | -0.15248106 | 1.2214668 | -5.601889 | 7.601467e-07 | 3.172597e-04 |  5.74686253 |\n",
       "| GAS2L2 | GAS2L2 |  0.09704702 | 0.9937790 |  8.231539 | 4.578441e-11 | 4.490998e-08 | 14.90292753 |\n",
       "| CAMKK1 | CAMKK1 |  0.07873062 | 0.8284583 |  3.985720 | 2.057635e-04 | 2.541044e-02 |  0.49642261 |\n",
       "\n"
      ],
      "text/plain": [
       "       SYMBOL logFC       AveExpr   t         P.Value      adj.P.Val   \n",
       "DSCR10 DSCR10  0.07632117 1.1024122  3.721644 4.778227e-04 4.325324e-02\n",
       "GAMT   GAMT    0.12655694 1.0378989  3.829094 3.402464e-04 3.481091e-02\n",
       "WBP2NL WBP2NL -0.43701990 1.2072571 -3.705169 5.031544e-04 4.458666e-02\n",
       "ART5   ART5   -0.15248106 1.2214668 -5.601889 7.601467e-07 3.172597e-04\n",
       "GAS2L2 GAS2L2  0.09704702 0.9937790  8.231539 4.578441e-11 4.490998e-08\n",
       "CAMKK1 CAMKK1  0.07873062 0.8284583  3.985720 2.057635e-04 2.541044e-02\n",
       "       B          \n",
       "DSCR10 -0.28303673\n",
       "GAMT    0.03057276\n",
       "WBP2NL -0.33067421\n",
       "ART5    5.74686253\n",
       "GAS2L2 14.90292753\n",
       "CAMKK1  0.49642261"
      ]
     },
     "metadata": {},
     "output_type": "display_data"
    }
   ],
   "source": [
    "# Remove NA value\n",
    "kw_de <- kw_de[!is.na(kw_de$SYMBOL), ]\n",
    "# Remove duplicated genes symbol\n",
    "kw_de <- kw_de[!duplicated(kw_de$SYMBOL, fromLast = FALSE), ]\n",
    "rownames(kw_de) <- kw_de$SYMBOL\n",
    "# remove the first 3 columns from the DE dataframe  \n",
    "kw_de <- kw_de[, -c(1:3)]\n",
    "head(kw_de)"
   ]
  },
  {
   "cell_type": "code",
   "execution_count": 22,
   "id": "f7c106eb-b3bf-40d8-9b57-acd92bb7adad",
   "metadata": {},
   "outputs": [
    {
     "data": {
      "text/html": [
       "<style>\n",
       ".list-inline {list-style: none; margin:0; padding: 0}\n",
       ".list-inline>li {display: inline-block}\n",
       ".list-inline>li:not(:last-child)::after {content: \"\\00b7\"; padding: 0 .5ex}\n",
       "</style>\n",
       "<ol class=list-inline><li>241</li><li>7</li></ol>\n"
      ],
      "text/latex": [
       "\\begin{enumerate*}\n",
       "\\item 241\n",
       "\\item 7\n",
       "\\end{enumerate*}\n"
      ],
      "text/markdown": [
       "1. 241\n",
       "2. 7\n",
       "\n",
       "\n"
      ],
      "text/plain": [
       "[1] 241   7"
      ]
     },
     "metadata": {},
     "output_type": "display_data"
    }
   ],
   "source": [
    "dim(kw_de)"
   ]
  },
  {
   "cell_type": "markdown",
   "id": "610c0f93-6a3b-4221-bf0a-b93d65c4419c",
   "metadata": {},
   "source": [
    "To perform KS or Wilcoxon test, we will use the `.runKsWilcox` function bellow."
   ]
  },
  {
   "cell_type": "code",
   "execution_count": 23,
   "id": "14a9698b-6464-451e-aa95-a7a13cbe2858",
   "metadata": {},
   "outputs": [],
   "source": [
    ".runKsWilcox <- function(DE.df, statCol, genesets, sTest) {\n",
    "    # remove rows that contain NA value in adj.P.Val column\n",
    "    DE_data <- DE.df[!is.na(DE.df[[statCol]]), ]\n",
    "    # get the adjusted p-values from DE.df to perform the test\n",
    "    ranks <- DE_data[[statCol]]\n",
    "    # set names of the DE genes\n",
    "    names(ranks) <- rownames(DE_data)\n",
    "\n",
    "    # choose the test to perform based on the sTest argument\n",
    "    test <- if (sTest == \"ks\") ks.test else wilcox.test\n",
    "    \n",
    "    background.genes <- rownames(DE_data)\n",
    "\n",
    "    DEhit <- sapply(genesets, function(gs) ranks[background.genes[background.genes %in% gs]])\n",
    "    DEmiss <- sapply(genesets, function(gs) ranks[background.genes[!background.genes %in% gs]])\n",
    "\n",
    "    # Initialize an empty list to store results\n",
    "    PA_res_list <- lapply(1:length(DEhit), function(i) {\n",
    "        cur.DEhit <- DEhit[[i]]\n",
    "        cur.DEmiss <- DEmiss[[i]]\n",
    "    \n",
    "        # Check if either list is empty\n",
    "        if (length(cur.DEhit) == 0 | length(cur.DEmiss) == 0) return(1)\n",
    "    \n",
    "        # Perform the test and extract the p-value\n",
    "        test_result <- test(cur.DEhit, cur.DEmiss)\n",
    "        test_result$p.value\n",
    "    })\n",
    "    \n",
    "    # Combine the results into a data frame\n",
    "    PA_res <- data.frame(\n",
    "        ID = names(genesets),\n",
    "        p.value = unlist(PA_res_list),\n",
    "        stringsAsFactors = FALSE\n",
    "    )\n",
    "    \n",
    "    # Remove rows with missing values\n",
    "    PA_res <- PA_res[complete.cases(PA_res), ]\n",
    "    # Ensure row names are unique\n",
    "    PA_res$ID <- make.unique(PA_res$ID)\n",
    "    # Set row names\n",
    "    rownames(PA_res) <- PA_res$ID\n",
    "\n",
    "    return(PA_res)\n",
    "    \n",
    "}"
   ]
  },
  {
   "cell_type": "markdown",
   "id": "0245522a-5d4e-4d40-8bc8-b04af61a2358",
   "metadata": {},
   "source": [
    "To use the `.runKsWilcox` function, we need to pass the following arguments:\n",
    "\n",
    "- `DE.df`: A dataframe containing information about differentially expressed genes.\n",
    "- `statCol`: A character string specifying the column in the DE.df data frame that contains the statistical values (e.g., p-value, adjusted p-values) associated with each gene.\n",
    "- `geneset`: A list of gene sets to be analyzed.\n",
    "- `sTest`: A character string specifying the testing method to be used; it can take either \"ks\" for the Kolmogorov-Smirnov test or \"wilcox\" for the Wilcoxon test.\r\n",
    "\n",
    "The `.runKsWilcox` function returns a dataframe of the analysis result.\n"
   ]
  },
  {
   "cell_type": "markdown",
   "id": "b1461242-eab0-40cc-8168-e99c577f08f5",
   "metadata": {},
   "source": [
    "### Enrichment analysis using KS and GO terms"
   ]
  },
  {
   "cell_type": "markdown",
   "id": "d7eb5e19-f357-4656-9632-02118bb129e9",
   "metadata": {},
   "source": [
    "We will need a gene set to perform enrichment analysis using KS/Wilcoxon test. Here, we will use the GO terms saved in the \"GO_terms.gmt\" file in module 3."
   ]
  },
  {
   "cell_type": "code",
   "execution_count": 24,
   "id": "b6aca88a-249c-4d46-bd99-ae3ad29415db",
   "metadata": {
    "scrolled": true
   },
   "outputs": [
    {
     "data": {
      "text/html": [
       "<table class=\"dataframe\">\n",
       "<caption>A data.frame: 6 × 2</caption>\n",
       "<thead>\n",
       "\t<tr><th></th><th scope=col>ID</th><th scope=col>p.value</th></tr>\n",
       "\t<tr><th></th><th scope=col>&lt;chr&gt;</th><th scope=col>&lt;dbl&gt;</th></tr>\n",
       "</thead>\n",
       "<tbody>\n",
       "\t<tr><th scope=row>cellular respiration</th><td>cellular respiration                </td><td>0.0001154964</td></tr>\n",
       "\t<tr><th scope=row>aerobic respiration</th><td>aerobic respiration                 </td><td>0.0003372217</td></tr>\n",
       "\t<tr><th scope=row>oxidative phosphorylation</th><td>oxidative phosphorylation           </td><td>0.0010481317</td></tr>\n",
       "\t<tr><th scope=row>respiratory electron transport chain</th><td>respiratory electron transport chain</td><td>0.0010481317</td></tr>\n",
       "\t<tr><th scope=row>leukocyte apoptotic process</th><td>leukocyte apoptotic process         </td><td>0.0024896266</td></tr>\n",
       "\t<tr><th scope=row>signal transduction</th><td>signal transduction                 </td><td>0.0042530813</td></tr>\n",
       "</tbody>\n",
       "</table>\n"
      ],
      "text/latex": [
       "A data.frame: 6 × 2\n",
       "\\begin{tabular}{r|ll}\n",
       "  & ID & p.value\\\\\n",
       "  & <chr> & <dbl>\\\\\n",
       "\\hline\n",
       "\tcellular respiration & cellular respiration                 & 0.0001154964\\\\\n",
       "\taerobic respiration & aerobic respiration                  & 0.0003372217\\\\\n",
       "\toxidative phosphorylation & oxidative phosphorylation            & 0.0010481317\\\\\n",
       "\trespiratory electron transport chain & respiratory electron transport chain & 0.0010481317\\\\\n",
       "\tleukocyte apoptotic process & leukocyte apoptotic process          & 0.0024896266\\\\\n",
       "\tsignal transduction & signal transduction                  & 0.0042530813\\\\\n",
       "\\end{tabular}\n"
      ],
      "text/markdown": [
       "\n",
       "A data.frame: 6 × 2\n",
       "\n",
       "| <!--/--> | ID &lt;chr&gt; | p.value &lt;dbl&gt; |\n",
       "|---|---|---|\n",
       "| cellular respiration | cellular respiration                 | 0.0001154964 |\n",
       "| aerobic respiration | aerobic respiration                  | 0.0003372217 |\n",
       "| oxidative phosphorylation | oxidative phosphorylation            | 0.0010481317 |\n",
       "| respiratory electron transport chain | respiratory electron transport chain | 0.0010481317 |\n",
       "| leukocyte apoptotic process | leukocyte apoptotic process          | 0.0024896266 |\n",
       "| signal transduction | signal transduction                  | 0.0042530813 |\n",
       "\n"
      ],
      "text/plain": [
       "                                     ID                                  \n",
       "cellular respiration                 cellular respiration                \n",
       "aerobic respiration                  aerobic respiration                 \n",
       "oxidative phosphorylation            oxidative phosphorylation           \n",
       "respiratory electron transport chain respiratory electron transport chain\n",
       "leukocyte apoptotic process          leukocyte apoptotic process         \n",
       "signal transduction                  signal transduction                 \n",
       "                                     p.value     \n",
       "cellular respiration                 0.0001154964\n",
       "aerobic respiration                  0.0003372217\n",
       "oxidative phosphorylation            0.0010481317\n",
       "respiratory electron transport chain 0.0010481317\n",
       "leukocyte apoptotic process          0.0024896266\n",
       "signal transduction                  0.0042530813"
      ]
     },
     "metadata": {},
     "output_type": "display_data"
    }
   ],
   "source": [
    "# load the GO gene sets from saved gmt file\n",
    "suppressWarnings({suppressMessages({geneset <- gmt2geneset(\"./data/GO_terms.gmt\")})})\n",
    "# perform enrichment analysis using KS test\n",
    "suppressWarnings(k_results <- .runKsWilcox(DE.df = kw_de, statCol = \"adj.P.Val\", geneset = geneset, sTest = \"ks\"))\n",
    "\n",
    "# order the results \n",
    "k_results <- k_results[order(k_results$p.value), ]\n",
    "# show some first rows of the result table\n",
    "head(k_results)"
   ]
  },
  {
   "cell_type": "markdown",
   "id": "214d9285-55fa-4b53-a974-ea18096ffea8",
   "metadata": {},
   "source": [
    "### Enrichment analysis using KS and KEGG pathways\n",
    "To do the analysis with KEEG pathways, we simply replace the GO gene sets with the KEGG pathways."
   ]
  },
  {
   "cell_type": "code",
   "execution_count": 25,
   "id": "6b3d0d05-3bae-4b41-8ade-479d1985cf40",
   "metadata": {},
   "outputs": [
    {
     "data": {
      "text/html": [
       "<table class=\"dataframe\">\n",
       "<caption>A data.frame: 6 × 2</caption>\n",
       "<thead>\n",
       "\t<tr><th></th><th scope=col>ID</th><th scope=col>p.value</th></tr>\n",
       "\t<tr><th></th><th scope=col>&lt;chr&gt;</th><th scope=col>&lt;dbl&gt;</th></tr>\n",
       "</thead>\n",
       "<tbody>\n",
       "\t<tr><th scope=row>Complement and coagulation cascades - Homo sapiens (human)</th><td>Complement and coagulation cascades - Homo sapiens (human)</td><td>0.01317731</td></tr>\n",
       "\t<tr><th scope=row>COX5A</th><td>COX5A                                                     </td><td>0.01447322</td></tr>\n",
       "\t<tr><th scope=row>SDHC</th><td>SDHC                                                      </td><td>0.01447322</td></tr>\n",
       "\t<tr><th scope=row>SDHC.1</th><td>SDHC.1                                                    </td><td>0.01447322</td></tr>\n",
       "\t<tr><th scope=row>COX2</th><td>COX2                                                      </td><td>0.01447322</td></tr>\n",
       "\t<tr><th scope=row>NDUFA4L2</th><td>NDUFA4L2                                                  </td><td>0.01447322</td></tr>\n",
       "</tbody>\n",
       "</table>\n"
      ],
      "text/latex": [
       "A data.frame: 6 × 2\n",
       "\\begin{tabular}{r|ll}\n",
       "  & ID & p.value\\\\\n",
       "  & <chr> & <dbl>\\\\\n",
       "\\hline\n",
       "\tComplement and coagulation cascades - Homo sapiens (human) & Complement and coagulation cascades - Homo sapiens (human) & 0.01317731\\\\\n",
       "\tCOX5A & COX5A                                                      & 0.01447322\\\\\n",
       "\tSDHC & SDHC                                                       & 0.01447322\\\\\n",
       "\tSDHC.1 & SDHC.1                                                     & 0.01447322\\\\\n",
       "\tCOX2 & COX2                                                       & 0.01447322\\\\\n",
       "\tNDUFA4L2 & NDUFA4L2                                                   & 0.01447322\\\\\n",
       "\\end{tabular}\n"
      ],
      "text/markdown": [
       "\n",
       "A data.frame: 6 × 2\n",
       "\n",
       "| <!--/--> | ID &lt;chr&gt; | p.value &lt;dbl&gt; |\n",
       "|---|---|---|\n",
       "| Complement and coagulation cascades - Homo sapiens (human) | Complement and coagulation cascades - Homo sapiens (human) | 0.01317731 |\n",
       "| COX5A | COX5A                                                      | 0.01447322 |\n",
       "| SDHC | SDHC                                                       | 0.01447322 |\n",
       "| SDHC.1 | SDHC.1                                                     | 0.01447322 |\n",
       "| COX2 | COX2                                                       | 0.01447322 |\n",
       "| NDUFA4L2 | NDUFA4L2                                                   | 0.01447322 |\n",
       "\n"
      ],
      "text/plain": [
       "                                                           ID                                                        \n",
       "Complement and coagulation cascades - Homo sapiens (human) Complement and coagulation cascades - Homo sapiens (human)\n",
       "COX5A                                                      COX5A                                                     \n",
       "SDHC                                                       SDHC                                                      \n",
       "SDHC.1                                                     SDHC.1                                                    \n",
       "COX2                                                       COX2                                                      \n",
       "NDUFA4L2                                                   NDUFA4L2                                                  \n",
       "                                                           p.value   \n",
       "Complement and coagulation cascades - Homo sapiens (human) 0.01317731\n",
       "COX5A                                                      0.01447322\n",
       "SDHC                                                       0.01447322\n",
       "SDHC.1                                                     0.01447322\n",
       "COX2                                                       0.01447322\n",
       "NDUFA4L2                                                   0.01447322"
      ]
     },
     "metadata": {},
     "output_type": "display_data"
    }
   ],
   "source": [
    "# Loading the KEGG pathways from saved gmt file\n",
    "suppressWarnings({suppressMessages({geneset <- gmt2geneset(\"./data/KEGG_pathways.gmt\")})})\n",
    "# perform enrichment analysis using KS test\n",
    "k_results <- .runKsWilcox(DE.df = kw_de, statCol = \"adj.P.Val\", geneset = geneset, sTest = \"ks\")\n",
    "\n",
    "# order the results \n",
    "k_results <- k_results[order(k_results$p.value), ]\n",
    "# show some first rows of the result table\n",
    "head(k_results)"
   ]
  },
  {
   "cell_type": "markdown",
   "id": "036d1f5a-8292-442c-9e81-d6cdfd286ae5",
   "metadata": {},
   "source": [
    "### Enrichment analysis using KS and REACTOME pathways\n",
    "To do the analysis with REACTOME pathways, we will use the same steps as for GO terms and KEEG pathways. But instead of select the SYMBOL column to set for row names, we will use the ENTREZID column."
   ]
  },
  {
   "cell_type": "code",
   "execution_count": 26,
   "id": "905fba8b-ad78-4242-a32c-878205b91a9b",
   "metadata": {},
   "outputs": [
    {
     "data": {
      "text/html": [
       "<table class=\"dataframe\">\n",
       "<caption>A data.frame: 6 × 10</caption>\n",
       "<thead>\n",
       "\t<tr><th></th><th scope=col>PROBEID</th><th scope=col>ENTREZID</th><th scope=col>GENENAME</th><th scope=col>SYMBOL</th><th scope=col>logFC</th><th scope=col>AveExpr</th><th scope=col>t</th><th scope=col>P.Value</th><th scope=col>adj.P.Val</th><th scope=col>B</th></tr>\n",
       "\t<tr><th></th><th scope=col>&lt;chr&gt;</th><th scope=col>&lt;chr&gt;</th><th scope=col>&lt;chr&gt;</th><th scope=col>&lt;chr&gt;</th><th scope=col>&lt;dbl&gt;</th><th scope=col>&lt;dbl&gt;</th><th scope=col>&lt;dbl&gt;</th><th scope=col>&lt;dbl&gt;</th><th scope=col>&lt;dbl&gt;</th><th scope=col>&lt;dbl&gt;</th></tr>\n",
       "</thead>\n",
       "<tbody>\n",
       "\t<tr><th scope=row>146</th><td>1552467_at</td><td>259234</td><td>Down syndrome critical region 10                    </td><td>DSCR10</td><td> 0.07632117</td><td>1.1024122</td><td> 3.721644</td><td>4.778227e-04</td><td>4.325324e-02</td><td>-0.28303673</td></tr>\n",
       "\t<tr><th scope=row>149</th><td>1552473_at</td><td>2593  </td><td>guanidinoacetate N-methyltransferase                </td><td>GAMT  </td><td> 0.12655694</td><td>1.0378989</td><td> 3.829094</td><td>3.402464e-04</td><td>3.481091e-02</td><td> 0.03057276</td></tr>\n",
       "\t<tr><th scope=row>175</th><td>1552514_at</td><td>164684</td><td>WBP2 N-terminal like                                </td><td>WBP2NL</td><td>-0.43701990</td><td>1.2072571</td><td>-3.705169</td><td>5.031544e-04</td><td>4.458666e-02</td><td>-0.33067421</td></tr>\n",
       "\t<tr><th scope=row>181</th><td>1552524_at</td><td>116969</td><td>ADP-ribosyltransferase 5                            </td><td>ART5  </td><td>-0.15248106</td><td>1.2214668</td><td>-5.601889</td><td>7.601467e-07</td><td>3.172597e-04</td><td> 5.74686253</td></tr>\n",
       "\t<tr><th scope=row>220</th><td>1552596_at</td><td>246176</td><td>growth arrest specific 2 like 2                     </td><td>GAS2L2</td><td> 0.09704702</td><td>0.9937790</td><td> 8.231539</td><td>4.578441e-11</td><td>4.490998e-08</td><td>14.90292753</td></tr>\n",
       "\t<tr><th scope=row>381</th><td>1552768_at</td><td>84254 </td><td>calcium/calmodulin dependent protein kinase kinase 1</td><td>CAMKK1</td><td> 0.07873062</td><td>0.8284583</td><td> 3.985720</td><td>2.057635e-04</td><td>2.541044e-02</td><td> 0.49642261</td></tr>\n",
       "</tbody>\n",
       "</table>\n"
      ],
      "text/latex": [
       "A data.frame: 6 × 10\n",
       "\\begin{tabular}{r|llllllllll}\n",
       "  & PROBEID & ENTREZID & GENENAME & SYMBOL & logFC & AveExpr & t & P.Value & adj.P.Val & B\\\\\n",
       "  & <chr> & <chr> & <chr> & <chr> & <dbl> & <dbl> & <dbl> & <dbl> & <dbl> & <dbl>\\\\\n",
       "\\hline\n",
       "\t146 & 1552467\\_at & 259234 & Down syndrome critical region 10                     & DSCR10 &  0.07632117 & 1.1024122 &  3.721644 & 4.778227e-04 & 4.325324e-02 & -0.28303673\\\\\n",
       "\t149 & 1552473\\_at & 2593   & guanidinoacetate N-methyltransferase                 & GAMT   &  0.12655694 & 1.0378989 &  3.829094 & 3.402464e-04 & 3.481091e-02 &  0.03057276\\\\\n",
       "\t175 & 1552514\\_at & 164684 & WBP2 N-terminal like                                 & WBP2NL & -0.43701990 & 1.2072571 & -3.705169 & 5.031544e-04 & 4.458666e-02 & -0.33067421\\\\\n",
       "\t181 & 1552524\\_at & 116969 & ADP-ribosyltransferase 5                             & ART5   & -0.15248106 & 1.2214668 & -5.601889 & 7.601467e-07 & 3.172597e-04 &  5.74686253\\\\\n",
       "\t220 & 1552596\\_at & 246176 & growth arrest specific 2 like 2                      & GAS2L2 &  0.09704702 & 0.9937790 &  8.231539 & 4.578441e-11 & 4.490998e-08 & 14.90292753\\\\\n",
       "\t381 & 1552768\\_at & 84254  & calcium/calmodulin dependent protein kinase kinase 1 & CAMKK1 &  0.07873062 & 0.8284583 &  3.985720 & 2.057635e-04 & 2.541044e-02 &  0.49642261\\\\\n",
       "\\end{tabular}\n"
      ],
      "text/markdown": [
       "\n",
       "A data.frame: 6 × 10\n",
       "\n",
       "| <!--/--> | PROBEID &lt;chr&gt; | ENTREZID &lt;chr&gt; | GENENAME &lt;chr&gt; | SYMBOL &lt;chr&gt; | logFC &lt;dbl&gt; | AveExpr &lt;dbl&gt; | t &lt;dbl&gt; | P.Value &lt;dbl&gt; | adj.P.Val &lt;dbl&gt; | B &lt;dbl&gt; |\n",
       "|---|---|---|---|---|---|---|---|---|---|---|\n",
       "| 146 | 1552467_at | 259234 | Down syndrome critical region 10                     | DSCR10 |  0.07632117 | 1.1024122 |  3.721644 | 4.778227e-04 | 4.325324e-02 | -0.28303673 |\n",
       "| 149 | 1552473_at | 2593   | guanidinoacetate N-methyltransferase                 | GAMT   |  0.12655694 | 1.0378989 |  3.829094 | 3.402464e-04 | 3.481091e-02 |  0.03057276 |\n",
       "| 175 | 1552514_at | 164684 | WBP2 N-terminal like                                 | WBP2NL | -0.43701990 | 1.2072571 | -3.705169 | 5.031544e-04 | 4.458666e-02 | -0.33067421 |\n",
       "| 181 | 1552524_at | 116969 | ADP-ribosyltransferase 5                             | ART5   | -0.15248106 | 1.2214668 | -5.601889 | 7.601467e-07 | 3.172597e-04 |  5.74686253 |\n",
       "| 220 | 1552596_at | 246176 | growth arrest specific 2 like 2                      | GAS2L2 |  0.09704702 | 0.9937790 |  8.231539 | 4.578441e-11 | 4.490998e-08 | 14.90292753 |\n",
       "| 381 | 1552768_at | 84254  | calcium/calmodulin dependent protein kinase kinase 1 | CAMKK1 |  0.07873062 | 0.8284583 |  3.985720 | 2.057635e-04 | 2.541044e-02 |  0.49642261 |\n",
       "\n"
      ],
      "text/plain": [
       "    PROBEID    ENTREZID GENENAME                                            \n",
       "146 1552467_at 259234   Down syndrome critical region 10                    \n",
       "149 1552473_at 2593     guanidinoacetate N-methyltransferase                \n",
       "175 1552514_at 164684   WBP2 N-terminal like                                \n",
       "181 1552524_at 116969   ADP-ribosyltransferase 5                            \n",
       "220 1552596_at 246176   growth arrest specific 2 like 2                     \n",
       "381 1552768_at 84254    calcium/calmodulin dependent protein kinase kinase 1\n",
       "    SYMBOL logFC       AveExpr   t         P.Value      adj.P.Val   \n",
       "146 DSCR10  0.07632117 1.1024122  3.721644 4.778227e-04 4.325324e-02\n",
       "149 GAMT    0.12655694 1.0378989  3.829094 3.402464e-04 3.481091e-02\n",
       "175 WBP2NL -0.43701990 1.2072571 -3.705169 5.031544e-04 4.458666e-02\n",
       "181 ART5   -0.15248106 1.2214668 -5.601889 7.601467e-07 3.172597e-04\n",
       "220 GAS2L2  0.09704702 0.9937790  8.231539 4.578441e-11 4.490998e-08\n",
       "381 CAMKK1  0.07873062 0.8284583  3.985720 2.057635e-04 2.541044e-02\n",
       "    B          \n",
       "146 -0.28303673\n",
       "149  0.03057276\n",
       "175 -0.33067421\n",
       "181  5.74686253\n",
       "220 14.90292753\n",
       "381  0.49642261"
      ]
     },
     "metadata": {},
     "output_type": "display_data"
    },
    {
     "data": {
      "text/html": [
       "<table class=\"dataframe\">\n",
       "<caption>A data.frame: 6 × 7</caption>\n",
       "<thead>\n",
       "\t<tr><th></th><th scope=col>SYMBOL</th><th scope=col>logFC</th><th scope=col>AveExpr</th><th scope=col>t</th><th scope=col>P.Value</th><th scope=col>adj.P.Val</th><th scope=col>B</th></tr>\n",
       "\t<tr><th></th><th scope=col>&lt;chr&gt;</th><th scope=col>&lt;dbl&gt;</th><th scope=col>&lt;dbl&gt;</th><th scope=col>&lt;dbl&gt;</th><th scope=col>&lt;dbl&gt;</th><th scope=col>&lt;dbl&gt;</th><th scope=col>&lt;dbl&gt;</th></tr>\n",
       "</thead>\n",
       "<tbody>\n",
       "\t<tr><th scope=row>259234</th><td>DSCR10</td><td> 0.07632117</td><td>1.1024122</td><td> 3.721644</td><td>4.778227e-04</td><td>4.325324e-02</td><td>-0.28303673</td></tr>\n",
       "\t<tr><th scope=row>2593</th><td>GAMT  </td><td> 0.12655694</td><td>1.0378989</td><td> 3.829094</td><td>3.402464e-04</td><td>3.481091e-02</td><td> 0.03057276</td></tr>\n",
       "\t<tr><th scope=row>164684</th><td>WBP2NL</td><td>-0.43701990</td><td>1.2072571</td><td>-3.705169</td><td>5.031544e-04</td><td>4.458666e-02</td><td>-0.33067421</td></tr>\n",
       "\t<tr><th scope=row>116969</th><td>ART5  </td><td>-0.15248106</td><td>1.2214668</td><td>-5.601889</td><td>7.601467e-07</td><td>3.172597e-04</td><td> 5.74686253</td></tr>\n",
       "\t<tr><th scope=row>246176</th><td>GAS2L2</td><td> 0.09704702</td><td>0.9937790</td><td> 8.231539</td><td>4.578441e-11</td><td>4.490998e-08</td><td>14.90292753</td></tr>\n",
       "\t<tr><th scope=row>84254</th><td>CAMKK1</td><td> 0.07873062</td><td>0.8284583</td><td> 3.985720</td><td>2.057635e-04</td><td>2.541044e-02</td><td> 0.49642261</td></tr>\n",
       "</tbody>\n",
       "</table>\n"
      ],
      "text/latex": [
       "A data.frame: 6 × 7\n",
       "\\begin{tabular}{r|lllllll}\n",
       "  & SYMBOL & logFC & AveExpr & t & P.Value & adj.P.Val & B\\\\\n",
       "  & <chr> & <dbl> & <dbl> & <dbl> & <dbl> & <dbl> & <dbl>\\\\\n",
       "\\hline\n",
       "\t259234 & DSCR10 &  0.07632117 & 1.1024122 &  3.721644 & 4.778227e-04 & 4.325324e-02 & -0.28303673\\\\\n",
       "\t2593 & GAMT   &  0.12655694 & 1.0378989 &  3.829094 & 3.402464e-04 & 3.481091e-02 &  0.03057276\\\\\n",
       "\t164684 & WBP2NL & -0.43701990 & 1.2072571 & -3.705169 & 5.031544e-04 & 4.458666e-02 & -0.33067421\\\\\n",
       "\t116969 & ART5   & -0.15248106 & 1.2214668 & -5.601889 & 7.601467e-07 & 3.172597e-04 &  5.74686253\\\\\n",
       "\t246176 & GAS2L2 &  0.09704702 & 0.9937790 &  8.231539 & 4.578441e-11 & 4.490998e-08 & 14.90292753\\\\\n",
       "\t84254 & CAMKK1 &  0.07873062 & 0.8284583 &  3.985720 & 2.057635e-04 & 2.541044e-02 &  0.49642261\\\\\n",
       "\\end{tabular}\n"
      ],
      "text/markdown": [
       "\n",
       "A data.frame: 6 × 7\n",
       "\n",
       "| <!--/--> | SYMBOL &lt;chr&gt; | logFC &lt;dbl&gt; | AveExpr &lt;dbl&gt; | t &lt;dbl&gt; | P.Value &lt;dbl&gt; | adj.P.Val &lt;dbl&gt; | B &lt;dbl&gt; |\n",
       "|---|---|---|---|---|---|---|---|\n",
       "| 259234 | DSCR10 |  0.07632117 | 1.1024122 |  3.721644 | 4.778227e-04 | 4.325324e-02 | -0.28303673 |\n",
       "| 2593 | GAMT   |  0.12655694 | 1.0378989 |  3.829094 | 3.402464e-04 | 3.481091e-02 |  0.03057276 |\n",
       "| 164684 | WBP2NL | -0.43701990 | 1.2072571 | -3.705169 | 5.031544e-04 | 4.458666e-02 | -0.33067421 |\n",
       "| 116969 | ART5   | -0.15248106 | 1.2214668 | -5.601889 | 7.601467e-07 | 3.172597e-04 |  5.74686253 |\n",
       "| 246176 | GAS2L2 |  0.09704702 | 0.9937790 |  8.231539 | 4.578441e-11 | 4.490998e-08 | 14.90292753 |\n",
       "| 84254 | CAMKK1 |  0.07873062 | 0.8284583 |  3.985720 | 2.057635e-04 | 2.541044e-02 |  0.49642261 |\n",
       "\n"
      ],
      "text/plain": [
       "       SYMBOL logFC       AveExpr   t         P.Value      adj.P.Val   \n",
       "259234 DSCR10  0.07632117 1.1024122  3.721644 4.778227e-04 4.325324e-02\n",
       "2593   GAMT    0.12655694 1.0378989  3.829094 3.402464e-04 3.481091e-02\n",
       "164684 WBP2NL -0.43701990 1.2072571 -3.705169 5.031544e-04 4.458666e-02\n",
       "116969 ART5   -0.15248106 1.2214668 -5.601889 7.601467e-07 3.172597e-04\n",
       "246176 GAS2L2  0.09704702 0.9937790  8.231539 4.578441e-11 4.490998e-08\n",
       "84254  CAMKK1  0.07873062 0.8284583  3.985720 2.057635e-04 2.541044e-02\n",
       "       B          \n",
       "259234 -0.28303673\n",
       "2593    0.03057276\n",
       "164684 -0.33067421\n",
       "116969  5.74686253\n",
       "246176 14.90292753\n",
       "84254   0.49642261"
      ]
     },
     "metadata": {},
     "output_type": "display_data"
    }
   ],
   "source": [
    "# Select genes that are significantly altered\n",
    "kwR_de <- DE.df[DE.df$adj.P.Val <= 0.05, ]\n",
    "head(kwR_de)\n",
    "\n",
    "# Remove NA value\n",
    "kwR_de <- kwR_de[!is.na(kwR_de$ENTREZID), ]\n",
    "# Remove duplicated genes symbol\n",
    "kwR_de <- kwR_de[!duplicated(kwR_de$ENTREZID, fromLast = FALSE), ]\n",
    "rownames(kwR_de) <- kwR_de$ENTREZID\n",
    "# remove the first 3 columns from the DE dataframe  \n",
    "kwR_de <- kwR_de[, -c(1:3)]\n",
    "head(kwR_de)"
   ]
  },
  {
   "cell_type": "code",
   "execution_count": 27,
   "id": "3a67eacd-72f8-4ac8-99b5-90048bcad9ec",
   "metadata": {},
   "outputs": [
    {
     "data": {
      "text/html": [
       "<table class=\"dataframe\">\n",
       "<caption>A data.frame: 6 × 2</caption>\n",
       "<thead>\n",
       "\t<tr><th></th><th scope=col>ID</th><th scope=col>p.value</th></tr>\n",
       "\t<tr><th></th><th scope=col>&lt;chr&gt;</th><th scope=col>&lt;dbl&gt;</th></tr>\n",
       "</thead>\n",
       "<tbody>\n",
       "\t<tr><th scope=row>Homo sapiens: Activation of HOX genes during differentiation</th><td>Homo sapiens: Activation of HOX genes during differentiation                                                      </td><td>0.007936508</td></tr>\n",
       "\t<tr><th scope=row>Homo sapiens: Activation of anterior HOX genes in hindbrain development during early embryogenesis</th><td>Homo sapiens: Activation of anterior HOX genes in hindbrain development during early embryogenesis                </td><td>0.007936508</td></tr>\n",
       "\t<tr><th scope=row>Homo sapiens: Regulation of gene expression in early pancreatic precursor cells</th><td>Homo sapiens: Regulation of gene expression in early pancreatic precursor cells                                   </td><td>0.007936508</td></tr>\n",
       "\t<tr><th scope=row>Homo sapiens: Regulation of gene expression in late stage (branching morphogenesis) pancreatic bud precursor cells</th><td>Homo sapiens: Regulation of gene expression in late stage (branching morphogenesis) pancreatic bud precursor cells</td><td>0.007936508</td></tr>\n",
       "\t<tr><th scope=row>Homo sapiens: RNA polymerase II transcribes snRNA genes</th><td>Homo sapiens: RNA polymerase II transcribes snRNA genes                                                           </td><td>0.015873016</td></tr>\n",
       "\t<tr><th scope=row>Homo sapiens: AKT phosphorylates targets in the nucleus</th><td>Homo sapiens: AKT phosphorylates targets in the nucleus                                                           </td><td>0.023809524</td></tr>\n",
       "</tbody>\n",
       "</table>\n"
      ],
      "text/latex": [
       "A data.frame: 6 × 2\n",
       "\\begin{tabular}{r|ll}\n",
       "  & ID & p.value\\\\\n",
       "  & <chr> & <dbl>\\\\\n",
       "\\hline\n",
       "\tHomo sapiens: Activation of HOX genes during differentiation & Homo sapiens: Activation of HOX genes during differentiation                                                       & 0.007936508\\\\\n",
       "\tHomo sapiens: Activation of anterior HOX genes in hindbrain development during early embryogenesis & Homo sapiens: Activation of anterior HOX genes in hindbrain development during early embryogenesis                 & 0.007936508\\\\\n",
       "\tHomo sapiens: Regulation of gene expression in early pancreatic precursor cells & Homo sapiens: Regulation of gene expression in early pancreatic precursor cells                                    & 0.007936508\\\\\n",
       "\tHomo sapiens: Regulation of gene expression in late stage (branching morphogenesis) pancreatic bud precursor cells & Homo sapiens: Regulation of gene expression in late stage (branching morphogenesis) pancreatic bud precursor cells & 0.007936508\\\\\n",
       "\tHomo sapiens: RNA polymerase II transcribes snRNA genes & Homo sapiens: RNA polymerase II transcribes snRNA genes                                                            & 0.015873016\\\\\n",
       "\tHomo sapiens: AKT phosphorylates targets in the nucleus & Homo sapiens: AKT phosphorylates targets in the nucleus                                                            & 0.023809524\\\\\n",
       "\\end{tabular}\n"
      ],
      "text/markdown": [
       "\n",
       "A data.frame: 6 × 2\n",
       "\n",
       "| <!--/--> | ID &lt;chr&gt; | p.value &lt;dbl&gt; |\n",
       "|---|---|---|\n",
       "| Homo sapiens: Activation of HOX genes during differentiation | Homo sapiens: Activation of HOX genes during differentiation                                                       | 0.007936508 |\n",
       "| Homo sapiens: Activation of anterior HOX genes in hindbrain development during early embryogenesis | Homo sapiens: Activation of anterior HOX genes in hindbrain development during early embryogenesis                 | 0.007936508 |\n",
       "| Homo sapiens: Regulation of gene expression in early pancreatic precursor cells | Homo sapiens: Regulation of gene expression in early pancreatic precursor cells                                    | 0.007936508 |\n",
       "| Homo sapiens: Regulation of gene expression in late stage (branching morphogenesis) pancreatic bud precursor cells | Homo sapiens: Regulation of gene expression in late stage (branching morphogenesis) pancreatic bud precursor cells | 0.007936508 |\n",
       "| Homo sapiens: RNA polymerase II transcribes snRNA genes | Homo sapiens: RNA polymerase II transcribes snRNA genes                                                            | 0.015873016 |\n",
       "| Homo sapiens: AKT phosphorylates targets in the nucleus | Homo sapiens: AKT phosphorylates targets in the nucleus                                                            | 0.023809524 |\n",
       "\n"
      ],
      "text/plain": [
       "                                                                                                                   ID                                                                                                                \n",
       "Homo sapiens: Activation of HOX genes during differentiation                                                       Homo sapiens: Activation of HOX genes during differentiation                                                      \n",
       "Homo sapiens: Activation of anterior HOX genes in hindbrain development during early embryogenesis                 Homo sapiens: Activation of anterior HOX genes in hindbrain development during early embryogenesis                \n",
       "Homo sapiens: Regulation of gene expression in early pancreatic precursor cells                                    Homo sapiens: Regulation of gene expression in early pancreatic precursor cells                                   \n",
       "Homo sapiens: Regulation of gene expression in late stage (branching morphogenesis) pancreatic bud precursor cells Homo sapiens: Regulation of gene expression in late stage (branching morphogenesis) pancreatic bud precursor cells\n",
       "Homo sapiens: RNA polymerase II transcribes snRNA genes                                                            Homo sapiens: RNA polymerase II transcribes snRNA genes                                                           \n",
       "Homo sapiens: AKT phosphorylates targets in the nucleus                                                            Homo sapiens: AKT phosphorylates targets in the nucleus                                                           \n",
       "                                                                                                                   p.value    \n",
       "Homo sapiens: Activation of HOX genes during differentiation                                                       0.007936508\n",
       "Homo sapiens: Activation of anterior HOX genes in hindbrain development during early embryogenesis                 0.007936508\n",
       "Homo sapiens: Regulation of gene expression in early pancreatic precursor cells                                    0.007936508\n",
       "Homo sapiens: Regulation of gene expression in late stage (branching morphogenesis) pancreatic bud precursor cells 0.007936508\n",
       "Homo sapiens: RNA polymerase II transcribes snRNA genes                                                            0.015873016\n",
       "Homo sapiens: AKT phosphorylates targets in the nucleus                                                            0.023809524"
      ]
     },
     "metadata": {},
     "output_type": "display_data"
    }
   ],
   "source": [
    "# Loading the KEGG pathways from saved gmt file\n",
    "suppressWarnings({suppressMessages({geneset <- gmt2geneset(\"./data/REACTOME_pathways.gmt\")})})\n",
    "# perform enrichment analysis using KS test\n",
    "k_results <- .runKsWilcox(DE.df = kwR_de, statCol = \"adj.P.Val\", geneset = geneset, sTest = \"ks\")\n",
    "\n",
    "# order the results \n",
    "k_results <- k_results[order(k_results$p.value), ]\n",
    "# show some first rows of the result table\n",
    "head(k_results)"
   ]
  },
  {
   "cell_type": "markdown",
   "id": "b9a069b0-0c79-455d-90b4-cfeaedcb4fb7",
   "metadata": {},
   "source": [
    "### Enrichment analysis using WILCOXON and GO terms\n",
    "\n",
    "For enrichment analysis with Wilcoxon test, we simply pass the value \"wilcox\" to the *sTest* argument in the `.runKsWilcox` function. We will do the same steps as KS test."
   ]
  },
  {
   "cell_type": "code",
   "execution_count": 28,
   "id": "7c3f6872-3317-43ac-bfe7-f57f991b7d56",
   "metadata": {},
   "outputs": [
    {
     "data": {
      "text/html": [
       "<table class=\"dataframe\">\n",
       "<caption>A data.frame: 6 × 2</caption>\n",
       "<thead>\n",
       "\t<tr><th></th><th scope=col>ID</th><th scope=col>p.value</th></tr>\n",
       "\t<tr><th></th><th scope=col>&lt;chr&gt;</th><th scope=col>&lt;dbl&gt;</th></tr>\n",
       "</thead>\n",
       "<tbody>\n",
       "\t<tr><th scope=row>cellular respiration</th><td>cellular respiration                               </td><td>0.0006071947</td></tr>\n",
       "\t<tr><th scope=row>aerobic respiration</th><td>aerobic respiration                                </td><td>0.0022047165</td></tr>\n",
       "\t<tr><th scope=row>energy derivation by oxidation of organic compounds</th><td>energy derivation by oxidation of organic compounds</td><td>0.0036405380</td></tr>\n",
       "\t<tr><th scope=row>oxidative phosphorylation</th><td>oxidative phosphorylation                          </td><td>0.0041849457</td></tr>\n",
       "\t<tr><th scope=row>MAP10</th><td>MAP10                                              </td><td>0.0042461484</td></tr>\n",
       "\t<tr><th scope=row>generation of precursor metabolites and energy</th><td>generation of precursor metabolites and energy     </td><td>0.0043314488</td></tr>\n",
       "</tbody>\n",
       "</table>\n"
      ],
      "text/latex": [
       "A data.frame: 6 × 2\n",
       "\\begin{tabular}{r|ll}\n",
       "  & ID & p.value\\\\\n",
       "  & <chr> & <dbl>\\\\\n",
       "\\hline\n",
       "\tcellular respiration & cellular respiration                                & 0.0006071947\\\\\n",
       "\taerobic respiration & aerobic respiration                                 & 0.0022047165\\\\\n",
       "\tenergy derivation by oxidation of organic compounds & energy derivation by oxidation of organic compounds & 0.0036405380\\\\\n",
       "\toxidative phosphorylation & oxidative phosphorylation                           & 0.0041849457\\\\\n",
       "\tMAP10 & MAP10                                               & 0.0042461484\\\\\n",
       "\tgeneration of precursor metabolites and energy & generation of precursor metabolites and energy      & 0.0043314488\\\\\n",
       "\\end{tabular}\n"
      ],
      "text/markdown": [
       "\n",
       "A data.frame: 6 × 2\n",
       "\n",
       "| <!--/--> | ID &lt;chr&gt; | p.value &lt;dbl&gt; |\n",
       "|---|---|---|\n",
       "| cellular respiration | cellular respiration                                | 0.0006071947 |\n",
       "| aerobic respiration | aerobic respiration                                 | 0.0022047165 |\n",
       "| energy derivation by oxidation of organic compounds | energy derivation by oxidation of organic compounds | 0.0036405380 |\n",
       "| oxidative phosphorylation | oxidative phosphorylation                           | 0.0041849457 |\n",
       "| MAP10 | MAP10                                               | 0.0042461484 |\n",
       "| generation of precursor metabolites and energy | generation of precursor metabolites and energy      | 0.0043314488 |\n",
       "\n"
      ],
      "text/plain": [
       "                                                    ID                                                 \n",
       "cellular respiration                                cellular respiration                               \n",
       "aerobic respiration                                 aerobic respiration                                \n",
       "energy derivation by oxidation of organic compounds energy derivation by oxidation of organic compounds\n",
       "oxidative phosphorylation                           oxidative phosphorylation                          \n",
       "MAP10                                               MAP10                                              \n",
       "generation of precursor metabolites and energy      generation of precursor metabolites and energy     \n",
       "                                                    p.value     \n",
       "cellular respiration                                0.0006071947\n",
       "aerobic respiration                                 0.0022047165\n",
       "energy derivation by oxidation of organic compounds 0.0036405380\n",
       "oxidative phosphorylation                           0.0041849457\n",
       "MAP10                                               0.0042461484\n",
       "generation of precursor metabolites and energy      0.0043314488"
      ]
     },
     "metadata": {},
     "output_type": "display_data"
    }
   ],
   "source": [
    "# load the GO gene sets from saved gmt file\n",
    "suppressWarnings({suppressMessages({geneset <- gmt2geneset(\"./data/GO_terms.gmt\")})})\n",
    "# perform enrichment analysis with Wilcoxon test \n",
    "w_results <- .runKsWilcox(DE.df = kw_de, statCol = \"adj.P.Val\", geneset = geneset, sTest = \"wilcox\")\n",
    "\n",
    "# order the result  \n",
    "w_results <- w_results[order(w_results$p.value), ]\n",
    "# show some first rows of the result\n",
    "head(w_results)"
   ]
  },
  {
   "cell_type": "markdown",
   "id": "8b13fabf-227e-47d1-ad29-1cd5fbf81de7",
   "metadata": {},
   "source": [
    "### Enrichment analysis using WILCOXON and KEGG pathways\n"
   ]
  },
  {
   "cell_type": "code",
   "execution_count": 29,
   "id": "bc304aaf-85f9-412a-8fb4-c0e6b6a391ce",
   "metadata": {},
   "outputs": [
    {
     "data": {
      "text/html": [
       "<table class=\"dataframe\">\n",
       "<caption>A data.frame: 6 × 2</caption>\n",
       "<thead>\n",
       "\t<tr><th></th><th scope=col>ID</th><th scope=col>p.value</th></tr>\n",
       "\t<tr><th></th><th scope=col>&lt;chr&gt;</th><th scope=col>&lt;dbl&gt;</th></tr>\n",
       "</thead>\n",
       "<tbody>\n",
       "\t<tr><th scope=row>COX5A</th><td>COX5A                                                     </td><td>0.02472462</td></tr>\n",
       "\t<tr><th scope=row>SDHC</th><td>SDHC                                                      </td><td>0.02472462</td></tr>\n",
       "\t<tr><th scope=row>SDHC.1</th><td>SDHC.1                                                    </td><td>0.02472462</td></tr>\n",
       "\t<tr><th scope=row>COX2</th><td>COX2                                                      </td><td>0.02472462</td></tr>\n",
       "\t<tr><th scope=row>CYC1</th><td>CYC1                                                      </td><td>0.02472462</td></tr>\n",
       "\t<tr><th scope=row>Complement and coagulation cascades - Homo sapiens (human)</th><td>Complement and coagulation cascades - Homo sapiens (human)</td><td>0.02692431</td></tr>\n",
       "</tbody>\n",
       "</table>\n"
      ],
      "text/latex": [
       "A data.frame: 6 × 2\n",
       "\\begin{tabular}{r|ll}\n",
       "  & ID & p.value\\\\\n",
       "  & <chr> & <dbl>\\\\\n",
       "\\hline\n",
       "\tCOX5A & COX5A                                                      & 0.02472462\\\\\n",
       "\tSDHC & SDHC                                                       & 0.02472462\\\\\n",
       "\tSDHC.1 & SDHC.1                                                     & 0.02472462\\\\\n",
       "\tCOX2 & COX2                                                       & 0.02472462\\\\\n",
       "\tCYC1 & CYC1                                                       & 0.02472462\\\\\n",
       "\tComplement and coagulation cascades - Homo sapiens (human) & Complement and coagulation cascades - Homo sapiens (human) & 0.02692431\\\\\n",
       "\\end{tabular}\n"
      ],
      "text/markdown": [
       "\n",
       "A data.frame: 6 × 2\n",
       "\n",
       "| <!--/--> | ID &lt;chr&gt; | p.value &lt;dbl&gt; |\n",
       "|---|---|---|\n",
       "| COX5A | COX5A                                                      | 0.02472462 |\n",
       "| SDHC | SDHC                                                       | 0.02472462 |\n",
       "| SDHC.1 | SDHC.1                                                     | 0.02472462 |\n",
       "| COX2 | COX2                                                       | 0.02472462 |\n",
       "| CYC1 | CYC1                                                       | 0.02472462 |\n",
       "| Complement and coagulation cascades - Homo sapiens (human) | Complement and coagulation cascades - Homo sapiens (human) | 0.02692431 |\n",
       "\n"
      ],
      "text/plain": [
       "                                                           ID                                                        \n",
       "COX5A                                                      COX5A                                                     \n",
       "SDHC                                                       SDHC                                                      \n",
       "SDHC.1                                                     SDHC.1                                                    \n",
       "COX2                                                       COX2                                                      \n",
       "CYC1                                                       CYC1                                                      \n",
       "Complement and coagulation cascades - Homo sapiens (human) Complement and coagulation cascades - Homo sapiens (human)\n",
       "                                                           p.value   \n",
       "COX5A                                                      0.02472462\n",
       "SDHC                                                       0.02472462\n",
       "SDHC.1                                                     0.02472462\n",
       "COX2                                                       0.02472462\n",
       "CYC1                                                       0.02472462\n",
       "Complement and coagulation cascades - Homo sapiens (human) 0.02692431"
      ]
     },
     "metadata": {},
     "output_type": "display_data"
    }
   ],
   "source": [
    "# Loading the KEGG pathways from saved gmt file\n",
    "suppressWarnings({suppressMessages({geneset <- gmt2geneset(\"./data/KEGG_pathways.gmt\")})})\n",
    "# perform enrichment analysis with Wilcoxon test \n",
    "w_results <- .runKsWilcox(DE.df = kw_de, statCol = \"adj.P.Val\", geneset = geneset, sTest = \"wilcox\")\n",
    "\n",
    "# order the result  \n",
    "w_results <- w_results[order(w_results$p.value), ]\n",
    "# show some first rows of the result\n",
    "head(w_results)"
   ]
  },
  {
   "cell_type": "markdown",
   "id": "402f89b4-83d0-4dbb-af54-265cfb4cf314",
   "metadata": {},
   "source": [
    "### Enrichment analysis using WILCOXON and REACTOME pathways\n"
   ]
  },
  {
   "cell_type": "code",
   "execution_count": 30,
   "id": "b5641e20-85d2-4ca8-9e66-4a1aabeb216b",
   "metadata": {},
   "outputs": [
    {
     "data": {
      "text/html": [
       "<table class=\"dataframe\">\n",
       "<caption>A data.frame: 6 × 2</caption>\n",
       "<thead>\n",
       "\t<tr><th></th><th scope=col>ID</th><th scope=col>p.value</th></tr>\n",
       "\t<tr><th></th><th scope=col>&lt;chr&gt;</th><th scope=col>&lt;dbl&gt;</th></tr>\n",
       "</thead>\n",
       "<tbody>\n",
       "\t<tr><th scope=row>1329</th><td>1329                                                                                              </td><td>0.03413802</td></tr>\n",
       "\t<tr><th scope=row>84271</th><td>84271                                                                                             </td><td>0.06002829</td></tr>\n",
       "\t<tr><th scope=row>Homo sapiens: Respiratory electron transport</th><td>Homo sapiens: Respiratory electron transport                                                      </td><td>0.06636071</td></tr>\n",
       "\t<tr><th scope=row>Homo sapiens: Complex I biogenesis</th><td>Homo sapiens: Complex I biogenesis                                                                </td><td>0.08040866</td></tr>\n",
       "\t<tr><th scope=row>Homo sapiens: Activation of HOX genes during differentiation</th><td>Homo sapiens: Activation of HOX genes during differentiation                                      </td><td>0.08573066</td></tr>\n",
       "\t<tr><th scope=row>Homo sapiens: Activation of anterior HOX genes in hindbrain development during early embryogenesis</th><td>Homo sapiens: Activation of anterior HOX genes in hindbrain development during early embryogenesis</td><td>0.08573066</td></tr>\n",
       "</tbody>\n",
       "</table>\n"
      ],
      "text/latex": [
       "A data.frame: 6 × 2\n",
       "\\begin{tabular}{r|ll}\n",
       "  & ID & p.value\\\\\n",
       "  & <chr> & <dbl>\\\\\n",
       "\\hline\n",
       "\t1329 & 1329                                                                                               & 0.03413802\\\\\n",
       "\t84271 & 84271                                                                                              & 0.06002829\\\\\n",
       "\tHomo sapiens: Respiratory electron transport & Homo sapiens: Respiratory electron transport                                                       & 0.06636071\\\\\n",
       "\tHomo sapiens: Complex I biogenesis & Homo sapiens: Complex I biogenesis                                                                 & 0.08040866\\\\\n",
       "\tHomo sapiens: Activation of HOX genes during differentiation & Homo sapiens: Activation of HOX genes during differentiation                                       & 0.08573066\\\\\n",
       "\tHomo sapiens: Activation of anterior HOX genes in hindbrain development during early embryogenesis & Homo sapiens: Activation of anterior HOX genes in hindbrain development during early embryogenesis & 0.08573066\\\\\n",
       "\\end{tabular}\n"
      ],
      "text/markdown": [
       "\n",
       "A data.frame: 6 × 2\n",
       "\n",
       "| <!--/--> | ID &lt;chr&gt; | p.value &lt;dbl&gt; |\n",
       "|---|---|---|\n",
       "| 1329 | 1329                                                                                               | 0.03413802 |\n",
       "| 84271 | 84271                                                                                              | 0.06002829 |\n",
       "| Homo sapiens: Respiratory electron transport | Homo sapiens: Respiratory electron transport                                                       | 0.06636071 |\n",
       "| Homo sapiens: Complex I biogenesis | Homo sapiens: Complex I biogenesis                                                                 | 0.08040866 |\n",
       "| Homo sapiens: Activation of HOX genes during differentiation | Homo sapiens: Activation of HOX genes during differentiation                                       | 0.08573066 |\n",
       "| Homo sapiens: Activation of anterior HOX genes in hindbrain development during early embryogenesis | Homo sapiens: Activation of anterior HOX genes in hindbrain development during early embryogenesis | 0.08573066 |\n",
       "\n"
      ],
      "text/plain": [
       "                                                                                                   ID                                                                                                \n",
       "1329                                                                                               1329                                                                                              \n",
       "84271                                                                                              84271                                                                                             \n",
       "Homo sapiens: Respiratory electron transport                                                       Homo sapiens: Respiratory electron transport                                                      \n",
       "Homo sapiens: Complex I biogenesis                                                                 Homo sapiens: Complex I biogenesis                                                                \n",
       "Homo sapiens: Activation of HOX genes during differentiation                                       Homo sapiens: Activation of HOX genes during differentiation                                      \n",
       "Homo sapiens: Activation of anterior HOX genes in hindbrain development during early embryogenesis Homo sapiens: Activation of anterior HOX genes in hindbrain development during early embryogenesis\n",
       "                                                                                                   p.value   \n",
       "1329                                                                                               0.03413802\n",
       "84271                                                                                              0.06002829\n",
       "Homo sapiens: Respiratory electron transport                                                       0.06636071\n",
       "Homo sapiens: Complex I biogenesis                                                                 0.08040866\n",
       "Homo sapiens: Activation of HOX genes during differentiation                                       0.08573066\n",
       "Homo sapiens: Activation of anterior HOX genes in hindbrain development during early embryogenesis 0.08573066"
      ]
     },
     "metadata": {},
     "output_type": "display_data"
    }
   ],
   "source": [
    "# Loading the KEGG pathways from saved gmt file\n",
    "suppressWarnings({suppressMessages({geneset <- gmt2geneset(\"./data/REACTOME_pathways.gmt\")})})\n",
    "# perform enrichment analysis using KS test\n",
    "k_results <- .runKsWilcox(DE.df = kwR_de, statCol = \"adj.P.Val\", geneset = geneset, sTest = \"wilcox\")\n",
    "\n",
    "# order the results \n",
    "k_results <- k_results[order(k_results$p.value), ]\n",
    "# show some first rows of the result table\n",
    "head(k_results)"
   ]
  },
  {
   "cell_type": "markdown",
   "id": "9aa0e1c7",
   "metadata": {},
   "source": [
    "## Enrichment Analysis using FGSEA"
   ]
  },
  {
   "cell_type": "markdown",
   "id": "47b46d66",
   "metadata": {},
   "source": [
    "This submodule describes `FGSEA`, one of the methods for evaluating pathway enrichment in transcriptional data and it stands for Fast preranked Gene Set Enrichment Analysis (GSEA). `FGSEA` quickly calculates arbitrarily low GSEA P-values for a collection of gene sets and is based on an algorithm that allows  it to make more permutations and get accurate *p-values*.\n",
    "It extends the GSEA algorithm which calculates the enrichment score (the degree to which a set S is over-represented at the top or bottom of the ranked list L), estimates the p-value of the Enrichment Score using a permutation test and adjusts the estimated significance level to account for multiple hypotheses in addition to calculating the q-values for FDR control. Typically, GSEA requires inputs of a list of gene sets (GO term or pathway with a set of genes), a vector DE genes with statistic. In addition, users can limit the number of terms or pathways of interest by adjusting the `minSize` and `maxSize` parameters. The code to install and load the FGSEA R package is shown below:"
   ]
  },
  {
   "cell_type": "code",
   "execution_count": 31,
   "id": "b9702a89",
   "metadata": {},
   "outputs": [],
   "source": [
    "# To perform enrichment analysis using FGSEA, we first install the fgsea package\n",
    "suppressMessages({\n",
    "    if (!require(\"BiocManager\", quietly = TRUE)) {\n",
    "        install.packages(\"BiocManager\")\n",
    "        suppressWarnings(BiocManager::install(\"fgsea\", update = F))\n",
    "    }\n",
    "})"
   ]
  },
  {
   "cell_type": "code",
   "execution_count": 32,
   "id": "52f7aae1-0bd8-4ff4-86f2-041eb6e41db4",
   "metadata": {},
   "outputs": [],
   "source": [
    "# Loading the package\n",
    "suppressPackageStartupMessages({\n",
    "    library(\"fgsea\")\n",
    "})"
   ]
  },
  {
   "cell_type": "code",
   "execution_count": 33,
   "id": "cdb41931-b689-4fb9-9c5d-0e1c443bfe00",
   "metadata": {},
   "outputs": [
    {
     "data": {
      "text/html": [
       "<iframe src=\"./Quizzes/Quiz_Submodule4-3.html\" width=100% height=250></iframe>"
      ]
     },
     "metadata": {},
     "output_type": "display_data"
    }
   ],
   "source": [
    "#Run the following command to take the quiz\n",
    "IRdisplay::display_html('<iframe src=\"./Quizzes/Quiz_Submodule4-3.html\" width=100% height=250></iframe>')"
   ]
  },
  {
   "cell_type": "markdown",
   "id": "fb6f9407",
   "metadata": {},
   "source": [
    "Next, we need to prepare a vector of DE genes with its statistic."
   ]
  },
  {
   "cell_type": "code",
   "execution_count": 34,
   "id": "38d25313",
   "metadata": {},
   "outputs": [
    {
     "data": {
      "text/html": [
       "<style>\n",
       ".dl-inline {width: auto; margin:0; padding: 0}\n",
       ".dl-inline>dt, .dl-inline>dd {float: none; width: auto; display: inline-block}\n",
       ".dl-inline>dt::after {content: \":\\0020\"; padding-right: .5ex}\n",
       ".dl-inline>dt:not(:first-of-type) {padding-left: .5ex}\n",
       "</style><dl class=dl-inline><dt>DDR1</dt><dd>0.25312654919025</dd><dt>RFC2</dt><dd>0.467472580609517</dd><dt>HSPA6</dt><dd>0.986153555292704</dd><dt>PAX8</dt><dd>0.723652752171903</dd><dt>GUCA1A</dt><dd>0.335147977832318</dd><dt>UBA7</dt><dd>0.392525231374342</dd></dl>\n"
      ],
      "text/latex": [
       "\\begin{description*}\n",
       "\\item[DDR1] 0.25312654919025\n",
       "\\item[RFC2] 0.467472580609517\n",
       "\\item[HSPA6] 0.986153555292704\n",
       "\\item[PAX8] 0.723652752171903\n",
       "\\item[GUCA1A] 0.335147977832318\n",
       "\\item[UBA7] 0.392525231374342\n",
       "\\end{description*}\n"
      ],
      "text/markdown": [
       "DDR1\n",
       ":   0.25312654919025RFC2\n",
       ":   0.467472580609517HSPA6\n",
       ":   0.986153555292704PAX8\n",
       ":   0.723652752171903GUCA1A\n",
       ":   0.335147977832318UBA7\n",
       ":   0.392525231374342\n",
       "\n"
      ],
      "text/plain": [
       "     DDR1      RFC2     HSPA6      PAX8    GUCA1A      UBA7 \n",
       "0.2531265 0.4674726 0.9861536 0.7236528 0.3351480 0.3925252 "
      ]
     },
     "metadata": {},
     "output_type": "display_data"
    }
   ],
   "source": [
    "# Get the gene list and their statistic from DE results\n",
    "stats = DE.df$adj.P.Val\n",
    "names(stats) = DE.df$SYMBOL\n",
    "head(stats)"
   ]
  },
  {
   "cell_type": "markdown",
   "id": "9950a6f6",
   "metadata": {},
   "source": [
    "### Enrichment analysis using FGSEA and GO terms"
   ]
  },
  {
   "cell_type": "markdown",
   "id": "c5093c0c",
   "metadata": {},
   "source": [
    "The package `fgsea` has its own function named `gmtPathways` to load the genesets from the `gmt` file. It is recommended to use this function for compatibility. We can load the GO terms geneset and view the first five GO terms with associated genes using the following command:"
   ]
  },
  {
   "cell_type": "code",
   "execution_count": 35,
   "id": "b2d3d20a",
   "metadata": {},
   "outputs": [
    {
     "data": {
      "text/html": [
       "<dl>\n",
       "\t<dt>$`GO:0000002`</dt>\n",
       "\t\t<dd><style>\n",
       ".list-inline {list-style: none; margin:0; padding: 0}\n",
       ".list-inline>li {display: inline-block}\n",
       ".list-inline>li:not(:last-child)::after {content: \"\\00b7\"; padding: 0 .5ex}\n",
       "</style>\n",
       "<ol class=list-inline><li>'AKT3'</li><li>'DNA2'</li><li>'DNAJA3'</li><li>'ENDOG'</li><li>'FLCN'</li><li>'LIG3'</li></ol>\n",
       "</dd>\n",
       "\t<dt>$`GO:0000003`</dt>\n",
       "\t\t<dd><style>\n",
       ".list-inline {list-style: none; margin:0; padding: 0}\n",
       ".list-inline>li {display: inline-block}\n",
       ".list-inline>li:not(:last-child)::after {content: \"\\00b7\"; padding: 0 .5ex}\n",
       "</style>\n",
       "<ol class=list-inline><li>'A1CF'</li><li>'A2M'</li><li>'AAAS'</li><li>'ABAT'</li><li>'ABCC8'</li><li>'ABHD2'</li></ol>\n",
       "</dd>\n",
       "\t<dt>$`GO:0000012`</dt>\n",
       "\t\t<dd><style>\n",
       ".list-inline {list-style: none; margin:0; padding: 0}\n",
       ".list-inline>li {display: inline-block}\n",
       ".list-inline>li:not(:last-child)::after {content: \"\\00b7\"; padding: 0 .5ex}\n",
       "</style>\n",
       "<ol class=list-inline><li>'APLF'</li><li>'APTX'</li><li>'ERCC6'</li><li>'ERCC8'</li><li>'LIG4'</li><li>'PARP1'</li></ol>\n",
       "</dd>\n",
       "\t<dt>$`GO:0000018`</dt>\n",
       "\t\t<dd><style>\n",
       ".list-inline {list-style: none; margin:0; padding: 0}\n",
       ".list-inline>li {display: inline-block}\n",
       ".list-inline>li:not(:last-child)::after {content: \"\\00b7\"; padding: 0 .5ex}\n",
       "</style>\n",
       "<ol class=list-inline><li>'ABL1'</li><li>'ACTB'</li><li>'ACTL6A'</li><li>'ACTR2'</li><li>'ALYREF'</li><li>'ANKLE1'</li></ol>\n",
       "</dd>\n",
       "\t<dt>$`GO:0000022`</dt>\n",
       "\t\t<dd><style>\n",
       ".list-inline {list-style: none; margin:0; padding: 0}\n",
       ".list-inline>li {display: inline-block}\n",
       ".list-inline>li:not(:last-child)::after {content: \"\\00b7\"; padding: 0 .5ex}\n",
       "</style>\n",
       "<ol class=list-inline><li>'AURKB'</li><li>'AURKC'</li><li>'BIRC5'</li><li>'CDCA8'</li><li>'INCENP'</li><li>'KIF23'</li></ol>\n",
       "</dd>\n",
       "</dl>\n"
      ],
      "text/latex": [
       "\\begin{description}\n",
       "\\item[\\$`GO:0000002`] \\begin{enumerate*}\n",
       "\\item 'AKT3'\n",
       "\\item 'DNA2'\n",
       "\\item 'DNAJA3'\n",
       "\\item 'ENDOG'\n",
       "\\item 'FLCN'\n",
       "\\item 'LIG3'\n",
       "\\end{enumerate*}\n",
       "\n",
       "\\item[\\$`GO:0000003`] \\begin{enumerate*}\n",
       "\\item 'A1CF'\n",
       "\\item 'A2M'\n",
       "\\item 'AAAS'\n",
       "\\item 'ABAT'\n",
       "\\item 'ABCC8'\n",
       "\\item 'ABHD2'\n",
       "\\end{enumerate*}\n",
       "\n",
       "\\item[\\$`GO:0000012`] \\begin{enumerate*}\n",
       "\\item 'APLF'\n",
       "\\item 'APTX'\n",
       "\\item 'ERCC6'\n",
       "\\item 'ERCC8'\n",
       "\\item 'LIG4'\n",
       "\\item 'PARP1'\n",
       "\\end{enumerate*}\n",
       "\n",
       "\\item[\\$`GO:0000018`] \\begin{enumerate*}\n",
       "\\item 'ABL1'\n",
       "\\item 'ACTB'\n",
       "\\item 'ACTL6A'\n",
       "\\item 'ACTR2'\n",
       "\\item 'ALYREF'\n",
       "\\item 'ANKLE1'\n",
       "\\end{enumerate*}\n",
       "\n",
       "\\item[\\$`GO:0000022`] \\begin{enumerate*}\n",
       "\\item 'AURKB'\n",
       "\\item 'AURKC'\n",
       "\\item 'BIRC5'\n",
       "\\item 'CDCA8'\n",
       "\\item 'INCENP'\n",
       "\\item 'KIF23'\n",
       "\\end{enumerate*}\n",
       "\n",
       "\\end{description}\n"
      ],
      "text/markdown": [
       "$`GO:0000002`\n",
       ":   1. 'AKT3'\n",
       "2. 'DNA2'\n",
       "3. 'DNAJA3'\n",
       "4. 'ENDOG'\n",
       "5. 'FLCN'\n",
       "6. 'LIG3'\n",
       "\n",
       "\n",
       "\n",
       "$`GO:0000003`\n",
       ":   1. 'A1CF'\n",
       "2. 'A2M'\n",
       "3. 'AAAS'\n",
       "4. 'ABAT'\n",
       "5. 'ABCC8'\n",
       "6. 'ABHD2'\n",
       "\n",
       "\n",
       "\n",
       "$`GO:0000012`\n",
       ":   1. 'APLF'\n",
       "2. 'APTX'\n",
       "3. 'ERCC6'\n",
       "4. 'ERCC8'\n",
       "5. 'LIG4'\n",
       "6. 'PARP1'\n",
       "\n",
       "\n",
       "\n",
       "$`GO:0000018`\n",
       ":   1. 'ABL1'\n",
       "2. 'ACTB'\n",
       "3. 'ACTL6A'\n",
       "4. 'ACTR2'\n",
       "5. 'ALYREF'\n",
       "6. 'ANKLE1'\n",
       "\n",
       "\n",
       "\n",
       "$`GO:0000022`\n",
       ":   1. 'AURKB'\n",
       "2. 'AURKC'\n",
       "3. 'BIRC5'\n",
       "4. 'CDCA8'\n",
       "5. 'INCENP'\n",
       "6. 'KIF23'\n",
       "\n",
       "\n",
       "\n",
       "\n",
       "\n"
      ],
      "text/plain": [
       "$`GO:0000002`\n",
       "[1] \"AKT3\"   \"DNA2\"   \"DNAJA3\" \"ENDOG\"  \"FLCN\"   \"LIG3\"  \n",
       "\n",
       "$`GO:0000003`\n",
       "[1] \"A1CF\"  \"A2M\"   \"AAAS\"  \"ABAT\"  \"ABCC8\" \"ABHD2\"\n",
       "\n",
       "$`GO:0000012`\n",
       "[1] \"APLF\"  \"APTX\"  \"ERCC6\" \"ERCC8\" \"LIG4\"  \"PARP1\"\n",
       "\n",
       "$`GO:0000018`\n",
       "[1] \"ABL1\"   \"ACTB\"   \"ACTL6A\" \"ACTR2\"  \"ALYREF\" \"ANKLE1\"\n",
       "\n",
       "$`GO:0000022`\n",
       "[1] \"AURKB\"  \"AURKC\"  \"BIRC5\"  \"CDCA8\"  \"INCENP\" \"KIF23\" \n"
      ]
     },
     "metadata": {},
     "output_type": "display_data"
    }
   ],
   "source": [
    "# Load the pathways into a named list\n",
    "GO_term_hallmark <- gmtPathways(\"./data/GO_terms.gmt\")\n",
    "# Show the first few GO terms, and within those, show only the first few genes.\n",
    "tmp = lapply(GO_term_hallmark, head)\n",
    "tmp[1:5]"
   ]
  },
  {
   "cell_type": "markdown",
   "id": "d06027d9",
   "metadata": {},
   "source": [
    "Running the FGSEA can be done by calling the `fgsea` with two required inputs that we created from the two previous steps."
   ]
  },
  {
   "cell_type": "code",
   "execution_count": 36,
   "id": "6efd9f83",
   "metadata": {},
   "outputs": [],
   "source": [
    "# Running fgsea\n",
    "suppressWarnings(\n",
    "    fgseaRes <- fgsea(pathways = GO_term_hallmark, stats = stats)\n",
    ")"
   ]
  },
  {
   "cell_type": "markdown",
   "id": "bb9dba30-e8a2-449c-ba72-4fc3f1db04bb",
   "metadata": {},
   "source": [
    "To use the `fgsea` function, we need to pass the following arguments:\n",
    "\n",
    "- `pathways`: A list of gene sets to check.\n",
    "- `stats`: A named vector of gene-level stats. Names should be the same as in 'pathways'.\n",
    "\n",
    "The `fgsea` function returns a dataframe with GSEA results. Each row corresponds to a tested pathway.\r\n"
   ]
  },
  {
   "cell_type": "markdown",
   "id": "ad26fa54",
   "metadata": {},
   "source": [
    "The output of the FGSEA method is a table where rows are GO terms IDs or pathway IDs. The columns are *p-values*, *adjusted p-values*, *Enrichment Score*, etc."
   ]
  },
  {
   "cell_type": "code",
   "execution_count": 37,
   "id": "f90ac106",
   "metadata": {},
   "outputs": [
    {
     "data": {
      "text/html": [
       "<table class=\"dataframe\">\n",
       "<caption>A data.table: 6 × 7</caption>\n",
       "<thead>\n",
       "\t<tr><th scope=col>pathway</th><th scope=col>pval</th><th scope=col>padj</th><th scope=col>log2err</th><th scope=col>ES</th><th scope=col>NES</th><th scope=col>size</th></tr>\n",
       "\t<tr><th scope=col>&lt;chr&gt;</th><th scope=col>&lt;dbl&gt;</th><th scope=col>&lt;dbl&gt;</th><th scope=col>&lt;dbl&gt;</th><th scope=col>&lt;dbl&gt;</th><th scope=col>&lt;dbl&gt;</th><th scope=col>&lt;int&gt;</th></tr>\n",
       "</thead>\n",
       "<tbody>\n",
       "\t<tr><td>GO:0006122</td><td>8.754388e-06</td><td>0.06000257</td><td>0.5933255</td><td>-0.7106070</td><td>-2.620884</td><td> 11</td></tr>\n",
       "\t<tr><td>GO:0060390</td><td>1.829102e-05</td><td>0.06268331</td><td>0.5756103</td><td> 0.4911948</td><td> 1.862244</td><td> 46</td></tr>\n",
       "\t<tr><td>GO:0050907</td><td>4.798773e-05</td><td>0.10963597</td><td>0.5573322</td><td> 0.3756389</td><td> 1.551850</td><td>128</td></tr>\n",
       "\t<tr><td>GO:0030850</td><td>1.099860e-04</td><td>0.18846105</td><td>0.5384341</td><td> 0.4547892</td><td> 1.743769</td><td> 51</td></tr>\n",
       "\t<tr><td>GO:0007606</td><td>1.802479e-04</td><td>0.22144289</td><td>0.5188481</td><td> 0.3392928</td><td> 1.432718</td><td>178</td></tr>\n",
       "\t<tr><td>GO:0009593</td><td>1.938514e-04</td><td>0.22144289</td><td>0.5188481</td><td> 0.3497537</td><td> 1.463237</td><td>159</td></tr>\n",
       "</tbody>\n",
       "</table>\n"
      ],
      "text/latex": [
       "A data.table: 6 × 7\n",
       "\\begin{tabular}{lllllll}\n",
       " pathway & pval & padj & log2err & ES & NES & size\\\\\n",
       " <chr> & <dbl> & <dbl> & <dbl> & <dbl> & <dbl> & <int>\\\\\n",
       "\\hline\n",
       "\t GO:0006122 & 8.754388e-06 & 0.06000257 & 0.5933255 & -0.7106070 & -2.620884 &  11\\\\\n",
       "\t GO:0060390 & 1.829102e-05 & 0.06268331 & 0.5756103 &  0.4911948 &  1.862244 &  46\\\\\n",
       "\t GO:0050907 & 4.798773e-05 & 0.10963597 & 0.5573322 &  0.3756389 &  1.551850 & 128\\\\\n",
       "\t GO:0030850 & 1.099860e-04 & 0.18846105 & 0.5384341 &  0.4547892 &  1.743769 &  51\\\\\n",
       "\t GO:0007606 & 1.802479e-04 & 0.22144289 & 0.5188481 &  0.3392928 &  1.432718 & 178\\\\\n",
       "\t GO:0009593 & 1.938514e-04 & 0.22144289 & 0.5188481 &  0.3497537 &  1.463237 & 159\\\\\n",
       "\\end{tabular}\n"
      ],
      "text/markdown": [
       "\n",
       "A data.table: 6 × 7\n",
       "\n",
       "| pathway &lt;chr&gt; | pval &lt;dbl&gt; | padj &lt;dbl&gt; | log2err &lt;dbl&gt; | ES &lt;dbl&gt; | NES &lt;dbl&gt; | size &lt;int&gt; |\n",
       "|---|---|---|---|---|---|---|\n",
       "| GO:0006122 | 8.754388e-06 | 0.06000257 | 0.5933255 | -0.7106070 | -2.620884 |  11 |\n",
       "| GO:0060390 | 1.829102e-05 | 0.06268331 | 0.5756103 |  0.4911948 |  1.862244 |  46 |\n",
       "| GO:0050907 | 4.798773e-05 | 0.10963597 | 0.5573322 |  0.3756389 |  1.551850 | 128 |\n",
       "| GO:0030850 | 1.099860e-04 | 0.18846105 | 0.5384341 |  0.4547892 |  1.743769 |  51 |\n",
       "| GO:0007606 | 1.802479e-04 | 0.22144289 | 0.5188481 |  0.3392928 |  1.432718 | 178 |\n",
       "| GO:0009593 | 1.938514e-04 | 0.22144289 | 0.5188481 |  0.3497537 |  1.463237 | 159 |\n",
       "\n"
      ],
      "text/plain": [
       "  pathway    pval         padj       log2err   ES         NES       size\n",
       "1 GO:0006122 8.754388e-06 0.06000257 0.5933255 -0.7106070 -2.620884  11 \n",
       "2 GO:0060390 1.829102e-05 0.06268331 0.5756103  0.4911948  1.862244  46 \n",
       "3 GO:0050907 4.798773e-05 0.10963597 0.5573322  0.3756389  1.551850 128 \n",
       "4 GO:0030850 1.099860e-04 0.18846105 0.5384341  0.4547892  1.743769  51 \n",
       "5 GO:0007606 1.802479e-04 0.22144289 0.5188481  0.3392928  1.432718 178 \n",
       "6 GO:0009593 1.938514e-04 0.22144289 0.5188481  0.3497537  1.463237 159 "
      ]
     },
     "metadata": {},
     "output_type": "display_data"
    }
   ],
   "source": [
    "head(fgseaRes[order(pval), ][, -8])"
   ]
  },
  {
   "cell_type": "markdown",
   "id": "c7866448",
   "metadata": {},
   "source": [
    "From the result table, we can select top five up regulated GO terms and top five down regulated GO terms. Then we can plot them using the built-in function `plotGseaTable`"
   ]
  },
  {
   "cell_type": "code",
   "execution_count": 38,
   "id": "f1b4ed14",
   "metadata": {},
   "outputs": [
    {
     "data": {
      "image/png": "[encoded data removed]",
      "text/plain": [
       "plot without title"
      ]
     },
     "metadata": {
      "image/png": {
       "height": 420,
       "width": 420
      }
     },
     "output_type": "display_data"
    }
   ],
   "source": [
    "topGOUp <- fgseaRes[ES > 0][head(order(pval), n = 5), pathway]\n",
    "topGODown <- fgseaRes[ES < 0][head(order(pval), n = 5), pathway]\n",
    "topGO <- c(topGOUp, rev(topGODown))\n",
    "# create the plot\n",
    "plotGseaTable(pathways = GO_term_hallmark[topGO], stats = stats, \n",
    "              fgseaRes = fgseaRes, gseaParam = 0.5)"
   ]
  },
  {
   "cell_type": "markdown",
   "id": "86cfabed-97a6-4e5e-8cfa-5ffa01c57906",
   "metadata": {},
   "source": [
    "To use the `plotGseaTable` function, we need to pass the following arguments:\n",
    "\n",
    "- `pathways`: A list of pathways to plot table.\n",
    "- `stats`: A dataframe specifying gene-level stats.\n",
    "- `fgseaRes`: A dataframe of fgsea results.\n",
    "- `gseaParam`: A numeric value to adjust displayed statistic values, values closer to 0 flatten plots. Default = 1, value of 0.5 is a good choice too."
   ]
  },
  {
   "cell_type": "markdown",
   "id": "1ef50627",
   "metadata": {},
   "source": [
    "### Enrichment analysis using FGSEA and KEGG pathways\n",
    "We can perform enrichment analysis using FGSEA with KEGG pathway using the same procedure mentioned above. The only thing we need to change is the\n",
    "list of genesets that are available in the KEGG database."
   ]
  },
  {
   "cell_type": "code",
   "execution_count": 39,
   "id": "93b11008",
   "metadata": {},
   "outputs": [
    {
     "data": {
      "text/html": [
       "<dl>\n",
       "\t<dt>$hsa00010</dt>\n",
       "\t\t<dd><style>\n",
       ".list-inline {list-style: none; margin:0; padding: 0}\n",
       ".list-inline>li {display: inline-block}\n",
       ".list-inline>li:not(:last-child)::after {content: \"\\00b7\"; padding: 0 .5ex}\n",
       "</style>\n",
       "<ol class=list-inline><li>'HK3'</li><li>'HK1'</li><li>'HK2'</li><li>'HKDC1'</li><li>'GCK'</li><li>'GPI'</li></ol>\n",
       "</dd>\n",
       "\t<dt>$hsa00020</dt>\n",
       "\t\t<dd><style>\n",
       ".list-inline {list-style: none; margin:0; padding: 0}\n",
       ".list-inline>li {display: inline-block}\n",
       ".list-inline>li:not(:last-child)::after {content: \"\\00b7\"; padding: 0 .5ex}\n",
       "</style>\n",
       "<ol class=list-inline><li>'CS'</li><li>'ACLY'</li><li>'ACO2'</li><li>'ACO1'</li><li>'IDH1'</li><li>'IDH2'</li></ol>\n",
       "</dd>\n",
       "\t<dt>$hsa00030</dt>\n",
       "\t\t<dd><style>\n",
       ".list-inline {list-style: none; margin:0; padding: 0}\n",
       ".list-inline>li {display: inline-block}\n",
       ".list-inline>li:not(:last-child)::after {content: \"\\00b7\"; padding: 0 .5ex}\n",
       "</style>\n",
       "<ol class=list-inline><li>'GPI'</li><li>'G6PD'</li><li>'PGLS'</li><li>'H6PD'</li><li>'PGD'</li><li>'RPE'</li></ol>\n",
       "</dd>\n",
       "\t<dt>$hsa00040</dt>\n",
       "\t\t<dd><style>\n",
       ".list-inline {list-style: none; margin:0; padding: 0}\n",
       ".list-inline>li {display: inline-block}\n",
       ".list-inline>li:not(:last-child)::after {content: \"\\00b7\"; padding: 0 .5ex}\n",
       "</style>\n",
       "<ol class=list-inline><li>'GUSB'</li><li>'KL'</li><li>'UGT2A1'</li><li>'UGT2A3'</li><li>'UGT2B17'</li><li>'UGT2B11'</li></ol>\n",
       "</dd>\n",
       "\t<dt>$hsa00051</dt>\n",
       "\t\t<dd><style>\n",
       ".list-inline {list-style: none; margin:0; padding: 0}\n",
       ".list-inline>li {display: inline-block}\n",
       ".list-inline>li:not(:last-child)::after {content: \"\\00b7\"; padding: 0 .5ex}\n",
       "</style>\n",
       "<ol class=list-inline><li>'MPI'</li><li>'PMM2'</li><li>'PMM1'</li><li>'GMPPB'</li><li>'GMPPA'</li><li>'GMDS'</li></ol>\n",
       "</dd>\n",
       "</dl>\n"
      ],
      "text/latex": [
       "\\begin{description}\n",
       "\\item[\\$hsa00010] \\begin{enumerate*}\n",
       "\\item 'HK3'\n",
       "\\item 'HK1'\n",
       "\\item 'HK2'\n",
       "\\item 'HKDC1'\n",
       "\\item 'GCK'\n",
       "\\item 'GPI'\n",
       "\\end{enumerate*}\n",
       "\n",
       "\\item[\\$hsa00020] \\begin{enumerate*}\n",
       "\\item 'CS'\n",
       "\\item 'ACLY'\n",
       "\\item 'ACO2'\n",
       "\\item 'ACO1'\n",
       "\\item 'IDH1'\n",
       "\\item 'IDH2'\n",
       "\\end{enumerate*}\n",
       "\n",
       "\\item[\\$hsa00030] \\begin{enumerate*}\n",
       "\\item 'GPI'\n",
       "\\item 'G6PD'\n",
       "\\item 'PGLS'\n",
       "\\item 'H6PD'\n",
       "\\item 'PGD'\n",
       "\\item 'RPE'\n",
       "\\end{enumerate*}\n",
       "\n",
       "\\item[\\$hsa00040] \\begin{enumerate*}\n",
       "\\item 'GUSB'\n",
       "\\item 'KL'\n",
       "\\item 'UGT2A1'\n",
       "\\item 'UGT2A3'\n",
       "\\item 'UGT2B17'\n",
       "\\item 'UGT2B11'\n",
       "\\end{enumerate*}\n",
       "\n",
       "\\item[\\$hsa00051] \\begin{enumerate*}\n",
       "\\item 'MPI'\n",
       "\\item 'PMM2'\n",
       "\\item 'PMM1'\n",
       "\\item 'GMPPB'\n",
       "\\item 'GMPPA'\n",
       "\\item 'GMDS'\n",
       "\\end{enumerate*}\n",
       "\n",
       "\\end{description}\n"
      ],
      "text/markdown": [
       "$hsa00010\n",
       ":   1. 'HK3'\n",
       "2. 'HK1'\n",
       "3. 'HK2'\n",
       "4. 'HKDC1'\n",
       "5. 'GCK'\n",
       "6. 'GPI'\n",
       "\n",
       "\n",
       "\n",
       "$hsa00020\n",
       ":   1. 'CS'\n",
       "2. 'ACLY'\n",
       "3. 'ACO2'\n",
       "4. 'ACO1'\n",
       "5. 'IDH1'\n",
       "6. 'IDH2'\n",
       "\n",
       "\n",
       "\n",
       "$hsa00030\n",
       ":   1. 'GPI'\n",
       "2. 'G6PD'\n",
       "3. 'PGLS'\n",
       "4. 'H6PD'\n",
       "5. 'PGD'\n",
       "6. 'RPE'\n",
       "\n",
       "\n",
       "\n",
       "$hsa00040\n",
       ":   1. 'GUSB'\n",
       "2. 'KL'\n",
       "3. 'UGT2A1'\n",
       "4. 'UGT2A3'\n",
       "5. 'UGT2B17'\n",
       "6. 'UGT2B11'\n",
       "\n",
       "\n",
       "\n",
       "$hsa00051\n",
       ":   1. 'MPI'\n",
       "2. 'PMM2'\n",
       "3. 'PMM1'\n",
       "4. 'GMPPB'\n",
       "5. 'GMPPA'\n",
       "6. 'GMDS'\n",
       "\n",
       "\n",
       "\n",
       "\n",
       "\n"
      ],
      "text/plain": [
       "$hsa00010\n",
       "[1] \"HK3\"   \"HK1\"   \"HK2\"   \"HKDC1\" \"GCK\"   \"GPI\"  \n",
       "\n",
       "$hsa00020\n",
       "[1] \"CS\"   \"ACLY\" \"ACO2\" \"ACO1\" \"IDH1\" \"IDH2\"\n",
       "\n",
       "$hsa00030\n",
       "[1] \"GPI\"  \"G6PD\" \"PGLS\" \"H6PD\" \"PGD\"  \"RPE\" \n",
       "\n",
       "$hsa00040\n",
       "[1] \"GUSB\"    \"KL\"      \"UGT2A1\"  \"UGT2A3\"  \"UGT2B17\" \"UGT2B11\"\n",
       "\n",
       "$hsa00051\n",
       "[1] \"MPI\"   \"PMM2\"  \"PMM1\"  \"GMPPB\" \"GMPPA\" \"GMDS\" \n"
      ]
     },
     "metadata": {},
     "output_type": "display_data"
    }
   ],
   "source": [
    "# Load the pathways into a named list\n",
    "KEGG_hallmark <- gmtPathways(\"./data/KEGG_pathways.gmt\")\n",
    "# Show the first few GO terms, and within those, show only the first few genes.\n",
    "tmp = lapply(KEGG_hallmark, head)\n",
    "tmp[1:5]"
   ]
  },
  {
   "cell_type": "code",
   "execution_count": 40,
   "id": "9eb1ede2",
   "metadata": {},
   "outputs": [],
   "source": [
    "# Running fgsea\n",
    "suppressWarnings(\n",
    "    fgseaRes <- fgsea(pathways = KEGG_hallmark, stats = stats)\n",
    ")"
   ]
  },
  {
   "cell_type": "code",
   "execution_count": 41,
   "id": "cbe55bb6",
   "metadata": {},
   "outputs": [
    {
     "data": {
      "text/html": [
       "<table class=\"dataframe\">\n",
       "<caption>A data.table: 6 × 7</caption>\n",
       "<thead>\n",
       "\t<tr><th scope=col>pathway</th><th scope=col>pval</th><th scope=col>padj</th><th scope=col>log2err</th><th scope=col>ES</th><th scope=col>NES</th><th scope=col>size</th></tr>\n",
       "\t<tr><th scope=col>&lt;chr&gt;</th><th scope=col>&lt;dbl&gt;</th><th scope=col>&lt;dbl&gt;</th><th scope=col>&lt;dbl&gt;</th><th scope=col>&lt;dbl&gt;</th><th scope=col>&lt;dbl&gt;</th><th scope=col>&lt;int&gt;</th></tr>\n",
       "</thead>\n",
       "<tbody>\n",
       "\t<tr><td>hsa04060</td><td>4.044034e-06</td><td>0.001374972</td><td>0.6105269</td><td>0.3328477</td><td>1.436012</td><td>290</td></tr>\n",
       "\t<tr><td>hsa04740</td><td>1.058477e-03</td><td>0.179941158</td><td>0.4550599</td><td>0.3505170</td><td>1.429992</td><td>120</td></tr>\n",
       "\t<tr><td>hsa04061</td><td>5.614319e-03</td><td>0.636289434</td><td>0.4070179</td><td>0.3461236</td><td>1.391701</td><td> 96</td></tr>\n",
       "\t<tr><td>hsa04080</td><td>8.145521e-03</td><td>0.692369245</td><td>0.3807304</td><td>0.2779229</td><td>1.210259</td><td>356</td></tr>\n",
       "\t<tr><td>hsa05340</td><td>1.279142e-02</td><td>0.869816875</td><td>0.3807304</td><td>0.4011639</td><td>1.445081</td><td> 37</td></tr>\n",
       "\t<tr><td>hsa03460</td><td>2.330367e-02</td><td>1.000000000</td><td>0.3524879</td><td>0.3637500</td><td>1.374373</td><td> 52</td></tr>\n",
       "</tbody>\n",
       "</table>\n"
      ],
      "text/latex": [
       "A data.table: 6 × 7\n",
       "\\begin{tabular}{lllllll}\n",
       " pathway & pval & padj & log2err & ES & NES & size\\\\\n",
       " <chr> & <dbl> & <dbl> & <dbl> & <dbl> & <dbl> & <int>\\\\\n",
       "\\hline\n",
       "\t hsa04060 & 4.044034e-06 & 0.001374972 & 0.6105269 & 0.3328477 & 1.436012 & 290\\\\\n",
       "\t hsa04740 & 1.058477e-03 & 0.179941158 & 0.4550599 & 0.3505170 & 1.429992 & 120\\\\\n",
       "\t hsa04061 & 5.614319e-03 & 0.636289434 & 0.4070179 & 0.3461236 & 1.391701 &  96\\\\\n",
       "\t hsa04080 & 8.145521e-03 & 0.692369245 & 0.3807304 & 0.2779229 & 1.210259 & 356\\\\\n",
       "\t hsa05340 & 1.279142e-02 & 0.869816875 & 0.3807304 & 0.4011639 & 1.445081 &  37\\\\\n",
       "\t hsa03460 & 2.330367e-02 & 1.000000000 & 0.3524879 & 0.3637500 & 1.374373 &  52\\\\\n",
       "\\end{tabular}\n"
      ],
      "text/markdown": [
       "\n",
       "A data.table: 6 × 7\n",
       "\n",
       "| pathway &lt;chr&gt; | pval &lt;dbl&gt; | padj &lt;dbl&gt; | log2err &lt;dbl&gt; | ES &lt;dbl&gt; | NES &lt;dbl&gt; | size &lt;int&gt; |\n",
       "|---|---|---|---|---|---|---|\n",
       "| hsa04060 | 4.044034e-06 | 0.001374972 | 0.6105269 | 0.3328477 | 1.436012 | 290 |\n",
       "| hsa04740 | 1.058477e-03 | 0.179941158 | 0.4550599 | 0.3505170 | 1.429992 | 120 |\n",
       "| hsa04061 | 5.614319e-03 | 0.636289434 | 0.4070179 | 0.3461236 | 1.391701 |  96 |\n",
       "| hsa04080 | 8.145521e-03 | 0.692369245 | 0.3807304 | 0.2779229 | 1.210259 | 356 |\n",
       "| hsa05340 | 1.279142e-02 | 0.869816875 | 0.3807304 | 0.4011639 | 1.445081 |  37 |\n",
       "| hsa03460 | 2.330367e-02 | 1.000000000 | 0.3524879 | 0.3637500 | 1.374373 |  52 |\n",
       "\n"
      ],
      "text/plain": [
       "  pathway  pval         padj        log2err   ES        NES      size\n",
       "1 hsa04060 4.044034e-06 0.001374972 0.6105269 0.3328477 1.436012 290 \n",
       "2 hsa04740 1.058477e-03 0.179941158 0.4550599 0.3505170 1.429992 120 \n",
       "3 hsa04061 5.614319e-03 0.636289434 0.4070179 0.3461236 1.391701  96 \n",
       "4 hsa04080 8.145521e-03 0.692369245 0.3807304 0.2779229 1.210259 356 \n",
       "5 hsa05340 1.279142e-02 0.869816875 0.3807304 0.4011639 1.445081  37 \n",
       "6 hsa03460 2.330367e-02 1.000000000 0.3524879 0.3637500 1.374373  52 "
      ]
     },
     "metadata": {},
     "output_type": "display_data"
    }
   ],
   "source": [
    "head(fgseaRes[order(pval), ][, -8])"
   ]
  },
  {
   "cell_type": "code",
   "execution_count": 42,
   "id": "a63408eb",
   "metadata": {},
   "outputs": [
    {
     "data": {
      "image/png": "[encoded data removed]",
      "text/plain": [
       "plot without title"
      ]
     },
     "metadata": {
      "image/png": {
       "height": 420,
       "width": 420
      }
     },
     "output_type": "display_data"
    }
   ],
   "source": [
    "# select the top five up-regulated pathways \n",
    "topPathwaysUp <- fgseaRes[ES > 0][head(order(pval), n = 5), pathway]\n",
    "# select the top five down-regulated pathways \n",
    "topPathwaysDown <- fgseaRes[ES < 0][head(order(pval), n = 5), pathway]\n",
    "# concatenate them for visualization\n",
    "topPathways <- c(topPathwaysUp, rev(topPathwaysDown))\n",
    "#Viewing the 5 most significantly up-regulated and down-regulated pathways each with the FGSEA internal plot function\n",
    "plotGseaTable(pathways = KEGG_hallmark[topPathways], stats = stats, \n",
    "              fgseaRes = fgseaRes, gseaParam = 0.5)"
   ]
  },
  {
   "cell_type": "markdown",
   "id": "29cbb971-2f26-42fa-92d1-3f7b8e6347ef",
   "metadata": {},
   "source": [
    "### Enrichment analysis using FGSEA and REACTOME pathways\n",
    "We can perform enrichment analysis using FGSEA with REACTOME pathways using the same procedure mentioned above. The only thing we need to change is the\n",
    "list of genesets that are available in the REACTOME database and the gene id (from SYMBOL to ENTREZID)."
   ]
  },
  {
   "cell_type": "code",
   "execution_count": 81,
   "id": "b48340bd-3c93-46fa-88eb-6d48239849f0",
   "metadata": {},
   "outputs": [
    {
     "data": {
      "text/html": [
       "<style>\n",
       ".dl-inline {width: auto; margin:0; padding: 0}\n",
       ".dl-inline>dt, .dl-inline>dd {float: none; width: auto; display: inline-block}\n",
       ".dl-inline>dt::after {content: \":\\0020\"; padding-right: .5ex}\n",
       ".dl-inline>dt:not(:first-of-type) {padding-left: .5ex}\n",
       "</style><dl class=dl-inline><dt>780</dt><dd>0.25312654919025</dd><dt>5982</dt><dd>0.467472580609517</dd><dt>3310</dt><dd>0.986153555292704</dd><dt>7849</dt><dd>0.723652752171903</dd><dt>2978</dt><dd>0.335147977832318</dd><dt>7318</dt><dd>0.392525231374342</dd></dl>\n"
      ],
      "text/latex": [
       "\\begin{description*}\n",
       "\\item[780] 0.25312654919025\n",
       "\\item[5982] 0.467472580609517\n",
       "\\item[3310] 0.986153555292704\n",
       "\\item[7849] 0.723652752171903\n",
       "\\item[2978] 0.335147977832318\n",
       "\\item[7318] 0.392525231374342\n",
       "\\end{description*}\n"
      ],
      "text/markdown": [
       "780\n",
       ":   0.253126549190255982\n",
       ":   0.4674725806095173310\n",
       ":   0.9861535552927047849\n",
       ":   0.7236527521719032978\n",
       ":   0.3351479778323187318\n",
       ":   0.392525231374342\n",
       "\n"
      ],
      "text/plain": [
       "      780      5982      3310      7849      2978      7318 \n",
       "0.2531265 0.4674726 0.9861536 0.7236528 0.3351480 0.3925252 "
      ]
     },
     "metadata": {},
     "output_type": "display_data"
    }
   ],
   "source": [
    "# Get the gene list and their statistic from DE results\n",
    "stats = DE.df$adj.P.Val\n",
    "names(stats) = DE.df$ENTREZID\n",
    "head(stats)"
   ]
  },
  {
   "cell_type": "code",
   "execution_count": 82,
   "id": "ab574490-afc7-428d-8bd9-fc0a2514777e",
   "metadata": {},
   "outputs": [
    {
     "data": {
      "text/html": [
       "<dl>\n",
       "\t<dt>$`R-HSA-164843`</dt>\n",
       "\t\t<dd><style>\n",
       ".list-inline {list-style: none; margin:0; padding: 0}\n",
       ".list-inline>li {display: inline-block}\n",
       ".list-inline>li:not(:last-child)::after {content: \"\\00b7\"; padding: 0 .5ex}\n",
       "</style>\n",
       "<ol class=list-inline><li>'8815'</li><li>'155348'</li><li>'155030'</li><li>'11168'</li><li>'7518'</li><li>'3981'</li></ol>\n",
       "</dd>\n",
       "\t<dt>$`R-HSA-73843`</dt>\n",
       "\t\t<dd><style>\n",
       ".list-inline {list-style: none; margin:0; padding: 0}\n",
       ".list-inline>li {display: inline-block}\n",
       ".list-inline>li:not(:last-child)::after {content: \"\\00b7\"; padding: 0 .5ex}\n",
       "</style>\n",
       "<ol class=list-inline><li>'5634'</li><li>'5631'</li><li>'221823'</li></ol>\n",
       "</dd>\n",
       "\t<dt>$`R-HSA-1971475`</dt>\n",
       "\t\t<dd><style>\n",
       ".list-inline {list-style: none; margin:0; padding: 0}\n",
       ".list-inline>li {display: inline-block}\n",
       ".list-inline>li:not(:last-child)::after {content: \"\\00b7\"; padding: 0 .5ex}\n",
       "</style>\n",
       "<ol class=list-inline><li>'221914'</li><li>'27087'</li><li>'10675'</li><li>'1464'</li><li>'3339'</li><li>'633'</li></ol>\n",
       "</dd>\n",
       "\t<dt>$`R-HSA-5619084`</dt>\n",
       "\t\t<dd><style>\n",
       ".list-inline {list-style: none; margin:0; padding: 0}\n",
       ".list-inline>li {display: inline-block}\n",
       ".list-inline>li:not(:last-child)::after {content: \"\\00b7\"; padding: 0 .5ex}\n",
       "</style>\n",
       "<ol class=list-inline><li>'122706'</li><li>'5716'</li><li>'26154'</li><li>'5826'</li><li>'5682'</li><li>'8647'</li></ol>\n",
       "</dd>\n",
       "\t<dt>$`R-HSA-1369062`</dt>\n",
       "\t\t<dd><style>\n",
       ".list-inline {list-style: none; margin:0; padding: 0}\n",
       ".list-inline>li {display: inline-block}\n",
       ".list-inline>li:not(:last-child)::after {content: \"\\00b7\"; padding: 0 .5ex}\n",
       "</style>\n",
       "<ol class=list-inline><li>'20'</li><li>'64241'</li><li>'225'</li><li>'64240'</li><li>'10347'</li><li>'21'</li></ol>\n",
       "</dd>\n",
       "</dl>\n"
      ],
      "text/latex": [
       "\\begin{description}\n",
       "\\item[\\$`R-HSA-164843`] \\begin{enumerate*}\n",
       "\\item '8815'\n",
       "\\item '155348'\n",
       "\\item '155030'\n",
       "\\item '11168'\n",
       "\\item '7518'\n",
       "\\item '3981'\n",
       "\\end{enumerate*}\n",
       "\n",
       "\\item[\\$`R-HSA-73843`] \\begin{enumerate*}\n",
       "\\item '5634'\n",
       "\\item '5631'\n",
       "\\item '221823'\n",
       "\\end{enumerate*}\n",
       "\n",
       "\\item[\\$`R-HSA-1971475`] \\begin{enumerate*}\n",
       "\\item '221914'\n",
       "\\item '27087'\n",
       "\\item '10675'\n",
       "\\item '1464'\n",
       "\\item '3339'\n",
       "\\item '633'\n",
       "\\end{enumerate*}\n",
       "\n",
       "\\item[\\$`R-HSA-5619084`] \\begin{enumerate*}\n",
       "\\item '122706'\n",
       "\\item '5716'\n",
       "\\item '26154'\n",
       "\\item '5826'\n",
       "\\item '5682'\n",
       "\\item '8647'\n",
       "\\end{enumerate*}\n",
       "\n",
       "\\item[\\$`R-HSA-1369062`] \\begin{enumerate*}\n",
       "\\item '20'\n",
       "\\item '64241'\n",
       "\\item '225'\n",
       "\\item '64240'\n",
       "\\item '10347'\n",
       "\\item '21'\n",
       "\\end{enumerate*}\n",
       "\n",
       "\\end{description}\n"
      ],
      "text/markdown": [
       "$`R-HSA-164843`\n",
       ":   1. '8815'\n",
       "2. '155348'\n",
       "3. '155030'\n",
       "4. '11168'\n",
       "5. '7518'\n",
       "6. '3981'\n",
       "\n",
       "\n",
       "\n",
       "$`R-HSA-73843`\n",
       ":   1. '5634'\n",
       "2. '5631'\n",
       "3. '221823'\n",
       "\n",
       "\n",
       "\n",
       "$`R-HSA-1971475`\n",
       ":   1. '221914'\n",
       "2. '27087'\n",
       "3. '10675'\n",
       "4. '1464'\n",
       "5. '3339'\n",
       "6. '633'\n",
       "\n",
       "\n",
       "\n",
       "$`R-HSA-5619084`\n",
       ":   1. '122706'\n",
       "2. '5716'\n",
       "3. '26154'\n",
       "4. '5826'\n",
       "5. '5682'\n",
       "6. '8647'\n",
       "\n",
       "\n",
       "\n",
       "$`R-HSA-1369062`\n",
       ":   1. '20'\n",
       "2. '64241'\n",
       "3. '225'\n",
       "4. '64240'\n",
       "5. '10347'\n",
       "6. '21'\n",
       "\n",
       "\n",
       "\n",
       "\n",
       "\n"
      ],
      "text/plain": [
       "$`R-HSA-164843`\n",
       "[1] \"8815\"   \"155348\" \"155030\" \"11168\"  \"7518\"   \"3981\"  \n",
       "\n",
       "$`R-HSA-73843`\n",
       "[1] \"5634\"   \"5631\"   \"221823\"\n",
       "\n",
       "$`R-HSA-1971475`\n",
       "[1] \"221914\" \"27087\"  \"10675\"  \"1464\"   \"3339\"   \"633\"   \n",
       "\n",
       "$`R-HSA-5619084`\n",
       "[1] \"122706\" \"5716\"   \"26154\"  \"5826\"   \"5682\"   \"8647\"  \n",
       "\n",
       "$`R-HSA-1369062`\n",
       "[1] \"20\"    \"64241\" \"225\"   \"64240\" \"10347\" \"21\"   \n"
      ]
     },
     "metadata": {},
     "output_type": "display_data"
    }
   ],
   "source": [
    "# Load the pathways into a named list\n",
    "REACTOME_hallmark <- gmtPathways(\"./data/REACTOME_pathways.gmt\")\n",
    "# Show the first few GO terms, and within those, show only the first few genes.\n",
    "tmp = lapply(REACTOME_hallmark, head)\n",
    "tmp[1:5]"
   ]
  },
  {
   "cell_type": "code",
   "execution_count": 83,
   "id": "8c812668-2971-4e80-b10d-7986b290574c",
   "metadata": {},
   "outputs": [],
   "source": [
    "# Running fgsea\n",
    "suppressWarnings(\n",
    "    fgseaRes <- fgsea(pathways = REACTOME_hallmark, stats = stats)\n",
    ")"
   ]
  },
  {
   "cell_type": "code",
   "execution_count": 84,
   "id": "2d20e0c2-f9ec-46a5-98b3-d7e4aad75cd2",
   "metadata": {},
   "outputs": [
    {
     "data": {
      "text/html": [
       "<table class=\"dataframe\">\n",
       "<caption>A data.table: 6 × 7</caption>\n",
       "<thead>\n",
       "\t<tr><th scope=col>pathway</th><th scope=col>pval</th><th scope=col>padj</th><th scope=col>log2err</th><th scope=col>ES</th><th scope=col>NES</th><th scope=col>size</th></tr>\n",
       "\t<tr><th scope=col>&lt;chr&gt;</th><th scope=col>&lt;dbl&gt;</th><th scope=col>&lt;dbl&gt;</th><th scope=col>&lt;dbl&gt;</th><th scope=col>&lt;dbl&gt;</th><th scope=col>&lt;dbl&gt;</th><th scope=col>&lt;int&gt;</th></tr>\n",
       "</thead>\n",
       "<tbody>\n",
       "\t<tr><td>R-HSA-6805567</td><td>4.182288e-06</td><td>0.01056446</td><td>0.6105269</td><td>0.3884187</td><td>1.607719</td><td>140</td></tr>\n",
       "\t<tr><td>R-HSA-381753 </td><td>1.530411e-04</td><td>0.15176876</td><td>0.5188481</td><td>0.3841968</td><td>1.549905</td><td>101</td></tr>\n",
       "\t<tr><td>R-HSA-9752946</td><td>1.802479e-04</td><td>0.15176876</td><td>0.5188481</td><td>0.3910022</td><td>1.569605</td><td> 94</td></tr>\n",
       "\t<tr><td>R-HSA-500792 </td><td>2.529114e-04</td><td>0.15971358</td><td>0.4984931</td><td>0.2906890</td><td>1.282994</td><td>453</td></tr>\n",
       "\t<tr><td>R-HSA-6809371</td><td>5.174794e-04</td><td>0.21544769</td><td>0.4772708</td><td>0.3667173</td><td>1.482304</td><td>105</td></tr>\n",
       "\t<tr><td>R-HSA-375276 </td><td>5.724316e-04</td><td>0.21544769</td><td>0.4772708</td><td>0.3243598</td><td>1.374254</td><td>195</td></tr>\n",
       "</tbody>\n",
       "</table>\n"
      ],
      "text/latex": [
       "A data.table: 6 × 7\n",
       "\\begin{tabular}{lllllll}\n",
       " pathway & pval & padj & log2err & ES & NES & size\\\\\n",
       " <chr> & <dbl> & <dbl> & <dbl> & <dbl> & <dbl> & <int>\\\\\n",
       "\\hline\n",
       "\t R-HSA-6805567 & 4.182288e-06 & 0.01056446 & 0.6105269 & 0.3884187 & 1.607719 & 140\\\\\n",
       "\t R-HSA-381753  & 1.530411e-04 & 0.15176876 & 0.5188481 & 0.3841968 & 1.549905 & 101\\\\\n",
       "\t R-HSA-9752946 & 1.802479e-04 & 0.15176876 & 0.5188481 & 0.3910022 & 1.569605 &  94\\\\\n",
       "\t R-HSA-500792  & 2.529114e-04 & 0.15971358 & 0.4984931 & 0.2906890 & 1.282994 & 453\\\\\n",
       "\t R-HSA-6809371 & 5.174794e-04 & 0.21544769 & 0.4772708 & 0.3667173 & 1.482304 & 105\\\\\n",
       "\t R-HSA-375276  & 5.724316e-04 & 0.21544769 & 0.4772708 & 0.3243598 & 1.374254 & 195\\\\\n",
       "\\end{tabular}\n"
      ],
      "text/markdown": [
       "\n",
       "A data.table: 6 × 7\n",
       "\n",
       "| pathway &lt;chr&gt; | pval &lt;dbl&gt; | padj &lt;dbl&gt; | log2err &lt;dbl&gt; | ES &lt;dbl&gt; | NES &lt;dbl&gt; | size &lt;int&gt; |\n",
       "|---|---|---|---|---|---|---|\n",
       "| R-HSA-6805567 | 4.182288e-06 | 0.01056446 | 0.6105269 | 0.3884187 | 1.607719 | 140 |\n",
       "| R-HSA-381753  | 1.530411e-04 | 0.15176876 | 0.5188481 | 0.3841968 | 1.549905 | 101 |\n",
       "| R-HSA-9752946 | 1.802479e-04 | 0.15176876 | 0.5188481 | 0.3910022 | 1.569605 |  94 |\n",
       "| R-HSA-500792  | 2.529114e-04 | 0.15971358 | 0.4984931 | 0.2906890 | 1.282994 | 453 |\n",
       "| R-HSA-6809371 | 5.174794e-04 | 0.21544769 | 0.4772708 | 0.3667173 | 1.482304 | 105 |\n",
       "| R-HSA-375276  | 5.724316e-04 | 0.21544769 | 0.4772708 | 0.3243598 | 1.374254 | 195 |\n",
       "\n"
      ],
      "text/plain": [
       "  pathway       pval         padj       log2err   ES        NES      size\n",
       "1 R-HSA-6805567 4.182288e-06 0.01056446 0.6105269 0.3884187 1.607719 140 \n",
       "2 R-HSA-381753  1.530411e-04 0.15176876 0.5188481 0.3841968 1.549905 101 \n",
       "3 R-HSA-9752946 1.802479e-04 0.15176876 0.5188481 0.3910022 1.569605  94 \n",
       "4 R-HSA-500792  2.529114e-04 0.15971358 0.4984931 0.2906890 1.282994 453 \n",
       "5 R-HSA-6809371 5.174794e-04 0.21544769 0.4772708 0.3667173 1.482304 105 \n",
       "6 R-HSA-375276  5.724316e-04 0.21544769 0.4772708 0.3243598 1.374254 195 "
      ]
     },
     "metadata": {},
     "output_type": "display_data"
    }
   ],
   "source": [
    "head(fgseaRes[order(pval), ][, -8])"
   ]
  },
  {
   "cell_type": "code",
   "execution_count": 85,
   "id": "cb80919c-714f-4788-b266-6ee71146d0cf",
   "metadata": {},
   "outputs": [
    {
     "data": {
      "image/png": "[encoded data removed]",
      "text/plain": [
       "plot without title"
      ]
     },
     "metadata": {
      "image/png": {
       "height": 420,
       "width": 420
      }
     },
     "output_type": "display_data"
    }
   ],
   "source": [
    "# select the top five up-regulated pathways \n",
    "topPathwaysUp <- fgseaRes[ES > 0][head(order(pval), n = 5), pathway]\n",
    "# select the top five down-regulated pathways \n",
    "topPathwaysDown <- fgseaRes[ES < 0][head(order(pval), n = 5), pathway]\n",
    "# concatenate them for visualization\n",
    "topPathways <- c(topPathwaysUp, rev(topPathwaysDown))\n",
    "#Viewing the 5 most significantly up-regulated and down-regulated pathways each with the FGSEA internal plot function\n",
    "plotGseaTable(pathways = REACTOME_hallmark[topPathways], stats = stats, \n",
    "              fgseaRes = fgseaRes, gseaParam = 0.5)"
   ]
  },
  {
   "cell_type": "markdown",
   "id": "181989b1",
   "metadata": {},
   "source": [
    "## Gene Set Enrichment Analysis using GSA"
   ]
  },
  {
   "cell_type": "markdown",
   "id": "c2f471b1",
   "metadata": {},
   "source": [
    "Gene Set Analysis (GSA), an Enrichment Analysis, is a method that is commonly used to summarize high-dimensional gene expression data sets into sets according to their biological relevance. GSA takes the ranked gene lists from the initial stage of a gene expression analysis and aggregates the genes into sets based on shared biological or functional properties as specified by a reference knowledge base. Such databases often contain phenotype associations, molecular interactions and regulation and are referenced in the analysis of the resultant gene sets to find the relevance of the gene properties to the phenotype of interest."
   ]
  },
  {
   "cell_type": "code",
   "execution_count": 48,
   "id": "443e636c-265e-4829-85f3-1999eeff4385",
   "metadata": {},
   "outputs": [
    {
     "data": {
      "text/html": [
       "<iframe src=\"./Quizzes/Quiz_Submodule4-4.html\" width=100% height=250></iframe>"
      ]
     },
     "metadata": {},
     "output_type": "display_data"
    }
   ],
   "source": [
    "#Run the following command to take the quiz\n",
    "IRdisplay::display_html('<iframe src=\"./Quizzes/Quiz_Submodule4-4.html\" width=100% height=250></iframe>')"
   ]
  },
  {
   "cell_type": "markdown",
   "id": "0f0c9233",
   "metadata": {},
   "source": [
    "### Data preparation\n",
    "The GSA method is freely available as standalone package in CRAN repository. We can use the following code to install the package."
   ]
  },
  {
   "cell_type": "code",
   "execution_count": 49,
   "id": "c3efb930",
   "metadata": {},
   "outputs": [],
   "source": [
    "# Install GSA from CRAN\n",
    "suppressMessages({\n",
    "    if (!require(\"GSA\")) suppressWarnings(install.packages(\"GSA\"))\n",
    "})"
   ]
  },
  {
   "cell_type": "code",
   "execution_count": 50,
   "id": "ee423bc8-1c31-46b5-8955-5d89f6f1a745",
   "metadata": {},
   "outputs": [],
   "source": [
    "suppressMessages({\n",
    "    library(GSA)\n",
    "})"
   ]
  },
  {
   "cell_type": "markdown",
   "id": "e4a2ed98",
   "metadata": {},
   "source": [
    "The GSA method requires an expression matrix, a numeric vector containing the class of each sample and a vector of the genes inputs. We can easily get those inputs by loading the data that we processed in the [**Module 01** ](./Module01-GEO_Data_Processing.ipynb)."
   ]
  },
  {
   "cell_type": "code",
   "execution_count": 51,
   "id": "3982c128",
   "metadata": {},
   "outputs": [],
   "source": [
    "# Loading expression data with groups\n",
    "data <- readRDS(\"./data/GSE48350.rds\")\n",
    "expression_data <- data$expression_data\n",
    "norm_expression_data <- data$norm_expression_data\n",
    "groups <- data$groups"
   ]
  },
  {
   "cell_type": "markdown",
   "id": "ad173974",
   "metadata": {},
   "source": [
    "We can also use the sample approach available in the [**Module 01** ](./Module01-GEO_Data_Processing.ipynb) to map the probe IDs to gene symbols. The step-by-step coding instruction is shown below:"
   ]
  },
  {
   "cell_type": "code",
   "execution_count": 52,
   "id": "e0d1acf4",
   "metadata": {},
   "outputs": [],
   "source": [
    "# Get the probe IDs\n",
    "expression_data$PROBEID <- rownames(expression_data)\n",
    "probeIDs <- rownames(expression_data)\n",
    "# Perform gene mapping\n",
    "suppressMessages({\n",
    "    annotLookup <- AnnotationDbi::select(hgu133plus2.db, keys = probeIDs, columns = c('PROBEID', 'GENENAME', 'SYMBOL'))\n",
    "})\n",
    "# Merge DE result  data frame with annotation table\n",
    "new_expression_data = merge(annotLookup, expression_data, by = \"PROBEID\")\n",
    "# Remove NA value\n",
    "new_expression_data <- new_expression_data[!is.na(new_expression_data$SYMBOL), ]\n",
    "# Remove duplicated genes symbol\n",
    "new_expression_data <- new_expression_data[!duplicated(new_expression_data$SYMBOL, fromLast = FALSE), ]\n",
    "rownames(new_expression_data) <- new_expression_data$SYMBOL\n",
    "# Drop PROBEID, GENENAME, and SYMBOL columns\n",
    "new_expression_data <- new_expression_data[, -c(1:3)]\n",
    "genenames <- rownames(new_expression_data)"
   ]
  },
  {
   "cell_type": "markdown",
   "id": "f8acf4f4",
   "metadata": {},
   "source": [
    "### Enrichment Analysis using GSA and GO Terms\n",
    "Using data obtained from the previous step, we can run the GSA method by calling the function `GSA`. We can reuse `GO_term_hallmark` and `KEGG_hallmark` loaded in FGSEA to perform analysis. The code details are shown below:"
   ]
  },
  {
   "cell_type": "markdown",
   "id": "0648ecb6-f0ec-41aa-b3e6-e812ba18d85c",
   "metadata": {},
   "source": [
    "<div class=\"alert alert-block alert-danger\">\n",
    "    <i class=\"fa fa-exclamation-circle\" aria-hidden=\"true\"></i>\n",
    "    <b>Alert: </b>  Please note that the outputs generated from GSA can be varied depending on R environments and software versions. Especially, when the users run the scripts using User-managed Notebooks instances which have a preinstalled suite of packages.\n",
    "</div>"
   ]
  },
  {
   "cell_type": "code",
   "execution_count": 53,
   "id": "e026aa03",
   "metadata": {},
   "outputs": [
    {
     "name": "stdout",
     "output_type": "stream",
     "text": [
      "perm= 10 / 100 \n",
      "perm= 20 / 100 \n",
      "perm= 30 / 100 \n",
      "perm= 40 / 100 \n",
      "perm= 50 / 100 \n",
      "perm= 60 / 100 \n",
      "perm= 70 / 100 \n",
      "perm= 80 / 100 \n",
      "perm= 90 / 100 \n",
      "perm= 100 / 100 \n"
     ]
    }
   ],
   "source": [
    "# Getting \n",
    "genesets <- GO_term_hallmark\n",
    "GSA.obj <- GSA(x = as.matrix(new_expression_data), y = as.numeric(groups$groups), \n",
    "               genenames = genenames, genesets = genesets, \n",
    "               resp.type = \"Two class unpaired\", nperms = 100, random.seed = 1)"
   ]
  },
  {
   "cell_type": "markdown",
   "id": "6abece1d-95a4-46a5-9240-4db9d62a170b",
   "metadata": {},
   "source": [
    "To use the `GSA` function, we need to pass the following arguments:\n",
    "\n",
    "- `x`: Data x: p by n matrix of features (expression values), one observation per column (missing values allowed); y: n-vector of outcome measurements.\n",
    "- `y`: A vector of response values: 1,2 for two class problem, or 1,2,3 ... for multiclass problem, or real numbers for quantitative or survival problems\n",
    "- `genesets`: A list containing the gene set collection.\n",
    "- `genenames`: A vector of genenames in the expression dataset.\n",
    "- `resp.type`: A character string specifying the problem type: \"quantitative\" for a continuous parameter; \"Two class unpaired\"; \"Survival\" for censored survival outcome; \"Multiclass\": more than 2 groups, coded 1,2,3...; \"Two class paired\" for paired outcomes, coded -1,1 (first pair), -2,2 (second pair), etc.\n",
    "- `nperms`: An integer specifying the number of permutations used to estimate false discovery rates.\n",
    "- `random.seed`: An integer specifying the optional initial seed for random number generator.\n",
    "\n",
    "The `GSA` function returns a list containing the analysis results. "
   ]
  },
  {
   "cell_type": "code",
   "execution_count": 54,
   "id": "ebba9b67",
   "metadata": {},
   "outputs": [],
   "source": [
    "# List the results from a GSA analysis\n",
    "res <- GSA.listsets(GSA.obj = GSA.obj, geneset.names = names(genesets), FDRcut = .5)"
   ]
  },
  {
   "cell_type": "markdown",
   "id": "f280f564-9698-4896-9eb9-c22a5ac00399",
   "metadata": {},
   "source": [
    "To use the `GSA.listsets` function, we need to pass the following arguments:\n",
    "\n",
    "- `GSA.obj`: A GSA object returned by GSA function.\n",
    "- `geneset.names`: An optional vector of names for the gene sets.\n",
    "- `FDRcut`: A numeric value specifying the false discovery rate cutpoint for listed sets. A value of 1 will cause all sets to be listed.\n",
    "\n",
    "The `GSA.listsets` function returns a list of the results from the GSA call."
   ]
  },
  {
   "cell_type": "markdown",
   "id": "df55e53c",
   "metadata": {},
   "source": [
    "A table of the negative gene sets. “Negative” means that lower expression of most genes in the gene set correlates with higher values of the phenotype y. E.g., for two classes coded 1,2, lower expression correlates with class 2."
   ]
  },
  {
   "cell_type": "code",
   "execution_count": 55,
   "id": "ae97649e",
   "metadata": {},
   "outputs": [
    {
     "data": {
      "text/html": [
       "<table class=\"dataframe\">\n",
       "<caption>A matrix: 6 × 5 of type chr</caption>\n",
       "<thead>\n",
       "\t<tr><th scope=col>Gene_set</th><th scope=col>Gene_set_name</th><th scope=col>Score</th><th scope=col>p-value</th><th scope=col>FDR</th></tr>\n",
       "</thead>\n",
       "<tbody>\n",
       "\t<tr><td>57 </td><td>GO:0000422</td><td>-0.4838</td><td>0</td><td>0</td></tr>\n",
       "\t<tr><td>641</td><td>GO:0006123</td><td>-1.3695</td><td>0</td><td>0</td></tr>\n",
       "\t<tr><td>893</td><td>GO:0006851</td><td>-0.802 </td><td>0</td><td>0</td></tr>\n",
       "\t<tr><td>925</td><td>GO:0006906</td><td>-0.4592</td><td>0</td><td>0</td></tr>\n",
       "\t<tr><td>976</td><td>GO:0007007</td><td>-1.2636</td><td>0</td><td>0</td></tr>\n",
       "\t<tr><td>987</td><td>GO:0007029</td><td>-0.5442</td><td>0</td><td>0</td></tr>\n",
       "</tbody>\n",
       "</table>\n"
      ],
      "text/latex": [
       "A matrix: 6 × 5 of type chr\n",
       "\\begin{tabular}{lllll}\n",
       " Gene\\_set & Gene\\_set\\_name & Score & p-value & FDR\\\\\n",
       "\\hline\n",
       "\t 57  & GO:0000422 & -0.4838 & 0 & 0\\\\\n",
       "\t 641 & GO:0006123 & -1.3695 & 0 & 0\\\\\n",
       "\t 893 & GO:0006851 & -0.802  & 0 & 0\\\\\n",
       "\t 925 & GO:0006906 & -0.4592 & 0 & 0\\\\\n",
       "\t 976 & GO:0007007 & -1.2636 & 0 & 0\\\\\n",
       "\t 987 & GO:0007029 & -0.5442 & 0 & 0\\\\\n",
       "\\end{tabular}\n"
      ],
      "text/markdown": [
       "\n",
       "A matrix: 6 × 5 of type chr\n",
       "\n",
       "| Gene_set | Gene_set_name | Score | p-value | FDR |\n",
       "|---|---|---|---|---|\n",
       "| 57  | GO:0000422 | -0.4838 | 0 | 0 |\n",
       "| 641 | GO:0006123 | -1.3695 | 0 | 0 |\n",
       "| 893 | GO:0006851 | -0.802  | 0 | 0 |\n",
       "| 925 | GO:0006906 | -0.4592 | 0 | 0 |\n",
       "| 976 | GO:0007007 | -1.2636 | 0 | 0 |\n",
       "| 987 | GO:0007029 | -0.5442 | 0 | 0 |\n",
       "\n"
      ],
      "text/plain": [
       "     Gene_set Gene_set_name Score   p-value FDR\n",
       "[1,] 57       GO:0000422    -0.4838 0       0  \n",
       "[2,] 641      GO:0006123    -1.3695 0       0  \n",
       "[3,] 893      GO:0006851    -0.802  0       0  \n",
       "[4,] 925      GO:0006906    -0.4592 0       0  \n",
       "[5,] 976      GO:0007007    -1.2636 0       0  \n",
       "[6,] 987      GO:0007029    -0.5442 0       0  "
      ]
     },
     "metadata": {},
     "output_type": "display_data"
    }
   ],
   "source": [
    "neg.table <- res$negative\n",
    "head(neg.table)"
   ]
  },
  {
   "cell_type": "markdown",
   "id": "c237dea8",
   "metadata": {},
   "source": [
    "A table of the positive gene sets. \"Positive\" means that higher expression of most genes in the gene set correlates with higher values of the phenotype y."
   ]
  },
  {
   "cell_type": "code",
   "execution_count": 56,
   "id": "e640ff47",
   "metadata": {},
   "outputs": [
    {
     "data": {
      "text/html": [
       "<table class=\"dataframe\">\n",
       "<caption>A matrix: 6 × 5 of type chr</caption>\n",
       "<thead>\n",
       "\t<tr><th scope=col>Gene_set</th><th scope=col>Gene_set_name</th><th scope=col>Score</th><th scope=col>p-value</th><th scope=col>FDR</th></tr>\n",
       "</thead>\n",
       "<tbody>\n",
       "\t<tr><td>1681</td><td>GO:0014037</td><td>0.7351</td><td>0</td><td>0</td></tr>\n",
       "\t<tr><td>1682</td><td>GO:0014044</td><td>0.9529</td><td>0</td><td>0</td></tr>\n",
       "\t<tr><td>1713</td><td>GO:0014855</td><td>0.3543</td><td>0</td><td>0</td></tr>\n",
       "\t<tr><td>1729</td><td>GO:0014912</td><td>0.6334</td><td>0</td><td>0</td></tr>\n",
       "\t<tr><td>1877</td><td>GO:0017145</td><td>0.5308</td><td>0</td><td>0</td></tr>\n",
       "\t<tr><td>2009</td><td>GO:0021533</td><td>0.596 </td><td>0</td><td>0</td></tr>\n",
       "</tbody>\n",
       "</table>\n"
      ],
      "text/latex": [
       "A matrix: 6 × 5 of type chr\n",
       "\\begin{tabular}{lllll}\n",
       " Gene\\_set & Gene\\_set\\_name & Score & p-value & FDR\\\\\n",
       "\\hline\n",
       "\t 1681 & GO:0014037 & 0.7351 & 0 & 0\\\\\n",
       "\t 1682 & GO:0014044 & 0.9529 & 0 & 0\\\\\n",
       "\t 1713 & GO:0014855 & 0.3543 & 0 & 0\\\\\n",
       "\t 1729 & GO:0014912 & 0.6334 & 0 & 0\\\\\n",
       "\t 1877 & GO:0017145 & 0.5308 & 0 & 0\\\\\n",
       "\t 2009 & GO:0021533 & 0.596  & 0 & 0\\\\\n",
       "\\end{tabular}\n"
      ],
      "text/markdown": [
       "\n",
       "A matrix: 6 × 5 of type chr\n",
       "\n",
       "| Gene_set | Gene_set_name | Score | p-value | FDR |\n",
       "|---|---|---|---|---|\n",
       "| 1681 | GO:0014037 | 0.7351 | 0 | 0 |\n",
       "| 1682 | GO:0014044 | 0.9529 | 0 | 0 |\n",
       "| 1713 | GO:0014855 | 0.3543 | 0 | 0 |\n",
       "| 1729 | GO:0014912 | 0.6334 | 0 | 0 |\n",
       "| 1877 | GO:0017145 | 0.5308 | 0 | 0 |\n",
       "| 2009 | GO:0021533 | 0.596  | 0 | 0 |\n",
       "\n"
      ],
      "text/plain": [
       "     Gene_set Gene_set_name Score  p-value FDR\n",
       "[1,] 1681     GO:0014037    0.7351 0       0  \n",
       "[2,] 1682     GO:0014044    0.9529 0       0  \n",
       "[3,] 1713     GO:0014855    0.3543 0       0  \n",
       "[4,] 1729     GO:0014912    0.6334 0       0  \n",
       "[5,] 1877     GO:0017145    0.5308 0       0  \n",
       "[6,] 2009     GO:0021533    0.596  0       0  "
      ]
     },
     "metadata": {},
     "output_type": "display_data"
    }
   ],
   "source": [
    "pos.table <- res$positive\n",
    "head(pos.table)"
   ]
  },
  {
   "cell_type": "code",
   "execution_count": 57,
   "id": "79687f5d",
   "metadata": {
    "scrolled": true,
    "tags": []
   },
   "outputs": [
    {
     "data": {
      "text/html": [
       "<table class=\"dataframe\">\n",
       "<caption>A matrix: 114 × 2 of type chr</caption>\n",
       "<thead>\n",
       "\t<tr><th scope=col>Gene</th><th scope=col>Score</th></tr>\n",
       "</thead>\n",
       "<tbody>\n",
       "\t<tr><td>SH3GLB1  </td><td>2.729</td></tr>\n",
       "\t<tr><td>IFT88    </td><td>2.491</td></tr>\n",
       "\t<tr><td>MTMR3    </td><td>2.271</td></tr>\n",
       "\t<tr><td>TP53INP1 </td><td>2.134</td></tr>\n",
       "\t<tr><td>ATG16L2  </td><td>1.973</td></tr>\n",
       "\t<tr><td>ATG2B    </td><td>1.944</td></tr>\n",
       "\t<tr><td>ATG14    </td><td>1.935</td></tr>\n",
       "\t<tr><td>ATG7     </td><td>1.597</td></tr>\n",
       "\t<tr><td>STING1   </td><td>1.457</td></tr>\n",
       "\t<tr><td>MAP1LC3B2</td><td>1.385</td></tr>\n",
       "\t<tr><td>ATG9B    </td><td>1.105</td></tr>\n",
       "\t<tr><td>TBC1D12  </td><td>1.061</td></tr>\n",
       "\t<tr><td>FEZ1     </td><td>1    </td></tr>\n",
       "\t<tr><td>EPHB2    </td><td>0.888</td></tr>\n",
       "\t<tr><td>NUPR1    </td><td>0.822</td></tr>\n",
       "\t<tr><td>ATG4C    </td><td>0.784</td></tr>\n",
       "\t<tr><td>WDR45B   </td><td>0.775</td></tr>\n",
       "\t<tr><td>TMEM39A  </td><td>0.751</td></tr>\n",
       "\t<tr><td>PIP4K2A  </td><td>0.659</td></tr>\n",
       "\t<tr><td>ATG2A    </td><td>0.622</td></tr>\n",
       "\t<tr><td>RAB7A    </td><td>0.588</td></tr>\n",
       "\t<tr><td>EFNB1    </td><td>0.571</td></tr>\n",
       "\t<tr><td>RNF186   </td><td>0.551</td></tr>\n",
       "\t<tr><td>UBXN2A   </td><td>0.516</td></tr>\n",
       "\t<tr><td>WIPI2    </td><td>0.464</td></tr>\n",
       "\t<tr><td>BECN1    </td><td>0.392</td></tr>\n",
       "\t<tr><td>IFT20    </td><td>0.389</td></tr>\n",
       "\t<tr><td>TBC1D14  </td><td>0.381</td></tr>\n",
       "\t<tr><td>WIPI1    </td><td>0.352</td></tr>\n",
       "\t<tr><td>SNX18    </td><td>0.35 </td></tr>\n",
       "\t<tr><td>⋮</td><td>⋮</td></tr>\n",
       "\t<tr><td>SCFD1    </td><td>-1.858</td></tr>\n",
       "\t<tr><td>LRSAM1   </td><td>-1.899</td></tr>\n",
       "\t<tr><td>UBXN2B   </td><td>-1.922</td></tr>\n",
       "\t<tr><td>RAB3GAP1 </td><td>-1.924</td></tr>\n",
       "\t<tr><td>GABARAPL3</td><td>-1.988</td></tr>\n",
       "\t<tr><td>MAP1LC3B </td><td>-2.017</td></tr>\n",
       "\t<tr><td>MTOR     </td><td>-2.019</td></tr>\n",
       "\t<tr><td>RNF5     </td><td>-2.026</td></tr>\n",
       "\t<tr><td>VMP1     </td><td>-2.122</td></tr>\n",
       "\t<tr><td>SMURF1   </td><td>-2.124</td></tr>\n",
       "\t<tr><td>RAB1A    </td><td>-2.16 </td></tr>\n",
       "\t<tr><td>TRAF6    </td><td>-2.232</td></tr>\n",
       "\t<tr><td>RAB3GAP2 </td><td>-2.265</td></tr>\n",
       "\t<tr><td>PHF23    </td><td>-2.39 </td></tr>\n",
       "\t<tr><td>ATP2A2   </td><td>-2.517</td></tr>\n",
       "\t<tr><td>ATG5     </td><td>-2.518</td></tr>\n",
       "\t<tr><td>RALB     </td><td>-2.528</td></tr>\n",
       "\t<tr><td>STX12    </td><td>-2.608</td></tr>\n",
       "\t<tr><td>MOAP1    </td><td>-2.609</td></tr>\n",
       "\t<tr><td>ATG4D    </td><td>-2.669</td></tr>\n",
       "\t<tr><td>PIP4K2C  </td><td>-2.684</td></tr>\n",
       "\t<tr><td>MAP1LC3A </td><td>-2.716</td></tr>\n",
       "\t<tr><td>PINK1    </td><td>-2.797</td></tr>\n",
       "\t<tr><td>UBQLN1   </td><td>-2.802</td></tr>\n",
       "\t<tr><td>EMC6     </td><td>-2.957</td></tr>\n",
       "\t<tr><td>ATG9A    </td><td>-2.995</td></tr>\n",
       "\t<tr><td>ARFIP2   </td><td>-3.055</td></tr>\n",
       "\t<tr><td>SMC2     </td><td>-3.079</td></tr>\n",
       "\t<tr><td>SEC22B   </td><td>-3.088</td></tr>\n",
       "\t<tr><td>RB1CC1   </td><td>-4.001</td></tr>\n",
       "</tbody>\n",
       "</table>\n"
      ],
      "text/latex": [
       "A matrix: 114 × 2 of type chr\n",
       "\\begin{tabular}{ll}\n",
       " Gene & Score\\\\\n",
       "\\hline\n",
       "\t SH3GLB1   & 2.729\\\\\n",
       "\t IFT88     & 2.491\\\\\n",
       "\t MTMR3     & 2.271\\\\\n",
       "\t TP53INP1  & 2.134\\\\\n",
       "\t ATG16L2   & 1.973\\\\\n",
       "\t ATG2B     & 1.944\\\\\n",
       "\t ATG14     & 1.935\\\\\n",
       "\t ATG7      & 1.597\\\\\n",
       "\t STING1    & 1.457\\\\\n",
       "\t MAP1LC3B2 & 1.385\\\\\n",
       "\t ATG9B     & 1.105\\\\\n",
       "\t TBC1D12   & 1.061\\\\\n",
       "\t FEZ1      & 1    \\\\\n",
       "\t EPHB2     & 0.888\\\\\n",
       "\t NUPR1     & 0.822\\\\\n",
       "\t ATG4C     & 0.784\\\\\n",
       "\t WDR45B    & 0.775\\\\\n",
       "\t TMEM39A   & 0.751\\\\\n",
       "\t PIP4K2A   & 0.659\\\\\n",
       "\t ATG2A     & 0.622\\\\\n",
       "\t RAB7A     & 0.588\\\\\n",
       "\t EFNB1     & 0.571\\\\\n",
       "\t RNF186    & 0.551\\\\\n",
       "\t UBXN2A    & 0.516\\\\\n",
       "\t WIPI2     & 0.464\\\\\n",
       "\t BECN1     & 0.392\\\\\n",
       "\t IFT20     & 0.389\\\\\n",
       "\t TBC1D14   & 0.381\\\\\n",
       "\t WIPI1     & 0.352\\\\\n",
       "\t SNX18     & 0.35 \\\\\n",
       "\t ⋮ & ⋮\\\\\n",
       "\t SCFD1     & -1.858\\\\\n",
       "\t LRSAM1    & -1.899\\\\\n",
       "\t UBXN2B    & -1.922\\\\\n",
       "\t RAB3GAP1  & -1.924\\\\\n",
       "\t GABARAPL3 & -1.988\\\\\n",
       "\t MAP1LC3B  & -2.017\\\\\n",
       "\t MTOR      & -2.019\\\\\n",
       "\t RNF5      & -2.026\\\\\n",
       "\t VMP1      & -2.122\\\\\n",
       "\t SMURF1    & -2.124\\\\\n",
       "\t RAB1A     & -2.16 \\\\\n",
       "\t TRAF6     & -2.232\\\\\n",
       "\t RAB3GAP2  & -2.265\\\\\n",
       "\t PHF23     & -2.39 \\\\\n",
       "\t ATP2A2    & -2.517\\\\\n",
       "\t ATG5      & -2.518\\\\\n",
       "\t RALB      & -2.528\\\\\n",
       "\t STX12     & -2.608\\\\\n",
       "\t MOAP1     & -2.609\\\\\n",
       "\t ATG4D     & -2.669\\\\\n",
       "\t PIP4K2C   & -2.684\\\\\n",
       "\t MAP1LC3A  & -2.716\\\\\n",
       "\t PINK1     & -2.797\\\\\n",
       "\t UBQLN1    & -2.802\\\\\n",
       "\t EMC6      & -2.957\\\\\n",
       "\t ATG9A     & -2.995\\\\\n",
       "\t ARFIP2    & -3.055\\\\\n",
       "\t SMC2      & -3.079\\\\\n",
       "\t SEC22B    & -3.088\\\\\n",
       "\t RB1CC1    & -4.001\\\\\n",
       "\\end{tabular}\n"
      ],
      "text/markdown": [
       "\n",
       "A matrix: 114 × 2 of type chr\n",
       "\n",
       "| Gene | Score |\n",
       "|---|---|\n",
       "| SH3GLB1   | 2.729 |\n",
       "| IFT88     | 2.491 |\n",
       "| MTMR3     | 2.271 |\n",
       "| TP53INP1  | 2.134 |\n",
       "| ATG16L2   | 1.973 |\n",
       "| ATG2B     | 1.944 |\n",
       "| ATG14     | 1.935 |\n",
       "| ATG7      | 1.597 |\n",
       "| STING1    | 1.457 |\n",
       "| MAP1LC3B2 | 1.385 |\n",
       "| ATG9B     | 1.105 |\n",
       "| TBC1D12   | 1.061 |\n",
       "| FEZ1      | 1     |\n",
       "| EPHB2     | 0.888 |\n",
       "| NUPR1     | 0.822 |\n",
       "| ATG4C     | 0.784 |\n",
       "| WDR45B    | 0.775 |\n",
       "| TMEM39A   | 0.751 |\n",
       "| PIP4K2A   | 0.659 |\n",
       "| ATG2A     | 0.622 |\n",
       "| RAB7A     | 0.588 |\n",
       "| EFNB1     | 0.571 |\n",
       "| RNF186    | 0.551 |\n",
       "| UBXN2A    | 0.516 |\n",
       "| WIPI2     | 0.464 |\n",
       "| BECN1     | 0.392 |\n",
       "| IFT20     | 0.389 |\n",
       "| TBC1D14   | 0.381 |\n",
       "| WIPI1     | 0.352 |\n",
       "| SNX18     | 0.35  |\n",
       "| ⋮ | ⋮ |\n",
       "| SCFD1     | -1.858 |\n",
       "| LRSAM1    | -1.899 |\n",
       "| UBXN2B    | -1.922 |\n",
       "| RAB3GAP1  | -1.924 |\n",
       "| GABARAPL3 | -1.988 |\n",
       "| MAP1LC3B  | -2.017 |\n",
       "| MTOR      | -2.019 |\n",
       "| RNF5      | -2.026 |\n",
       "| VMP1      | -2.122 |\n",
       "| SMURF1    | -2.124 |\n",
       "| RAB1A     | -2.16  |\n",
       "| TRAF6     | -2.232 |\n",
       "| RAB3GAP2  | -2.265 |\n",
       "| PHF23     | -2.39  |\n",
       "| ATP2A2    | -2.517 |\n",
       "| ATG5      | -2.518 |\n",
       "| RALB      | -2.528 |\n",
       "| STX12     | -2.608 |\n",
       "| MOAP1     | -2.609 |\n",
       "| ATG4D     | -2.669 |\n",
       "| PIP4K2C   | -2.684 |\n",
       "| MAP1LC3A  | -2.716 |\n",
       "| PINK1     | -2.797 |\n",
       "| UBQLN1    | -2.802 |\n",
       "| EMC6      | -2.957 |\n",
       "| ATG9A     | -2.995 |\n",
       "| ARFIP2    | -3.055 |\n",
       "| SMC2      | -3.079 |\n",
       "| SEC22B    | -3.088 |\n",
       "| RB1CC1    | -4.001 |\n",
       "\n"
      ],
      "text/plain": [
       "      Gene      Score \n",
       " [1,] SH3GLB1   2.729 \n",
       " [2,] IFT88     2.491 \n",
       " [3,] MTMR3     2.271 \n",
       " [4,] TP53INP1  2.134 \n",
       " [5,] ATG16L2   1.973 \n",
       " [6,] ATG2B     1.944 \n",
       " [7,] ATG14     1.935 \n",
       " [8,] ATG7      1.597 \n",
       " [9,] STING1    1.457 \n",
       "[10,] MAP1LC3B2 1.385 \n",
       "[11,] ATG9B     1.105 \n",
       "[12,] TBC1D12   1.061 \n",
       "[13,] FEZ1      1     \n",
       "[14,] EPHB2     0.888 \n",
       "[15,] NUPR1     0.822 \n",
       "[16,] ATG4C     0.784 \n",
       "[17,] WDR45B    0.775 \n",
       "[18,] TMEM39A   0.751 \n",
       "[19,] PIP4K2A   0.659 \n",
       "[20,] ATG2A     0.622 \n",
       "[21,] RAB7A     0.588 \n",
       "[22,] EFNB1     0.571 \n",
       "[23,] RNF186    0.551 \n",
       "[24,] UBXN2A    0.516 \n",
       "[25,] WIPI2     0.464 \n",
       "[26,] BECN1     0.392 \n",
       "[27,] IFT20     0.389 \n",
       "[28,] TBC1D14   0.381 \n",
       "[29,] WIPI1     0.352 \n",
       "[30,] SNX18     0.35  \n",
       "[31,] ⋮         ⋮     \n",
       "[32,] SCFD1     -1.858\n",
       "[33,] LRSAM1    -1.899\n",
       "[34,] UBXN2B    -1.922\n",
       "[35,] RAB3GAP1  -1.924\n",
       "[36,] GABARAPL3 -1.988\n",
       "[37,] MAP1LC3B  -2.017\n",
       "[38,] MTOR      -2.019\n",
       "[39,] RNF5      -2.026\n",
       "[40,] VMP1      -2.122\n",
       "[41,] SMURF1    -2.124\n",
       "[42,] RAB1A     -2.16 \n",
       "[43,] TRAF6     -2.232\n",
       "[44,] RAB3GAP2  -2.265\n",
       "[45,] PHF23     -2.39 \n",
       "[46,] ATP2A2    -2.517\n",
       "[47,] ATG5      -2.518\n",
       "[48,] RALB      -2.528\n",
       "[49,] STX12     -2.608\n",
       "[50,] MOAP1     -2.609\n",
       "[51,] ATG4D     -2.669\n",
       "[52,] PIP4K2C   -2.684\n",
       "[53,] MAP1LC3A  -2.716\n",
       "[54,] PINK1     -2.797\n",
       "[55,] UBQLN1    -2.802\n",
       "[56,] EMC6      -2.957\n",
       "[57,] ATG9A     -2.995\n",
       "[58,] ARFIP2    -3.055\n",
       "[59,] SMC2      -3.079\n",
       "[60,] SEC22B    -3.088\n",
       "[61,] RB1CC1    -4.001"
      ]
     },
     "metadata": {},
     "output_type": "display_data"
    }
   ],
   "source": [
    "# Individual gene scores from a gene set analysis\n",
    "# look at 10th gene set\n",
    "GSA.genescores(geneset.number = 10, genesets = genesets, \n",
    "               GSA.obj = GSA.obj, genenames = genenames)"
   ]
  },
  {
   "cell_type": "markdown",
   "id": "c77eafab-f0e9-4522-8306-496d91dec8d5",
   "metadata": {},
   "source": [
    "To use the `GSA.genescores` function, we need to pass the following arguments:\n",
    "\n",
    "- `geneset.number`: A number specifying which gene set is to be examined.\n",
    "- `genesets`: A list containing the gene set collection.\n",
    "- `GSA.obj`: A GSA object returned by the GSA function.\n",
    "- `genenames`: A vector containing gene names for genes in the expression dataset.\n",
    "\n",
    "The `GSA.genescores` returns a matrix of gene names and gene scores (eg t-statistics) for each gene in the gene set.\r\n"
   ]
  },
  {
   "cell_type": "code",
   "execution_count": 58,
   "id": "1cfde1f8",
   "metadata": {},
   "outputs": [
    {
     "data": {
      "image/png": "[encoded data removed]",
      "text/plain": [
       "plot without title"
      ]
     },
     "metadata": {
      "image/png": {
       "height": 420,
       "width": 420
      }
     },
     "output_type": "display_data"
    }
   ],
   "source": [
    "# Plot the result, this function makes a plot of the significant gene sets, based on a call to the GSA (Gene set analysis) function.\n",
    "suppressWarnings(GSA.plot(GSA.obj, fac = 1, FDRcut = 0.5))"
   ]
  },
  {
   "cell_type": "markdown",
   "id": "c2c644a4-e3c9-4ced-b343-78c64d6e9e16",
   "metadata": {},
   "source": [
    "To use the `GSA.plot` function, we need to pass the following arguments:\n",
    "\n",
    "- `GSA.obj`: A GSA object returned by the GSA function.\n",
    "- `fac`: A numeric value for jittering points in plot (\"factor\" in called to jitter()).\n",
    "- `FDRcut`: A numeric value specifying the false discovery rate cutpoint for sets to be plotted. A value of 1 (the default) will cause all sets to be plotted.\n",
    "\n"
   ]
  },
  {
   "cell_type": "markdown",
   "id": "7107ef92",
   "metadata": {},
   "source": [
    "### Enrichment analysis using GSA and KEGG pathways\n",
    "We can use the same procedure to per enrichment analysis with the KEGG pathway. All the codes are similar but `genesets` are assigned from `KEGG_hallmark`. The code is shown below."
   ]
  },
  {
   "cell_type": "code",
   "execution_count": 59,
   "id": "361aff0b",
   "metadata": {},
   "outputs": [
    {
     "name": "stdout",
     "output_type": "stream",
     "text": [
      "perm= 10 / 100 \n",
      "perm= 20 / 100 \n",
      "perm= 30 / 100 \n",
      "perm= 40 / 100 \n",
      "perm= 50 / 100 \n",
      "perm= 60 / 100 \n",
      "perm= 70 / 100 \n",
      "perm= 80 / 100 \n",
      "perm= 90 / 100 \n",
      "perm= 100 / 100 \n"
     ]
    }
   ],
   "source": [
    "genesets <- KEGG_hallmark\n",
    "GSA.obj <- GSA(x = as.matrix(new_expression_data), y = as.numeric(groups$groups), \n",
    "               genenames = genenames, genesets = genesets, \n",
    "               resp.type = \"Two class unpaired\", nperms = 100, random.seed = 1)"
   ]
  },
  {
   "cell_type": "code",
   "execution_count": 60,
   "id": "00afb710",
   "metadata": {},
   "outputs": [],
   "source": [
    "# List the results from a GSA analysis\n",
    "res <- GSA.listsets(GSA.obj = GSA.obj, geneset.names = names(genesets), FDRcut = .5)"
   ]
  },
  {
   "cell_type": "markdown",
   "id": "e15cdae3",
   "metadata": {},
   "source": [
    "A table of the negative gene sets. \"Negative\" means that lower expression of most genes in the gene set correlates with higher values of the phenotype y. E.g., for two classes coded 1,2, lower expression correlates with class 2."
   ]
  },
  {
   "cell_type": "code",
   "execution_count": 61,
   "id": "c9e7aad4",
   "metadata": {},
   "outputs": [
    {
     "data": {
      "text/html": [
       "<table class=\"dataframe\">\n",
       "<caption>A matrix: 6 × 5 of type chr</caption>\n",
       "<thead>\n",
       "\t<tr><th scope=col>Gene_set</th><th scope=col>Gene_set_name</th><th scope=col>Score</th><th scope=col>p-value</th><th scope=col>FDR</th></tr>\n",
       "</thead>\n",
       "<tbody>\n",
       "\t<tr><td>214</td><td>hsa04260</td><td>-0.6732</td><td>0   </td><td>0     </td></tr>\n",
       "\t<tr><td>239</td><td>hsa04723</td><td>-0.7029</td><td>0   </td><td>0     </td></tr>\n",
       "\t<tr><td>15 </td><td>hsa00190</td><td>-1.0477</td><td>0.01</td><td>0.2485</td></tr>\n",
       "\t<tr><td>89 </td><td>hsa00970</td><td>-0.8305</td><td>0.01</td><td>0.2485</td></tr>\n",
       "\t<tr><td>252</td><td>hsa04714</td><td>-0.5229</td><td>0.01</td><td>0.2485</td></tr>\n",
       "\t<tr><td>318</td><td>hsa05010</td><td>-0.497 </td><td>0.01</td><td>0.2485</td></tr>\n",
       "</tbody>\n",
       "</table>\n"
      ],
      "text/latex": [
       "A matrix: 6 × 5 of type chr\n",
       "\\begin{tabular}{lllll}\n",
       " Gene\\_set & Gene\\_set\\_name & Score & p-value & FDR\\\\\n",
       "\\hline\n",
       "\t 214 & hsa04260 & -0.6732 & 0    & 0     \\\\\n",
       "\t 239 & hsa04723 & -0.7029 & 0    & 0     \\\\\n",
       "\t 15  & hsa00190 & -1.0477 & 0.01 & 0.2485\\\\\n",
       "\t 89  & hsa00970 & -0.8305 & 0.01 & 0.2485\\\\\n",
       "\t 252 & hsa04714 & -0.5229 & 0.01 & 0.2485\\\\\n",
       "\t 318 & hsa05010 & -0.497  & 0.01 & 0.2485\\\\\n",
       "\\end{tabular}\n"
      ],
      "text/markdown": [
       "\n",
       "A matrix: 6 × 5 of type chr\n",
       "\n",
       "| Gene_set | Gene_set_name | Score | p-value | FDR |\n",
       "|---|---|---|---|---|\n",
       "| 214 | hsa04260 | -0.6732 | 0    | 0      |\n",
       "| 239 | hsa04723 | -0.7029 | 0    | 0      |\n",
       "| 15  | hsa00190 | -1.0477 | 0.01 | 0.2485 |\n",
       "| 89  | hsa00970 | -0.8305 | 0.01 | 0.2485 |\n",
       "| 252 | hsa04714 | -0.5229 | 0.01 | 0.2485 |\n",
       "| 318 | hsa05010 | -0.497  | 0.01 | 0.2485 |\n",
       "\n"
      ],
      "text/plain": [
       "     Gene_set Gene_set_name Score   p-value FDR   \n",
       "[1,] 214      hsa04260      -0.6732 0       0     \n",
       "[2,] 239      hsa04723      -0.7029 0       0     \n",
       "[3,] 15       hsa00190      -1.0477 0.01    0.2485\n",
       "[4,] 89       hsa00970      -0.8305 0.01    0.2485\n",
       "[5,] 252      hsa04714      -0.5229 0.01    0.2485\n",
       "[6,] 318      hsa05010      -0.497  0.01    0.2485"
      ]
     },
     "metadata": {},
     "output_type": "display_data"
    }
   ],
   "source": [
    "neg.table <- res$negative\n",
    "head(neg.table)"
   ]
  },
  {
   "cell_type": "markdown",
   "id": "e226ae92",
   "metadata": {},
   "source": [
    "A table of the positive gene sets. \"Positive\" means that higher expression of most genes in the gene set correlates with higher values of the phenotype y. See \"negative\" above for more info."
   ]
  },
  {
   "cell_type": "code",
   "execution_count": 62,
   "id": "bcd7ff3e",
   "metadata": {},
   "outputs": [
    {
     "data": {
      "text/html": [
       "<table class=\"dataframe\">\n",
       "<caption>A matrix: 3 × 5 of type chr</caption>\n",
       "<thead>\n",
       "\t<tr><th scope=col>Gene_set</th><th scope=col>Gene_set_name</th><th scope=col>Score</th><th scope=col>p-value</th><th scope=col>FDR</th></tr>\n",
       "</thead>\n",
       "<tbody>\n",
       "\t<tr><td>7  </td><td>hsa00053</td><td>0.7726</td><td>0</td><td>0</td></tr>\n",
       "\t<tr><td>164</td><td>hsa04520</td><td>0.474 </td><td>0</td><td>0</td></tr>\n",
       "\t<tr><td>169</td><td>hsa04810</td><td>0.2232</td><td>0</td><td>0</td></tr>\n",
       "</tbody>\n",
       "</table>\n"
      ],
      "text/latex": [
       "A matrix: 3 × 5 of type chr\n",
       "\\begin{tabular}{lllll}\n",
       " Gene\\_set & Gene\\_set\\_name & Score & p-value & FDR\\\\\n",
       "\\hline\n",
       "\t 7   & hsa00053 & 0.7726 & 0 & 0\\\\\n",
       "\t 164 & hsa04520 & 0.474  & 0 & 0\\\\\n",
       "\t 169 & hsa04810 & 0.2232 & 0 & 0\\\\\n",
       "\\end{tabular}\n"
      ],
      "text/markdown": [
       "\n",
       "A matrix: 3 × 5 of type chr\n",
       "\n",
       "| Gene_set | Gene_set_name | Score | p-value | FDR |\n",
       "|---|---|---|---|---|\n",
       "| 7   | hsa00053 | 0.7726 | 0 | 0 |\n",
       "| 164 | hsa04520 | 0.474  | 0 | 0 |\n",
       "| 169 | hsa04810 | 0.2232 | 0 | 0 |\n",
       "\n"
      ],
      "text/plain": [
       "     Gene_set Gene_set_name Score  p-value FDR\n",
       "[1,] 7        hsa00053      0.7726 0       0  \n",
       "[2,] 164      hsa04520      0.474  0       0  \n",
       "[3,] 169      hsa04810      0.2232 0       0  "
      ]
     },
     "metadata": {},
     "output_type": "display_data"
    }
   ],
   "source": [
    "pos.table <- res$positive\n",
    "head(pos.table)"
   ]
  },
  {
   "cell_type": "code",
   "execution_count": 63,
   "id": "0d676c13",
   "metadata": {
    "scrolled": true,
    "tags": []
   },
   "outputs": [
    {
     "data": {
      "text/html": [
       "<table class=\"dataframe\">\n",
       "<caption>A matrix: 47 × 2 of type chr</caption>\n",
       "<thead>\n",
       "\t<tr><th scope=col>Gene</th><th scope=col>Score</th></tr>\n",
       "</thead>\n",
       "<tbody>\n",
       "\t<tr><td>ALDH9A1</td><td>2.707 </td></tr>\n",
       "\t<tr><td>ACSS1  </td><td>2.612 </td></tr>\n",
       "\t<tr><td>ADH1B  </td><td>1.513 </td></tr>\n",
       "\t<tr><td>GRHPR  </td><td>0.854 </td></tr>\n",
       "\t<tr><td>ALDH2  </td><td>0.768 </td></tr>\n",
       "\t<tr><td>ALDH3A2</td><td>0.726 </td></tr>\n",
       "\t<tr><td>ALDH7A1</td><td>0.64  </td></tr>\n",
       "\t<tr><td>ACACB  </td><td>0.455 </td></tr>\n",
       "\t<tr><td>ADH6   </td><td>0.346 </td></tr>\n",
       "\t<tr><td>LDHAL6B</td><td>0.22  </td></tr>\n",
       "\t<tr><td>LDHD   </td><td>0.22  </td></tr>\n",
       "\t<tr><td>ADH4   </td><td>0.186 </td></tr>\n",
       "\t<tr><td>ADH1C  </td><td>0.146 </td></tr>\n",
       "\t<tr><td>ADH5   </td><td>0.136 </td></tr>\n",
       "\t<tr><td>ACSS2  </td><td>0.053 </td></tr>\n",
       "\t<tr><td>PKLR   </td><td>0.045 </td></tr>\n",
       "\t<tr><td>PCK1   </td><td>-0.022</td></tr>\n",
       "\t<tr><td>ADH1A  </td><td>-0.123</td></tr>\n",
       "\t<tr><td>PCK2   </td><td>-0.16 </td></tr>\n",
       "\t<tr><td>PC     </td><td>-0.213</td></tr>\n",
       "\t<tr><td>PDHA2  </td><td>-0.239</td></tr>\n",
       "\t<tr><td>ADH7   </td><td>-0.378</td></tr>\n",
       "\t<tr><td>ACOT12 </td><td>-0.533</td></tr>\n",
       "\t<tr><td>AKR1A1 </td><td>-0.559</td></tr>\n",
       "\t<tr><td>ALDH1B1</td><td>-0.623</td></tr>\n",
       "\t<tr><td>ACAT1  </td><td>-0.689</td></tr>\n",
       "\t<tr><td>LDHC   </td><td>-0.882</td></tr>\n",
       "\t<tr><td>LDHAL6A</td><td>-0.939</td></tr>\n",
       "\t<tr><td>PDHB   </td><td>-1.449</td></tr>\n",
       "\t<tr><td>DLD    </td><td>-1.453</td></tr>\n",
       "\t<tr><td>LDHB   </td><td>-1.481</td></tr>\n",
       "\t<tr><td>ME2    </td><td>-1.546</td></tr>\n",
       "\t<tr><td>ACAT2  </td><td>-1.793</td></tr>\n",
       "\t<tr><td>PKM    </td><td>-1.877</td></tr>\n",
       "\t<tr><td>HAGH   </td><td>-1.899</td></tr>\n",
       "\t<tr><td>DLAT   </td><td>-1.904</td></tr>\n",
       "\t<tr><td>ME3    </td><td>-2.031</td></tr>\n",
       "\t<tr><td>MDH1   </td><td>-2.045</td></tr>\n",
       "\t<tr><td>ACYP2  </td><td>-2.244</td></tr>\n",
       "\t<tr><td>GLO1   </td><td>-2.309</td></tr>\n",
       "\t<tr><td>FH     </td><td>-2.453</td></tr>\n",
       "\t<tr><td>MDH2   </td><td>-2.547</td></tr>\n",
       "\t<tr><td>LDHA   </td><td>-2.576</td></tr>\n",
       "\t<tr><td>ACYP1  </td><td>-2.677</td></tr>\n",
       "\t<tr><td>ME1    </td><td>-2.688</td></tr>\n",
       "\t<tr><td>PDHA1  </td><td>-3.078</td></tr>\n",
       "\t<tr><td>ACACA  </td><td>-3.324</td></tr>\n",
       "</tbody>\n",
       "</table>\n"
      ],
      "text/latex": [
       "A matrix: 47 × 2 of type chr\n",
       "\\begin{tabular}{ll}\n",
       " Gene & Score\\\\\n",
       "\\hline\n",
       "\t ALDH9A1 & 2.707 \\\\\n",
       "\t ACSS1   & 2.612 \\\\\n",
       "\t ADH1B   & 1.513 \\\\\n",
       "\t GRHPR   & 0.854 \\\\\n",
       "\t ALDH2   & 0.768 \\\\\n",
       "\t ALDH3A2 & 0.726 \\\\\n",
       "\t ALDH7A1 & 0.64  \\\\\n",
       "\t ACACB   & 0.455 \\\\\n",
       "\t ADH6    & 0.346 \\\\\n",
       "\t LDHAL6B & 0.22  \\\\\n",
       "\t LDHD    & 0.22  \\\\\n",
       "\t ADH4    & 0.186 \\\\\n",
       "\t ADH1C   & 0.146 \\\\\n",
       "\t ADH5    & 0.136 \\\\\n",
       "\t ACSS2   & 0.053 \\\\\n",
       "\t PKLR    & 0.045 \\\\\n",
       "\t PCK1    & -0.022\\\\\n",
       "\t ADH1A   & -0.123\\\\\n",
       "\t PCK2    & -0.16 \\\\\n",
       "\t PC      & -0.213\\\\\n",
       "\t PDHA2   & -0.239\\\\\n",
       "\t ADH7    & -0.378\\\\\n",
       "\t ACOT12  & -0.533\\\\\n",
       "\t AKR1A1  & -0.559\\\\\n",
       "\t ALDH1B1 & -0.623\\\\\n",
       "\t ACAT1   & -0.689\\\\\n",
       "\t LDHC    & -0.882\\\\\n",
       "\t LDHAL6A & -0.939\\\\\n",
       "\t PDHB    & -1.449\\\\\n",
       "\t DLD     & -1.453\\\\\n",
       "\t LDHB    & -1.481\\\\\n",
       "\t ME2     & -1.546\\\\\n",
       "\t ACAT2   & -1.793\\\\\n",
       "\t PKM     & -1.877\\\\\n",
       "\t HAGH    & -1.899\\\\\n",
       "\t DLAT    & -1.904\\\\\n",
       "\t ME3     & -2.031\\\\\n",
       "\t MDH1    & -2.045\\\\\n",
       "\t ACYP2   & -2.244\\\\\n",
       "\t GLO1    & -2.309\\\\\n",
       "\t FH      & -2.453\\\\\n",
       "\t MDH2    & -2.547\\\\\n",
       "\t LDHA    & -2.576\\\\\n",
       "\t ACYP1   & -2.677\\\\\n",
       "\t ME1     & -2.688\\\\\n",
       "\t PDHA1   & -3.078\\\\\n",
       "\t ACACA   & -3.324\\\\\n",
       "\\end{tabular}\n"
      ],
      "text/markdown": [
       "\n",
       "A matrix: 47 × 2 of type chr\n",
       "\n",
       "| Gene | Score |\n",
       "|---|---|\n",
       "| ALDH9A1 | 2.707  |\n",
       "| ACSS1   | 2.612  |\n",
       "| ADH1B   | 1.513  |\n",
       "| GRHPR   | 0.854  |\n",
       "| ALDH2   | 0.768  |\n",
       "| ALDH3A2 | 0.726  |\n",
       "| ALDH7A1 | 0.64   |\n",
       "| ACACB   | 0.455  |\n",
       "| ADH6    | 0.346  |\n",
       "| LDHAL6B | 0.22   |\n",
       "| LDHD    | 0.22   |\n",
       "| ADH4    | 0.186  |\n",
       "| ADH1C   | 0.146  |\n",
       "| ADH5    | 0.136  |\n",
       "| ACSS2   | 0.053  |\n",
       "| PKLR    | 0.045  |\n",
       "| PCK1    | -0.022 |\n",
       "| ADH1A   | -0.123 |\n",
       "| PCK2    | -0.16  |\n",
       "| PC      | -0.213 |\n",
       "| PDHA2   | -0.239 |\n",
       "| ADH7    | -0.378 |\n",
       "| ACOT12  | -0.533 |\n",
       "| AKR1A1  | -0.559 |\n",
       "| ALDH1B1 | -0.623 |\n",
       "| ACAT1   | -0.689 |\n",
       "| LDHC    | -0.882 |\n",
       "| LDHAL6A | -0.939 |\n",
       "| PDHB    | -1.449 |\n",
       "| DLD     | -1.453 |\n",
       "| LDHB    | -1.481 |\n",
       "| ME2     | -1.546 |\n",
       "| ACAT2   | -1.793 |\n",
       "| PKM     | -1.877 |\n",
       "| HAGH    | -1.899 |\n",
       "| DLAT    | -1.904 |\n",
       "| ME3     | -2.031 |\n",
       "| MDH1    | -2.045 |\n",
       "| ACYP2   | -2.244 |\n",
       "| GLO1    | -2.309 |\n",
       "| FH      | -2.453 |\n",
       "| MDH2    | -2.547 |\n",
       "| LDHA    | -2.576 |\n",
       "| ACYP1   | -2.677 |\n",
       "| ME1     | -2.688 |\n",
       "| PDHA1   | -3.078 |\n",
       "| ACACA   | -3.324 |\n",
       "\n"
      ],
      "text/plain": [
       "      Gene    Score \n",
       " [1,] ALDH9A1 2.707 \n",
       " [2,] ACSS1   2.612 \n",
       " [3,] ADH1B   1.513 \n",
       " [4,] GRHPR   0.854 \n",
       " [5,] ALDH2   0.768 \n",
       " [6,] ALDH3A2 0.726 \n",
       " [7,] ALDH7A1 0.64  \n",
       " [8,] ACACB   0.455 \n",
       " [9,] ADH6    0.346 \n",
       "[10,] LDHAL6B 0.22  \n",
       "[11,] LDHD    0.22  \n",
       "[12,] ADH4    0.186 \n",
       "[13,] ADH1C   0.146 \n",
       "[14,] ADH5    0.136 \n",
       "[15,] ACSS2   0.053 \n",
       "[16,] PKLR    0.045 \n",
       "[17,] PCK1    -0.022\n",
       "[18,] ADH1A   -0.123\n",
       "[19,] PCK2    -0.16 \n",
       "[20,] PC      -0.213\n",
       "[21,] PDHA2   -0.239\n",
       "[22,] ADH7    -0.378\n",
       "[23,] ACOT12  -0.533\n",
       "[24,] AKR1A1  -0.559\n",
       "[25,] ALDH1B1 -0.623\n",
       "[26,] ACAT1   -0.689\n",
       "[27,] LDHC    -0.882\n",
       "[28,] LDHAL6A -0.939\n",
       "[29,] PDHB    -1.449\n",
       "[30,] DLD     -1.453\n",
       "[31,] LDHB    -1.481\n",
       "[32,] ME2     -1.546\n",
       "[33,] ACAT2   -1.793\n",
       "[34,] PKM     -1.877\n",
       "[35,] HAGH    -1.899\n",
       "[36,] DLAT    -1.904\n",
       "[37,] ME3     -2.031\n",
       "[38,] MDH1    -2.045\n",
       "[39,] ACYP2   -2.244\n",
       "[40,] GLO1    -2.309\n",
       "[41,] FH      -2.453\n",
       "[42,] MDH2    -2.547\n",
       "[43,] LDHA    -2.576\n",
       "[44,] ACYP1   -2.677\n",
       "[45,] ME1     -2.688\n",
       "[46,] PDHA1   -3.078\n",
       "[47,] ACACA   -3.324"
      ]
     },
     "metadata": {},
     "output_type": "display_data"
    }
   ],
   "source": [
    "# Individual gene scores from a gene set analysis\n",
    "# look at 10th gene set\n",
    "GSA.genescores(geneset.number = 10, genesets = genesets, \n",
    "               GSA.obj = GSA.obj, genenames = genenames)"
   ]
  },
  {
   "cell_type": "code",
   "execution_count": 64,
   "id": "2284bc1f",
   "metadata": {},
   "outputs": [
    {
     "data": {
      "image/png": "[encoded data removed]",
      "text/plain": [
       "plot without title"
      ]
     },
     "metadata": {
      "image/png": {
       "height": 420,
       "width": 420
      }
     },
     "output_type": "display_data"
    }
   ],
   "source": [
    "# Plot the result, this function makes a plot of the significant gene sets, based on a call to the GSA (Gene set analysis) function.\n",
    "suppressWarnings(GSA.plot(GSA.obj, fac = 1, FDRcut = 0.5))\n"
   ]
  },
  {
   "cell_type": "markdown",
   "id": "57c8b700-fe1f-40f0-b96e-97d3eedda337",
   "metadata": {},
   "source": [
    "### Enrichment analysis using GSA and REACTOME pathways\n",
    "We can use the same procedure to per enrichment analysis with the REACTOME pathway. All the codes are similar but `genesets` are assigned from `REACTOME_hallmark`. The code is shown below."
   ]
  },
  {
   "cell_type": "code",
   "execution_count": 65,
   "id": "41b72bcd-453b-45ae-81b2-e99ac045aedc",
   "metadata": {},
   "outputs": [],
   "source": [
    "# Get the probe IDs\n",
    "expression_data$PROBEID <- rownames(expression_data)\n",
    "probeIDs <- rownames(expression_data)\n",
    "# Perform gene mapping\n",
    "suppressMessages({\n",
    "    annotLookup <- AnnotationDbi::select(hgu133plus2.db, keys = probeIDs, columns = c('PROBEID', 'GENENAME', 'ENTREZID'))\n",
    "})\n",
    "# Merge DE result  data frame with annotation table\n",
    "new_expression_data = merge(annotLookup, expression_data, by = \"PROBEID\")\n",
    "# Remove NA value\n",
    "new_expression_data <- new_expression_data[!is.na(new_expression_data$ENTREZID), ]\n",
    "# Remove duplicated genes ENTREZID\n",
    "new_expression_data <- new_expression_data[!duplicated(new_expression_data$ENTREZID, fromLast = FALSE), ]\n",
    "rownames(new_expression_data) <- new_expression_data$ENTREZID\n",
    "# Drop PROBEID, GENENAME, and ENTREZID columns\n",
    "new_expression_data <- new_expression_data[, -c(1:3)]\n",
    "genenames <- rownames(new_expression_data)"
   ]
  },
  {
   "cell_type": "code",
   "execution_count": 66,
   "id": "9f64fdfa-b967-4290-abe3-64e3d4487f58",
   "metadata": {},
   "outputs": [
    {
     "name": "stdout",
     "output_type": "stream",
     "text": [
      "perm= 10 / 100 \n",
      "perm= 20 / 100 \n",
      "perm= 30 / 100 \n",
      "perm= 40 / 100 \n",
      "perm= 50 / 100 \n",
      "perm= 60 / 100 \n",
      "perm= 70 / 100 \n",
      "perm= 80 / 100 \n",
      "perm= 90 / 100 \n",
      "perm= 100 / 100 \n"
     ]
    }
   ],
   "source": [
    "genesets <- REACTOME_hallmark\n",
    "GSA.obj <- GSA(x = as.matrix(new_expression_data), y = as.numeric(groups$groups), \n",
    "               genenames = genenames, genesets = genesets, \n",
    "               resp.type = \"Two class unpaired\", nperms = 100, random.seed = 1)"
   ]
  },
  {
   "cell_type": "code",
   "execution_count": 67,
   "id": "f47bfccc-ee95-4c5c-80df-a5233c3b82db",
   "metadata": {},
   "outputs": [],
   "source": [
    "# List the results from a GSA analysis\n",
    "res <- GSA.listsets(GSA.obj = GSA.obj, geneset.names = names(genesets), FDRcut = .5)"
   ]
  },
  {
   "cell_type": "code",
   "execution_count": 68,
   "id": "af79ff82-2352-4a01-9146-77318039a5bc",
   "metadata": {},
   "outputs": [
    {
     "data": {
      "text/html": [
       "<table class=\"dataframe\">\n",
       "<caption>A matrix: 6 × 5 of type chr</caption>\n",
       "<thead>\n",
       "\t<tr><th scope=col>Gene_set</th><th scope=col>Gene_set_name</th><th scope=col>Score</th><th scope=col>p-value</th><th scope=col>FDR</th></tr>\n",
       "</thead>\n",
       "<tbody>\n",
       "\t<tr><td>149</td><td>R-HSA-983168 </td><td>-0.3143</td><td>0</td><td>0</td></tr>\n",
       "\t<tr><td>187</td><td>R-HSA-9612973</td><td>-0.3   </td><td>0</td><td>0</td></tr>\n",
       "\t<tr><td>266</td><td>R-HSA-5607764</td><td>-0.4568</td><td>0</td><td>0</td></tr>\n",
       "\t<tr><td>335</td><td>R-HSA-390466 </td><td>-0.5509</td><td>0</td><td>0</td></tr>\n",
       "\t<tr><td>393</td><td>R-HSA-6814122</td><td>-0.6076</td><td>0</td><td>0</td></tr>\n",
       "\t<tr><td>394</td><td>R-HSA-389958 </td><td>-1.1833</td><td>0</td><td>0</td></tr>\n",
       "</tbody>\n",
       "</table>\n"
      ],
      "text/latex": [
       "A matrix: 6 × 5 of type chr\n",
       "\\begin{tabular}{lllll}\n",
       " Gene\\_set & Gene\\_set\\_name & Score & p-value & FDR\\\\\n",
       "\\hline\n",
       "\t 149 & R-HSA-983168  & -0.3143 & 0 & 0\\\\\n",
       "\t 187 & R-HSA-9612973 & -0.3    & 0 & 0\\\\\n",
       "\t 266 & R-HSA-5607764 & -0.4568 & 0 & 0\\\\\n",
       "\t 335 & R-HSA-390466  & -0.5509 & 0 & 0\\\\\n",
       "\t 393 & R-HSA-6814122 & -0.6076 & 0 & 0\\\\\n",
       "\t 394 & R-HSA-389958  & -1.1833 & 0 & 0\\\\\n",
       "\\end{tabular}\n"
      ],
      "text/markdown": [
       "\n",
       "A matrix: 6 × 5 of type chr\n",
       "\n",
       "| Gene_set | Gene_set_name | Score | p-value | FDR |\n",
       "|---|---|---|---|---|\n",
       "| 149 | R-HSA-983168  | -0.3143 | 0 | 0 |\n",
       "| 187 | R-HSA-9612973 | -0.3    | 0 | 0 |\n",
       "| 266 | R-HSA-5607764 | -0.4568 | 0 | 0 |\n",
       "| 335 | R-HSA-390466  | -0.5509 | 0 | 0 |\n",
       "| 393 | R-HSA-6814122 | -0.6076 | 0 | 0 |\n",
       "| 394 | R-HSA-389958  | -1.1833 | 0 | 0 |\n",
       "\n"
      ],
      "text/plain": [
       "     Gene_set Gene_set_name Score   p-value FDR\n",
       "[1,] 149      R-HSA-983168  -0.3143 0       0  \n",
       "[2,] 187      R-HSA-9612973 -0.3    0       0  \n",
       "[3,] 266      R-HSA-5607764 -0.4568 0       0  \n",
       "[4,] 335      R-HSA-390466  -0.5509 0       0  \n",
       "[5,] 393      R-HSA-6814122 -0.6076 0       0  \n",
       "[6,] 394      R-HSA-389958  -1.1833 0       0  "
      ]
     },
     "metadata": {},
     "output_type": "display_data"
    }
   ],
   "source": [
    "neg.table <- res$negative\n",
    "head(neg.table)"
   ]
  },
  {
   "cell_type": "code",
   "execution_count": 69,
   "id": "e84d66dd-c9c9-48a8-b2cb-80b373e43648",
   "metadata": {},
   "outputs": [
    {
     "data": {
      "text/html": [
       "<table class=\"dataframe\">\n",
       "<caption>A matrix: 6 × 5 of type chr</caption>\n",
       "<thead>\n",
       "\t<tr><th scope=col>Gene_set</th><th scope=col>Gene_set_name</th><th scope=col>Score</th><th scope=col>p-value</th><th scope=col>FDR</th></tr>\n",
       "</thead>\n",
       "<tbody>\n",
       "\t<tr><td>118 </td><td>R-HSA-418990 </td><td>0.5567</td><td>0</td><td>0</td></tr>\n",
       "\t<tr><td>316 </td><td>R-HSA-446728 </td><td>0.4345</td><td>0</td><td>0</td></tr>\n",
       "\t<tr><td>320 </td><td>R-HSA-1500931</td><td>0.3282</td><td>0</td><td>0</td></tr>\n",
       "\t<tr><td>981 </td><td>R-HSA-354194 </td><td>0.685 </td><td>0</td><td>0</td></tr>\n",
       "\t<tr><td>1689</td><td>R-HSA-174824 </td><td>0.2829</td><td>0</td><td>0</td></tr>\n",
       "\t<tr><td>1942</td><td>R-HSA-186712 </td><td>1.4641</td><td>0</td><td>0</td></tr>\n",
       "</tbody>\n",
       "</table>\n"
      ],
      "text/latex": [
       "A matrix: 6 × 5 of type chr\n",
       "\\begin{tabular}{lllll}\n",
       " Gene\\_set & Gene\\_set\\_name & Score & p-value & FDR\\\\\n",
       "\\hline\n",
       "\t 118  & R-HSA-418990  & 0.5567 & 0 & 0\\\\\n",
       "\t 316  & R-HSA-446728  & 0.4345 & 0 & 0\\\\\n",
       "\t 320  & R-HSA-1500931 & 0.3282 & 0 & 0\\\\\n",
       "\t 981  & R-HSA-354194  & 0.685  & 0 & 0\\\\\n",
       "\t 1689 & R-HSA-174824  & 0.2829 & 0 & 0\\\\\n",
       "\t 1942 & R-HSA-186712  & 1.4641 & 0 & 0\\\\\n",
       "\\end{tabular}\n"
      ],
      "text/markdown": [
       "\n",
       "A matrix: 6 × 5 of type chr\n",
       "\n",
       "| Gene_set | Gene_set_name | Score | p-value | FDR |\n",
       "|---|---|---|---|---|\n",
       "| 118  | R-HSA-418990  | 0.5567 | 0 | 0 |\n",
       "| 316  | R-HSA-446728  | 0.4345 | 0 | 0 |\n",
       "| 320  | R-HSA-1500931 | 0.3282 | 0 | 0 |\n",
       "| 981  | R-HSA-354194  | 0.685  | 0 | 0 |\n",
       "| 1689 | R-HSA-174824  | 0.2829 | 0 | 0 |\n",
       "| 1942 | R-HSA-186712  | 1.4641 | 0 | 0 |\n",
       "\n"
      ],
      "text/plain": [
       "     Gene_set Gene_set_name Score  p-value FDR\n",
       "[1,] 118      R-HSA-418990  0.5567 0       0  \n",
       "[2,] 316      R-HSA-446728  0.4345 0       0  \n",
       "[3,] 320      R-HSA-1500931 0.3282 0       0  \n",
       "[4,] 981      R-HSA-354194  0.685  0       0  \n",
       "[5,] 1689     R-HSA-174824  0.2829 0       0  \n",
       "[6,] 1942     R-HSA-186712  1.4641 0       0  "
      ]
     },
     "metadata": {},
     "output_type": "display_data"
    }
   ],
   "source": [
    "pos.table <- res$positive\n",
    "head(pos.table)"
   ]
  },
  {
   "cell_type": "code",
   "execution_count": 70,
   "id": "3700db02-950e-4f26-9682-233edf803d5b",
   "metadata": {},
   "outputs": [
    {
     "data": {
      "text/html": [
       "<table class=\"dataframe\">\n",
       "<caption>A matrix: 22 × 2 of type chr</caption>\n",
       "<thead>\n",
       "\t<tr><th scope=col>Gene</th><th scope=col>Score</th></tr>\n",
       "</thead>\n",
       "<tbody>\n",
       "\t<tr><td>55970 </td><td>2.413 </td></tr>\n",
       "\t<tr><td>2773  </td><td>1.846 </td></tr>\n",
       "\t<tr><td>2771  </td><td>1.415 </td></tr>\n",
       "\t<tr><td>2787  </td><td>1.226 </td></tr>\n",
       "\t<tr><td>59345 </td><td>1.134 </td></tr>\n",
       "\t<tr><td>64805 </td><td>0.502 </td></tr>\n",
       "\t<tr><td>2788  </td><td>0.021 </td></tr>\n",
       "\t<tr><td>346562</td><td>0.012 </td></tr>\n",
       "\t<tr><td>51764 </td><td>-0.008</td></tr>\n",
       "\t<tr><td>2791  </td><td>-0.078</td></tr>\n",
       "\t<tr><td>94235 </td><td>-0.232</td></tr>\n",
       "\t<tr><td>2770  </td><td>-0.365</td></tr>\n",
       "\t<tr><td>2792  </td><td>-0.603</td></tr>\n",
       "\t<tr><td>2786  </td><td>-0.823</td></tr>\n",
       "\t<tr><td>2793  </td><td>-1.031</td></tr>\n",
       "\t<tr><td>2783  </td><td>-1.062</td></tr>\n",
       "\t<tr><td>2790  </td><td>-1.499</td></tr>\n",
       "\t<tr><td>10681 </td><td>-1.674</td></tr>\n",
       "\t<tr><td>2782  </td><td>-1.76 </td></tr>\n",
       "\t<tr><td>54331 </td><td>-2.541</td></tr>\n",
       "\t<tr><td>2785  </td><td>-2.754</td></tr>\n",
       "\t<tr><td>2784  </td><td>-2.932</td></tr>\n",
       "</tbody>\n",
       "</table>\n"
      ],
      "text/latex": [
       "A matrix: 22 × 2 of type chr\n",
       "\\begin{tabular}{ll}\n",
       " Gene & Score\\\\\n",
       "\\hline\n",
       "\t 55970  & 2.413 \\\\\n",
       "\t 2773   & 1.846 \\\\\n",
       "\t 2771   & 1.415 \\\\\n",
       "\t 2787   & 1.226 \\\\\n",
       "\t 59345  & 1.134 \\\\\n",
       "\t 64805  & 0.502 \\\\\n",
       "\t 2788   & 0.021 \\\\\n",
       "\t 346562 & 0.012 \\\\\n",
       "\t 51764  & -0.008\\\\\n",
       "\t 2791   & -0.078\\\\\n",
       "\t 94235  & -0.232\\\\\n",
       "\t 2770   & -0.365\\\\\n",
       "\t 2792   & -0.603\\\\\n",
       "\t 2786   & -0.823\\\\\n",
       "\t 2793   & -1.031\\\\\n",
       "\t 2783   & -1.062\\\\\n",
       "\t 2790   & -1.499\\\\\n",
       "\t 10681  & -1.674\\\\\n",
       "\t 2782   & -1.76 \\\\\n",
       "\t 54331  & -2.541\\\\\n",
       "\t 2785   & -2.754\\\\\n",
       "\t 2784   & -2.932\\\\\n",
       "\\end{tabular}\n"
      ],
      "text/markdown": [
       "\n",
       "A matrix: 22 × 2 of type chr\n",
       "\n",
       "| Gene | Score |\n",
       "|---|---|\n",
       "| 55970  | 2.413  |\n",
       "| 2773   | 1.846  |\n",
       "| 2771   | 1.415  |\n",
       "| 2787   | 1.226  |\n",
       "| 59345  | 1.134  |\n",
       "| 64805  | 0.502  |\n",
       "| 2788   | 0.021  |\n",
       "| 346562 | 0.012  |\n",
       "| 51764  | -0.008 |\n",
       "| 2791   | -0.078 |\n",
       "| 94235  | -0.232 |\n",
       "| 2770   | -0.365 |\n",
       "| 2792   | -0.603 |\n",
       "| 2786   | -0.823 |\n",
       "| 2793   | -1.031 |\n",
       "| 2783   | -1.062 |\n",
       "| 2790   | -1.499 |\n",
       "| 10681  | -1.674 |\n",
       "| 2782   | -1.76  |\n",
       "| 54331  | -2.541 |\n",
       "| 2785   | -2.754 |\n",
       "| 2784   | -2.932 |\n",
       "\n"
      ],
      "text/plain": [
       "      Gene   Score \n",
       " [1,] 55970  2.413 \n",
       " [2,] 2773   1.846 \n",
       " [3,] 2771   1.415 \n",
       " [4,] 2787   1.226 \n",
       " [5,] 59345  1.134 \n",
       " [6,] 64805  0.502 \n",
       " [7,] 2788   0.021 \n",
       " [8,] 346562 0.012 \n",
       " [9,] 51764  -0.008\n",
       "[10,] 2791   -0.078\n",
       "[11,] 94235  -0.232\n",
       "[12,] 2770   -0.365\n",
       "[13,] 2792   -0.603\n",
       "[14,] 2786   -0.823\n",
       "[15,] 2793   -1.031\n",
       "[16,] 2783   -1.062\n",
       "[17,] 2790   -1.499\n",
       "[18,] 10681  -1.674\n",
       "[19,] 2782   -1.76 \n",
       "[20,] 54331  -2.541\n",
       "[21,] 2785   -2.754\n",
       "[22,] 2784   -2.932"
      ]
     },
     "metadata": {},
     "output_type": "display_data"
    }
   ],
   "source": [
    "# Individual gene scores from a gene set analysis\n",
    "# look at 10th gene set\n",
    "GSA.genescores(geneset.number = 10, genesets = genesets, \n",
    "               GSA.obj = GSA.obj, genenames = genenames)"
   ]
  },
  {
   "cell_type": "code",
   "execution_count": 71,
   "id": "dfcb5446-3ef1-4825-aad1-5cd331945c76",
   "metadata": {},
   "outputs": [
    {
     "data": {
      "image/png": "[encoded data removed]",
      "text/plain": [
       "plot without title"
      ]
     },
     "metadata": {
      "image/png": {
       "height": 420,
       "width": 420
      }
     },
     "output_type": "display_data"
    }
   ],
   "source": [
    "# Plot the result, this function makes a plot of the significant gene sets, based on a call to the GSA (Gene set analysis) function.\n",
    "suppressWarnings(GSA.plot(GSA.obj, fac = 1, FDRcut = 0.5))\n"
   ]
  },
  {
   "cell_type": "markdown",
   "id": "36b0036d-b465-4b52-bef0-fa7f39bd40b3",
   "metadata": {},
   "source": [
    "# Enrichment analysis using PADOG\n",
    "\n",
    "Pathway Analysis with Down-weighting of Overlapping Genes (PADOG) is a specialized method for enrichment analysis. Focused on deciphering the functional implications of differentially expressed genes in biological pathways, PADOG uniquely emphasizes the uniqueness of genes. Its down-weighting mechanism enhances precision by addressing challenges posed by overlapping genes, offering valuable insights into specific pathways influenced by gene expression changes.\n",
    "\n",
    "To perform PADOG enrichment analysis, we will use the \"PADOG\" package. We first need to install and load the package."
   ]
  },
  {
   "cell_type": "code",
   "execution_count": 91,
   "id": "b09bba68-4e7e-4259-aa48-52a2c36422b2",
   "metadata": {},
   "outputs": [],
   "source": [
    "suppressWarnings({\n",
    "    if (!require(\"BiocManager\", quietly = TRUE)) {\n",
    "        install.packages(\"BiocManager\")\n",
    "    }\n",
    "})\n",
    "\n",
    "suppressWarnings({suppressMessages({BiocManager::install(\"PADOG\")})})"
   ]
  },
  {
   "cell_type": "code",
   "execution_count": 92,
   "id": "c14e57fa-057a-4191-ad5c-9c5657476206",
   "metadata": {},
   "outputs": [],
   "source": [
    "suppressMessages({library(PADOG)})"
   ]
  },
  {
   "cell_type": "markdown",
   "id": "cbae06eb-3102-4ff8-8bf4-ad718f0a1d37",
   "metadata": {},
   "source": [
    "## Data Preparation"
   ]
  },
  {
   "cell_type": "markdown",
   "id": "2ec13aac-5cea-4ce4-a469-714d94380a5d",
   "metadata": {},
   "source": [
    "The PADOG method requires the inputs that is quite similar to GSA method. Therefore, to perform analysis using PADOG, we will use the same prepartion steps as for the GSA method above."
   ]
  },
  {
   "cell_type": "code",
   "execution_count": 93,
   "id": "8340b750-91ec-44a8-909a-160465778a3d",
   "metadata": {},
   "outputs": [
    {
     "data": {
      "text/html": [
       "<table class=\"dataframe\">\n",
       "<caption>A data.frame: 6 × 54</caption>\n",
       "<thead>\n",
       "\t<tr><th></th><th scope=col>GSM300173</th><th scope=col>GSM300177</th><th scope=col>GSM300181</th><th scope=col>GSM300186</th><th scope=col>GSM300189</th><th scope=col>GSM300192</th><th scope=col>GSM300196</th><th scope=col>GSM300204</th><th scope=col>GSM300208</th><th scope=col>GSM300214</th><th scope=col>⋯</th><th scope=col>GSM1176201</th><th scope=col>GSM1176202</th><th scope=col>GSM1176203</th><th scope=col>GSM1176204</th><th scope=col>GSM1176205</th><th scope=col>GSM1176206</th><th scope=col>GSM1176207</th><th scope=col>GSM1176208</th><th scope=col>GSM1176209</th><th scope=col>GSM1176210</th></tr>\n",
       "\t<tr><th></th><th scope=col>&lt;dbl&gt;</th><th scope=col>&lt;dbl&gt;</th><th scope=col>&lt;dbl&gt;</th><th scope=col>&lt;dbl&gt;</th><th scope=col>&lt;dbl&gt;</th><th scope=col>&lt;dbl&gt;</th><th scope=col>&lt;dbl&gt;</th><th scope=col>&lt;dbl&gt;</th><th scope=col>&lt;dbl&gt;</th><th scope=col>&lt;dbl&gt;</th><th scope=col>⋯</th><th scope=col>&lt;dbl&gt;</th><th scope=col>&lt;dbl&gt;</th><th scope=col>&lt;dbl&gt;</th><th scope=col>&lt;dbl&gt;</th><th scope=col>&lt;dbl&gt;</th><th scope=col>&lt;dbl&gt;</th><th scope=col>&lt;dbl&gt;</th><th scope=col>&lt;dbl&gt;</th><th scope=col>&lt;dbl&gt;</th><th scope=col>&lt;dbl&gt;</th></tr>\n",
       "</thead>\n",
       "<tbody>\n",
       "\t<tr><th scope=row>DDR1</th><td>0.6085351</td><td>0.8513945</td><td>1.1591995</td><td>2.0921063</td><td>1.2385797</td><td>0.8326798</td><td>0.8034588</td><td>0.6996407</td><td>1.3955209</td><td>1.1198790</td><td>⋯</td><td>1.1563261</td><td>1.6152382</td><td>1.1901788</td><td>1.4972300</td><td>0.6329609</td><td>1.4160284</td><td>1.2335104</td><td>1.2999401</td><td>0.8595833</td><td>1.2998189</td></tr>\n",
       "\t<tr><th scope=row>RFC2</th><td>0.9081397</td><td>0.9336113</td><td>0.8563885</td><td>1.0015364</td><td>0.7332213</td><td>0.8570584</td><td>1.0210657</td><td>0.9641521</td><td>0.8585522</td><td>0.8584299</td><td>⋯</td><td>0.8848516</td><td>0.9385835</td><td>1.0359085</td><td>0.9225201</td><td>1.0405487</td><td>0.8187565</td><td>0.9541863</td><td>0.9855680</td><td>1.1704986</td><td>0.9924505</td></tr>\n",
       "\t<tr><th scope=row>HSPA6</th><td>0.8674964</td><td>0.8385732</td><td>0.9956165</td><td>0.9797408</td><td>3.5688195</td><td>1.0145685</td><td>1.1729818</td><td>1.0208826</td><td>0.8163447</td><td>0.8572931</td><td>⋯</td><td>0.9469172</td><td>1.3414407</td><td>0.9509885</td><td>1.3277143</td><td>1.0712911</td><td>0.9801153</td><td>0.9847162</td><td>1.4585433</td><td>1.2102244</td><td>0.9023996</td></tr>\n",
       "\t<tr><th scope=row>PAX8</th><td>1.1053528</td><td>1.0432043</td><td>1.0137772</td><td>1.0931698</td><td>1.0356631</td><td>0.9435998</td><td>1.1165266</td><td>1.0960624</td><td>1.0099041</td><td>1.0553276</td><td>⋯</td><td>1.0055602</td><td>0.8999849</td><td>0.9461904</td><td>1.2250262</td><td>1.0535747</td><td>0.9321033</td><td>1.0115234</td><td>1.0048561</td><td>1.1175232</td><td>1.0730404</td></tr>\n",
       "\t<tr><th scope=row>GUCA1A</th><td>1.2764652</td><td>0.8625501</td><td>1.0411838</td><td>1.0323309</td><td>0.8504494</td><td>1.3334491</td><td>1.1356378</td><td>1.0168769</td><td>0.9045680</td><td>0.8634836</td><td>⋯</td><td>1.3178803</td><td>0.8809971</td><td>0.9128050</td><td>1.0231747</td><td>1.0368457</td><td>0.9140167</td><td>1.0870208</td><td>0.9601511</td><td>3.4069852</td><td>1.0806457</td></tr>\n",
       "\t<tr><th scope=row>UBA7</th><td>0.8337133</td><td>1.0081274</td><td>1.0330204</td><td>1.5409547</td><td>0.8751729</td><td>1.0063332</td><td>0.7226255</td><td>0.9519509</td><td>0.8132348</td><td>1.0214182</td><td>⋯</td><td>1.2466778</td><td>1.8324052</td><td>0.8732074</td><td>1.4028883</td><td>0.9107665</td><td>0.9586981</td><td>1.1221024</td><td>1.1861940</td><td>1.0770138</td><td>1.2797908</td></tr>\n",
       "</tbody>\n",
       "</table>\n"
      ],
      "text/latex": [
       "A data.frame: 6 × 54\n",
       "\\begin{tabular}{r|lllllllllllllllllllll}\n",
       "  & GSM300173 & GSM300177 & GSM300181 & GSM300186 & GSM300189 & GSM300192 & GSM300196 & GSM300204 & GSM300208 & GSM300214 & ⋯ & GSM1176201 & GSM1176202 & GSM1176203 & GSM1176204 & GSM1176205 & GSM1176206 & GSM1176207 & GSM1176208 & GSM1176209 & GSM1176210\\\\\n",
       "  & <dbl> & <dbl> & <dbl> & <dbl> & <dbl> & <dbl> & <dbl> & <dbl> & <dbl> & <dbl> & ⋯ & <dbl> & <dbl> & <dbl> & <dbl> & <dbl> & <dbl> & <dbl> & <dbl> & <dbl> & <dbl>\\\\\n",
       "\\hline\n",
       "\tDDR1 & 0.6085351 & 0.8513945 & 1.1591995 & 2.0921063 & 1.2385797 & 0.8326798 & 0.8034588 & 0.6996407 & 1.3955209 & 1.1198790 & ⋯ & 1.1563261 & 1.6152382 & 1.1901788 & 1.4972300 & 0.6329609 & 1.4160284 & 1.2335104 & 1.2999401 & 0.8595833 & 1.2998189\\\\\n",
       "\tRFC2 & 0.9081397 & 0.9336113 & 0.8563885 & 1.0015364 & 0.7332213 & 0.8570584 & 1.0210657 & 0.9641521 & 0.8585522 & 0.8584299 & ⋯ & 0.8848516 & 0.9385835 & 1.0359085 & 0.9225201 & 1.0405487 & 0.8187565 & 0.9541863 & 0.9855680 & 1.1704986 & 0.9924505\\\\\n",
       "\tHSPA6 & 0.8674964 & 0.8385732 & 0.9956165 & 0.9797408 & 3.5688195 & 1.0145685 & 1.1729818 & 1.0208826 & 0.8163447 & 0.8572931 & ⋯ & 0.9469172 & 1.3414407 & 0.9509885 & 1.3277143 & 1.0712911 & 0.9801153 & 0.9847162 & 1.4585433 & 1.2102244 & 0.9023996\\\\\n",
       "\tPAX8 & 1.1053528 & 1.0432043 & 1.0137772 & 1.0931698 & 1.0356631 & 0.9435998 & 1.1165266 & 1.0960624 & 1.0099041 & 1.0553276 & ⋯ & 1.0055602 & 0.8999849 & 0.9461904 & 1.2250262 & 1.0535747 & 0.9321033 & 1.0115234 & 1.0048561 & 1.1175232 & 1.0730404\\\\\n",
       "\tGUCA1A & 1.2764652 & 0.8625501 & 1.0411838 & 1.0323309 & 0.8504494 & 1.3334491 & 1.1356378 & 1.0168769 & 0.9045680 & 0.8634836 & ⋯ & 1.3178803 & 0.8809971 & 0.9128050 & 1.0231747 & 1.0368457 & 0.9140167 & 1.0870208 & 0.9601511 & 3.4069852 & 1.0806457\\\\\n",
       "\tUBA7 & 0.8337133 & 1.0081274 & 1.0330204 & 1.5409547 & 0.8751729 & 1.0063332 & 0.7226255 & 0.9519509 & 0.8132348 & 1.0214182 & ⋯ & 1.2466778 & 1.8324052 & 0.8732074 & 1.4028883 & 0.9107665 & 0.9586981 & 1.1221024 & 1.1861940 & 1.0770138 & 1.2797908\\\\\n",
       "\\end{tabular}\n"
      ],
      "text/markdown": [
       "\n",
       "A data.frame: 6 × 54\n",
       "\n",
       "| <!--/--> | GSM300173 &lt;dbl&gt; | GSM300177 &lt;dbl&gt; | GSM300181 &lt;dbl&gt; | GSM300186 &lt;dbl&gt; | GSM300189 &lt;dbl&gt; | GSM300192 &lt;dbl&gt; | GSM300196 &lt;dbl&gt; | GSM300204 &lt;dbl&gt; | GSM300208 &lt;dbl&gt; | GSM300214 &lt;dbl&gt; | ⋯ ⋯ | GSM1176201 &lt;dbl&gt; | GSM1176202 &lt;dbl&gt; | GSM1176203 &lt;dbl&gt; | GSM1176204 &lt;dbl&gt; | GSM1176205 &lt;dbl&gt; | GSM1176206 &lt;dbl&gt; | GSM1176207 &lt;dbl&gt; | GSM1176208 &lt;dbl&gt; | GSM1176209 &lt;dbl&gt; | GSM1176210 &lt;dbl&gt; |\n",
       "|---|---|---|---|---|---|---|---|---|---|---|---|---|---|---|---|---|---|---|---|---|---|\n",
       "| DDR1 | 0.6085351 | 0.8513945 | 1.1591995 | 2.0921063 | 1.2385797 | 0.8326798 | 0.8034588 | 0.6996407 | 1.3955209 | 1.1198790 | ⋯ | 1.1563261 | 1.6152382 | 1.1901788 | 1.4972300 | 0.6329609 | 1.4160284 | 1.2335104 | 1.2999401 | 0.8595833 | 1.2998189 |\n",
       "| RFC2 | 0.9081397 | 0.9336113 | 0.8563885 | 1.0015364 | 0.7332213 | 0.8570584 | 1.0210657 | 0.9641521 | 0.8585522 | 0.8584299 | ⋯ | 0.8848516 | 0.9385835 | 1.0359085 | 0.9225201 | 1.0405487 | 0.8187565 | 0.9541863 | 0.9855680 | 1.1704986 | 0.9924505 |\n",
       "| HSPA6 | 0.8674964 | 0.8385732 | 0.9956165 | 0.9797408 | 3.5688195 | 1.0145685 | 1.1729818 | 1.0208826 | 0.8163447 | 0.8572931 | ⋯ | 0.9469172 | 1.3414407 | 0.9509885 | 1.3277143 | 1.0712911 | 0.9801153 | 0.9847162 | 1.4585433 | 1.2102244 | 0.9023996 |\n",
       "| PAX8 | 1.1053528 | 1.0432043 | 1.0137772 | 1.0931698 | 1.0356631 | 0.9435998 | 1.1165266 | 1.0960624 | 1.0099041 | 1.0553276 | ⋯ | 1.0055602 | 0.8999849 | 0.9461904 | 1.2250262 | 1.0535747 | 0.9321033 | 1.0115234 | 1.0048561 | 1.1175232 | 1.0730404 |\n",
       "| GUCA1A | 1.2764652 | 0.8625501 | 1.0411838 | 1.0323309 | 0.8504494 | 1.3334491 | 1.1356378 | 1.0168769 | 0.9045680 | 0.8634836 | ⋯ | 1.3178803 | 0.8809971 | 0.9128050 | 1.0231747 | 1.0368457 | 0.9140167 | 1.0870208 | 0.9601511 | 3.4069852 | 1.0806457 |\n",
       "| UBA7 | 0.8337133 | 1.0081274 | 1.0330204 | 1.5409547 | 0.8751729 | 1.0063332 | 0.7226255 | 0.9519509 | 0.8132348 | 1.0214182 | ⋯ | 1.2466778 | 1.8324052 | 0.8732074 | 1.4028883 | 0.9107665 | 0.9586981 | 1.1221024 | 1.1861940 | 1.0770138 | 1.2797908 |\n",
       "\n"
      ],
      "text/plain": [
       "       GSM300173 GSM300177 GSM300181 GSM300186 GSM300189 GSM300192 GSM300196\n",
       "DDR1   0.6085351 0.8513945 1.1591995 2.0921063 1.2385797 0.8326798 0.8034588\n",
       "RFC2   0.9081397 0.9336113 0.8563885 1.0015364 0.7332213 0.8570584 1.0210657\n",
       "HSPA6  0.8674964 0.8385732 0.9956165 0.9797408 3.5688195 1.0145685 1.1729818\n",
       "PAX8   1.1053528 1.0432043 1.0137772 1.0931698 1.0356631 0.9435998 1.1165266\n",
       "GUCA1A 1.2764652 0.8625501 1.0411838 1.0323309 0.8504494 1.3334491 1.1356378\n",
       "UBA7   0.8337133 1.0081274 1.0330204 1.5409547 0.8751729 1.0063332 0.7226255\n",
       "       GSM300204 GSM300208 GSM300214 ⋯ GSM1176201 GSM1176202 GSM1176203\n",
       "DDR1   0.6996407 1.3955209 1.1198790 ⋯ 1.1563261  1.6152382  1.1901788 \n",
       "RFC2   0.9641521 0.8585522 0.8584299 ⋯ 0.8848516  0.9385835  1.0359085 \n",
       "HSPA6  1.0208826 0.8163447 0.8572931 ⋯ 0.9469172  1.3414407  0.9509885 \n",
       "PAX8   1.0960624 1.0099041 1.0553276 ⋯ 1.0055602  0.8999849  0.9461904 \n",
       "GUCA1A 1.0168769 0.9045680 0.8634836 ⋯ 1.3178803  0.8809971  0.9128050 \n",
       "UBA7   0.9519509 0.8132348 1.0214182 ⋯ 1.2466778  1.8324052  0.8732074 \n",
       "       GSM1176204 GSM1176205 GSM1176206 GSM1176207 GSM1176208 GSM1176209\n",
       "DDR1   1.4972300  0.6329609  1.4160284  1.2335104  1.2999401  0.8595833 \n",
       "RFC2   0.9225201  1.0405487  0.8187565  0.9541863  0.9855680  1.1704986 \n",
       "HSPA6  1.3277143  1.0712911  0.9801153  0.9847162  1.4585433  1.2102244 \n",
       "PAX8   1.2250262  1.0535747  0.9321033  1.0115234  1.0048561  1.1175232 \n",
       "GUCA1A 1.0231747  1.0368457  0.9140167  1.0870208  0.9601511  3.4069852 \n",
       "UBA7   1.4028883  0.9107665  0.9586981  1.1221024  1.1861940  1.0770138 \n",
       "       GSM1176210\n",
       "DDR1   1.2998189 \n",
       "RFC2   0.9924505 \n",
       "HSPA6  0.9023996 \n",
       "PAX8   1.0730404 \n",
       "GUCA1A 1.0806457 \n",
       "UBA7   1.2797908 "
      ]
     },
     "metadata": {},
     "output_type": "display_data"
    }
   ],
   "source": [
    "# load the expression data, the normalized expression data and the groups\n",
    "data <- readRDS(\"./data/GSE48350.rds\")\n",
    "expression_data <- data$expression_data\n",
    "norm_expression_data <- data$norm_expression_data\n",
    "groups <- data$groups\n",
    "\n",
    "# Get the probe IDs\n",
    "norm_expression_data$PROBEID <- rownames(norm_expression_data)\n",
    "probeIDs <- rownames(norm_expression_data)\n",
    "# Perform gene mapping\n",
    "suppressMessages({\n",
    "    annotLookup <- AnnotationDbi::select(hgu133plus2.db, keys = probeIDs, columns = c('PROBEID', 'GENENAME', 'SYMBOL'))\n",
    "})\n",
    "# Merge DE result  data frame with annotation table\n",
    "new_expression_data = merge(annotLookup, norm_expression_data, by = \"PROBEID\")\n",
    "# Remove NA value\n",
    "new_expression_data <- new_expression_data[!is.na(new_expression_data$SYMBOL), ]\n",
    "# Remove duplicated genes symbol\n",
    "new_expression_data <- new_expression_data[!duplicated(new_expression_data$SYMBOL, fromLast = FALSE), ]\n",
    "rownames(new_expression_data) <- new_expression_data$SYMBOL\n",
    "# Drop PROBEID, GENENAME, and SYMBOL columns\n",
    "new_expression_data <- new_expression_data[, -c(1:3)]\n",
    "\n",
    "# Show some first rows of the new expression data\n",
    "head(new_expression_data)"
   ]
  },
  {
   "cell_type": "markdown",
   "id": "5fdfcffe-e916-4803-93ac-16b440778668",
   "metadata": {},
   "source": [
    "In order to perform PADOG enrichment analysis, we will use the `.padog` function bellow. "
   ]
  },
  {
   "cell_type": "markdown",
   "id": "d28b96e6-84ac-460c-9ff2-8c04f8f45235",
   "metadata": {},
   "source": [
    "### Enrichment analysis using PADOG and GO terms"
   ]
  },
  {
   "cell_type": "code",
   "execution_count": 95,
   "id": "fc66fcc6-1696-4572-826c-1462ba7baf40",
   "metadata": {
    "scrolled": true
   },
   "outputs": [
    {
     "name": "stdout",
     "output_type": "stream",
     "text": [
      "Starting with 6909 gene sets!\n",
      "Analyzing 6909 gene sets with 3 or more genes!\n",
      "# of permutations used: 100 \n"
     ]
    },
    {
     "data": {
      "text/html": [
       "<table class=\"dataframe\">\n",
       "<caption>A data.frame: 6 × 2</caption>\n",
       "<thead>\n",
       "\t<tr><th></th><th scope=col>pathway</th><th scope=col>p.value</th></tr>\n",
       "\t<tr><th></th><th scope=col>&lt;chr&gt;</th><th scope=col>&lt;dbl&gt;</th></tr>\n",
       "</thead>\n",
       "<tbody>\n",
       "\t<tr><th scope=row>GO:0065003</th><td>GO:0065003</td><td>1e-04</td></tr>\n",
       "\t<tr><th scope=row>GO:0007005</th><td>GO:0007005</td><td>1e-04</td></tr>\n",
       "\t<tr><th scope=row>GO:0042773</th><td>GO:0042773</td><td>1e-04</td></tr>\n",
       "\t<tr><th scope=row>GO:0042775</th><td>GO:0042775</td><td>1e-04</td></tr>\n",
       "\t<tr><th scope=row>GO:0007007</th><td>GO:0007007</td><td>1e-04</td></tr>\n",
       "\t<tr><th scope=row>GO:0042407</th><td>GO:0042407</td><td>1e-04</td></tr>\n",
       "</tbody>\n",
       "</table>\n"
      ],
      "text/latex": [
       "A data.frame: 6 × 2\n",
       "\\begin{tabular}{r|ll}\n",
       "  & pathway & p.value\\\\\n",
       "  & <chr> & <dbl>\\\\\n",
       "\\hline\n",
       "\tGO:0065003 & GO:0065003 & 1e-04\\\\\n",
       "\tGO:0007005 & GO:0007005 & 1e-04\\\\\n",
       "\tGO:0042773 & GO:0042773 & 1e-04\\\\\n",
       "\tGO:0042775 & GO:0042775 & 1e-04\\\\\n",
       "\tGO:0007007 & GO:0007007 & 1e-04\\\\\n",
       "\tGO:0042407 & GO:0042407 & 1e-04\\\\\n",
       "\\end{tabular}\n"
      ],
      "text/markdown": [
       "\n",
       "A data.frame: 6 × 2\n",
       "\n",
       "| <!--/--> | pathway &lt;chr&gt; | p.value &lt;dbl&gt; |\n",
       "|---|---|---|\n",
       "| GO:0065003 | GO:0065003 | 1e-04 |\n",
       "| GO:0007005 | GO:0007005 | 1e-04 |\n",
       "| GO:0042773 | GO:0042773 | 1e-04 |\n",
       "| GO:0042775 | GO:0042775 | 1e-04 |\n",
       "| GO:0007007 | GO:0007007 | 1e-04 |\n",
       "| GO:0042407 | GO:0042407 | 1e-04 |\n",
       "\n"
      ],
      "text/plain": [
       "           pathway    p.value\n",
       "GO:0065003 GO:0065003 1e-04  \n",
       "GO:0007005 GO:0007005 1e-04  \n",
       "GO:0042773 GO:0042773 1e-04  \n",
       "GO:0042775 GO:0042775 1e-04  \n",
       "GO:0007007 GO:0007007 1e-04  \n",
       "GO:0042407 GO:0042407 1e-04  "
      ]
     },
     "metadata": {},
     "output_type": "display_data"
    }
   ],
   "source": [
    "# Assign the geneset variable to GO_term_hallmark loaded in previous code\n",
    "geneset <- GO_term_hallmark\n",
    "# Perform PADOG enrichment analysis using the .padog function\n",
    "res <- PADOG::padog(esetm = as.matrix(new_expression_data), group = as.character(groups$groups), \n",
    "                    gslist = geneset, gs.names = names(geneset), NI = 100, plots = FALSE, \n",
    "                    dseed = 1, parallel = TRUE, ncr = 1)\n",
    "res <- res[, c('ID', 'Ppadog')]\n",
    "colnames(res) <- c(\"pathway\", \"p.value\")\n",
    "head(res)"
   ]
  },
  {
   "cell_type": "markdown",
   "id": "776df6b0-a160-4fa5-89a6-d8034d670b6d",
   "metadata": {},
   "source": [
    "To use the `padog` function, we need to pass the following arguments:\n",
    "\n",
    "- `esetm`: A matrix containing log transfomed and normalized gene expression data. Rows correspond to genes and columns to samples.\n",
    "- `group`: A character vector with the class labels of the samples. It can only contain \"c\" for control samples or \"d\" for disease samples.\n",
    "- `gslist`: Either the value \"KEGGRESTpathway\" or a list with the gene sets.\n",
    "- `gs.names`: A character vector with the names of the gene sets. If specified, must have the same length as gslist.\r\n",
    "\n",
    "- `NI`: An integer specifying the number of iterations to determine the gene set score significance p-value\n",
    "- `plots`: A boolean, if set to TRUE then the distribution of the PADOG scores with and without weighting the genes in raw and standardized form are shown using boxplots. A pdf file will be created in the current directory having the name provided in the targetgs field. The scores for the targetgs gene set will be shown in red.\n",
    "- `dseed`: An integer specifying optional initial seed for random number generator.\r\n",
    "\n",
    "- `parallel`: A boolean, if set to TRUE, the NI iterations will be executed in parallel if multiple CPU cores are available and foreach and doRNG packages are installed.\r\n",
    "s.\n",
    "- `ncr`: An integer specifying the number of CPU cores used when parallel set to TRUE. Default is to use all CPU cores detected.\n",
    "\n",
    "The `padog` function returns a dataframe containing the analysis result."
   ]
  },
  {
   "cell_type": "markdown",
   "id": "60a039b9-b62e-4ab7-be15-656e36118110",
   "metadata": {},
   "source": [
    "### Enrichment analysis using PADOG and KEGG pathways\n",
    "\n",
    "We can use the same procedure to per enrichment analysis with the KEGG pathway. All the codes are similar but `genesets` are loaded from `KEGG_hallmark`. The code is shown below."
   ]
  },
  {
   "cell_type": "code",
   "execution_count": 96,
   "id": "7ff3b556-d4d5-4384-888c-f69f98b79537",
   "metadata": {},
   "outputs": [
    {
     "name": "stdout",
     "output_type": "stream",
     "text": [
      "Starting with 344 gene sets!\n",
      "Analyzing 344 gene sets with 3 or more genes!\n",
      "# of permutations used: 100 \n"
     ]
    },
    {
     "data": {
      "text/html": [
       "<table class=\"dataframe\">\n",
       "<caption>A data.frame: 6 × 2</caption>\n",
       "<thead>\n",
       "\t<tr><th></th><th scope=col>pathway</th><th scope=col>p.value</th></tr>\n",
       "\t<tr><th></th><th scope=col>&lt;chr&gt;</th><th scope=col>&lt;dbl&gt;</th></tr>\n",
       "</thead>\n",
       "<tbody>\n",
       "\t<tr><th scope=row>hsa05016</th><td>hsa05016</td><td>1e-04</td></tr>\n",
       "\t<tr><th scope=row>hsa05022</th><td>hsa05022</td><td>1e-04</td></tr>\n",
       "\t<tr><th scope=row>hsa05012</th><td>hsa05012</td><td>1e-04</td></tr>\n",
       "\t<tr><th scope=row>hsa00190</th><td>hsa00190</td><td>1e-04</td></tr>\n",
       "\t<tr><th scope=row>hsa05020</th><td>hsa05020</td><td>1e-04</td></tr>\n",
       "\t<tr><th scope=row>hsa05010</th><td>hsa05010</td><td>1e-04</td></tr>\n",
       "</tbody>\n",
       "</table>\n"
      ],
      "text/latex": [
       "A data.frame: 6 × 2\n",
       "\\begin{tabular}{r|ll}\n",
       "  & pathway & p.value\\\\\n",
       "  & <chr> & <dbl>\\\\\n",
       "\\hline\n",
       "\thsa05016 & hsa05016 & 1e-04\\\\\n",
       "\thsa05022 & hsa05022 & 1e-04\\\\\n",
       "\thsa05012 & hsa05012 & 1e-04\\\\\n",
       "\thsa00190 & hsa00190 & 1e-04\\\\\n",
       "\thsa05020 & hsa05020 & 1e-04\\\\\n",
       "\thsa05010 & hsa05010 & 1e-04\\\\\n",
       "\\end{tabular}\n"
      ],
      "text/markdown": [
       "\n",
       "A data.frame: 6 × 2\n",
       "\n",
       "| <!--/--> | pathway &lt;chr&gt; | p.value &lt;dbl&gt; |\n",
       "|---|---|---|\n",
       "| hsa05016 | hsa05016 | 1e-04 |\n",
       "| hsa05022 | hsa05022 | 1e-04 |\n",
       "| hsa05012 | hsa05012 | 1e-04 |\n",
       "| hsa00190 | hsa00190 | 1e-04 |\n",
       "| hsa05020 | hsa05020 | 1e-04 |\n",
       "| hsa05010 | hsa05010 | 1e-04 |\n",
       "\n"
      ],
      "text/plain": [
       "         pathway  p.value\n",
       "hsa05016 hsa05016 1e-04  \n",
       "hsa05022 hsa05022 1e-04  \n",
       "hsa05012 hsa05012 1e-04  \n",
       "hsa00190 hsa00190 1e-04  \n",
       "hsa05020 hsa05020 1e-04  \n",
       "hsa05010 hsa05010 1e-04  "
      ]
     },
     "metadata": {},
     "output_type": "display_data"
    }
   ],
   "source": [
    "# Assign the geneset variable to KEGG_hallmark loaded in previous code\n",
    "geneset <- KEGG_hallmark\n",
    "# Perform PADOG enrichment analysis using the .padog function\n",
    "res <- PADOG::padog(esetm = as.matrix(new_expression_data), group = as.character(groups$groups), \n",
    "                    gslist = geneset, gs.names = names(geneset), NI = 100, plots = FALSE, \n",
    "                    dseed = 1, parallel = TRUE, ncr = 1)\n",
    "res <- res[, c('ID', 'Ppadog')]\n",
    "colnames(res) <- c(\"pathway\", \"p.value\")\n",
    "head(res)"
   ]
  },
  {
   "cell_type": "markdown",
   "id": "c29ad340-33ee-4a39-a8ae-cd7aa05926bc",
   "metadata": {},
   "source": [
    "### Enrichment analysis using PADOG and REACTOME pathways\n",
    "\n",
    "We can use the same procedure to per enrichment analysis with the KEGG pathway. All the codes are similar but `genesets` are loaded from `KEGG_hallmark`, we also need to replace SYMBOL with ENTREZID. The code is shown below."
   ]
  },
  {
   "cell_type": "code",
   "execution_count": 97,
   "id": "9fcf6167-be75-4150-b3f0-4cb6b82a182f",
   "metadata": {},
   "outputs": [
    {
     "data": {
      "text/html": [
       "<table class=\"dataframe\">\n",
       "<caption>A data.frame: 6 × 54</caption>\n",
       "<thead>\n",
       "\t<tr><th></th><th scope=col>GSM300173</th><th scope=col>GSM300177</th><th scope=col>GSM300181</th><th scope=col>GSM300186</th><th scope=col>GSM300189</th><th scope=col>GSM300192</th><th scope=col>GSM300196</th><th scope=col>GSM300204</th><th scope=col>GSM300208</th><th scope=col>GSM300214</th><th scope=col>⋯</th><th scope=col>GSM1176201</th><th scope=col>GSM1176202</th><th scope=col>GSM1176203</th><th scope=col>GSM1176204</th><th scope=col>GSM1176205</th><th scope=col>GSM1176206</th><th scope=col>GSM1176207</th><th scope=col>GSM1176208</th><th scope=col>GSM1176209</th><th scope=col>GSM1176210</th></tr>\n",
       "\t<tr><th></th><th scope=col>&lt;dbl&gt;</th><th scope=col>&lt;dbl&gt;</th><th scope=col>&lt;dbl&gt;</th><th scope=col>&lt;dbl&gt;</th><th scope=col>&lt;dbl&gt;</th><th scope=col>&lt;dbl&gt;</th><th scope=col>&lt;dbl&gt;</th><th scope=col>&lt;dbl&gt;</th><th scope=col>&lt;dbl&gt;</th><th scope=col>&lt;dbl&gt;</th><th scope=col>⋯</th><th scope=col>&lt;dbl&gt;</th><th scope=col>&lt;dbl&gt;</th><th scope=col>&lt;dbl&gt;</th><th scope=col>&lt;dbl&gt;</th><th scope=col>&lt;dbl&gt;</th><th scope=col>&lt;dbl&gt;</th><th scope=col>&lt;dbl&gt;</th><th scope=col>&lt;dbl&gt;</th><th scope=col>&lt;dbl&gt;</th><th scope=col>&lt;dbl&gt;</th></tr>\n",
       "</thead>\n",
       "<tbody>\n",
       "\t<tr><th scope=row>780</th><td>0.6085351</td><td>0.8513945</td><td>1.1591995</td><td>2.0921063</td><td>1.2385797</td><td>0.8326798</td><td>0.8034588</td><td>0.6996407</td><td>1.3955209</td><td>1.1198790</td><td>⋯</td><td>1.1563261</td><td>1.6152382</td><td>1.1901788</td><td>1.4972300</td><td>0.6329609</td><td>1.4160284</td><td>1.2335104</td><td>1.2999401</td><td>0.8595833</td><td>1.2998189</td></tr>\n",
       "\t<tr><th scope=row>5982</th><td>0.9081397</td><td>0.9336113</td><td>0.8563885</td><td>1.0015364</td><td>0.7332213</td><td>0.8570584</td><td>1.0210657</td><td>0.9641521</td><td>0.8585522</td><td>0.8584299</td><td>⋯</td><td>0.8848516</td><td>0.9385835</td><td>1.0359085</td><td>0.9225201</td><td>1.0405487</td><td>0.8187565</td><td>0.9541863</td><td>0.9855680</td><td>1.1704986</td><td>0.9924505</td></tr>\n",
       "\t<tr><th scope=row>3310</th><td>0.8674964</td><td>0.8385732</td><td>0.9956165</td><td>0.9797408</td><td>3.5688195</td><td>1.0145685</td><td>1.1729818</td><td>1.0208826</td><td>0.8163447</td><td>0.8572931</td><td>⋯</td><td>0.9469172</td><td>1.3414407</td><td>0.9509885</td><td>1.3277143</td><td>1.0712911</td><td>0.9801153</td><td>0.9847162</td><td>1.4585433</td><td>1.2102244</td><td>0.9023996</td></tr>\n",
       "\t<tr><th scope=row>7849</th><td>1.1053528</td><td>1.0432043</td><td>1.0137772</td><td>1.0931698</td><td>1.0356631</td><td>0.9435998</td><td>1.1165266</td><td>1.0960624</td><td>1.0099041</td><td>1.0553276</td><td>⋯</td><td>1.0055602</td><td>0.8999849</td><td>0.9461904</td><td>1.2250262</td><td>1.0535747</td><td>0.9321033</td><td>1.0115234</td><td>1.0048561</td><td>1.1175232</td><td>1.0730404</td></tr>\n",
       "\t<tr><th scope=row>2978</th><td>1.2764652</td><td>0.8625501</td><td>1.0411838</td><td>1.0323309</td><td>0.8504494</td><td>1.3334491</td><td>1.1356378</td><td>1.0168769</td><td>0.9045680</td><td>0.8634836</td><td>⋯</td><td>1.3178803</td><td>0.8809971</td><td>0.9128050</td><td>1.0231747</td><td>1.0368457</td><td>0.9140167</td><td>1.0870208</td><td>0.9601511</td><td>3.4069852</td><td>1.0806457</td></tr>\n",
       "\t<tr><th scope=row>7318</th><td>0.8337133</td><td>1.0081274</td><td>1.0330204</td><td>1.5409547</td><td>0.8751729</td><td>1.0063332</td><td>0.7226255</td><td>0.9519509</td><td>0.8132348</td><td>1.0214182</td><td>⋯</td><td>1.2466778</td><td>1.8324052</td><td>0.8732074</td><td>1.4028883</td><td>0.9107665</td><td>0.9586981</td><td>1.1221024</td><td>1.1861940</td><td>1.0770138</td><td>1.2797908</td></tr>\n",
       "</tbody>\n",
       "</table>\n"
      ],
      "text/latex": [
       "A data.frame: 6 × 54\n",
       "\\begin{tabular}{r|lllllllllllllllllllll}\n",
       "  & GSM300173 & GSM300177 & GSM300181 & GSM300186 & GSM300189 & GSM300192 & GSM300196 & GSM300204 & GSM300208 & GSM300214 & ⋯ & GSM1176201 & GSM1176202 & GSM1176203 & GSM1176204 & GSM1176205 & GSM1176206 & GSM1176207 & GSM1176208 & GSM1176209 & GSM1176210\\\\\n",
       "  & <dbl> & <dbl> & <dbl> & <dbl> & <dbl> & <dbl> & <dbl> & <dbl> & <dbl> & <dbl> & ⋯ & <dbl> & <dbl> & <dbl> & <dbl> & <dbl> & <dbl> & <dbl> & <dbl> & <dbl> & <dbl>\\\\\n",
       "\\hline\n",
       "\t780 & 0.6085351 & 0.8513945 & 1.1591995 & 2.0921063 & 1.2385797 & 0.8326798 & 0.8034588 & 0.6996407 & 1.3955209 & 1.1198790 & ⋯ & 1.1563261 & 1.6152382 & 1.1901788 & 1.4972300 & 0.6329609 & 1.4160284 & 1.2335104 & 1.2999401 & 0.8595833 & 1.2998189\\\\\n",
       "\t5982 & 0.9081397 & 0.9336113 & 0.8563885 & 1.0015364 & 0.7332213 & 0.8570584 & 1.0210657 & 0.9641521 & 0.8585522 & 0.8584299 & ⋯ & 0.8848516 & 0.9385835 & 1.0359085 & 0.9225201 & 1.0405487 & 0.8187565 & 0.9541863 & 0.9855680 & 1.1704986 & 0.9924505\\\\\n",
       "\t3310 & 0.8674964 & 0.8385732 & 0.9956165 & 0.9797408 & 3.5688195 & 1.0145685 & 1.1729818 & 1.0208826 & 0.8163447 & 0.8572931 & ⋯ & 0.9469172 & 1.3414407 & 0.9509885 & 1.3277143 & 1.0712911 & 0.9801153 & 0.9847162 & 1.4585433 & 1.2102244 & 0.9023996\\\\\n",
       "\t7849 & 1.1053528 & 1.0432043 & 1.0137772 & 1.0931698 & 1.0356631 & 0.9435998 & 1.1165266 & 1.0960624 & 1.0099041 & 1.0553276 & ⋯ & 1.0055602 & 0.8999849 & 0.9461904 & 1.2250262 & 1.0535747 & 0.9321033 & 1.0115234 & 1.0048561 & 1.1175232 & 1.0730404\\\\\n",
       "\t2978 & 1.2764652 & 0.8625501 & 1.0411838 & 1.0323309 & 0.8504494 & 1.3334491 & 1.1356378 & 1.0168769 & 0.9045680 & 0.8634836 & ⋯ & 1.3178803 & 0.8809971 & 0.9128050 & 1.0231747 & 1.0368457 & 0.9140167 & 1.0870208 & 0.9601511 & 3.4069852 & 1.0806457\\\\\n",
       "\t7318 & 0.8337133 & 1.0081274 & 1.0330204 & 1.5409547 & 0.8751729 & 1.0063332 & 0.7226255 & 0.9519509 & 0.8132348 & 1.0214182 & ⋯ & 1.2466778 & 1.8324052 & 0.8732074 & 1.4028883 & 0.9107665 & 0.9586981 & 1.1221024 & 1.1861940 & 1.0770138 & 1.2797908\\\\\n",
       "\\end{tabular}\n"
      ],
      "text/markdown": [
       "\n",
       "A data.frame: 6 × 54\n",
       "\n",
       "| <!--/--> | GSM300173 &lt;dbl&gt; | GSM300177 &lt;dbl&gt; | GSM300181 &lt;dbl&gt; | GSM300186 &lt;dbl&gt; | GSM300189 &lt;dbl&gt; | GSM300192 &lt;dbl&gt; | GSM300196 &lt;dbl&gt; | GSM300204 &lt;dbl&gt; | GSM300208 &lt;dbl&gt; | GSM300214 &lt;dbl&gt; | ⋯ ⋯ | GSM1176201 &lt;dbl&gt; | GSM1176202 &lt;dbl&gt; | GSM1176203 &lt;dbl&gt; | GSM1176204 &lt;dbl&gt; | GSM1176205 &lt;dbl&gt; | GSM1176206 &lt;dbl&gt; | GSM1176207 &lt;dbl&gt; | GSM1176208 &lt;dbl&gt; | GSM1176209 &lt;dbl&gt; | GSM1176210 &lt;dbl&gt; |\n",
       "|---|---|---|---|---|---|---|---|---|---|---|---|---|---|---|---|---|---|---|---|---|---|\n",
       "| 780 | 0.6085351 | 0.8513945 | 1.1591995 | 2.0921063 | 1.2385797 | 0.8326798 | 0.8034588 | 0.6996407 | 1.3955209 | 1.1198790 | ⋯ | 1.1563261 | 1.6152382 | 1.1901788 | 1.4972300 | 0.6329609 | 1.4160284 | 1.2335104 | 1.2999401 | 0.8595833 | 1.2998189 |\n",
       "| 5982 | 0.9081397 | 0.9336113 | 0.8563885 | 1.0015364 | 0.7332213 | 0.8570584 | 1.0210657 | 0.9641521 | 0.8585522 | 0.8584299 | ⋯ | 0.8848516 | 0.9385835 | 1.0359085 | 0.9225201 | 1.0405487 | 0.8187565 | 0.9541863 | 0.9855680 | 1.1704986 | 0.9924505 |\n",
       "| 3310 | 0.8674964 | 0.8385732 | 0.9956165 | 0.9797408 | 3.5688195 | 1.0145685 | 1.1729818 | 1.0208826 | 0.8163447 | 0.8572931 | ⋯ | 0.9469172 | 1.3414407 | 0.9509885 | 1.3277143 | 1.0712911 | 0.9801153 | 0.9847162 | 1.4585433 | 1.2102244 | 0.9023996 |\n",
       "| 7849 | 1.1053528 | 1.0432043 | 1.0137772 | 1.0931698 | 1.0356631 | 0.9435998 | 1.1165266 | 1.0960624 | 1.0099041 | 1.0553276 | ⋯ | 1.0055602 | 0.8999849 | 0.9461904 | 1.2250262 | 1.0535747 | 0.9321033 | 1.0115234 | 1.0048561 | 1.1175232 | 1.0730404 |\n",
       "| 2978 | 1.2764652 | 0.8625501 | 1.0411838 | 1.0323309 | 0.8504494 | 1.3334491 | 1.1356378 | 1.0168769 | 0.9045680 | 0.8634836 | ⋯ | 1.3178803 | 0.8809971 | 0.9128050 | 1.0231747 | 1.0368457 | 0.9140167 | 1.0870208 | 0.9601511 | 3.4069852 | 1.0806457 |\n",
       "| 7318 | 0.8337133 | 1.0081274 | 1.0330204 | 1.5409547 | 0.8751729 | 1.0063332 | 0.7226255 | 0.9519509 | 0.8132348 | 1.0214182 | ⋯ | 1.2466778 | 1.8324052 | 0.8732074 | 1.4028883 | 0.9107665 | 0.9586981 | 1.1221024 | 1.1861940 | 1.0770138 | 1.2797908 |\n",
       "\n"
      ],
      "text/plain": [
       "     GSM300173 GSM300177 GSM300181 GSM300186 GSM300189 GSM300192 GSM300196\n",
       "780  0.6085351 0.8513945 1.1591995 2.0921063 1.2385797 0.8326798 0.8034588\n",
       "5982 0.9081397 0.9336113 0.8563885 1.0015364 0.7332213 0.8570584 1.0210657\n",
       "3310 0.8674964 0.8385732 0.9956165 0.9797408 3.5688195 1.0145685 1.1729818\n",
       "7849 1.1053528 1.0432043 1.0137772 1.0931698 1.0356631 0.9435998 1.1165266\n",
       "2978 1.2764652 0.8625501 1.0411838 1.0323309 0.8504494 1.3334491 1.1356378\n",
       "7318 0.8337133 1.0081274 1.0330204 1.5409547 0.8751729 1.0063332 0.7226255\n",
       "     GSM300204 GSM300208 GSM300214 ⋯ GSM1176201 GSM1176202 GSM1176203\n",
       "780  0.6996407 1.3955209 1.1198790 ⋯ 1.1563261  1.6152382  1.1901788 \n",
       "5982 0.9641521 0.8585522 0.8584299 ⋯ 0.8848516  0.9385835  1.0359085 \n",
       "3310 1.0208826 0.8163447 0.8572931 ⋯ 0.9469172  1.3414407  0.9509885 \n",
       "7849 1.0960624 1.0099041 1.0553276 ⋯ 1.0055602  0.8999849  0.9461904 \n",
       "2978 1.0168769 0.9045680 0.8634836 ⋯ 1.3178803  0.8809971  0.9128050 \n",
       "7318 0.9519509 0.8132348 1.0214182 ⋯ 1.2466778  1.8324052  0.8732074 \n",
       "     GSM1176204 GSM1176205 GSM1176206 GSM1176207 GSM1176208 GSM1176209\n",
       "780  1.4972300  0.6329609  1.4160284  1.2335104  1.2999401  0.8595833 \n",
       "5982 0.9225201  1.0405487  0.8187565  0.9541863  0.9855680  1.1704986 \n",
       "3310 1.3277143  1.0712911  0.9801153  0.9847162  1.4585433  1.2102244 \n",
       "7849 1.2250262  1.0535747  0.9321033  1.0115234  1.0048561  1.1175232 \n",
       "2978 1.0231747  1.0368457  0.9140167  1.0870208  0.9601511  3.4069852 \n",
       "7318 1.4028883  0.9107665  0.9586981  1.1221024  1.1861940  1.0770138 \n",
       "     GSM1176210\n",
       "780  1.2998189 \n",
       "5982 0.9924505 \n",
       "3310 0.9023996 \n",
       "7849 1.0730404 \n",
       "2978 1.0806457 \n",
       "7318 1.2797908 "
      ]
     },
     "metadata": {},
     "output_type": "display_data"
    }
   ],
   "source": [
    "# load the expression data, the normalized expression data and the groups\n",
    "data <- readRDS(\"./data/GSE48350.rds\")\n",
    "expression_data <- data$expression_data\n",
    "norm_expression_data <- data$norm_expression_data\n",
    "groups <- data$groups\n",
    "\n",
    "# Get the probe IDs\n",
    "norm_expression_data$PROBEID <- rownames(norm_expression_data)\n",
    "probeIDs <- rownames(norm_expression_data)\n",
    "# Perform gene mapping\n",
    "suppressMessages({\n",
    "    annotLookup <- AnnotationDbi::select(hgu133plus2.db, keys = probeIDs, columns = c('PROBEID', 'GENENAME', 'ENTREZID'))\n",
    "})\n",
    "# Merge DE result  data frame with annotation table\n",
    "new_expression_data = merge(annotLookup, norm_expression_data, by = \"PROBEID\")\n",
    "# Remove NA value\n",
    "new_expression_data <- new_expression_data[!is.na(new_expression_data$ENTREZID), ]\n",
    "# Remove duplicated genes ENTREZID\n",
    "new_expression_data <- new_expression_data[!duplicated(new_expression_data$ENTREZID, fromLast = FALSE), ]\n",
    "rownames(new_expression_data) <- new_expression_data$ENTREZID\n",
    "# Drop PROBEID, GENENAME, and ENTREZID columns\n",
    "new_expression_data <- new_expression_data[, -c(1:3)]\n",
    "\n",
    "# show some first rows of the new expression data\n",
    "head(new_expression_data)"
   ]
  },
  {
   "cell_type": "code",
   "execution_count": 98,
   "id": "c2b0002b-3c8e-4b7f-91f8-d2198e785100",
   "metadata": {},
   "outputs": [
    {
     "name": "stdout",
     "output_type": "stream",
     "text": [
      "Starting with 2647 gene sets!\n",
      "Analyzing 2198 gene sets with 3 or more genes!\n",
      "# of permutations used: 100 \n"
     ]
    },
    {
     "data": {
      "text/html": [
       "<table class=\"dataframe\">\n",
       "<caption>A data.frame: 6 × 2</caption>\n",
       "<thead>\n",
       "\t<tr><th></th><th scope=col>pathway</th><th scope=col>p.value</th></tr>\n",
       "\t<tr><th></th><th scope=col>&lt;chr&gt;</th><th scope=col>&lt;dbl&gt;</th></tr>\n",
       "</thead>\n",
       "<tbody>\n",
       "\t<tr><th scope=row>R-HSA-1428517</th><td>R-HSA-1428517</td><td>1e-04</td></tr>\n",
       "\t<tr><th scope=row>R-HSA-444411</th><td>R-HSA-444411 </td><td>1e-04</td></tr>\n",
       "\t<tr><th scope=row>R-HSA-210747</th><td>R-HSA-210747 </td><td>1e-04</td></tr>\n",
       "\t<tr><th scope=row>R-HSA-1852241</th><td>R-HSA-1852241</td><td>1e-04</td></tr>\n",
       "\t<tr><th scope=row>R-HSA-210744</th><td>R-HSA-210744 </td><td>1e-04</td></tr>\n",
       "\t<tr><th scope=row>R-HSA-8949613</th><td>R-HSA-8949613</td><td>1e-04</td></tr>\n",
       "</tbody>\n",
       "</table>\n"
      ],
      "text/latex": [
       "A data.frame: 6 × 2\n",
       "\\begin{tabular}{r|ll}\n",
       "  & pathway & p.value\\\\\n",
       "  & <chr> & <dbl>\\\\\n",
       "\\hline\n",
       "\tR-HSA-1428517 & R-HSA-1428517 & 1e-04\\\\\n",
       "\tR-HSA-444411 & R-HSA-444411  & 1e-04\\\\\n",
       "\tR-HSA-210747 & R-HSA-210747  & 1e-04\\\\\n",
       "\tR-HSA-1852241 & R-HSA-1852241 & 1e-04\\\\\n",
       "\tR-HSA-210744 & R-HSA-210744  & 1e-04\\\\\n",
       "\tR-HSA-8949613 & R-HSA-8949613 & 1e-04\\\\\n",
       "\\end{tabular}\n"
      ],
      "text/markdown": [
       "\n",
       "A data.frame: 6 × 2\n",
       "\n",
       "| <!--/--> | pathway &lt;chr&gt; | p.value &lt;dbl&gt; |\n",
       "|---|---|---|\n",
       "| R-HSA-1428517 | R-HSA-1428517 | 1e-04 |\n",
       "| R-HSA-444411 | R-HSA-444411  | 1e-04 |\n",
       "| R-HSA-210747 | R-HSA-210747  | 1e-04 |\n",
       "| R-HSA-1852241 | R-HSA-1852241 | 1e-04 |\n",
       "| R-HSA-210744 | R-HSA-210744  | 1e-04 |\n",
       "| R-HSA-8949613 | R-HSA-8949613 | 1e-04 |\n",
       "\n"
      ],
      "text/plain": [
       "              pathway       p.value\n",
       "R-HSA-1428517 R-HSA-1428517 1e-04  \n",
       "R-HSA-444411  R-HSA-444411  1e-04  \n",
       "R-HSA-210747  R-HSA-210747  1e-04  \n",
       "R-HSA-1852241 R-HSA-1852241 1e-04  \n",
       "R-HSA-210744  R-HSA-210744  1e-04  \n",
       "R-HSA-8949613 R-HSA-8949613 1e-04  "
      ]
     },
     "metadata": {},
     "output_type": "display_data"
    }
   ],
   "source": [
    "# Assign the geneset variable to KEGG_hallmark loaded in previous code\n",
    "geneset <- REACTOME_hallmark\n",
    "# Perform PADOG enrichment analysis using the .padog function\n",
    "res <- PADOG::padog(esetm = as.matrix(new_expression_data), group = as.character(groups$groups), gslist = geneset,\n",
    "                        gs.names = names(geneset), NI = 100, plots = FALSE, dseed = 1,\n",
    "                         parallel = TRUE, ncr = 1)\n",
    "res <- res[, c('ID', 'Ppadog')]\n",
    "colnames(res) <- c(\"pathway\", \"p.value\")\n",
    "head(res)"
   ]
  },
  {
   "cell_type": "code",
   "execution_count": null,
   "id": "cbf4d680-3478-4c7a-af18-3746faefcc99",
   "metadata": {},
   "outputs": [],
   "source": []
  },
  {
   "cell_type": "markdown",
   "id": "49fd3929-7d2e-401d-93c6-24572bec35f6",
   "metadata": {},
   "source": [
    "The next submodule will go indepth about meta analysis."
   ]
  },
  {
   "cell_type": "code",
   "execution_count": 80,
   "id": "e870e8eb-ee47-439b-8154-0a720927bd79",
   "metadata": {},
   "outputs": [
    {
     "data": {
      "text/plain": [
       "R version 4.3.2 (2023-10-31 ucrt)\n",
       "Platform: x86_64-w64-mingw32/x64 (64-bit)\n",
       "Running under: Windows 10 x64 (build 19045)\n",
       "\n",
       "Matrix products: default\n",
       "\n",
       "\n",
       "locale:\n",
       "[1] LC_COLLATE=English_United States.utf8 \n",
       "[2] LC_CTYPE=English_United States.utf8   \n",
       "[3] LC_MONETARY=English_United States.utf8\n",
       "[4] LC_NUMERIC=C                          \n",
       "[5] LC_TIME=English_United States.utf8    \n",
       "\n",
       "time zone: America/Chicago\n",
       "tzcode source: internal\n",
       "\n",
       "attached base packages:\n",
       "[1] stats4    stats     graphics  grDevices utils     datasets  methods  \n",
       "[8] base     \n",
       "\n",
       "other attached packages:\n",
       " [1] PADOG_1.44.0             KEGGdzPathwaysGEO_1.40.0 GSA_1.03.2              \n",
       " [4] fgsea_1.28.0             BiocManager_1.30.22      hgu133plus2.db_3.13.0   \n",
       " [7] org.Hs.eg.db_3.18.0      AnnotationDbi_1.64.1     IRanges_2.36.0          \n",
       "[10] S4Vectors_0.40.2         Biobase_2.62.0           BiocGenerics_0.48.1     \n",
       "\n",
       "loaded via a namespace (and not attached):\n",
       " [1] tidyselect_1.2.0        IRdisplay_1.1           dplyr_1.1.4            \n",
       " [4] farver_2.1.1            blob_1.2.4              Biostrings_2.70.1      \n",
       " [7] bitops_1.0-7            fastmap_1.1.1           RCurl_1.98-1.13        \n",
       "[10] digest_0.6.33           lifecycle_1.0.4         statmod_1.5.0          \n",
       "[13] KEGGREST_1.42.0         RSQLite_2.3.4           magrittr_2.0.3         \n",
       "[16] compiler_4.3.2          rngtools_1.5.2          rlang_1.1.2            \n",
       "[19] tools_4.3.2             utf8_1.2.4              data.table_1.14.10     \n",
       "[22] labeling_0.4.3          doRNG_1.8.6             bit_4.0.5              \n",
       "[25] repr_1.1.6              BiocParallel_1.36.0     pbdZMQ_0.3-10          \n",
       "[28] withr_2.5.2             hgu133a.db_3.13.0       grid_4.3.2             \n",
       "[31] fansi_1.0.6             colorspace_2.1-0        ggplot2_3.4.4          \n",
       "[34] iterators_1.0.14        scales_1.3.0            cli_3.6.2              \n",
       "[37] crayon_1.5.2            generics_0.1.3          httr_1.4.7             \n",
       "[40] DBI_1.2.0               cachem_1.0.8            zlibbioc_1.48.0        \n",
       "[43] parallel_4.3.2          XVector_0.42.0          base64enc_0.1-3        \n",
       "[46] vctrs_0.6.5             Matrix_1.6-1.1          jsonlite_1.8.8         \n",
       "[49] bit64_4.0.5             foreach_1.5.2           limma_3.58.1           \n",
       "[52] snow_0.4-4              glue_1.6.2              codetools_0.2-19       \n",
       "[55] cowplot_1.1.2           gtable_0.3.4            GenomeInfoDb_1.38.2    \n",
       "[58] munsell_0.5.0           tibble_3.2.1            pillar_1.9.0           \n",
       "[61] htmltools_0.5.7         IRkernel_1.3.2          GenomeInfoDbData_1.2.11\n",
       "[64] R6_2.5.1                doParallel_1.0.17       evaluate_0.23          \n",
       "[67] lattice_0.21-9          png_0.1-8               memoise_2.0.1          \n",
       "[70] Rcpp_1.0.11             uuid_1.1-1              fastmatch_1.1-4        \n",
       "[73] nlme_3.1-163            pkgconfig_2.0.3        "
      ]
     },
     "metadata": {},
     "output_type": "display_data"
    }
   ],
   "source": [
    "sessionInfo()"
   ]
  },
  {
   "cell_type": "code",
   "execution_count": null,
   "id": "ca1ba4ed-3e1c-4d5a-8554-40703527a4d5",
   "metadata": {},
   "outputs": [],
   "source": []
  }
 ],
 "metadata": {
  "celltoolbar": "Tags",
  "environment": {
   "kernel": "ir",
   "name": "r-cpu.4-2.m107",
   "type": "gcloud",
   "uri": "gcr.io/deeplearning-platform-release/r-cpu.4-2:m107"
  },
  "kernelspec": {
   "display_name": "R",
   "language": "R",
   "name": "ir"
  },
  "language_info": {
   "codemirror_mode": "r",
   "file_extension": ".r",
   "mimetype": "text/x-r-source",
   "name": "R",
   "pygments_lexer": "r",
   "version": "4.3.2"
  },
  "toc-showcode": true,
  "widgets": {
   "application/vnd.jupyter.widget-state+json": {
    "state": {},
    "version_major": 2,
    "version_minor": 0
   }
  }
 },
 "nbformat": 4,
 "nbformat_minor": 5
}
