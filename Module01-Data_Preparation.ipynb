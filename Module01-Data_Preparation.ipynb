{
 "cells": [
  {
   "cell_type": "markdown",
   "id": "68e3537d",
   "metadata": {
    "editable": true,
    "slideshow": {
     "slide_type": ""
    },
    "tags": []
   },
   "source": [
    "# Data Preparation\n",
    "\n",
    "![](./images/Module1/Data_Processing.jpg)\n",
    "\n",
    "### Learning Objectives:\n",
    "1. Explore data that is accessible from Gene Expression Omnibus (GEO) database.\n",
    "2. Be familiar with navigating the GEO website.\n",
    "3. Use R command-line interface to download data from GEO.\n",
    "4. Understand the associated tools and databases for processing the downloaded data.\n",
    "5. Save processed data on Google Cloud Storage bucket.\n",
    "\n",
    "### Neccessary Files:\n",
    "This module requires the following file types as input:\n",
    "1. A gene expression/read count matrix file. The matrix file is a table that contains the gene expression/read counts for each gene in each sample. The matrix can be saved in any format, e.g., TXT, CSV, TSV, etc, depending on what data processing pipelines that users use to generate the matrix file. The rows in the matrix are genes while the columns are samples. An example of gene expression matrix is shown as below:\n",
    "\n",
    "|             | GSM119615          | GSM119616          | GSM119617          | GSM119618          | GSM119619          \n",
    "|:-----------:|:------------------:|:------------------:|:------------------:|:------------------:|:------------------:|\n",
    "| 1007_s_at | 3.04323425517482 | 3.05515684574341 | 3.14427732331235 | 3.15037838740089 | 3.08433619779214 |\n",
    "| 1053_at   | 1.6989741372678  | 1.64505044064649 | 1.61853660336629 | 1.58921620872969 | 1.67627846534405 |\n",
    "| 117_at    | 1.79575122130175 | 1.77071939589223 | 1.8055973820331  | 1.99579428666963 | 1.68806828653924 |\n",
    "| 121_at    | 2.55317399472689 | 2.66845569269254 | 2.80145009438891 | 2.78421648767123 | 2.58863789167533 |\n",
    "| 1255_g_at | 1.62669072298292 | 1.94005524422883 | 1.66316207819754 | 1.48387481399009 | 2.35409631475498 |\n",
    "| 1294_at   | 2.15769922107969 | 2.10854830137981 | 2.132317337458   | 2.22314803446085 | 2.10343010241396 |\n",
    "| 1316_at   | 2.73283077324695 | 2.77202911328326 | 2.8260604261457  | 2.89151133821962 | 2.81511829114971 |\n",
    "| 1320_at   | 1.87645993353949 | 1.59382141967117 | 1.75432635895642 | 1.64210915908087 | 1.60903888696797 |\n",
    "\n",
    "2. A spreadsheet containing sample information, which can be CSV or TSV format. In this spreadsheet, each row represents a sample, and each column represents its attribute, e.g., sample ID, disease status, tissue, platform, etc. An example of this spreadsheet is shown as below:\n",
    "\n",
    "|             | title              | sampleID     | Sex.ch1            | condition          | region                            |\n",
    "|:-----------:|:------------------:|:------------------:|:------------------:|:------------------:|:---------------------------------:|\n",
    "| GSM119615 | EC control 1     | GSM119615        | male             | normal           | organ.region..entorhinal.cortex.|\n",
    "| GSM119616 | EC control 2     | GSM119616        | male             | normal           | organ.region..entorhinal.cortex.|\n",
    "| GSM119617 | EC control 3     | GSM119617        | male             | normal           | organ.region..entorhinal.cortex.|\n",
    "| GSM119618 | EC control 4     | GSM119618        | male             | normal           | organ.region..entorhinal.cortex.|\n",
    "| GSM119619 | EC control 5     | GSM119619        | female           | normal           | organ.region..entorhinal.cortex.|\n",
    "\n",
    "<ins>**Note for users:**</ins> In our training modules of consensus pathway analysis, we will forcus on working with the processed data provided as a table, which ensures the reproducibility of all of the analyses introduced. \n",
    "Therefore, if users would like to learn how to process the raw data, we recommend users to learn it from other sources or looking into other training modules in this NIH NGIMS Sanbox project <a href=\"https://github.com/NIGMS/NIGMS-Sandbox/\"> https://github.com/NIGMS/NIGMS-Sandbox/</a>, which consists the training sessions from processing high-throughput data to many different downstream analysis such as pathway analysis or multi omics data integration."
   ]
  },
  {
   "cell_type": "markdown",
   "id": "a992013a-eeef-47a7-bf24-537f7768f0f2",
   "metadata": {},
   "source": [
    "## Manually Upload Data to Cloud\n",
    "### Upload data to Vertex AI Instance\n",
    "Users can upload the data directly to the cloud by simply using the user interface of this Jupyter Notebook. The instructions are shown in the following figure:\n",
    "![](./images/Module1/Data_Uploading_VAI.png)\n",
    "\n",
    "### Upload data to Cloud Storage Bucket\n",
    "Alternately, users can also upload their data to the Cloud Storage Bucket. The data may be lost after users delete the Vertex AI Instance, so storing them to the Cloud Storage Bucket allows users to use the data anytime they want. The instructions to upload the data to the Cloud Storage Bucket are shown in the following figure:\n",
    "1. On the webpage of Google Cloud account, find and select `Cloud Storage`, then select `Buckets`.\n",
    "2. Select `CREATE` button to create a new bucket.\n",
    "3. Enter the information such as name, region, etc, required for creating the bucket. Note that users can define the access control in this step, and edit the access later once users wants to share their data.\n",
    "4. Click `CREATE` once the all required information are provided.\n",
    "5. The dashboard listing all the buckets users created is shown in the figure below:\n",
    "![](./images/Module1/Data_CloudBucket.png)\n",
    "7. Click on the bucket's name and start upload data to the bucket as following figure:\n",
    "![](./images/Module1/Data_Uploading_CloudBucket.png)\n",
    "\n",
    "Once the uploading is done, users can simply load the data to their instance by running the following command syntax in R code block: `system(\"gsutil cp gs://<BUCKET-NAME>/<FILE-NAME> <DESTINATION>\")`. For example, we run the following command lines to load the data we store in the Cloud Storage Bucket:"
   ]
  },
  {
   "cell_type": "code",
   "execution_count": null,
   "id": "dd7fda88-9c43-49e5-a464-d504fb200512",
   "metadata": {},
   "outputs": [],
   "source": [
    "# Download the files from Cloud Storage Bucket to the \"data\" folder in current directory\n",
    "system(\"gsutil cp gs://ccpa_bucket/GSE5281.csv ./data/\")\n",
    "system(\"gsutil cp gs://ccpa_bucket/GSE5281_SampleInfo.csv ./data/\")"
   ]
  },
  {
   "attachments": {},
   "cell_type": "markdown",
   "id": "5ae77e2e",
   "metadata": {
    "editable": true,
    "slideshow": {
     "slide_type": ""
    },
    "tags": []
   },
   "source": [
    "## Query Public Data Using R Command Lines:\n",
    "Users can also using R to query expression data from many public databases such as: Gene Expression Omnibus (GEO), The Cancer Genome Atlas (TCGA), etc.\n",
    "There are many R packages specifically built for querying data from these database. In this section, we will download and process the two Alzheimer's datasets from GE), with accession numbers: GSE5281 (Microarray) and GSE153873 (RNA-Seq), using the `GEOQuery` R package. For other databases, we suggest users to look for the designated packages on many R communities such as CRAN or BioConductor.\n",
    "\n",
    "### Browsing data on The Gene Expression Omnibus (GEO):\n",
    "The Gene Expression Omnibus (GEO) is a public repository that accumulates and serves gene expression data, such as microarray, next-generation sequencing, and other forms of high-throughput functional genomic data, from thousands of studies submitted by the scientific community. \n",
    "The data come with written descriptions of experimental design, sample characteristics, and methodology for studies of high-throughput gene expression and genomics. \n",
    "\n",
    "Browsing the content on the GEO website is user-friendly and relatively straightforward. First, users need to navigate to <a href=\"https://www.ncbi.nlm.nih.gov/geo/\"> https://www.ncbi.nlm.nih.gov/geo/</a>. The GEO website interface is shown in the figure below:\n",
    "\n",
    "![](./images/Module1/GEO_Website.png)\n",
    "\n",
    "The most straight-forward is to click on the contents under the `Browse Content` column.\n",
    "For example, if we click on the `Series`, we can see the following web page:\n",
    "\n",
    "![](./images/Module1/GEO_Website_Screening.png)\n",
    "\n",
    "From the figure, we can see the list data series that are available on GEO, provided with basic information about the series including accession ID, title, type of sequencing platform, organism, number of samples, referenced dataset ID, list of supplementary files, contact person and release data. Of note, the `Supplementary` column also specifies whether there are available raw data in the series. We can apply the filter in these columns to find the datasets that matched our research. Given the data series of interest, we can click on the accession number to further explore the data. \n",
    "\n",
    "Alternatively, if we know the accession number, we can provide it to the search box on the homepage. Now, we will search for the two datasets that we are going to use in the learning module.\n",
    "The GEO website interface with the searching procedure of the example dataset is shown in the figure below:\n",
    "\n",
    "![](./images/Module1/GEO_Website_Searchbox.png)\n",
    "\n",
    "When the searching process is done, a webpage with a detailed record of the example dataset such as published date, title, organism, experiment type, dataset summary, etc. will be shown in the figure below:\n",
    "\n",
    "![](./images/Module1/GEO_Dataset_Page.png)\n",
    "\n",
    "At the bottom of the dataset page, users will find additional information about the dataset such as sequencing platform, number of samples, project ID, and links to download the expression data. Users can also click the `(http)` hyperlink to download all the samples or click `(custom)` to select and download the samples of interest. Note that, expression data downloaded at this step may be raw data and additional data processing needs to be done locally for further analysis."
   ]
  },
  {
   "cell_type": "markdown",
   "id": "61e0d237-cf6a-465c-93f8-d9bbc6d93a6d",
   "metadata": {
    "editable": true,
    "slideshow": {
     "slide_type": ""
    },
    "tags": []
   },
   "source": [
    "To display the quiz in all the learning sub-modules, it is necessary to have the `IRdisplay` package pre-installed.\n",
    "This package allows quizzes written in `html` format to show up in the notebook. Users can install the `IRdisplay` using the following command:\n",
    "```\n",
    "suppressWarnings(if (!require(\"IRdisplay\")) install.packages(\"IRdisplay\"))\n",
    "suppressWarnings(library(IRdisplay))\n",
    "```\n"
   ]
  },
  {
   "cell_type": "code",
   "execution_count": 1,
   "id": "02d33273-5c2e-42fb-85f7-1b2943631f5a",
   "metadata": {
    "tags": []
   },
   "outputs": [
    {
     "data": {
      "text/html": [
       "<iframe src=\"./Quizzes/Quiz_Submodule1.html\" width=100% height=250></iframe>"
      ]
     },
     "metadata": {},
     "output_type": "display_data"
    }
   ],
   "source": [
    "# Run the following command to take the quiz\n",
    "IRdisplay::display_html('<iframe src=\"./Quizzes/Quiz_Submodule1.html\" width=100% height=250></iframe>')"
   ]
  },
  {
   "cell_type": "markdown",
   "id": "13964320",
   "metadata": {},
   "source": [
    "### Access GEO Data Using R Command Line\n",
    "\n",
    "Getting data from GEO is quite easy using <a href=\"https://bioconductor.org/packages/release/bioc/html/GEOquery.html\">GEOquery</a> R package available in <a href=\"https://bioconductor.org/\">Bioconductor</a>. Before starting, users will need to install the GEOquery package using the following command."
   ]
  },
  {
   "cell_type": "code",
   "execution_count": 3,
   "id": "86a5586b-b450-4557-84fe-a6d24eda03a1",
   "metadata": {},
   "outputs": [],
   "source": [
    "# Specify path to install site packages\n",
    "# .libPaths(\"/home/jupyter/.R/library\")\n",
    ".libPaths(\"/home/han/R/x86_64-pc-linux-gnu-library/4.1\")"
   ]
  },
  {
   "cell_type": "code",
   "execution_count": 4,
   "id": "77bf03b8",
   "metadata": {
    "pycharm": {
     "is_executing": true
    },
    "tags": []
   },
   "outputs": [],
   "source": [
    "# Install required package\n",
    "suppressMessages({\n",
    "    \n",
    "    if (!require(\"BiocManager\", quietly = TRUE)) {\n",
    "        suppressWarnings(install.packages(\"BiocManager\"))\n",
    "\n",
    "    }  \n",
    "    suppressWarnings(BiocManager::install(\"GEOquery\", update = F))\n",
    "})\n",
    "\n",
    "# Check if the package is installed\n",
    "suppressMessages(library(\"GEOquery\"))"
   ]
  },
  {
   "cell_type": "markdown",
   "id": "1624fe5a",
   "metadata": {},
   "source": [
    "#### Access GEO Microarray Dataset: GSE5281\n",
    "We can use the `getGEO` function from the `GEOquery` package to download GEO dataset. First, users have to specify the accession ID of the dataset. For this demonstration, we will use the same dataset `GSE48350`."
   ]
  },
  {
   "cell_type": "code",
   "execution_count": 5,
   "id": "6e56fd57-3a91-4715-962b-07f43324c519",
   "metadata": {
    "tags": []
   },
   "outputs": [],
   "source": [
    "# Specify GEO accession ID\n",
    "accession_ID <- \"GSE5281\"\n",
    "\n",
    "# Specify directory to save the data\n",
    "save_Path <- \"./data\"\n",
    "\n",
    "# Download the data\n",
    "suppressMessages({\n",
    "    gse <- getGEO(GEO = accession_ID, destdir = save_Path)\n",
    "})"
   ]
  },
  {
   "cell_type": "markdown",
   "id": "c983800f-61f1-49e4-9f51-2431875ada39",
   "metadata": {},
   "source": [
    "To use the `getGEO` function, you need to pass the following arguments:\n",
    "\n",
    "- `GEO`: A character string representing the GEO accession ID\n",
    "- `destdir`: A character string representing the destination directory to save the downloaded data.\n",
    "\n",
    "The `getGEO` function will return a list of `ExpressionSet` objects. This list can contain more than 1 object. It is because some datasets on GEO may be derived from different microarray platforms. Therefore, each object in the returned list is with repect to data generated from a particular platform.\n",
    "We can find out how many platforms were used by checking the length of the `gse` object."
   ]
  },
  {
   "cell_type": "code",
   "execution_count": 6,
   "id": "1d028647",
   "metadata": {
    "pycharm": {
     "is_executing": true
    },
    "scrolled": true,
    "tags": []
   },
   "outputs": [
    {
     "name": "stderr",
     "output_type": "stream",
     "text": [
      "Number of platforms: 1\n",
      "\n"
     ]
    }
   ],
   "source": [
    "# Check how many platforms used\n",
    "message(paste0(\"Number of platforms: \", length(gse)))"
   ]
  },
  {
   "cell_type": "markdown",
   "id": "6a3cdf0c-578d-4fed-a98a-7c4341af2e7e",
   "metadata": {},
   "source": [
    "The result shows that we have only one dataset that belongs to the microarray platform mentioned GEO dataset page.\n",
    "Next, we can access the gene expression matrix, samples and genes information using the specific accesor functions as follows:"
   ]
  },
  {
   "cell_type": "code",
   "execution_count": 7,
   "id": "99e9ee50-8a54-4a03-956c-72ee4cad4bf4",
   "metadata": {
    "pycharm": {
     "is_executing": true
    },
    "tags": []
   },
   "outputs": [
    {
     "name": "stdout",
     "output_type": "stream",
     "text": [
      "[1] \"The dataset contains 161 samples and 54675 genes\"\n"
     ]
    }
   ],
   "source": [
    "# Extract the dataset from the gse object\n",
    "data <- gse[[1]]\n",
    "\n",
    "# Access to the gene expression matrix\n",
    "GSE5281Exprs <- exprs(data)\n",
    "\n",
    "# Access to the samples information\n",
    "GSE5281Samples <- pData(data)\n",
    "\n",
    "# Access to the genes information\n",
    "GSE5281Genes <- fData(data)\n",
    "\n",
    "# Check the number of samples and genes\n",
    "print(paste0(\"The dataset contains \", dim(GSE5281Samples)[1] , \" samples and \", dim(GSE5281Genes)[1], \" genes\"))"
   ]
  },
  {
   "cell_type": "code",
   "execution_count": 7,
   "id": "fff0d9e1-c932-4cd8-bb22-2e9c1421b14f",
   "metadata": {
    "tags": []
   },
   "outputs": [
    {
     "data": {
      "text/html": [
       "<iframe src=\"./Quizzes/Quiz_Submodule1-1.html\" width=100% height=250></iframe>"
      ]
     },
     "metadata": {},
     "output_type": "display_data"
    }
   ],
   "source": [
    "# Run the following command to take the quiz\n",
    "IRdisplay::display_html('<iframe src=\"./Quizzes/Quiz_Submodule1-1.html\" width=100% height=250></iframe>')"
   ]
  },
  {
   "cell_type": "markdown",
   "id": "56de1fc1",
   "metadata": {},
   "source": [
    "We can check the data tables we have just accessed by specifying the indexes of rows and columns as follows:"
   ]
  },
  {
   "cell_type": "code",
   "execution_count": 22,
   "id": "3ac10fe6-138e-490b-b4a7-e8b292ab93c1",
   "metadata": {},
   "outputs": [
    {
     "name": "stderr",
     "output_type": "stream",
     "text": [
      "The example of gene expression matrix\n",
      "\n"
     ]
    },
    {
     "data": {
      "text/html": [
       "<table class=\"dataframe\">\n",
       "<caption>A matrix: 10 × 10 of type dbl</caption>\n",
       "<thead>\n",
       "\t<tr><th></th><th scope=col>GSM119615</th><th scope=col>GSM119616</th><th scope=col>GSM119617</th><th scope=col>GSM119618</th><th scope=col>GSM119619</th><th scope=col>GSM119620</th><th scope=col>GSM119621</th><th scope=col>GSM119622</th><th scope=col>GSM119623</th><th scope=col>GSM119624</th></tr>\n",
       "</thead>\n",
       "<tbody>\n",
       "\t<tr><th scope=row>1007_s_at</th><td>693.973300</td><td>807.145140</td><td>1722.625000</td><td>1668.05750</td><td>2231.29690</td><td>990.541000</td><td>1396.82420</td><td>1026.056500</td><td>736.770300</td><td>938.81710</td></tr>\n",
       "\t<tr><th scope=row>1053_at</th><td>  9.755318</td><td> 19.052270</td><td>  13.060389</td><td>  14.65225</td><td> 138.67683</td><td>  7.186742</td><td>  10.17089</td><td>  34.056934</td><td>  7.829473</td><td> 40.23533</td></tr>\n",
       "\t<tr><th scope=row>117_at</th><td> 13.346846</td><td> 18.217276</td><td>  97.425470</td><td>  98.19795</td><td> 106.46844</td><td> 98.710520</td><td> 164.32666</td><td>  46.306164</td><td> 35.067910</td><td> 72.86490</td></tr>\n",
       "\t<tr><th scope=row>121_at</th><td>173.092450</td><td>289.315400</td><td> 537.182800</td><td> 496.34656</td><td> 477.86517</td><td>355.092000</td><td> 467.56790</td><td> 294.583280</td><td>224.524060</td><td>298.28473</td></tr>\n",
       "\t<tr><th scope=row>1255_g_at</th><td> 52.616950</td><td>110.375984</td><td>  99.021736</td><td>  17.30677</td><td> 628.81616</td><td>105.254600</td><td> 142.26918</td><td> 123.016136</td><td>183.396910</td><td>180.81425</td></tr>\n",
       "\t<tr><th scope=row>1294_at</th><td> 67.753624</td><td> 96.780740</td><td>  76.282050</td><td> 189.81960</td><td> 276.47656</td><td>130.088290</td><td> 131.51334</td><td> 109.670810</td><td> 63.197280</td><td> 78.26386</td></tr>\n",
       "\t<tr><th scope=row>1316_at</th><td>209.412200</td><td>470.433070</td><td> 908.266360</td><td>1029.78850</td><td>1366.78370</td><td>624.679260</td><td>1589.27660</td><td> 858.423000</td><td>643.095000</td><td>412.51947</td></tr>\n",
       "\t<tr><th scope=row>1320_at</th><td> 10.765010</td><td>  3.834024</td><td>   7.970618</td><td>   3.46938</td><td>  11.24563</td><td> 22.197855</td><td>   7.77328</td><td>   7.727498</td><td>  4.196418</td><td> 12.77877</td></tr>\n",
       "\t<tr><th scope=row>1405_i_at</th><td> 10.559881</td><td> 27.871660</td><td> 121.391370</td><td>  48.15317</td><td>   3.13764</td><td>  8.126172</td><td>  73.90697</td><td>   9.745271</td><td>  6.104734</td><td> 16.48073</td></tr>\n",
       "\t<tr><th scope=row>1431_at</th><td> 38.878853</td><td> 73.023575</td><td>  17.437328</td><td>  10.58778</td><td> 147.82320</td><td> 24.068861</td><td>  24.42770</td><td>  58.589240</td><td> 84.349400</td><td> 36.49381</td></tr>\n",
       "</tbody>\n",
       "</table>\n"
      ],
      "text/latex": [
       "A matrix: 10 × 10 of type dbl\n",
       "\\begin{tabular}{r|llllllllll}\n",
       "  & GSM119615 & GSM119616 & GSM119617 & GSM119618 & GSM119619 & GSM119620 & GSM119621 & GSM119622 & GSM119623 & GSM119624\\\\\n",
       "\\hline\n",
       "\t1007\\_s\\_at & 693.973300 & 807.145140 & 1722.625000 & 1668.05750 & 2231.29690 & 990.541000 & 1396.82420 & 1026.056500 & 736.770300 & 938.81710\\\\\n",
       "\t1053\\_at &   9.755318 &  19.052270 &   13.060389 &   14.65225 &  138.67683 &   7.186742 &   10.17089 &   34.056934 &   7.829473 &  40.23533\\\\\n",
       "\t117\\_at &  13.346846 &  18.217276 &   97.425470 &   98.19795 &  106.46844 &  98.710520 &  164.32666 &   46.306164 &  35.067910 &  72.86490\\\\\n",
       "\t121\\_at & 173.092450 & 289.315400 &  537.182800 &  496.34656 &  477.86517 & 355.092000 &  467.56790 &  294.583280 & 224.524060 & 298.28473\\\\\n",
       "\t1255\\_g\\_at &  52.616950 & 110.375984 &   99.021736 &   17.30677 &  628.81616 & 105.254600 &  142.26918 &  123.016136 & 183.396910 & 180.81425\\\\\n",
       "\t1294\\_at &  67.753624 &  96.780740 &   76.282050 &  189.81960 &  276.47656 & 130.088290 &  131.51334 &  109.670810 &  63.197280 &  78.26386\\\\\n",
       "\t1316\\_at & 209.412200 & 470.433070 &  908.266360 & 1029.78850 & 1366.78370 & 624.679260 & 1589.27660 &  858.423000 & 643.095000 & 412.51947\\\\\n",
       "\t1320\\_at &  10.765010 &   3.834024 &    7.970618 &    3.46938 &   11.24563 &  22.197855 &    7.77328 &    7.727498 &   4.196418 &  12.77877\\\\\n",
       "\t1405\\_i\\_at &  10.559881 &  27.871660 &  121.391370 &   48.15317 &    3.13764 &   8.126172 &   73.90697 &    9.745271 &   6.104734 &  16.48073\\\\\n",
       "\t1431\\_at &  38.878853 &  73.023575 &   17.437328 &   10.58778 &  147.82320 &  24.068861 &   24.42770 &   58.589240 &  84.349400 &  36.49381\\\\\n",
       "\\end{tabular}\n"
      ],
      "text/markdown": [
       "\n",
       "A matrix: 10 × 10 of type dbl\n",
       "\n",
       "| <!--/--> | GSM119615 | GSM119616 | GSM119617 | GSM119618 | GSM119619 | GSM119620 | GSM119621 | GSM119622 | GSM119623 | GSM119624 |\n",
       "|---|---|---|---|---|---|---|---|---|---|---|\n",
       "| 1007_s_at | 693.973300 | 807.145140 | 1722.625000 | 1668.05750 | 2231.29690 | 990.541000 | 1396.82420 | 1026.056500 | 736.770300 | 938.81710 |\n",
       "| 1053_at |   9.755318 |  19.052270 |   13.060389 |   14.65225 |  138.67683 |   7.186742 |   10.17089 |   34.056934 |   7.829473 |  40.23533 |\n",
       "| 117_at |  13.346846 |  18.217276 |   97.425470 |   98.19795 |  106.46844 |  98.710520 |  164.32666 |   46.306164 |  35.067910 |  72.86490 |\n",
       "| 121_at | 173.092450 | 289.315400 |  537.182800 |  496.34656 |  477.86517 | 355.092000 |  467.56790 |  294.583280 | 224.524060 | 298.28473 |\n",
       "| 1255_g_at |  52.616950 | 110.375984 |   99.021736 |   17.30677 |  628.81616 | 105.254600 |  142.26918 |  123.016136 | 183.396910 | 180.81425 |\n",
       "| 1294_at |  67.753624 |  96.780740 |   76.282050 |  189.81960 |  276.47656 | 130.088290 |  131.51334 |  109.670810 |  63.197280 |  78.26386 |\n",
       "| 1316_at | 209.412200 | 470.433070 |  908.266360 | 1029.78850 | 1366.78370 | 624.679260 | 1589.27660 |  858.423000 | 643.095000 | 412.51947 |\n",
       "| 1320_at |  10.765010 |   3.834024 |    7.970618 |    3.46938 |   11.24563 |  22.197855 |    7.77328 |    7.727498 |   4.196418 |  12.77877 |\n",
       "| 1405_i_at |  10.559881 |  27.871660 |  121.391370 |   48.15317 |    3.13764 |   8.126172 |   73.90697 |    9.745271 |   6.104734 |  16.48073 |\n",
       "| 1431_at |  38.878853 |  73.023575 |   17.437328 |   10.58778 |  147.82320 |  24.068861 |   24.42770 |   58.589240 |  84.349400 |  36.49381 |\n",
       "\n"
      ],
      "text/plain": [
       "          GSM119615  GSM119616  GSM119617   GSM119618  GSM119619  GSM119620 \n",
       "1007_s_at 693.973300 807.145140 1722.625000 1668.05750 2231.29690 990.541000\n",
       "1053_at     9.755318  19.052270   13.060389   14.65225  138.67683   7.186742\n",
       "117_at     13.346846  18.217276   97.425470   98.19795  106.46844  98.710520\n",
       "121_at    173.092450 289.315400  537.182800  496.34656  477.86517 355.092000\n",
       "1255_g_at  52.616950 110.375984   99.021736   17.30677  628.81616 105.254600\n",
       "1294_at    67.753624  96.780740   76.282050  189.81960  276.47656 130.088290\n",
       "1316_at   209.412200 470.433070  908.266360 1029.78850 1366.78370 624.679260\n",
       "1320_at    10.765010   3.834024    7.970618    3.46938   11.24563  22.197855\n",
       "1405_i_at  10.559881  27.871660  121.391370   48.15317    3.13764   8.126172\n",
       "1431_at    38.878853  73.023575   17.437328   10.58778  147.82320  24.068861\n",
       "          GSM119621  GSM119622   GSM119623  GSM119624\n",
       "1007_s_at 1396.82420 1026.056500 736.770300 938.81710\n",
       "1053_at     10.17089   34.056934   7.829473  40.23533\n",
       "117_at     164.32666   46.306164  35.067910  72.86490\n",
       "121_at     467.56790  294.583280 224.524060 298.28473\n",
       "1255_g_at  142.26918  123.016136 183.396910 180.81425\n",
       "1294_at    131.51334  109.670810  63.197280  78.26386\n",
       "1316_at   1589.27660  858.423000 643.095000 412.51947\n",
       "1320_at      7.77328    7.727498   4.196418  12.77877\n",
       "1405_i_at   73.90697    9.745271   6.104734  16.48073\n",
       "1431_at     24.42770   58.589240  84.349400  36.49381"
      ]
     },
     "metadata": {},
     "output_type": "display_data"
    }
   ],
   "source": [
    "message(\"The example of gene expression matrix\")\n",
    "GSE5281Exprs[1:10, 1:10]"
   ]
  },
  {
   "cell_type": "code",
   "execution_count": 23,
   "id": "6530b7bb-a037-4187-ac2b-e544302714d4",
   "metadata": {},
   "outputs": [
    {
     "name": "stderr",
     "output_type": "stream",
     "text": [
      "Example of sample information table\n",
      "\n"
     ]
    },
    {
     "data": {
      "text/html": [
       "<table class=\"dataframe\">\n",
       "<caption>A data.frame: 10 × 10</caption>\n",
       "<thead>\n",
       "\t<tr><th></th><th scope=col>title</th><th scope=col>geo_accession</th><th scope=col>status</th><th scope=col>submission_date</th><th scope=col>last_update_date</th><th scope=col>type</th><th scope=col>channel_count</th><th scope=col>source_name_ch1</th><th scope=col>organism_ch1</th><th scope=col>characteristics_ch1</th></tr>\n",
       "\t<tr><th></th><th scope=col>&lt;chr&gt;</th><th scope=col>&lt;chr&gt;</th><th scope=col>&lt;chr&gt;</th><th scope=col>&lt;chr&gt;</th><th scope=col>&lt;chr&gt;</th><th scope=col>&lt;chr&gt;</th><th scope=col>&lt;chr&gt;</th><th scope=col>&lt;chr&gt;</th><th scope=col>&lt;chr&gt;</th><th scope=col>&lt;chr&gt;</th></tr>\n",
       "</thead>\n",
       "<tbody>\n",
       "\t<tr><th scope=row>GSM119615</th><td>EC control 1 </td><td>GSM119615</td><td>Public on Jul 10 2006</td><td>Jul 10 2006</td><td>Jun 26 2019</td><td>RNA</td><td>1</td><td>brain, Entorhinal Cortex</td><td>Homo sapiens</td><td>Sample Amount: 10 ug</td></tr>\n",
       "\t<tr><th scope=row>GSM119616</th><td>EC control 2 </td><td>GSM119616</td><td>Public on Jul 10 2006</td><td>Jul 10 2006</td><td>Jun 26 2019</td><td>RNA</td><td>1</td><td>brain, Entorhinal Cortex</td><td>Homo sapiens</td><td>Sample Amount: 10 ug</td></tr>\n",
       "\t<tr><th scope=row>GSM119617</th><td>EC control 3 </td><td>GSM119617</td><td>Public on Jul 10 2006</td><td>Jul 10 2006</td><td>Jun 26 2019</td><td>RNA</td><td>1</td><td>brain, Entorhinal Cortex</td><td>Homo sapiens</td><td>Sample Amount: 10 ug</td></tr>\n",
       "\t<tr><th scope=row>GSM119618</th><td>EC control 4 </td><td>GSM119618</td><td>Public on Jul 10 2006</td><td>Jul 10 2006</td><td>Jun 26 2019</td><td>RNA</td><td>1</td><td>brain, Entorhinal Cortex</td><td>Homo sapiens</td><td>Sample Amount: 10 ug</td></tr>\n",
       "\t<tr><th scope=row>GSM119619</th><td>EC control 5 </td><td>GSM119619</td><td>Public on Jul 10 2006</td><td>Jul 10 2006</td><td>Jun 26 2019</td><td>RNA</td><td>1</td><td>brain, Entorhinal Cortex</td><td>Homo sapiens</td><td>Sample Amount: 10 ug</td></tr>\n",
       "\t<tr><th scope=row>GSM119620</th><td>EC control 6 </td><td>GSM119620</td><td>Public on Jul 10 2006</td><td>Jul 10 2006</td><td>Jun 26 2019</td><td>RNA</td><td>1</td><td>brain, Entorhinal Cortex</td><td>Homo sapiens</td><td>Sample Amount: 10 ug</td></tr>\n",
       "\t<tr><th scope=row>GSM119621</th><td>EC control 7 </td><td>GSM119621</td><td>Public on Jul 10 2006</td><td>Jul 10 2006</td><td>Jun 26 2019</td><td>RNA</td><td>1</td><td>brain, Entorhinal Cortex</td><td>Homo sapiens</td><td>Sample Amount: 10 ug</td></tr>\n",
       "\t<tr><th scope=row>GSM119622</th><td>EC control 8 </td><td>GSM119622</td><td>Public on Jul 10 2006</td><td>Jul 10 2006</td><td>Jun 26 2019</td><td>RNA</td><td>1</td><td>brain, Entorhinal Cortex</td><td>Homo sapiens</td><td>Sample Amount: 10 ug</td></tr>\n",
       "\t<tr><th scope=row>GSM119623</th><td>EC control 9 </td><td>GSM119623</td><td>Public on Jul 10 2006</td><td>Jul 10 2006</td><td>Jun 26 2019</td><td>RNA</td><td>1</td><td>brain, Entorhinal Cortex</td><td>Homo sapiens</td><td>Sample Amount: 10 ug</td></tr>\n",
       "\t<tr><th scope=row>GSM119624</th><td>EC control 10</td><td>GSM119624</td><td>Public on Jul 10 2006</td><td>Jul 10 2006</td><td>Jun 26 2019</td><td>RNA</td><td>1</td><td>brain, Entorhinal Cortex</td><td>Homo sapiens</td><td>Sample Amount: 10 ug</td></tr>\n",
       "</tbody>\n",
       "</table>\n"
      ],
      "text/latex": [
       "A data.frame: 10 × 10\n",
       "\\begin{tabular}{r|llllllllll}\n",
       "  & title & geo\\_accession & status & submission\\_date & last\\_update\\_date & type & channel\\_count & source\\_name\\_ch1 & organism\\_ch1 & characteristics\\_ch1\\\\\n",
       "  & <chr> & <chr> & <chr> & <chr> & <chr> & <chr> & <chr> & <chr> & <chr> & <chr>\\\\\n",
       "\\hline\n",
       "\tGSM119615 & EC control 1  & GSM119615 & Public on Jul 10 2006 & Jul 10 2006 & Jun 26 2019 & RNA & 1 & brain, Entorhinal Cortex & Homo sapiens & Sample Amount: 10 ug\\\\\n",
       "\tGSM119616 & EC control 2  & GSM119616 & Public on Jul 10 2006 & Jul 10 2006 & Jun 26 2019 & RNA & 1 & brain, Entorhinal Cortex & Homo sapiens & Sample Amount: 10 ug\\\\\n",
       "\tGSM119617 & EC control 3  & GSM119617 & Public on Jul 10 2006 & Jul 10 2006 & Jun 26 2019 & RNA & 1 & brain, Entorhinal Cortex & Homo sapiens & Sample Amount: 10 ug\\\\\n",
       "\tGSM119618 & EC control 4  & GSM119618 & Public on Jul 10 2006 & Jul 10 2006 & Jun 26 2019 & RNA & 1 & brain, Entorhinal Cortex & Homo sapiens & Sample Amount: 10 ug\\\\\n",
       "\tGSM119619 & EC control 5  & GSM119619 & Public on Jul 10 2006 & Jul 10 2006 & Jun 26 2019 & RNA & 1 & brain, Entorhinal Cortex & Homo sapiens & Sample Amount: 10 ug\\\\\n",
       "\tGSM119620 & EC control 6  & GSM119620 & Public on Jul 10 2006 & Jul 10 2006 & Jun 26 2019 & RNA & 1 & brain, Entorhinal Cortex & Homo sapiens & Sample Amount: 10 ug\\\\\n",
       "\tGSM119621 & EC control 7  & GSM119621 & Public on Jul 10 2006 & Jul 10 2006 & Jun 26 2019 & RNA & 1 & brain, Entorhinal Cortex & Homo sapiens & Sample Amount: 10 ug\\\\\n",
       "\tGSM119622 & EC control 8  & GSM119622 & Public on Jul 10 2006 & Jul 10 2006 & Jun 26 2019 & RNA & 1 & brain, Entorhinal Cortex & Homo sapiens & Sample Amount: 10 ug\\\\\n",
       "\tGSM119623 & EC control 9  & GSM119623 & Public on Jul 10 2006 & Jul 10 2006 & Jun 26 2019 & RNA & 1 & brain, Entorhinal Cortex & Homo sapiens & Sample Amount: 10 ug\\\\\n",
       "\tGSM119624 & EC control 10 & GSM119624 & Public on Jul 10 2006 & Jul 10 2006 & Jun 26 2019 & RNA & 1 & brain, Entorhinal Cortex & Homo sapiens & Sample Amount: 10 ug\\\\\n",
       "\\end{tabular}\n"
      ],
      "text/markdown": [
       "\n",
       "A data.frame: 10 × 10\n",
       "\n",
       "| <!--/--> | title &lt;chr&gt; | geo_accession &lt;chr&gt; | status &lt;chr&gt; | submission_date &lt;chr&gt; | last_update_date &lt;chr&gt; | type &lt;chr&gt; | channel_count &lt;chr&gt; | source_name_ch1 &lt;chr&gt; | organism_ch1 &lt;chr&gt; | characteristics_ch1 &lt;chr&gt; |\n",
       "|---|---|---|---|---|---|---|---|---|---|---|\n",
       "| GSM119615 | EC control 1  | GSM119615 | Public on Jul 10 2006 | Jul 10 2006 | Jun 26 2019 | RNA | 1 | brain, Entorhinal Cortex | Homo sapiens | Sample Amount: 10 ug |\n",
       "| GSM119616 | EC control 2  | GSM119616 | Public on Jul 10 2006 | Jul 10 2006 | Jun 26 2019 | RNA | 1 | brain, Entorhinal Cortex | Homo sapiens | Sample Amount: 10 ug |\n",
       "| GSM119617 | EC control 3  | GSM119617 | Public on Jul 10 2006 | Jul 10 2006 | Jun 26 2019 | RNA | 1 | brain, Entorhinal Cortex | Homo sapiens | Sample Amount: 10 ug |\n",
       "| GSM119618 | EC control 4  | GSM119618 | Public on Jul 10 2006 | Jul 10 2006 | Jun 26 2019 | RNA | 1 | brain, Entorhinal Cortex | Homo sapiens | Sample Amount: 10 ug |\n",
       "| GSM119619 | EC control 5  | GSM119619 | Public on Jul 10 2006 | Jul 10 2006 | Jun 26 2019 | RNA | 1 | brain, Entorhinal Cortex | Homo sapiens | Sample Amount: 10 ug |\n",
       "| GSM119620 | EC control 6  | GSM119620 | Public on Jul 10 2006 | Jul 10 2006 | Jun 26 2019 | RNA | 1 | brain, Entorhinal Cortex | Homo sapiens | Sample Amount: 10 ug |\n",
       "| GSM119621 | EC control 7  | GSM119621 | Public on Jul 10 2006 | Jul 10 2006 | Jun 26 2019 | RNA | 1 | brain, Entorhinal Cortex | Homo sapiens | Sample Amount: 10 ug |\n",
       "| GSM119622 | EC control 8  | GSM119622 | Public on Jul 10 2006 | Jul 10 2006 | Jun 26 2019 | RNA | 1 | brain, Entorhinal Cortex | Homo sapiens | Sample Amount: 10 ug |\n",
       "| GSM119623 | EC control 9  | GSM119623 | Public on Jul 10 2006 | Jul 10 2006 | Jun 26 2019 | RNA | 1 | brain, Entorhinal Cortex | Homo sapiens | Sample Amount: 10 ug |\n",
       "| GSM119624 | EC control 10 | GSM119624 | Public on Jul 10 2006 | Jul 10 2006 | Jun 26 2019 | RNA | 1 | brain, Entorhinal Cortex | Homo sapiens | Sample Amount: 10 ug |\n",
       "\n"
      ],
      "text/plain": [
       "          title         geo_accession status                submission_date\n",
       "GSM119615 EC control 1  GSM119615     Public on Jul 10 2006 Jul 10 2006    \n",
       "GSM119616 EC control 2  GSM119616     Public on Jul 10 2006 Jul 10 2006    \n",
       "GSM119617 EC control 3  GSM119617     Public on Jul 10 2006 Jul 10 2006    \n",
       "GSM119618 EC control 4  GSM119618     Public on Jul 10 2006 Jul 10 2006    \n",
       "GSM119619 EC control 5  GSM119619     Public on Jul 10 2006 Jul 10 2006    \n",
       "GSM119620 EC control 6  GSM119620     Public on Jul 10 2006 Jul 10 2006    \n",
       "GSM119621 EC control 7  GSM119621     Public on Jul 10 2006 Jul 10 2006    \n",
       "GSM119622 EC control 8  GSM119622     Public on Jul 10 2006 Jul 10 2006    \n",
       "GSM119623 EC control 9  GSM119623     Public on Jul 10 2006 Jul 10 2006    \n",
       "GSM119624 EC control 10 GSM119624     Public on Jul 10 2006 Jul 10 2006    \n",
       "          last_update_date type channel_count source_name_ch1         \n",
       "GSM119615 Jun 26 2019      RNA  1             brain, Entorhinal Cortex\n",
       "GSM119616 Jun 26 2019      RNA  1             brain, Entorhinal Cortex\n",
       "GSM119617 Jun 26 2019      RNA  1             brain, Entorhinal Cortex\n",
       "GSM119618 Jun 26 2019      RNA  1             brain, Entorhinal Cortex\n",
       "GSM119619 Jun 26 2019      RNA  1             brain, Entorhinal Cortex\n",
       "GSM119620 Jun 26 2019      RNA  1             brain, Entorhinal Cortex\n",
       "GSM119621 Jun 26 2019      RNA  1             brain, Entorhinal Cortex\n",
       "GSM119622 Jun 26 2019      RNA  1             brain, Entorhinal Cortex\n",
       "GSM119623 Jun 26 2019      RNA  1             brain, Entorhinal Cortex\n",
       "GSM119624 Jun 26 2019      RNA  1             brain, Entorhinal Cortex\n",
       "          organism_ch1 characteristics_ch1 \n",
       "GSM119615 Homo sapiens Sample Amount: 10 ug\n",
       "GSM119616 Homo sapiens Sample Amount: 10 ug\n",
       "GSM119617 Homo sapiens Sample Amount: 10 ug\n",
       "GSM119618 Homo sapiens Sample Amount: 10 ug\n",
       "GSM119619 Homo sapiens Sample Amount: 10 ug\n",
       "GSM119620 Homo sapiens Sample Amount: 10 ug\n",
       "GSM119621 Homo sapiens Sample Amount: 10 ug\n",
       "GSM119622 Homo sapiens Sample Amount: 10 ug\n",
       "GSM119623 Homo sapiens Sample Amount: 10 ug\n",
       "GSM119624 Homo sapiens Sample Amount: 10 ug"
      ]
     },
     "metadata": {},
     "output_type": "display_data"
    }
   ],
   "source": [
    "message(\"Example of sample information table\")\n",
    "GSE5281Samples[1:10, 1:10]"
   ]
  },
  {
   "cell_type": "markdown",
   "id": "53c0c982-5c63-483a-9012-9f1c6a15cfae",
   "metadata": {
    "pycharm": {
     "is_executing": true
    },
    "tags": []
   },
   "source": [
    "The ```GSE5281Samples``` contains the metadata of each sample such as title, status, GEO accession, submission data, etc. "
   ]
  },
  {
   "cell_type": "code",
   "execution_count": 24,
   "id": "b86fd83b",
   "metadata": {
    "pycharm": {
     "is_executing": true
    },
    "tags": []
   },
   "outputs": [
    {
     "name": "stderr",
     "output_type": "stream",
     "text": [
      "Example of gene information table\n",
      "\n"
     ]
    },
    {
     "data": {
      "text/html": [
       "<table class=\"dataframe\">\n",
       "<caption>A data.frame: 10 × 3</caption>\n",
       "<thead>\n",
       "\t<tr><th></th><th scope=col>Gene Title</th><th scope=col>Gene Symbol</th><th scope=col>ENTREZ_GENE_ID</th></tr>\n",
       "\t<tr><th></th><th scope=col>&lt;chr&gt;</th><th scope=col>&lt;chr&gt;</th><th scope=col>&lt;chr&gt;</th></tr>\n",
       "</thead>\n",
       "<tbody>\n",
       "\t<tr><th scope=row>1007_s_at</th><td>discoidin domain receptor tyrosine kinase 1 /// microRNA 4640</td><td>DDR1 /// MIR4640</td><td>780 /// 100616237 </td></tr>\n",
       "\t<tr><th scope=row>1053_at</th><td>replication factor C (activator 1) 2, 40kDa                  </td><td>RFC2            </td><td>5982              </td></tr>\n",
       "\t<tr><th scope=row>117_at</th><td>heat shock 70kDa protein 6 (HSP70B')                         </td><td>HSPA6           </td><td>3310              </td></tr>\n",
       "\t<tr><th scope=row>121_at</th><td>paired box 8                                                 </td><td>PAX8            </td><td>7849              </td></tr>\n",
       "\t<tr><th scope=row>1255_g_at</th><td>guanylate cyclase activator 1A (retina)                      </td><td>GUCA1A          </td><td>2978              </td></tr>\n",
       "\t<tr><th scope=row>1294_at</th><td>microRNA 5193 /// ubiquitin-like modifier activating enzyme 7</td><td>MIR5193 /// UBA7</td><td>7318 /// 100847079</td></tr>\n",
       "\t<tr><th scope=row>1316_at</th><td>thyroid hormone receptor, alpha                              </td><td>THRA            </td><td>7067              </td></tr>\n",
       "\t<tr><th scope=row>1320_at</th><td>protein tyrosine phosphatase, non-receptor type 21           </td><td>PTPN21          </td><td>11099             </td></tr>\n",
       "\t<tr><th scope=row>1405_i_at</th><td>chemokine (C-C motif) ligand 5                               </td><td>CCL5            </td><td>6352              </td></tr>\n",
       "\t<tr><th scope=row>1431_at</th><td>cytochrome P450, family 2, subfamily E, polypeptide 1        </td><td>CYP2E1          </td><td>1571              </td></tr>\n",
       "</tbody>\n",
       "</table>\n"
      ],
      "text/latex": [
       "A data.frame: 10 × 3\n",
       "\\begin{tabular}{r|lll}\n",
       "  & Gene Title & Gene Symbol & ENTREZ\\_GENE\\_ID\\\\\n",
       "  & <chr> & <chr> & <chr>\\\\\n",
       "\\hline\n",
       "\t1007\\_s\\_at & discoidin domain receptor tyrosine kinase 1 /// microRNA 4640 & DDR1 /// MIR4640 & 780 /// 100616237 \\\\\n",
       "\t1053\\_at & replication factor C (activator 1) 2, 40kDa                   & RFC2             & 5982              \\\\\n",
       "\t117\\_at & heat shock 70kDa protein 6 (HSP70B')                          & HSPA6            & 3310              \\\\\n",
       "\t121\\_at & paired box 8                                                  & PAX8             & 7849              \\\\\n",
       "\t1255\\_g\\_at & guanylate cyclase activator 1A (retina)                       & GUCA1A           & 2978              \\\\\n",
       "\t1294\\_at & microRNA 5193 /// ubiquitin-like modifier activating enzyme 7 & MIR5193 /// UBA7 & 7318 /// 100847079\\\\\n",
       "\t1316\\_at & thyroid hormone receptor, alpha                               & THRA             & 7067              \\\\\n",
       "\t1320\\_at & protein tyrosine phosphatase, non-receptor type 21            & PTPN21           & 11099             \\\\\n",
       "\t1405\\_i\\_at & chemokine (C-C motif) ligand 5                                & CCL5             & 6352              \\\\\n",
       "\t1431\\_at & cytochrome P450, family 2, subfamily E, polypeptide 1         & CYP2E1           & 1571              \\\\\n",
       "\\end{tabular}\n"
      ],
      "text/markdown": [
       "\n",
       "A data.frame: 10 × 3\n",
       "\n",
       "| <!--/--> | Gene Title &lt;chr&gt; | Gene Symbol &lt;chr&gt; | ENTREZ_GENE_ID &lt;chr&gt; |\n",
       "|---|---|---|---|\n",
       "| 1007_s_at | discoidin domain receptor tyrosine kinase 1 /// microRNA 4640 | DDR1 /// MIR4640 | 780 /// 100616237  |\n",
       "| 1053_at | replication factor C (activator 1) 2, 40kDa                   | RFC2             | 5982               |\n",
       "| 117_at | heat shock 70kDa protein 6 (HSP70B')                          | HSPA6            | 3310               |\n",
       "| 121_at | paired box 8                                                  | PAX8             | 7849               |\n",
       "| 1255_g_at | guanylate cyclase activator 1A (retina)                       | GUCA1A           | 2978               |\n",
       "| 1294_at | microRNA 5193 /// ubiquitin-like modifier activating enzyme 7 | MIR5193 /// UBA7 | 7318 /// 100847079 |\n",
       "| 1316_at | thyroid hormone receptor, alpha                               | THRA             | 7067               |\n",
       "| 1320_at | protein tyrosine phosphatase, non-receptor type 21            | PTPN21           | 11099              |\n",
       "| 1405_i_at | chemokine (C-C motif) ligand 5                                | CCL5             | 6352               |\n",
       "| 1431_at | cytochrome P450, family 2, subfamily E, polypeptide 1         | CYP2E1           | 1571               |\n",
       "\n"
      ],
      "text/plain": [
       "          Gene Title                                                   \n",
       "1007_s_at discoidin domain receptor tyrosine kinase 1 /// microRNA 4640\n",
       "1053_at   replication factor C (activator 1) 2, 40kDa                  \n",
       "117_at    heat shock 70kDa protein 6 (HSP70B')                         \n",
       "121_at    paired box 8                                                 \n",
       "1255_g_at guanylate cyclase activator 1A (retina)                      \n",
       "1294_at   microRNA 5193 /// ubiquitin-like modifier activating enzyme 7\n",
       "1316_at   thyroid hormone receptor, alpha                              \n",
       "1320_at   protein tyrosine phosphatase, non-receptor type 21           \n",
       "1405_i_at chemokine (C-C motif) ligand 5                               \n",
       "1431_at   cytochrome P450, family 2, subfamily E, polypeptide 1        \n",
       "          Gene Symbol      ENTREZ_GENE_ID    \n",
       "1007_s_at DDR1 /// MIR4640 780 /// 100616237 \n",
       "1053_at   RFC2             5982              \n",
       "117_at    HSPA6            3310              \n",
       "121_at    PAX8             7849              \n",
       "1255_g_at GUCA1A           2978              \n",
       "1294_at   MIR5193 /// UBA7 7318 /// 100847079\n",
       "1316_at   THRA             7067              \n",
       "1320_at   PTPN21           11099             \n",
       "1405_i_at CCL5             6352              \n",
       "1431_at   CYP2E1           1571              "
      ]
     },
     "metadata": {},
     "output_type": "display_data"
    }
   ],
   "source": [
    "message(\"Example of gene information table\")\n",
    "GSE5281Genes[1:10, 10:12]"
   ]
  },
  {
   "cell_type": "markdown",
   "id": "9922593f-a4ad-4f76-9c71-3750e6b28945",
   "metadata": {},
   "source": [
    "As we can see, the the ```GSE5281Genes``` shows us the probeID, title, gene symbol, gene ID, and many more. "
   ]
  },
  {
   "attachments": {},
   "cell_type": "markdown",
   "id": "dba429e6-ae01-465e-98cd-1f39fa91f621",
   "metadata": {},
   "source": [
    "#### Access GEO RNA-Seq Dataset: GSE153873\n",
    "\n",
    "Microarray data deposited on GEO are usually processed by the authors. In contrast, RNA-Seq data deposited on GEO database are read count matrix without any data normalization. Therefore, there are no `Series Matrix File(s)` available to download. However, the count matrix file is saved as **Supplementary File**. To download it, we will use the function ```getGEOSuppFiles``` instead."
   ]
  },
  {
   "cell_type": "code",
   "execution_count": 27,
   "id": "a6967ee7-fa40-4f44-8e2d-89275a8ccc29",
   "metadata": {},
   "outputs": [
    {
     "data": {
      "text/html": [
       "<style>\n",
       ".list-inline {list-style: none; margin:0; padding: 0}\n",
       ".list-inline>li {display: inline-block}\n",
       ".list-inline>li:not(:last-child)::after {content: \"\\00b7\"; padding: 0 .5ex}\n",
       "</style>\n",
       "<ol class=list-inline><li>'GSE153873_AD.vs.Old_diff.genes.xlsx'</li><li>'GSE153873_summary_count.ercc.txt.gz'</li><li>'GSE153873_summary_count.star.txt.gz'</li></ol>\n"
      ],
      "text/latex": [
       "\\begin{enumerate*}\n",
       "\\item 'GSE153873\\_AD.vs.Old\\_diff.genes.xlsx'\n",
       "\\item 'GSE153873\\_summary\\_count.ercc.txt.gz'\n",
       "\\item 'GSE153873\\_summary\\_count.star.txt.gz'\n",
       "\\end{enumerate*}\n"
      ],
      "text/markdown": [
       "1. 'GSE153873_AD.vs.Old_diff.genes.xlsx'\n",
       "2. 'GSE153873_summary_count.ercc.txt.gz'\n",
       "3. 'GSE153873_summary_count.star.txt.gz'\n",
       "\n",
       "\n"
      ],
      "text/plain": [
       "[1] \"GSE153873_AD.vs.Old_diff.genes.xlsx\" \"GSE153873_summary_count.ercc.txt.gz\"\n",
       "[3] \"GSE153873_summary_count.star.txt.gz\""
      ]
     },
     "metadata": {},
     "output_type": "display_data"
    }
   ],
   "source": [
    "# Specify GEO accession ID\n",
    "accession_ID <- \"GSE153873\"\n",
    "\n",
    "# Specify directory to save the data\n",
    "save_Path <- \"./data/GSE153873\"\n",
    "\n",
    "# Download supplentary files\n",
    "tmp <- getGEOSuppFiles(GEO = accession_ID, baseDir = \"./data\", fetch_files = TRUE)\n",
    "\n",
    "# Check files in the directory\n",
    "list.files(save_Path)"
   ]
  },
  {
   "attachments": {},
   "cell_type": "markdown",
   "id": "6c780912-0ef6-406b-8653-2fe543e9ffcc",
   "metadata": {},
   "source": [
    "In this code snippet, we use the function getGEOSuppFiles() to download the supplementary files of the dataset GSE153873. The function has the following parameters: \n",
    "- `GEO` – a character parameter that specifies the GEO accession number,\n",
    "- `baseDir` – a character parameter that specifies the directory for downloaded data, and\n",
    "- `fetch_files` – a logical parameter, with TRUE means telling the function to actually download the files and FALSE telling the function to just return the filenames that would have been downloaded.\n",
    "\n",
    "The function returns a data frame in which row names represent the full path to the downloaded files. . We can check the downloaded file in this folder using the function `list.files()`. As we can see in the console output, the raw count data is saved under the name `GSE153873_summary_count.star.txt.gz`. To get the data matrix, users need to run the following command lines:"
   ]
  },
  {
   "cell_type": "code",
   "execution_count": 36,
   "id": "47f53922-7c04-44c3-a6a1-655ba0851119",
   "metadata": {},
   "outputs": [
    {
     "name": "stderr",
     "output_type": "stream",
     "text": [
      "Examine the read count matrix\n",
      "\n"
     ]
    },
    {
     "data": {
      "text/html": [
       "<table class=\"dataframe\">\n",
       "<caption>A data.frame: 10 × 10</caption>\n",
       "<thead>\n",
       "\t<tr><th></th><th scope=col>20-1T-AD</th><th scope=col>13-11T-Old</th><th scope=col>15-13T-Old</th><th scope=col>16-14T-Old</th><th scope=col>3-17T-Young</th><th scope=col>5-18T-Young</th><th scope=col>7-19T-Young</th><th scope=col>21-1A-AD</th><th scope=col>23-2A-AD</th><th scope=col>26-3A-AD</th></tr>\n",
       "\t<tr><th></th><th scope=col>&lt;int&gt;</th><th scope=col>&lt;int&gt;</th><th scope=col>&lt;int&gt;</th><th scope=col>&lt;int&gt;</th><th scope=col>&lt;int&gt;</th><th scope=col>&lt;int&gt;</th><th scope=col>&lt;int&gt;</th><th scope=col>&lt;int&gt;</th><th scope=col>&lt;int&gt;</th><th scope=col>&lt;int&gt;</th></tr>\n",
       "</thead>\n",
       "<tbody>\n",
       "\t<tr><th scope=row>SGIP1</th><td>1405</td><td>1405</td><td>1169</td><td>2408</td><td> 859</td><td>1164</td><td>1402</td><td>1441</td><td>1003</td><td>1265</td></tr>\n",
       "\t<tr><th scope=row>NECAP2</th><td> 295</td><td> 460</td><td> 334</td><td> 347</td><td> 617</td><td> 585</td><td> 372</td><td> 343</td><td> 374</td><td> 315</td></tr>\n",
       "\t<tr><th scope=row>AZIN2</th><td> 356</td><td> 306</td><td> 385</td><td> 507</td><td> 787</td><td> 751</td><td> 577</td><td> 238</td><td> 209</td><td> 241</td></tr>\n",
       "\t<tr><th scope=row>AGBL4</th><td> 191</td><td> 200</td><td> 173</td><td> 323</td><td>  36</td><td>  89</td><td> 184</td><td> 229</td><td> 129</td><td> 154</td></tr>\n",
       "\t<tr><th scope=row>CLIC4</th><td> 876</td><td>1443</td><td> 639</td><td> 792</td><td>4806</td><td>5968</td><td>1392</td><td>1117</td><td>1247</td><td> 929</td></tr>\n",
       "\t<tr><th scope=row>SLC45A1</th><td> 291</td><td> 329</td><td> 298</td><td> 636</td><td> 139</td><td> 204</td><td> 278</td><td> 193</td><td> 152</td><td> 178</td></tr>\n",
       "\t<tr><th scope=row>TGFBR3</th><td> 639</td><td> 650</td><td> 506</td><td> 370</td><td> 425</td><td> 447</td><td> 282</td><td> 792</td><td> 727</td><td> 461</td></tr>\n",
       "\t<tr><th scope=row>DBT</th><td> 623</td><td> 726</td><td> 513</td><td> 633</td><td> 751</td><td> 758</td><td> 498</td><td> 714</td><td> 756</td><td> 655</td></tr>\n",
       "\t<tr><th scope=row>PRUNE1</th><td> 297</td><td> 237</td><td> 200</td><td> 390</td><td> 231</td><td> 254</td><td> 252</td><td> 342</td><td> 228</td><td> 300</td></tr>\n",
       "\t<tr><th scope=row>C1orf21</th><td>2456</td><td>2006</td><td>2092</td><td>3146</td><td> 848</td><td>1147</td><td>1551</td><td>2325</td><td>2439</td><td>2471</td></tr>\n",
       "</tbody>\n",
       "</table>\n"
      ],
      "text/latex": [
       "A data.frame: 10 × 10\n",
       "\\begin{tabular}{r|llllllllll}\n",
       "  & 20-1T-AD & 13-11T-Old & 15-13T-Old & 16-14T-Old & 3-17T-Young & 5-18T-Young & 7-19T-Young & 21-1A-AD & 23-2A-AD & 26-3A-AD\\\\\n",
       "  & <int> & <int> & <int> & <int> & <int> & <int> & <int> & <int> & <int> & <int>\\\\\n",
       "\\hline\n",
       "\tSGIP1 & 1405 & 1405 & 1169 & 2408 &  859 & 1164 & 1402 & 1441 & 1003 & 1265\\\\\n",
       "\tNECAP2 &  295 &  460 &  334 &  347 &  617 &  585 &  372 &  343 &  374 &  315\\\\\n",
       "\tAZIN2 &  356 &  306 &  385 &  507 &  787 &  751 &  577 &  238 &  209 &  241\\\\\n",
       "\tAGBL4 &  191 &  200 &  173 &  323 &   36 &   89 &  184 &  229 &  129 &  154\\\\\n",
       "\tCLIC4 &  876 & 1443 &  639 &  792 & 4806 & 5968 & 1392 & 1117 & 1247 &  929\\\\\n",
       "\tSLC45A1 &  291 &  329 &  298 &  636 &  139 &  204 &  278 &  193 &  152 &  178\\\\\n",
       "\tTGFBR3 &  639 &  650 &  506 &  370 &  425 &  447 &  282 &  792 &  727 &  461\\\\\n",
       "\tDBT &  623 &  726 &  513 &  633 &  751 &  758 &  498 &  714 &  756 &  655\\\\\n",
       "\tPRUNE1 &  297 &  237 &  200 &  390 &  231 &  254 &  252 &  342 &  228 &  300\\\\\n",
       "\tC1orf21 & 2456 & 2006 & 2092 & 3146 &  848 & 1147 & 1551 & 2325 & 2439 & 2471\\\\\n",
       "\\end{tabular}\n"
      ],
      "text/markdown": [
       "\n",
       "A data.frame: 10 × 10\n",
       "\n",
       "| <!--/--> | 20-1T-AD &lt;int&gt; | 13-11T-Old &lt;int&gt; | 15-13T-Old &lt;int&gt; | 16-14T-Old &lt;int&gt; | 3-17T-Young &lt;int&gt; | 5-18T-Young &lt;int&gt; | 7-19T-Young &lt;int&gt; | 21-1A-AD &lt;int&gt; | 23-2A-AD &lt;int&gt; | 26-3A-AD &lt;int&gt; |\n",
       "|---|---|---|---|---|---|---|---|---|---|---|\n",
       "| SGIP1 | 1405 | 1405 | 1169 | 2408 |  859 | 1164 | 1402 | 1441 | 1003 | 1265 |\n",
       "| NECAP2 |  295 |  460 |  334 |  347 |  617 |  585 |  372 |  343 |  374 |  315 |\n",
       "| AZIN2 |  356 |  306 |  385 |  507 |  787 |  751 |  577 |  238 |  209 |  241 |\n",
       "| AGBL4 |  191 |  200 |  173 |  323 |   36 |   89 |  184 |  229 |  129 |  154 |\n",
       "| CLIC4 |  876 | 1443 |  639 |  792 | 4806 | 5968 | 1392 | 1117 | 1247 |  929 |\n",
       "| SLC45A1 |  291 |  329 |  298 |  636 |  139 |  204 |  278 |  193 |  152 |  178 |\n",
       "| TGFBR3 |  639 |  650 |  506 |  370 |  425 |  447 |  282 |  792 |  727 |  461 |\n",
       "| DBT |  623 |  726 |  513 |  633 |  751 |  758 |  498 |  714 |  756 |  655 |\n",
       "| PRUNE1 |  297 |  237 |  200 |  390 |  231 |  254 |  252 |  342 |  228 |  300 |\n",
       "| C1orf21 | 2456 | 2006 | 2092 | 3146 |  848 | 1147 | 1551 | 2325 | 2439 | 2471 |\n",
       "\n"
      ],
      "text/plain": [
       "        20-1T-AD 13-11T-Old 15-13T-Old 16-14T-Old 3-17T-Young 5-18T-Young\n",
       "SGIP1   1405     1405       1169       2408        859        1164       \n",
       "NECAP2   295      460        334        347        617         585       \n",
       "AZIN2    356      306        385        507        787         751       \n",
       "AGBL4    191      200        173        323         36          89       \n",
       "CLIC4    876     1443        639        792       4806        5968       \n",
       "SLC45A1  291      329        298        636        139         204       \n",
       "TGFBR3   639      650        506        370        425         447       \n",
       "DBT      623      726        513        633        751         758       \n",
       "PRUNE1   297      237        200        390        231         254       \n",
       "C1orf21 2456     2006       2092       3146        848        1147       \n",
       "        7-19T-Young 21-1A-AD 23-2A-AD 26-3A-AD\n",
       "SGIP1   1402        1441     1003     1265    \n",
       "NECAP2   372         343      374      315    \n",
       "AZIN2    577         238      209      241    \n",
       "AGBL4    184         229      129      154    \n",
       "CLIC4   1392        1117     1247      929    \n",
       "SLC45A1  278         193      152      178    \n",
       "TGFBR3   282         792      727      461    \n",
       "DBT      498         714      756      655    \n",
       "PRUNE1   252         342      228      300    \n",
       "C1orf21 1551        2325     2439     2471    "
      ]
     },
     "metadata": {},
     "output_type": "display_data"
    }
   ],
   "source": [
    "# Get the path to the count matrix file:\n",
    "countsFile <- file.path(save_Path, \"GSE153873_summary_count.star.txt.gz\")\n",
    "\n",
    "# Read the count matrix file:\n",
    "GSE153873Exprs <- read.table(countsFile, header = TRUE, sep = \"\\t\", fill = 0, row.names = 1, check.names = FALSE)\n",
    "\n",
    "# Examine the RNASeqExprs:\n",
    "message(\"Examine the read count matrix\")\n",
    "GSE153873Exprs[1:10, 1:10]"
   ]
  },
  {
   "cell_type": "markdown",
   "id": "79881b80-f625-4e42-9cbb-9ba6b2d5c788",
   "metadata": {},
   "source": [
    "As we can see, the count matrix file has rows as genes and columns as samples. Similar to the microarray dataset, we use the `getGEO` function to get the sample information as follows:"
   ]
  },
  {
   "cell_type": "code",
   "execution_count": 31,
   "id": "831d4b54-6eb4-4d82-afc0-983869c1e909",
   "metadata": {},
   "outputs": [],
   "source": [
    "# Download the dataset\n",
    "suppressMessages({\n",
    "    gse <- getGEO(GEO = accession_ID, destdir = save_Path)\n",
    "})\n",
    "\n",
    "# Extract the dataset from the gse list:\n",
    "data <- gse[[1]]"
   ]
  },
  {
   "cell_type": "code",
   "execution_count": 37,
   "id": "128fd5cf-2b94-4966-8e0e-8a56098543dd",
   "metadata": {},
   "outputs": [
    {
     "name": "stderr",
     "output_type": "stream",
     "text": [
      "Examine the sample information\n",
      "\n"
     ]
    },
    {
     "data": {
      "text/html": [
       "<table class=\"dataframe\">\n",
       "<caption>A data.frame: 10 × 10</caption>\n",
       "<thead>\n",
       "\t<tr><th></th><th scope=col>title</th><th scope=col>geo_accession</th><th scope=col>status</th><th scope=col>submission_date</th><th scope=col>last_update_date</th><th scope=col>type</th><th scope=col>channel_count</th><th scope=col>source_name_ch1</th><th scope=col>organism_ch1</th><th scope=col>characteristics_ch1</th></tr>\n",
       "\t<tr><th></th><th scope=col>&lt;chr&gt;</th><th scope=col>&lt;chr&gt;</th><th scope=col>&lt;chr&gt;</th><th scope=col>&lt;chr&gt;</th><th scope=col>&lt;chr&gt;</th><th scope=col>&lt;chr&gt;</th><th scope=col>&lt;chr&gt;</th><th scope=col>&lt;chr&gt;</th><th scope=col>&lt;chr&gt;</th><th scope=col>&lt;chr&gt;</th></tr>\n",
       "</thead>\n",
       "<tbody>\n",
       "\t<tr><th scope=row>GSM4656348</th><td>13-11T-Old </td><td>GSM4656348</td><td>Public on Jul 07 2020</td><td>Jul 06 2020</td><td>Oct 13 2020</td><td>SRA</td><td>1</td><td>Frozen postmortem brain tissue</td><td>Homo sapiens</td><td>tissue: Lateral temporal lobe</td></tr>\n",
       "\t<tr><th scope=row>GSM4656349</th><td>15-13T-Old </td><td>GSM4656349</td><td>Public on Jul 07 2020</td><td>Jul 06 2020</td><td>Oct 13 2020</td><td>SRA</td><td>1</td><td>Frozen postmortem brain tissue</td><td>Homo sapiens</td><td>tissue: Lateral temporal lobe</td></tr>\n",
       "\t<tr><th scope=row>GSM4656350</th><td>20-1T-AD   </td><td>GSM4656350</td><td>Public on Jul 07 2020</td><td>Jul 06 2020</td><td>Oct 13 2020</td><td>SRA</td><td>1</td><td>Frozen postmortem brain tissue</td><td>Homo sapiens</td><td>tissue: Lateral temporal lobe</td></tr>\n",
       "\t<tr><th scope=row>GSM4656351</th><td>16-14T-Old </td><td>GSM4656351</td><td>Public on Jul 07 2020</td><td>Jul 06 2020</td><td>Oct 13 2020</td><td>SRA</td><td>1</td><td>Frozen postmortem brain tissue</td><td>Homo sapiens</td><td>tissue: Lateral temporal lobe</td></tr>\n",
       "\t<tr><th scope=row>GSM4656352</th><td>3-17T-Young</td><td>GSM4656352</td><td>Public on Jul 07 2020</td><td>Jul 06 2020</td><td>Oct 13 2020</td><td>SRA</td><td>1</td><td>Frozen postmortem brain tissue</td><td>Homo sapiens</td><td>tissue: Lateral temporal lobe</td></tr>\n",
       "\t<tr><th scope=row>GSM4656353</th><td>5-18T-Young</td><td>GSM4656353</td><td>Public on Jul 07 2020</td><td>Jul 06 2020</td><td>Oct 13 2020</td><td>SRA</td><td>1</td><td>Frozen postmortem brain tissue</td><td>Homo sapiens</td><td>tissue: Lateral temporal lobe</td></tr>\n",
       "\t<tr><th scope=row>GSM4656354</th><td>7-19T-Young</td><td>GSM4656354</td><td>Public on Jul 07 2020</td><td>Jul 06 2020</td><td>Oct 13 2020</td><td>SRA</td><td>1</td><td>Frozen postmortem brain tissue</td><td>Homo sapiens</td><td>tissue: Lateral temporal lobe</td></tr>\n",
       "\t<tr><th scope=row>GSM4656355</th><td>21-1A-AD   </td><td>GSM4656355</td><td>Public on Jul 07 2020</td><td>Jul 06 2020</td><td>Oct 13 2020</td><td>SRA</td><td>1</td><td>Frozen postmortem brain tissue</td><td>Homo sapiens</td><td>tissue: Lateral temporal lobe</td></tr>\n",
       "\t<tr><th scope=row>GSM4656356</th><td>23-2A-AD   </td><td>GSM4656356</td><td>Public on Jul 07 2020</td><td>Jul 06 2020</td><td>Oct 13 2020</td><td>SRA</td><td>1</td><td>Frozen postmortem brain tissue</td><td>Homo sapiens</td><td>tissue: Lateral temporal lobe</td></tr>\n",
       "\t<tr><th scope=row>GSM4656357</th><td>26-3A-AD   </td><td>GSM4656357</td><td>Public on Jul 07 2020</td><td>Jul 06 2020</td><td>Oct 13 2020</td><td>SRA</td><td>1</td><td>Frozen postmortem brain tissue</td><td>Homo sapiens</td><td>tissue: Lateral temporal lobe</td></tr>\n",
       "</tbody>\n",
       "</table>\n"
      ],
      "text/latex": [
       "A data.frame: 10 × 10\n",
       "\\begin{tabular}{r|llllllllll}\n",
       "  & title & geo\\_accession & status & submission\\_date & last\\_update\\_date & type & channel\\_count & source\\_name\\_ch1 & organism\\_ch1 & characteristics\\_ch1\\\\\n",
       "  & <chr> & <chr> & <chr> & <chr> & <chr> & <chr> & <chr> & <chr> & <chr> & <chr>\\\\\n",
       "\\hline\n",
       "\tGSM4656348 & 13-11T-Old  & GSM4656348 & Public on Jul 07 2020 & Jul 06 2020 & Oct 13 2020 & SRA & 1 & Frozen postmortem brain tissue & Homo sapiens & tissue: Lateral temporal lobe\\\\\n",
       "\tGSM4656349 & 15-13T-Old  & GSM4656349 & Public on Jul 07 2020 & Jul 06 2020 & Oct 13 2020 & SRA & 1 & Frozen postmortem brain tissue & Homo sapiens & tissue: Lateral temporal lobe\\\\\n",
       "\tGSM4656350 & 20-1T-AD    & GSM4656350 & Public on Jul 07 2020 & Jul 06 2020 & Oct 13 2020 & SRA & 1 & Frozen postmortem brain tissue & Homo sapiens & tissue: Lateral temporal lobe\\\\\n",
       "\tGSM4656351 & 16-14T-Old  & GSM4656351 & Public on Jul 07 2020 & Jul 06 2020 & Oct 13 2020 & SRA & 1 & Frozen postmortem brain tissue & Homo sapiens & tissue: Lateral temporal lobe\\\\\n",
       "\tGSM4656352 & 3-17T-Young & GSM4656352 & Public on Jul 07 2020 & Jul 06 2020 & Oct 13 2020 & SRA & 1 & Frozen postmortem brain tissue & Homo sapiens & tissue: Lateral temporal lobe\\\\\n",
       "\tGSM4656353 & 5-18T-Young & GSM4656353 & Public on Jul 07 2020 & Jul 06 2020 & Oct 13 2020 & SRA & 1 & Frozen postmortem brain tissue & Homo sapiens & tissue: Lateral temporal lobe\\\\\n",
       "\tGSM4656354 & 7-19T-Young & GSM4656354 & Public on Jul 07 2020 & Jul 06 2020 & Oct 13 2020 & SRA & 1 & Frozen postmortem brain tissue & Homo sapiens & tissue: Lateral temporal lobe\\\\\n",
       "\tGSM4656355 & 21-1A-AD    & GSM4656355 & Public on Jul 07 2020 & Jul 06 2020 & Oct 13 2020 & SRA & 1 & Frozen postmortem brain tissue & Homo sapiens & tissue: Lateral temporal lobe\\\\\n",
       "\tGSM4656356 & 23-2A-AD    & GSM4656356 & Public on Jul 07 2020 & Jul 06 2020 & Oct 13 2020 & SRA & 1 & Frozen postmortem brain tissue & Homo sapiens & tissue: Lateral temporal lobe\\\\\n",
       "\tGSM4656357 & 26-3A-AD    & GSM4656357 & Public on Jul 07 2020 & Jul 06 2020 & Oct 13 2020 & SRA & 1 & Frozen postmortem brain tissue & Homo sapiens & tissue: Lateral temporal lobe\\\\\n",
       "\\end{tabular}\n"
      ],
      "text/markdown": [
       "\n",
       "A data.frame: 10 × 10\n",
       "\n",
       "| <!--/--> | title &lt;chr&gt; | geo_accession &lt;chr&gt; | status &lt;chr&gt; | submission_date &lt;chr&gt; | last_update_date &lt;chr&gt; | type &lt;chr&gt; | channel_count &lt;chr&gt; | source_name_ch1 &lt;chr&gt; | organism_ch1 &lt;chr&gt; | characteristics_ch1 &lt;chr&gt; |\n",
       "|---|---|---|---|---|---|---|---|---|---|---|\n",
       "| GSM4656348 | 13-11T-Old  | GSM4656348 | Public on Jul 07 2020 | Jul 06 2020 | Oct 13 2020 | SRA | 1 | Frozen postmortem brain tissue | Homo sapiens | tissue: Lateral temporal lobe |\n",
       "| GSM4656349 | 15-13T-Old  | GSM4656349 | Public on Jul 07 2020 | Jul 06 2020 | Oct 13 2020 | SRA | 1 | Frozen postmortem brain tissue | Homo sapiens | tissue: Lateral temporal lobe |\n",
       "| GSM4656350 | 20-1T-AD    | GSM4656350 | Public on Jul 07 2020 | Jul 06 2020 | Oct 13 2020 | SRA | 1 | Frozen postmortem brain tissue | Homo sapiens | tissue: Lateral temporal lobe |\n",
       "| GSM4656351 | 16-14T-Old  | GSM4656351 | Public on Jul 07 2020 | Jul 06 2020 | Oct 13 2020 | SRA | 1 | Frozen postmortem brain tissue | Homo sapiens | tissue: Lateral temporal lobe |\n",
       "| GSM4656352 | 3-17T-Young | GSM4656352 | Public on Jul 07 2020 | Jul 06 2020 | Oct 13 2020 | SRA | 1 | Frozen postmortem brain tissue | Homo sapiens | tissue: Lateral temporal lobe |\n",
       "| GSM4656353 | 5-18T-Young | GSM4656353 | Public on Jul 07 2020 | Jul 06 2020 | Oct 13 2020 | SRA | 1 | Frozen postmortem brain tissue | Homo sapiens | tissue: Lateral temporal lobe |\n",
       "| GSM4656354 | 7-19T-Young | GSM4656354 | Public on Jul 07 2020 | Jul 06 2020 | Oct 13 2020 | SRA | 1 | Frozen postmortem brain tissue | Homo sapiens | tissue: Lateral temporal lobe |\n",
       "| GSM4656355 | 21-1A-AD    | GSM4656355 | Public on Jul 07 2020 | Jul 06 2020 | Oct 13 2020 | SRA | 1 | Frozen postmortem brain tissue | Homo sapiens | tissue: Lateral temporal lobe |\n",
       "| GSM4656356 | 23-2A-AD    | GSM4656356 | Public on Jul 07 2020 | Jul 06 2020 | Oct 13 2020 | SRA | 1 | Frozen postmortem brain tissue | Homo sapiens | tissue: Lateral temporal lobe |\n",
       "| GSM4656357 | 26-3A-AD    | GSM4656357 | Public on Jul 07 2020 | Jul 06 2020 | Oct 13 2020 | SRA | 1 | Frozen postmortem brain tissue | Homo sapiens | tissue: Lateral temporal lobe |\n",
       "\n"
      ],
      "text/plain": [
       "           title       geo_accession status                submission_date\n",
       "GSM4656348 13-11T-Old  GSM4656348    Public on Jul 07 2020 Jul 06 2020    \n",
       "GSM4656349 15-13T-Old  GSM4656349    Public on Jul 07 2020 Jul 06 2020    \n",
       "GSM4656350 20-1T-AD    GSM4656350    Public on Jul 07 2020 Jul 06 2020    \n",
       "GSM4656351 16-14T-Old  GSM4656351    Public on Jul 07 2020 Jul 06 2020    \n",
       "GSM4656352 3-17T-Young GSM4656352    Public on Jul 07 2020 Jul 06 2020    \n",
       "GSM4656353 5-18T-Young GSM4656353    Public on Jul 07 2020 Jul 06 2020    \n",
       "GSM4656354 7-19T-Young GSM4656354    Public on Jul 07 2020 Jul 06 2020    \n",
       "GSM4656355 21-1A-AD    GSM4656355    Public on Jul 07 2020 Jul 06 2020    \n",
       "GSM4656356 23-2A-AD    GSM4656356    Public on Jul 07 2020 Jul 06 2020    \n",
       "GSM4656357 26-3A-AD    GSM4656357    Public on Jul 07 2020 Jul 06 2020    \n",
       "           last_update_date type channel_count source_name_ch1               \n",
       "GSM4656348 Oct 13 2020      SRA  1             Frozen postmortem brain tissue\n",
       "GSM4656349 Oct 13 2020      SRA  1             Frozen postmortem brain tissue\n",
       "GSM4656350 Oct 13 2020      SRA  1             Frozen postmortem brain tissue\n",
       "GSM4656351 Oct 13 2020      SRA  1             Frozen postmortem brain tissue\n",
       "GSM4656352 Oct 13 2020      SRA  1             Frozen postmortem brain tissue\n",
       "GSM4656353 Oct 13 2020      SRA  1             Frozen postmortem brain tissue\n",
       "GSM4656354 Oct 13 2020      SRA  1             Frozen postmortem brain tissue\n",
       "GSM4656355 Oct 13 2020      SRA  1             Frozen postmortem brain tissue\n",
       "GSM4656356 Oct 13 2020      SRA  1             Frozen postmortem brain tissue\n",
       "GSM4656357 Oct 13 2020      SRA  1             Frozen postmortem brain tissue\n",
       "           organism_ch1 characteristics_ch1          \n",
       "GSM4656348 Homo sapiens tissue: Lateral temporal lobe\n",
       "GSM4656349 Homo sapiens tissue: Lateral temporal lobe\n",
       "GSM4656350 Homo sapiens tissue: Lateral temporal lobe\n",
       "GSM4656351 Homo sapiens tissue: Lateral temporal lobe\n",
       "GSM4656352 Homo sapiens tissue: Lateral temporal lobe\n",
       "GSM4656353 Homo sapiens tissue: Lateral temporal lobe\n",
       "GSM4656354 Homo sapiens tissue: Lateral temporal lobe\n",
       "GSM4656355 Homo sapiens tissue: Lateral temporal lobe\n",
       "GSM4656356 Homo sapiens tissue: Lateral temporal lobe\n",
       "GSM4656357 Homo sapiens tissue: Lateral temporal lobe"
      ]
     },
     "metadata": {},
     "output_type": "display_data"
    }
   ],
   "source": [
    "# Access to the sample information table:\n",
    "GSE153873Samples <- pData(data)\n",
    "\n",
    "# Examine the RNASeqSamples\n",
    "message(\"Examine the sample information\")\n",
    "GSE153873Samples[1:10, 1:10]"
   ]
  },
  {
   "cell_type": "markdown",
   "id": "b8678d88-94bf-4c37-bc07-769b48cfa2e9",
   "metadata": {},
   "source": [
    "## Process Data For Downstream Analysis"
   ]
  },
  {
   "cell_type": "markdown",
   "id": "96aafb5f",
   "metadata": {},
   "source": [
    "Once the data is downloaded, we need to perform data processing to prepare the data for differential analysis and pathway analysis. The data processing includes the following steps: (i) Data normalization, (ii) Sample condition extraction, and (iii) Gene IDs conversion.\n",
    "\n",
    "### Data normalization\n",
    "Typically, data normalization can be performed for quality assurance. However, different downstream analysis methods may require different data normalization techniques. Therefore, we suggest users to consult these methods' document to choose the most appropriate normalization technique. For example, if a method requires the expression to be in log-scale normalization, we can check the scale the data as follows:"
   ]
  },
  {
   "cell_type": "code",
   "execution_count": 8,
   "id": "cc084af7-8440-4ddc-8757-57094b2052c2",
   "metadata": {},
   "outputs": [
    {
     "data": {
      "text/plain": [
       "   GSM119615           GSM119616           GSM119617          GSM119618       \n",
       " Min.   :    0.075   Min.   :    0.074   Min.   :    0.25   Min.   :    0.33  \n",
       " 1st Qu.:   13.880   1st Qu.:   13.943   1st Qu.:   24.50   1st Qu.:   22.16  \n",
       " Median :   44.928   Median :   47.379   Median :   80.73   Median :   71.63  \n",
       " Mean   :  222.780   Mean   :  233.425   Mean   :  226.92   Mean   :  234.00  \n",
       " 3rd Qu.:  151.931   3rd Qu.:  158.202   3rd Qu.:  187.48   3rd Qu.:  178.68  \n",
       " Max.   :19236.023   Max.   :26390.730   Max.   :75634.99   Max.   :58651.38  \n",
       "   GSM119619       \n",
       " Min.   :    0.29  \n",
       " 1st Qu.:   32.79  \n",
       " Median :  117.42  \n",
       " Mean   :  771.06  \n",
       " 3rd Qu.:  475.33  \n",
       " Max.   :68655.84  "
      ]
     },
     "metadata": {},
     "output_type": "display_data"
    }
   ],
   "source": [
    "# Show a summary of the expression data using the summary function\n",
    "summary(GSE5281Exprs[, 1:5])"
   ]
  },
  {
   "cell_type": "code",
   "execution_count": 10,
   "id": "9cad09d9-8936-4a53-9dde-1b5e04ed845b",
   "metadata": {},
   "outputs": [
    {
     "data": {
      "text/html": [
       "<style>\n",
       ".list-inline {list-style: none; margin:0; padding: 0}\n",
       ".list-inline>li {display: inline-block}\n",
       ".list-inline>li:not(:last-child)::after {content: \"\\00b7\"; padding: 0 .5ex}\n",
       "</style>\n",
       "<ol class=list-inline><li>0.0553793</li><li>528043.5</li></ol>\n"
      ],
      "text/latex": [
       "\\begin{enumerate*}\n",
       "\\item 0.0553793\n",
       "\\item 528043.5\n",
       "\\end{enumerate*}\n"
      ],
      "text/markdown": [
       "1. 0.0553793\n",
       "2. 528043.5\n",
       "\n",
       "\n"
      ],
      "text/plain": [
       "[1] 5.537930e-02 5.280435e+05"
      ]
     },
     "metadata": {},
     "output_type": "display_data"
    }
   ],
   "source": [
    "# Show value range of the expression data using the range function\n",
    "range(GSE5281Exprs)"
   ]
  },
  {
   "cell_type": "markdown",
   "id": "a114ba82-ef45-4b29-977c-5c4dc4516aac",
   "metadata": {},
   "source": [
    "From the summary of the data above, we can clearly see that the maximum expression values can be in the scale of thousands, while the average expression values in each sample are below one. One common step is to perform quartile filtering to remove the outlier and missing expression values. Also, we will need to perform a transformation to ensure the distributions of all samples are similar. Then, a `boxplot` can also be generated to see if the data have been correctly normalized. We can use the sample code below to perform all of those steps."
   ]
  },
  {
   "cell_type": "code",
   "execution_count": 12,
   "id": "e9835afa-ab8e-4557-94b0-5f262694b4fd",
   "metadata": {},
   "outputs": [
    {
     "data": {
      "image/png": "[encoded data removed]",
      "text/plain": [
       "plot without title"
      ]
     },
     "metadata": {
      "image/png": {
       "height": 420,
       "width": 420
      }
     },
     "output_type": "display_data"
    }
   ],
   "source": [
    "# Calculate the data quantile and remove the NA value\n",
    "qx <- as.numeric(quantile(GSE5281Exprs, c(0., 0.25, 0.5, 0.75, 0.99, 1.0), na.rm = T))\n",
    "# Define LogC variable (boolean) to decide whether or not to perform the log transformation\n",
    "# If 99% of the data > 100 or (range > 50 and 25% of the data > 0), LogC = True and perform log transformation\n",
    "LogC <- (qx[5] > 100) ||\n",
    "    (qx[6]-qx[1] > 50 && qx[2] > 0)\n",
    "# Replace negative values with NA and perform log transformation if logC is True\n",
    "if (LogC) {\n",
    "    GSE5281Exprs[which(GSE5281Exprs <= 0)] <- NaN #\n",
    "    norm_expression_data <- log2(GSE5281Exprs+1)\n",
    "}\n",
    "# Plot the boxplot of 10 samples\n",
    "boxplot(x = norm_expression_data[, 1:10], outline = FALSE)"
   ]
  },
  {
   "cell_type": "markdown",
   "id": "8715d0dd-051e-4cd7-833d-5fe5e3df73aa",
   "metadata": {},
   "source": [
    "**Notes:** Most of the packages for analyzing RNA-Seq data embed a normalization process in their functions. Therefore, we will not perform data normalization for the GSE153873 dataset we have just downloaded."
   ]
  },
  {
   "cell_type": "code",
   "execution_count": 12,
   "id": "f2da7e05-3a18-4b11-afd4-20d2bea75aa8",
   "metadata": {
    "tags": []
   },
   "outputs": [
    {
     "data": {
      "text/html": [
       "<iframe src=\"./Quizzes/Quiz_Submodule1-2.html\" width=100% height=250></iframe>"
      ]
     },
     "metadata": {},
     "output_type": "display_data"
    }
   ],
   "source": [
    "# Run the following command to take the quiz\n",
    "IRdisplay::display_html('<iframe src=\"./Quizzes/Quiz_Submodule1-2.html\" width=100% height=250></iframe>')"
   ]
  },
  {
   "attachments": {},
   "cell_type": "markdown",
   "id": "74400910",
   "metadata": {},
   "source": [
    "### Samples Condition Extraction\n",
    "In pathway analysis, it is crucial to determine which conditions of sample are being compared to one another. \n",
    ". In our example, we are comparing gene expression between two patient groups: *normal* and *Alzheimer’s*. To this aim, users can execute the following code snippets\n",
    "\n",
    "#### Microarray dataset: GSE5281"
   ]
  },
  {
   "cell_type": "code",
   "execution_count": 13,
   "id": "b805a146",
   "metadata": {
    "tags": []
   },
   "outputs": [],
   "source": [
    "# Add a column specifying the condition of each sample (normal or Alzheimer's)\n",
    "GSE5281Samples$condition <- ifelse(grepl(\"normal\", GSE5281Samples$characteristics_ch1.8), \"normal\", \"alzheimer\")\n",
    "\n",
    "# Factorize the new column\n",
    "GSE5281Samples$condition <- factor(GSE5281Samples$condition)\n",
    "\n",
    "# Add a new column to specify the region of the sample tissue,\n",
    "# use make.names() to remove special characters and\n",
    "# use tolower() to make all characters lowercase\n",
    "GSE5281Samples$region <- make.names(GSE5281Samples$characteristics_ch1.4)\n",
    "GSE5281Samples$region <- tolower(GSE5281Samples$region)\n",
    "\n",
    "# Factorize the newly added column\n",
    "GSE5281Samples$region <- factor(GSE5281Samples$region)"
   ]
  },
  {
   "attachments": {},
   "cell_type": "markdown",
   "id": "33963c0d",
   "metadata": {},
   "source": [
    "The samples of the GSE5281 dataset fall into two conditions: *normal* and *Alzheimer’s,* which are specified in the `characteristics_ch1.8` column. Each sample is also associated with a specific brain region, such as the entorhinal cortex, hippocampus, primary visual cortex, and so on, denoted in the `characteristics_ch1.4` column. Consequently, both attributes serve as conditions to determine the groups of patients.\n",
    "\n",
    "The initial step in the code snippet involves the addition of two new columns that represent the sample’s condition and the associated brain region to the sample information. These new columns are essentially cleaner versions of the original `characteristics_ch1.8` and `characteristics_ch1.4` columns. The original columns are often manually curated and may contain special characters or duplicated data, which could potentially lead to errors in the analysis. Hence, it is crucial to perform data cleaning before proceeding with any further steps. We can check the statisitcs of the two new columns as follows:\n"
   ]
  },
  {
   "cell_type": "code",
   "execution_count": 15,
   "id": "5640f260",
   "metadata": {
    "tags": []
   },
   "outputs": [
    {
     "data": {
      "text/plain": [
       "     condition                                    region  \n",
       " alzheimer:87   organ.region..entorhinal.cortex.     :23  \n",
       " normal   :74   organ.region..hippocampus.           :23  \n",
       "                organ.region..medial.temporal.gyrus. :28  \n",
       "                organ.region..posterior.cingulate.   :13  \n",
       "                organ.region..posterior.singulate.   : 9  \n",
       "                organ.region..primary.visual.cortex. :31  \n",
       "                organ.region..superior.frontal.gyrus.:34  "
      ]
     },
     "metadata": {},
     "output_type": "display_data"
    }
   ],
   "source": [
    "# Examine the newly added columns\n",
    "summary(GSE5281Samples[, c(\"condition\", \"region\")])"
   ]
  },
  {
   "cell_type": "markdown",
   "id": "9681a2c7-c3ed-48ec-939f-16d576f76295",
   "metadata": {},
   "source": [
    "#### RNA-Seq dataset: GSE153873"
   ]
  },
  {
   "cell_type": "code",
   "execution_count": null,
   "id": "97b40843-7011-43a5-9d5b-90281f66e8fc",
   "metadata": {},
   "outputs": [],
   "source": [
    "# Add a column specifying the condition of the sample,\n",
    "# which can be either normal or alzheimer\n",
    "RNASeqSampleConditions <- ifelse(grepl(\"Alzheimer\", GSE153873Samples$characteristics_ch1.1), \"alzheimer\", \"normal\")\n",
    "\n",
    "# Factorize the newly added column\n",
    "GSE153873Samples$condition <- factor(RNASeqSampleConditions)\n",
    "\n",
    "# Examine the newly added column\n",
    "summary(GSE153873Samples[, c(\"condition\")])"
   ]
  },
  {
   "attachments": {},
   "cell_type": "markdown",
   "id": "c2249f71-4ef8-4514-adc1-4557a03b71c3",
   "metadata": {},
   "source": [
    "For this dataset, the `characteristics_ch1.1` column defines the two conditions of the samples: normal and Alzheimer’s. Therefore, we added the `condition` into the `GSE153873Samples` to represent the groups of patients."
   ]
  },
  {
   "attachments": {},
   "cell_type": "markdown",
   "id": "29013050-344d-47b5-bc48-19bfe1b07a30",
   "metadata": {},
   "source": [
    "### Gene IDs Conversion\n",
    "\n",
    "In this section, we will create a gene IDs conversion data frame that will be used to convert the gene IDs used in the dataset into the common IDs such as Symbol or Entrez ID. It will be useful in the gene set or pathway analysis, which requires that gene sets and expression data use the same type of gene IDs (e.g., usually Entrez Gene ID or Gene symbol). Dependent on the platform used to generate the expression data, there exists an R package that can be used to annotate the genes in the data to Entrez Gene ID or Gene symbol. For example, the platform of the dataset GSE5281 is GPL570, which has an annotation package on Bioconductor named *hgu133plus2.db*. The list of available annotation packages can be found at: <a href=\"https://bioconductor.org/packages/3.18/data/annotation/\"> https://bioconductor.org/packages/3.18/data/annotation/</a>.\n",
    "\n",
    "#### Microarray Dataset: GSE5281\n",
    "\n",
    "To create the gene IDs mapping data frame, users can execute the following code snippets:"
   ]
  },
  {
   "cell_type": "code",
   "execution_count": 16,
   "id": "17d7f9f8-1b4d-4e9d-b227-a7e51fd76260",
   "metadata": {},
   "outputs": [
    {
     "name": "stderr",
     "output_type": "stream",
     "text": [
      "'getOption(\"repos\")' replaces Bioconductor standard repositories, see\n",
      "'help(\"repositories\", package = \"BiocManager\")' for details.\n",
      "Replacement repositories:\n",
      "    CRAN: https://cloud.r-project.org\n",
      "\n",
      "Bioconductor version 3.14 (BiocManager 1.30.22), R 4.1.2 (2021-11-01)\n",
      "\n",
      "Installing package(s) 'org.Hs.eg.db', 'hgu133plus2.db'\n",
      "\n",
      "also installing the dependencies ‘zlibbioc’, ‘RCurl’, ‘GenomeInfoDbData’, ‘XVector’, ‘GenomeInfoDb’, ‘Biostrings’, ‘IRanges’, ‘S4Vectors’, ‘KEGGREST’, ‘AnnotationDbi’\n",
      "\n",
      "\n",
      "Warning message in install.packages(...):\n",
      "“installation of package ‘RCurl’ had non-zero exit status”\n",
      "Warning message in install.packages(...):\n",
      "“installation of package ‘GenomeInfoDb’ had non-zero exit status”\n",
      "Warning message in install.packages(...):\n",
      "“installation of package ‘Biostrings’ had non-zero exit status”\n",
      "Warning message in install.packages(...):\n",
      "“installation of package ‘KEGGREST’ had non-zero exit status”\n",
      "Warning message in install.packages(...):\n",
      "“installation of package ‘AnnotationDbi’ had non-zero exit status”\n",
      "Warning message in install.packages(...):\n",
      "“installation of package ‘org.Hs.eg.db’ had non-zero exit status”\n",
      "Warning message in install.packages(...):\n",
      "“installation of package ‘hgu133plus2.db’ had non-zero exit status”\n"
     ]
    },
    {
     "ename": "ERROR",
     "evalue": "Error in library(org.Hs.eg.db): there is no package called ‘org.Hs.eg.db’\n",
     "output_type": "error",
     "traceback": [
      "Error in library(org.Hs.eg.db): there is no package called ‘org.Hs.eg.db’\nTraceback:\n",
      "1. library(org.Hs.eg.db)"
     ]
    }
   ],
   "source": [
    "# Install the genome wide annotation database for human\n",
    "if (!require(\"BiocManager\", quietly = TRUE))\n",
    " install.packages(\"BiocManager\")\n",
    "BiocManager::install(\"hgu133plus2.db\", update = F)\n",
    "\n",
    "# Mappping for GSE5281\n",
    "GSE5281Genes <- rownames(GSE5281Exprs) \n",
    "GSE5281GenesMapping <- AnnotationDbi::select(x = hgu133plus2.db, \n",
    "                                        keys = GSE5281Genes, \n",
    "                                        columns = c(\"PROBEID\", \"SYMBOL\", \"ENTREZID\")) \n",
    "colnames(GSE5281GenesMapping) <- c(\"FROM\", \"SYMBOL\", \"ENTREZID\")"
   ]
  },
  {
   "cell_type": "markdown",
   "id": "044f488d-3418-44a9-bb77-8ef8539526fa",
   "metadata": {},
   "source": [
    "To perform the gene IDs mapping, we utilize the `select()` function from the AnnotationDbi package to query various genome-wide annotation databases and to convert gene IDs to the desired IDs. This function requires the following parameters: `x` – an *AnnotationDb* object such as *hgu133plus2.db*, `keys` – a vector containing the current IDs, and `columns` – a vector specifying which types of data (i.e., ID types) can be returned as output. In our example, we choose to return: PROBE ID, SYMBOL, and ENTREZ ID. We then rename the columns of the returned data frame as \"FROM\", \"SYMBOL\", and \"ENTREZID\", respectively. Users can examine this dataframe as follows:"
   ]
  },
  {
   "cell_type": "code",
   "execution_count": null,
   "id": "79cabbbb-3e47-478a-89f2-e91f5402941e",
   "metadata": {},
   "outputs": [],
   "source": [
    "# Examine the mapping dataframe for GSE5281\n",
    "head(GSE5281GenesMapping)"
   ]
  },
  {
   "cell_type": "markdown",
   "id": "79dbecef-c1cf-4bd3-8f5f-247b13e80bab",
   "metadata": {},
   "source": [
    "#### RNA-Seq Dataset: GSE153873\n",
    "\n",
    "To create the gene IDs mapping for this dataset, we can run the following command lines:"
   ]
  },
  {
   "cell_type": "code",
   "execution_count": null,
   "id": "b16a84d9-f1c0-4ae4-98c4-b5d0edd86a52",
   "metadata": {},
   "outputs": [],
   "source": [
    "# Install the genome wide annotation database for human\n",
    "if (!require(\"BiocManager\", quietly = TRUE))\n",
    " install.packages(\"BiocManager\")\n",
    "BiocManager::install(\"org.Hs.eg.db\")\n",
    "\n",
    "# Load the annotation database\n",
    "library(org.Hs.eg.db)\n",
    "\n",
    "# Get current gene IDs used in RNA-Seq dataset\n",
    "GSE153873Genes <- rownames(GSE153873Exprs)\n",
    "\n",
    "# Create a mapping dataframe\n",
    "GSE153873GenesMapping <- AnnotationDbi::select(\n",
    "    x = org.Hs.eg.db, \n",
    "    keys = GSE153873Genes, \n",
    "    keytype = \"SYMBOL\", \n",
    "    columns = c(\"SYMBOL\", \"SYMBOL\", \"ENTREZID\"))\n",
    "\n",
    "colnames(GSE153873GenesMapping) <- c(\"FROM\", \"SYMBOL\", \"ENTREZID\")"
   ]
  },
  {
   "cell_type": "markdown",
   "id": "ff6f6666-152f-4468-b60c-c4827fcecf36",
   "metadata": {},
   "source": [
    "For this dataset, gene symbols are used as the IDs. To create the mapping dataframe, we need to load the package `org.Hs.eg.db` package for human’s genome-wide annotation. Users can install this package from Bioconductor following the provided instructions in our code snippet. After installation, it is necessary to load this database and input it as a parameter for the `select(`) function, whose parameters are set to be: `x` – an AnnotationDb `org.Hs.eg.db`, `keys` – a vector containing the current IDs `GSE153873Genes`, `keytype` – a character parameter indicating the type of current gene IDs `SYMBOL`, and `columns` – a vector specifying which types of data are returned as output."
   ]
  },
  {
   "cell_type": "markdown",
   "id": "b0209857-88b4-422e-b64b-fbea32ebf1d1",
   "metadata": {},
   "source": [
    "## Exporting the Data\n",
    "When we have successfully retrieved expression data from GEO, we can export the expression data to a `.csv` file format for inspection in other software such as Excel using the `write_csv` function from `readr` package.\n",
    "In the code below, we will save the raw expression matrix, normalized expression matrix, and grouping information to  `.csv` files."
   ]
  },
  {
   "cell_type": "code",
   "execution_count": 16,
   "id": "e9ac959e-68f2-43aa-aac0-6e2e9eebd68b",
   "metadata": {
    "tags": []
   },
   "outputs": [],
   "source": [
    "# Convert raw and normalized expression matrix to data frames and save them to csv files\n",
    "expression_data <- as.data.frame(GSE5281Exprs)\n",
    "norm_expression_data <- as.data.frame(norm_expression_data)\n",
    "\n",
    "# Create a sub-directory data folder to save the expression matrix if it is not available\n",
    "dir <- getwd()\n",
    "subDir <- \"/data/export/\"\n",
    "path <- paste0(dir, subDir)\n",
    "# check if the saving folder exists\n",
    "if (!file.exists(path)){\n",
    "    dir.create(file.path(path))\n",
    "}\n",
    "# Save expression values and group to the csv files format in the local folder\n",
    "write.csv(expression_data, file = \"./data/export/raw_GSE5281.csv\")\n",
    "write.csv(norm_expression_data, file = \"./data/export/normalized_GSE5281.csv\")\n",
    "write.csv(GSE5281Samples, file = \"./data/samples_GSE5281.csv\")\n",
    "write.csv(GSE5281GenesMapping, file = \"./data/genes_GSE5281.csv\")"
   ]
  },
  {
   "cell_type": "markdown",
   "id": "23a731f6",
   "metadata": {},
   "source": [
    "The `.csv` format is a very simple format that might not suitable to store big datasets.\n",
    "We can export the expression data to `.rds` format, which is more memory efficient for loading and saving the data.\n",
    "We can save all the relevant data in a `list` and write to the disk using the built in `saveRDS` function."
   ]
  },
  {
   "cell_type": "code",
   "execution_count": 17,
   "id": "665869cc",
   "metadata": {
    "tags": []
   },
   "outputs": [],
   "source": [
    "# Putting expression data, sample groups, and gene IDs mapping into a list\n",
    "GSE5281Dataset <- list(expression_data = GSE5281Exprs, \n",
    "                       samples = GSE5281Samples, \n",
    "                       genes = GSE5281GenesMapping)\n",
    "\n",
    "GSE153873Dataset <- list(expression_data = GSE153873Exprs, \n",
    "                       samples = GSE153873Samples, \n",
    "                       genes = GSE153873GenesMapping)\n",
    "\n",
    "# Save the data to the local disk using rds format\n",
    "saveRDS(GSE5281Dataset, file = \"./data/GSE5281.rds\")\n",
    "saveRDS(GSE153873Dataset, file = \"./data/GSE153873.rds\")"
   ]
  },
  {
   "cell_type": "markdown",
   "id": "c1d21b08-f3f3-4b02-83f9-2c118536261a",
   "metadata": {},
   "source": [
    "## Storing files in a Google Cloud Bucket"
   ]
  },
  {
   "cell_type": "markdown",
   "id": "53ec290a-3150-4914-b4e1-426cd08e734c",
   "metadata": {},
   "source": [
    "To run gsutil commands, the user can either create a code cell within the Jupyter notebook by clicking the + button at the top or \n",
    "click on File -> New -> Terminal to open the terminal \n",
    " \n",
    " \n",
    "To create buckets in R, it is best to use the system command that allows you to run bash commands in R. One thing to note is that the bucket must be named following some rules. Please check out the rules [here](https://cloud.google.com/storage/docs/buckets)."
   ]
  },
  {
   "cell_type": "code",
   "execution_count": 18,
   "id": "63c970a8-885c-43a0-94ae-1e86c34cc252",
   "metadata": {
    "tags": []
   },
   "outputs": [
    {
     "name": "stderr",
     "output_type": "stream",
     "text": [
      "Warning message in system(\"gsutil mb gs://ccpa_bucket\", intern = TRUE):\n",
      "“running command 'gsutil mb gs://ccpa_bucket' had status 1”\n"
     ]
    },
    {
     "data": {
      "text/html": [],
      "text/latex": [],
      "text/markdown": [],
      "text/plain": [
       "character(0)\n",
       "attr(,\"status\")\n",
       "[1] 1\n",
       "attr(,\"errmsg\")\n",
       "[1] \"Resource temporarily unavailable\""
      ]
     },
     "metadata": {},
     "output_type": "display_data"
    }
   ],
   "source": [
    "# Set our bucket name, remember it needs to be unique\n",
    "# Replace <BUCKET_NAME> with the name of your bucket\n",
    "system(\"gsutil mb gs://ccpa_bucket\", intern = TRUE)"
   ]
  },
  {
   "cell_type": "markdown",
   "id": "9ade9695",
   "metadata": {},
   "source": [
    "The command to copy data from the local disk to the Google Cloud Bucket is as follows:\n",
    "\n",
    "`gsutil cp PATH_TO_LOCAL_FOLDER gs://PATH_IN_GOOGLE_BUCKET`\n",
    "\n",
    "For example, if we want to copy the file `./data/GSE5281.rds` we can use the following command."
   ]
  },
  {
   "cell_type": "code",
   "execution_count": 19,
   "id": "f5eccf36-1d99-4cc6-914b-511f3306606c",
   "metadata": {
    "tags": []
   },
   "outputs": [
    {
     "data": {
      "text/html": [],
      "text/latex": [],
      "text/markdown": [],
      "text/plain": [
       "character(0)"
      ]
     },
     "metadata": {},
     "output_type": "display_data"
    }
   ],
   "source": [
    "# Replace <BUCKET_NAME> with name of your bucket that was perviously made\n",
    "system(\"gsutil cp ./data/GSE5281.rds gs://ccpa_bucket\", intern = TRUE)\n"
   ]
  },
  {
   "cell_type": "markdown",
   "id": "6eda8b49-b1ac-4d3a-8922-b7d12859e04a",
   "metadata": {},
   "source": [
    "We can download files from Google Cloud Bucket using the following command. Here we are downloading the data to current directory of this notebook."
   ]
  },
  {
   "cell_type": "code",
   "execution_count": 20,
   "id": "741e6e0d-943d-4c79-86d5-f0ad25cfca75",
   "metadata": {
    "tags": []
   },
   "outputs": [],
   "source": [
    "system(\"gsutil cp gs://ccpa_bucket/GSE5281.rds ./\")"
   ]
  },
  {
   "cell_type": "markdown",
   "id": "b06fc324-a8d7-460b-824e-99a59dfed3da",
   "metadata": {},
   "source": [
    "Now we can try to load the data file that we have just downloaded from Google Cloud Bucket."
   ]
  },
  {
   "cell_type": "code",
   "execution_count": null,
   "id": "b583748a-b808-4009-9819-b3107306cff7",
   "metadata": {
    "tags": []
   },
   "outputs": [],
   "source": [
    "# Load the data downloaded from Google Cloud Bucket in current directory\n",
    "data <- readRDS(\"./GSE5281.rds\")\n",
    "# Print out the keys of the data list\n",
    "names(data)"
   ]
  },
  {
   "cell_type": "code",
   "execution_count": 32,
   "id": "75deed91-8373-425f-91e1-5c364768ffa3",
   "metadata": {
    "tags": []
   },
   "outputs": [
    {
     "data": {
      "text/plain": [
       "R version 4.3.2 (2023-10-31)\n",
       "Platform: x86_64-pc-linux-gnu (64-bit)\n",
       "Running under: Debian GNU/Linux 11 (bullseye)\n",
       "\n",
       "Matrix products: default\n",
       "BLAS:   /usr/lib/x86_64-linux-gnu/openblas-pthread/libblas.so.3 \n",
       "LAPACK: /usr/lib/x86_64-linux-gnu/openblas-pthread/libopenblasp-r0.3.13.so;  LAPACK version 3.9.0\n",
       "\n",
       "locale:\n",
       " [1] LC_CTYPE=C.UTF-8       LC_NUMERIC=C           LC_TIME=C.UTF-8       \n",
       " [4] LC_COLLATE=C.UTF-8     LC_MONETARY=C.UTF-8    LC_MESSAGES=C.UTF-8   \n",
       " [7] LC_PAPER=C.UTF-8       LC_NAME=C              LC_ADDRESS=C          \n",
       "[10] LC_TELEPHONE=C         LC_MEASUREMENT=C.UTF-8 LC_IDENTIFICATION=C   \n",
       "\n",
       "time zone: Etc/UTC\n",
       "tzcode source: system (glibc)\n",
       "\n",
       "attached base packages:\n",
       "[1] stats4    stats     graphics  grDevices utils     datasets  methods  \n",
       "[8] base     \n",
       "\n",
       "other attached packages:\n",
       "[1] hgu133plus2.db_3.13.0 org.Hs.eg.db_3.18.0   AnnotationDbi_1.64.1 \n",
       "[4] IRanges_2.36.0        S4Vectors_0.40.2      GEOquery_2.70.0      \n",
       "[7] Biobase_2.62.0        BiocGenerics_0.48.1   BiocManager_1.30.22  \n",
       "\n",
       "loaded via a namespace (and not attached):\n",
       " [1] utf8_1.2.4              generics_0.1.3          tidyr_1.3.0            \n",
       " [4] bitops_1.0-7            xml2_1.3.6              RSQLite_2.3.4          \n",
       " [7] hms_1.1.3               digest_0.6.33           magrittr_2.0.3         \n",
       "[10] evaluate_0.23           pbdZMQ_0.3-10           fastmap_1.1.1          \n",
       "[13] blob_1.2.4              R.oo_1.25.0             jsonlite_1.8.8         \n",
       "[16] R.utils_2.12.3          GenomeInfoDb_1.38.5     DBI_1.1.3              \n",
       "[19] limma_3.58.1            httr_1.4.7              purrr_1.0.2            \n",
       "[22] fansi_1.0.6             Biostrings_2.70.1       cli_3.6.1              \n",
       "[25] rlang_1.1.2             crayon_1.5.2            XVector_0.42.0         \n",
       "[28] R.methodsS3_1.8.2       bit64_4.0.5             base64enc_0.1-3        \n",
       "[31] withr_2.5.2             repr_1.1.6              cachem_1.0.8           \n",
       "[34] tools_4.3.2             tzdb_0.4.0              uuid_1.1-1             \n",
       "[37] memoise_2.0.1           dplyr_1.1.4             GenomeInfoDbData_1.2.11\n",
       "[40] curl_5.2.0              IRdisplay_1.1           png_0.1-8              \n",
       "[43] vctrs_0.6.5             R6_2.5.1                lifecycle_1.0.4        \n",
       "[46] zlibbioc_1.48.0         KEGGREST_1.42.0         bit_4.0.5              \n",
       "[49] pkgconfig_2.0.3         pillar_1.9.0            data.table_1.14.10     \n",
       "[52] glue_1.6.2              statmod_1.5.0           tibble_3.2.1           \n",
       "[55] tidyselect_1.2.0        IRkernel_1.3.2          htmltools_0.5.7        \n",
       "[58] readr_2.1.4             compiler_4.3.2          RCurl_1.98-1.13        "
      ]
     },
     "metadata": {},
     "output_type": "display_data"
    }
   ],
   "source": [
    "sessionInfo()"
   ]
  },
  {
   "cell_type": "code",
   "execution_count": null,
   "id": "72f4fbc7-458b-445c-b050-c20f44a1adac",
   "metadata": {},
   "outputs": [],
   "source": []
  }
 ],
 "metadata": {
  "celltoolbar": "Tags",
  "environment": {
   "kernel": "ir",
   "name": ".m114",
   "type": "gcloud",
   "uri": "gcr.io/deeplearning-platform-release/:m114"
  },
  "kernelspec": {
   "display_name": "R",
   "language": "R",
   "name": "ir"
  },
  "language_info": {
   "codemirror_mode": "r",
   "file_extension": ".r",
   "mimetype": "text/x-r-source",
   "name": "R",
   "pygments_lexer": "r",
   "version": "4.1.2"
  },
  "toc-showcode": true
 },
 "nbformat": 4,
 "nbformat_minor": 5
}
